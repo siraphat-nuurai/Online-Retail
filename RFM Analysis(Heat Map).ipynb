{
 "cells": [
  {
   "cell_type": "code",
   "execution_count": 1,
   "metadata": {},
   "outputs": [
    {
     "name": "stdout",
     "output_type": "stream",
     "text": [
      "Requirement already satisfied: plotly in c:\\users\\admin\\appdata\\local\\programs\\python\\python311\\lib\\site-packages (6.0.0)\n",
      "Requirement already satisfied: narwhals>=1.15.1 in c:\\users\\admin\\appdata\\local\\programs\\python\\python311\\lib\\site-packages (from plotly) (1.28.0)\n",
      "Requirement already satisfied: packaging in c:\\users\\admin\\appdata\\local\\programs\\python\\python311\\lib\\site-packages (from plotly) (24.2)\n",
      "Note: you may need to restart the kernel to use updated packages.\n",
      "Requirement already satisfied: pandas in c:\\users\\admin\\appdata\\local\\programs\\python\\python311\\lib\\site-packages (2.2.3)\n",
      "Requirement already satisfied: numpy>=1.23.2 in c:\\users\\admin\\appdata\\local\\programs\\python\\python311\\lib\\site-packages (from pandas) (2.0.2)\n",
      "Requirement already satisfied: python-dateutil>=2.8.2 in c:\\users\\admin\\appdata\\roaming\\python\\python311\\site-packages (from pandas) (2.9.0.post0)\n",
      "Requirement already satisfied: pytz>=2020.1 in c:\\users\\admin\\appdata\\local\\programs\\python\\python311\\lib\\site-packages (from pandas) (2025.1)\n",
      "Requirement already satisfied: tzdata>=2022.7 in c:\\users\\admin\\appdata\\local\\programs\\python\\python311\\lib\\site-packages (from pandas) (2025.1)\n",
      "Requirement already satisfied: six>=1.5 in c:\\users\\admin\\appdata\\local\\programs\\python\\python311\\lib\\site-packages (from python-dateutil>=2.8.2->pandas) (1.17.0)\n",
      "Note: you may need to restart the kernel to use updated packages.\n",
      "Requirement already satisfied: nbformat in c:\\users\\admin\\appdata\\local\\programs\\python\\python311\\lib\\site-packages (5.10.4)\n",
      "Requirement already satisfied: fastjsonschema>=2.15 in c:\\users\\admin\\appdata\\local\\programs\\python\\python311\\lib\\site-packages (from nbformat) (2.21.1)\n",
      "Requirement already satisfied: jsonschema>=2.6 in c:\\users\\admin\\appdata\\local\\programs\\python\\python311\\lib\\site-packages (from nbformat) (4.23.0)\n",
      "Requirement already satisfied: jupyter-core!=5.0.*,>=4.12 in c:\\users\\admin\\appdata\\roaming\\python\\python311\\site-packages (from nbformat) (5.7.2)\n",
      "Requirement already satisfied: traitlets>=5.1 in c:\\users\\admin\\appdata\\roaming\\python\\python311\\site-packages (from nbformat) (5.14.3)\n",
      "Requirement already satisfied: attrs>=22.2.0 in c:\\users\\admin\\appdata\\local\\programs\\python\\python311\\lib\\site-packages (from jsonschema>=2.6->nbformat) (25.1.0)\n",
      "Requirement already satisfied: jsonschema-specifications>=2023.03.6 in c:\\users\\admin\\appdata\\local\\programs\\python\\python311\\lib\\site-packages (from jsonschema>=2.6->nbformat) (2024.10.1)\n",
      "Requirement already satisfied: referencing>=0.28.4 in c:\\users\\admin\\appdata\\local\\programs\\python\\python311\\lib\\site-packages (from jsonschema>=2.6->nbformat) (0.36.2)\n",
      "Requirement already satisfied: rpds-py>=0.7.1 in c:\\users\\admin\\appdata\\local\\programs\\python\\python311\\lib\\site-packages (from jsonschema>=2.6->nbformat) (0.23.1)\n",
      "Requirement already satisfied: platformdirs>=2.5 in c:\\users\\admin\\appdata\\roaming\\python\\python311\\site-packages (from jupyter-core!=5.0.*,>=4.12->nbformat) (4.3.6)\n",
      "Requirement already satisfied: pywin32>=300 in c:\\users\\admin\\appdata\\roaming\\python\\python311\\site-packages (from jupyter-core!=5.0.*,>=4.12->nbformat) (308)\n",
      "Requirement already satisfied: typing-extensions>=4.4.0 in c:\\users\\admin\\appdata\\local\\programs\\python\\python311\\lib\\site-packages (from referencing>=0.28.4->jsonschema>=2.6->nbformat) (4.12.2)\n",
      "Note: you may need to restart the kernel to use updated packages.\n",
      "Requirement already satisfied: numpy in c:\\users\\admin\\appdata\\local\\programs\\python\\python311\\lib\\site-packages (2.0.2)\n",
      "Note: you may need to restart the kernel to use updated packages.\n",
      "Requirement already satisfied: lifetimes in c:\\users\\admin\\appdata\\local\\programs\\python\\python311\\lib\\site-packages (0.11.3)\n",
      "Requirement already satisfied: numpy>=1.10.0 in c:\\users\\admin\\appdata\\local\\programs\\python\\python311\\lib\\site-packages (from lifetimes) (2.0.2)\n",
      "Requirement already satisfied: scipy>=1.0.0 in c:\\users\\admin\\appdata\\local\\programs\\python\\python311\\lib\\site-packages (from lifetimes) (1.15.2)\n",
      "Requirement already satisfied: pandas>=0.24.0 in c:\\users\\admin\\appdata\\local\\programs\\python\\python311\\lib\\site-packages (from lifetimes) (2.2.3)\n",
      "Requirement already satisfied: autograd>=1.2.0 in c:\\users\\admin\\appdata\\local\\programs\\python\\python311\\lib\\site-packages (from lifetimes) (1.7.0)\n",
      "Requirement already satisfied: dill>=0.2.6 in c:\\users\\admin\\appdata\\local\\programs\\python\\python311\\lib\\site-packages (from lifetimes) (0.3.9)\n",
      "Requirement already satisfied: python-dateutil>=2.8.2 in c:\\users\\admin\\appdata\\roaming\\python\\python311\\site-packages (from pandas>=0.24.0->lifetimes) (2.9.0.post0)\n",
      "Requirement already satisfied: pytz>=2020.1 in c:\\users\\admin\\appdata\\local\\programs\\python\\python311\\lib\\site-packages (from pandas>=0.24.0->lifetimes) (2025.1)\n",
      "Requirement already satisfied: tzdata>=2022.7 in c:\\users\\admin\\appdata\\local\\programs\\python\\python311\\lib\\site-packages (from pandas>=0.24.0->lifetimes) (2025.1)\n",
      "Requirement already satisfied: six>=1.5 in c:\\users\\admin\\appdata\\local\\programs\\python\\python311\\lib\\site-packages (from python-dateutil>=2.8.2->pandas>=0.24.0->lifetimes) (1.17.0)\n",
      "Note: you may need to restart the kernel to use updated packages.\n",
      "Requirement already satisfied: matplotlib in c:\\users\\admin\\appdata\\local\\programs\\python\\python311\\lib\\site-packages (3.10.1)\n",
      "Requirement already satisfied: contourpy>=1.0.1 in c:\\users\\admin\\appdata\\local\\programs\\python\\python311\\lib\\site-packages (from matplotlib) (1.3.1)\n",
      "Requirement already satisfied: cycler>=0.10 in c:\\users\\admin\\appdata\\local\\programs\\python\\python311\\lib\\site-packages (from matplotlib) (0.12.1)\n",
      "Requirement already satisfied: fonttools>=4.22.0 in c:\\users\\admin\\appdata\\local\\programs\\python\\python311\\lib\\site-packages (from matplotlib) (4.56.0)\n",
      "Requirement already satisfied: kiwisolver>=1.3.1 in c:\\users\\admin\\appdata\\local\\programs\\python\\python311\\lib\\site-packages (from matplotlib) (1.4.8)\n",
      "Requirement already satisfied: numpy>=1.23 in c:\\users\\admin\\appdata\\local\\programs\\python\\python311\\lib\\site-packages (from matplotlib) (2.0.2)\n",
      "Requirement already satisfied: packaging>=20.0 in c:\\users\\admin\\appdata\\local\\programs\\python\\python311\\lib\\site-packages (from matplotlib) (24.2)\n",
      "Requirement already satisfied: pillow>=8 in c:\\users\\admin\\appdata\\local\\programs\\python\\python311\\lib\\site-packages (from matplotlib) (11.1.0)\n",
      "Requirement already satisfied: pyparsing>=2.3.1 in c:\\users\\admin\\appdata\\local\\programs\\python\\python311\\lib\\site-packages (from matplotlib) (3.2.1)\n",
      "Requirement already satisfied: python-dateutil>=2.7 in c:\\users\\admin\\appdata\\roaming\\python\\python311\\site-packages (from matplotlib) (2.9.0.post0)\n",
      "Requirement already satisfied: six>=1.5 in c:\\users\\admin\\appdata\\local\\programs\\python\\python311\\lib\\site-packages (from python-dateutil>=2.7->matplotlib) (1.17.0)\n",
      "Note: you may need to restart the kernel to use updated packages.\n",
      "Requirement already satisfied: seaborn in c:\\users\\admin\\appdata\\local\\programs\\python\\python311\\lib\\site-packages (0.13.2)\n",
      "Requirement already satisfied: numpy!=1.24.0,>=1.20 in c:\\users\\admin\\appdata\\local\\programs\\python\\python311\\lib\\site-packages (from seaborn) (2.0.2)\n",
      "Requirement already satisfied: pandas>=1.2 in c:\\users\\admin\\appdata\\local\\programs\\python\\python311\\lib\\site-packages (from seaborn) (2.2.3)\n",
      "Requirement already satisfied: matplotlib!=3.6.1,>=3.4 in c:\\users\\admin\\appdata\\local\\programs\\python\\python311\\lib\\site-packages (from seaborn) (3.10.1)\n",
      "Requirement already satisfied: contourpy>=1.0.1 in c:\\users\\admin\\appdata\\local\\programs\\python\\python311\\lib\\site-packages (from matplotlib!=3.6.1,>=3.4->seaborn) (1.3.1)\n",
      "Requirement already satisfied: cycler>=0.10 in c:\\users\\admin\\appdata\\local\\programs\\python\\python311\\lib\\site-packages (from matplotlib!=3.6.1,>=3.4->seaborn) (0.12.1)\n",
      "Requirement already satisfied: fonttools>=4.22.0 in c:\\users\\admin\\appdata\\local\\programs\\python\\python311\\lib\\site-packages (from matplotlib!=3.6.1,>=3.4->seaborn) (4.56.0)\n",
      "Requirement already satisfied: kiwisolver>=1.3.1 in c:\\users\\admin\\appdata\\local\\programs\\python\\python311\\lib\\site-packages (from matplotlib!=3.6.1,>=3.4->seaborn) (1.4.8)\n",
      "Requirement already satisfied: packaging>=20.0 in c:\\users\\admin\\appdata\\local\\programs\\python\\python311\\lib\\site-packages (from matplotlib!=3.6.1,>=3.4->seaborn) (24.2)\n",
      "Requirement already satisfied: pillow>=8 in c:\\users\\admin\\appdata\\local\\programs\\python\\python311\\lib\\site-packages (from matplotlib!=3.6.1,>=3.4->seaborn) (11.1.0)\n",
      "Requirement already satisfied: pyparsing>=2.3.1 in c:\\users\\admin\\appdata\\local\\programs\\python\\python311\\lib\\site-packages (from matplotlib!=3.6.1,>=3.4->seaborn) (3.2.1)\n",
      "Requirement already satisfied: python-dateutil>=2.7 in c:\\users\\admin\\appdata\\roaming\\python\\python311\\site-packages (from matplotlib!=3.6.1,>=3.4->seaborn) (2.9.0.post0)\n",
      "Requirement already satisfied: pytz>=2020.1 in c:\\users\\admin\\appdata\\local\\programs\\python\\python311\\lib\\site-packages (from pandas>=1.2->seaborn) (2025.1)\n",
      "Requirement already satisfied: tzdata>=2022.7 in c:\\users\\admin\\appdata\\local\\programs\\python\\python311\\lib\\site-packages (from pandas>=1.2->seaborn) (2025.1)\n",
      "Requirement already satisfied: six>=1.5 in c:\\users\\admin\\appdata\\local\\programs\\python\\python311\\lib\\site-packages (from python-dateutil>=2.7->matplotlib!=3.6.1,>=3.4->seaborn) (1.17.0)\n",
      "Note: you may need to restart the kernel to use updated packages.\n",
      "Requirement already satisfied: squarify in c:\\users\\admin\\appdata\\local\\programs\\python\\python311\\lib\\site-packages (0.4.4)\n",
      "Note: you may need to restart the kernel to use updated packages.\n"
     ]
    },
    {
     "data": {
      "text/plain": [
       "'pip install numpy\\npip install lifetimes\\npip install --upgrade matplotlib\\npip install seaborn\\npip install scikit-learn'"
      ]
     },
     "execution_count": 1,
     "metadata": {},
     "output_type": "execute_result"
    }
   ],
   "source": [
    "%pip install plotly\n",
    "%pip install pandas\n",
    "%pip install nbformat --upgrade\n",
    "%pip install numpy\n",
    "%pip install lifetimes\n",
    "%pip install --upgrade matplotlib\n",
    "%pip install seaborn\n",
    "# Install squarify for treemap plot\n",
    "%pip install squarify\n",
    "'''pip install numpy\n",
    "pip install lifetimes\n",
    "pip install --upgrade matplotlib\n",
    "pip install seaborn\n",
    "pip install scikit-learn'''"
   ]
  },
  {
   "cell_type": "code",
   "execution_count": 2,
   "metadata": {},
   "outputs": [],
   "source": [
    "\n",
    "import pandas as pd\n",
    "from datetime import datetime as dt\n",
    "from datetime import timedelta\n",
    "import plotly.express as px\n",
    "import plotly.graph_objects as go\n",
    "import plotly.colors\n",
    "import numpy as np\n",
    "import matplotlib.pyplot as plt\n",
    "import seaborn as sns\n",
    "import datetime\n",
    "import squarify\n"
   ]
  },
  {
   "cell_type": "markdown",
   "metadata": {},
   "source": [
    "# Data Wrangling"
   ]
  },
  {
   "cell_type": "code",
   "execution_count": 3,
   "metadata": {},
   "outputs": [
    {
     "data": {
      "application/vnd.microsoft.datawrangler.viewer.v0+json": {
       "columns": [
        {
         "name": "index",
         "rawType": "int64",
         "type": "integer"
        },
        {
         "name": "InvoiceNo",
         "rawType": "object",
         "type": "string"
        },
        {
         "name": "StockCode",
         "rawType": "object",
         "type": "string"
        },
        {
         "name": "Description",
         "rawType": "object",
         "type": "string"
        },
        {
         "name": "Quantity",
         "rawType": "int64",
         "type": "integer"
        },
        {
         "name": "InvoiceDate",
         "rawType": "object",
         "type": "string"
        },
        {
         "name": "UnitPrice",
         "rawType": "float64",
         "type": "float"
        },
        {
         "name": "CustomerID",
         "rawType": "float64",
         "type": "float"
        },
        {
         "name": "Country",
         "rawType": "object",
         "type": "string"
        }
       ],
       "conversionMethod": "pd.DataFrame",
       "ref": "e1a0ae2b-90bd-4c2c-bdfc-785e513399db",
       "rows": [
        [
         "0",
         "536365",
         "85123A",
         "WHITE HANGING HEART T-LIGHT HOLDER",
         "6",
         "2010-12-01 08:26:00",
         "2.55",
         "17850.0",
         "United Kingdom"
        ],
        [
         "1",
         "536365",
         "71053",
         "WHITE METAL LANTERN",
         "6",
         "2010-12-01 08:26:00",
         "3.39",
         "17850.0",
         "United Kingdom"
        ],
        [
         "2",
         "536365",
         "84406B",
         "CREAM CUPID HEARTS COAT HANGER",
         "8",
         "2010-12-01 08:26:00",
         "2.75",
         "17850.0",
         "United Kingdom"
        ],
        [
         "3",
         "536365",
         "84029G",
         "KNITTED UNION FLAG HOT WATER BOTTLE",
         "6",
         "2010-12-01 08:26:00",
         "3.39",
         "17850.0",
         "United Kingdom"
        ],
        [
         "4",
         "536365",
         "84029E",
         "RED WOOLLY HOTTIE WHITE HEART.",
         "6",
         "2010-12-01 08:26:00",
         "3.39",
         "17850.0",
         "United Kingdom"
        ]
       ],
       "shape": {
        "columns": 8,
        "rows": 5
       }
      },
      "text/html": [
       "<div>\n",
       "<style scoped>\n",
       "    .dataframe tbody tr th:only-of-type {\n",
       "        vertical-align: middle;\n",
       "    }\n",
       "\n",
       "    .dataframe tbody tr th {\n",
       "        vertical-align: top;\n",
       "    }\n",
       "\n",
       "    .dataframe thead th {\n",
       "        text-align: right;\n",
       "    }\n",
       "</style>\n",
       "<table border=\"1\" class=\"dataframe\">\n",
       "  <thead>\n",
       "    <tr style=\"text-align: right;\">\n",
       "      <th></th>\n",
       "      <th>InvoiceNo</th>\n",
       "      <th>StockCode</th>\n",
       "      <th>Description</th>\n",
       "      <th>Quantity</th>\n",
       "      <th>InvoiceDate</th>\n",
       "      <th>UnitPrice</th>\n",
       "      <th>CustomerID</th>\n",
       "      <th>Country</th>\n",
       "    </tr>\n",
       "  </thead>\n",
       "  <tbody>\n",
       "    <tr>\n",
       "      <th>0</th>\n",
       "      <td>536365</td>\n",
       "      <td>85123A</td>\n",
       "      <td>WHITE HANGING HEART T-LIGHT HOLDER</td>\n",
       "      <td>6</td>\n",
       "      <td>2010-12-01 08:26:00</td>\n",
       "      <td>2.55</td>\n",
       "      <td>17850.0</td>\n",
       "      <td>United Kingdom</td>\n",
       "    </tr>\n",
       "    <tr>\n",
       "      <th>1</th>\n",
       "      <td>536365</td>\n",
       "      <td>71053</td>\n",
       "      <td>WHITE METAL LANTERN</td>\n",
       "      <td>6</td>\n",
       "      <td>2010-12-01 08:26:00</td>\n",
       "      <td>3.39</td>\n",
       "      <td>17850.0</td>\n",
       "      <td>United Kingdom</td>\n",
       "    </tr>\n",
       "    <tr>\n",
       "      <th>2</th>\n",
       "      <td>536365</td>\n",
       "      <td>84406B</td>\n",
       "      <td>CREAM CUPID HEARTS COAT HANGER</td>\n",
       "      <td>8</td>\n",
       "      <td>2010-12-01 08:26:00</td>\n",
       "      <td>2.75</td>\n",
       "      <td>17850.0</td>\n",
       "      <td>United Kingdom</td>\n",
       "    </tr>\n",
       "    <tr>\n",
       "      <th>3</th>\n",
       "      <td>536365</td>\n",
       "      <td>84029G</td>\n",
       "      <td>KNITTED UNION FLAG HOT WATER BOTTLE</td>\n",
       "      <td>6</td>\n",
       "      <td>2010-12-01 08:26:00</td>\n",
       "      <td>3.39</td>\n",
       "      <td>17850.0</td>\n",
       "      <td>United Kingdom</td>\n",
       "    </tr>\n",
       "    <tr>\n",
       "      <th>4</th>\n",
       "      <td>536365</td>\n",
       "      <td>84029E</td>\n",
       "      <td>RED WOOLLY HOTTIE WHITE HEART.</td>\n",
       "      <td>6</td>\n",
       "      <td>2010-12-01 08:26:00</td>\n",
       "      <td>3.39</td>\n",
       "      <td>17850.0</td>\n",
       "      <td>United Kingdom</td>\n",
       "    </tr>\n",
       "  </tbody>\n",
       "</table>\n",
       "</div>"
      ],
      "text/plain": [
       "  InvoiceNo StockCode                          Description  Quantity  \\\n",
       "0    536365    85123A   WHITE HANGING HEART T-LIGHT HOLDER         6   \n",
       "1    536365     71053                  WHITE METAL LANTERN         6   \n",
       "2    536365    84406B       CREAM CUPID HEARTS COAT HANGER         8   \n",
       "3    536365    84029G  KNITTED UNION FLAG HOT WATER BOTTLE         6   \n",
       "4    536365    84029E       RED WOOLLY HOTTIE WHITE HEART.         6   \n",
       "\n",
       "           InvoiceDate  UnitPrice  CustomerID         Country  \n",
       "0  2010-12-01 08:26:00       2.55     17850.0  United Kingdom  \n",
       "1  2010-12-01 08:26:00       3.39     17850.0  United Kingdom  \n",
       "2  2010-12-01 08:26:00       2.75     17850.0  United Kingdom  \n",
       "3  2010-12-01 08:26:00       3.39     17850.0  United Kingdom  \n",
       "4  2010-12-01 08:26:00       3.39     17850.0  United Kingdom  "
      ]
     },
     "execution_count": 3,
     "metadata": {},
     "output_type": "execute_result"
    }
   ],
   "source": [
    "data = pd.read_csv('C:\\\\Users\\\\Admin\\\\OneDrive\\\\Desktop\\\\Jupyter\\\\Online Retail\\\\online_retail.csv')\n",
    "data.head()"
   ]
  },
  {
   "cell_type": "code",
   "execution_count": 4,
   "metadata": {},
   "outputs": [
    {
     "data": {
      "application/vnd.microsoft.datawrangler.viewer.v0+json": {
       "columns": [
        {
         "name": "index",
         "rawType": "int64",
         "type": "integer"
        },
        {
         "name": "InvoiceNo",
         "rawType": "object",
         "type": "string"
        },
        {
         "name": "StockCode",
         "rawType": "object",
         "type": "string"
        },
        {
         "name": "Description",
         "rawType": "object",
         "type": "string"
        },
        {
         "name": "Quantity",
         "rawType": "int64",
         "type": "integer"
        },
        {
         "name": "InvoiceDate",
         "rawType": "object",
         "type": "string"
        },
        {
         "name": "UnitPrice",
         "rawType": "float64",
         "type": "float"
        },
        {
         "name": "CustomerID",
         "rawType": "float64",
         "type": "float"
        },
        {
         "name": "Country",
         "rawType": "object",
         "type": "string"
        }
       ],
       "conversionMethod": "pd.DataFrame",
       "ref": "c8e25c1f-e8d2-4ec7-8927-d2f2ee9b3ffc",
       "rows": [
        [
         "541904",
         "581587",
         "22613",
         "PACK OF 20 SPACEBOY NAPKINS",
         "12",
         "2011-12-09 12:50:00",
         "0.85",
         "12680.0",
         "France"
        ],
        [
         "541905",
         "581587",
         "22899",
         "CHILDREN'S APRON DOLLY GIRL ",
         "6",
         "2011-12-09 12:50:00",
         "2.1",
         "12680.0",
         "France"
        ],
        [
         "541906",
         "581587",
         "23254",
         "CHILDRENS CUTLERY DOLLY GIRL ",
         "4",
         "2011-12-09 12:50:00",
         "4.15",
         "12680.0",
         "France"
        ],
        [
         "541907",
         "581587",
         "23255",
         "CHILDRENS CUTLERY CIRCUS PARADE",
         "4",
         "2011-12-09 12:50:00",
         "4.15",
         "12680.0",
         "France"
        ],
        [
         "541908",
         "581587",
         "22138",
         "BAKING SET 9 PIECE RETROSPOT ",
         "3",
         "2011-12-09 12:50:00",
         "4.95",
         "12680.0",
         "France"
        ]
       ],
       "shape": {
        "columns": 8,
        "rows": 5
       }
      },
      "text/html": [
       "<div>\n",
       "<style scoped>\n",
       "    .dataframe tbody tr th:only-of-type {\n",
       "        vertical-align: middle;\n",
       "    }\n",
       "\n",
       "    .dataframe tbody tr th {\n",
       "        vertical-align: top;\n",
       "    }\n",
       "\n",
       "    .dataframe thead th {\n",
       "        text-align: right;\n",
       "    }\n",
       "</style>\n",
       "<table border=\"1\" class=\"dataframe\">\n",
       "  <thead>\n",
       "    <tr style=\"text-align: right;\">\n",
       "      <th></th>\n",
       "      <th>InvoiceNo</th>\n",
       "      <th>StockCode</th>\n",
       "      <th>Description</th>\n",
       "      <th>Quantity</th>\n",
       "      <th>InvoiceDate</th>\n",
       "      <th>UnitPrice</th>\n",
       "      <th>CustomerID</th>\n",
       "      <th>Country</th>\n",
       "    </tr>\n",
       "  </thead>\n",
       "  <tbody>\n",
       "    <tr>\n",
       "      <th>541904</th>\n",
       "      <td>581587</td>\n",
       "      <td>22613</td>\n",
       "      <td>PACK OF 20 SPACEBOY NAPKINS</td>\n",
       "      <td>12</td>\n",
       "      <td>2011-12-09 12:50:00</td>\n",
       "      <td>0.85</td>\n",
       "      <td>12680.0</td>\n",
       "      <td>France</td>\n",
       "    </tr>\n",
       "    <tr>\n",
       "      <th>541905</th>\n",
       "      <td>581587</td>\n",
       "      <td>22899</td>\n",
       "      <td>CHILDREN'S APRON DOLLY GIRL</td>\n",
       "      <td>6</td>\n",
       "      <td>2011-12-09 12:50:00</td>\n",
       "      <td>2.10</td>\n",
       "      <td>12680.0</td>\n",
       "      <td>France</td>\n",
       "    </tr>\n",
       "    <tr>\n",
       "      <th>541906</th>\n",
       "      <td>581587</td>\n",
       "      <td>23254</td>\n",
       "      <td>CHILDRENS CUTLERY DOLLY GIRL</td>\n",
       "      <td>4</td>\n",
       "      <td>2011-12-09 12:50:00</td>\n",
       "      <td>4.15</td>\n",
       "      <td>12680.0</td>\n",
       "      <td>France</td>\n",
       "    </tr>\n",
       "    <tr>\n",
       "      <th>541907</th>\n",
       "      <td>581587</td>\n",
       "      <td>23255</td>\n",
       "      <td>CHILDRENS CUTLERY CIRCUS PARADE</td>\n",
       "      <td>4</td>\n",
       "      <td>2011-12-09 12:50:00</td>\n",
       "      <td>4.15</td>\n",
       "      <td>12680.0</td>\n",
       "      <td>France</td>\n",
       "    </tr>\n",
       "    <tr>\n",
       "      <th>541908</th>\n",
       "      <td>581587</td>\n",
       "      <td>22138</td>\n",
       "      <td>BAKING SET 9 PIECE RETROSPOT</td>\n",
       "      <td>3</td>\n",
       "      <td>2011-12-09 12:50:00</td>\n",
       "      <td>4.95</td>\n",
       "      <td>12680.0</td>\n",
       "      <td>France</td>\n",
       "    </tr>\n",
       "  </tbody>\n",
       "</table>\n",
       "</div>"
      ],
      "text/plain": [
       "       InvoiceNo StockCode                      Description  Quantity  \\\n",
       "541904    581587     22613      PACK OF 20 SPACEBOY NAPKINS        12   \n",
       "541905    581587     22899     CHILDREN'S APRON DOLLY GIRL          6   \n",
       "541906    581587     23254    CHILDRENS CUTLERY DOLLY GIRL          4   \n",
       "541907    581587     23255  CHILDRENS CUTLERY CIRCUS PARADE         4   \n",
       "541908    581587     22138    BAKING SET 9 PIECE RETROSPOT          3   \n",
       "\n",
       "                InvoiceDate  UnitPrice  CustomerID Country  \n",
       "541904  2011-12-09 12:50:00       0.85     12680.0  France  \n",
       "541905  2011-12-09 12:50:00       2.10     12680.0  France  \n",
       "541906  2011-12-09 12:50:00       4.15     12680.0  France  \n",
       "541907  2011-12-09 12:50:00       4.15     12680.0  France  \n",
       "541908  2011-12-09 12:50:00       4.95     12680.0  France  "
      ]
     },
     "execution_count": 4,
     "metadata": {},
     "output_type": "execute_result"
    }
   ],
   "source": [
    "data.tail()"
   ]
  },
  {
   "cell_type": "code",
   "execution_count": 5,
   "metadata": {},
   "outputs": [],
   "source": [
    "data.dropna(subset = ['CustomerID'], inplace = True)"
   ]
  },
  {
   "cell_type": "code",
   "execution_count": 6,
   "metadata": {},
   "outputs": [],
   "source": [
    "data['InvoiceDate'] = pd.to_datetime(data['InvoiceDate'])\n",
    "data['TotalAmount'] = (data['Quantity'] * data['UnitPrice']).astype('Float64').round(2)"
   ]
  },
  {
   "cell_type": "code",
   "execution_count": 7,
   "metadata": {},
   "outputs": [
    {
     "data": {
      "application/vnd.microsoft.datawrangler.viewer.v0+json": {
       "columns": [
        {
         "name": "index",
         "rawType": "int64",
         "type": "integer"
        },
        {
         "name": "InvoiceNo",
         "rawType": "object",
         "type": "string"
        },
        {
         "name": "StockCode",
         "rawType": "object",
         "type": "string"
        },
        {
         "name": "Description",
         "rawType": "object",
         "type": "string"
        },
        {
         "name": "Quantity",
         "rawType": "int64",
         "type": "integer"
        },
        {
         "name": "InvoiceDate",
         "rawType": "datetime64[ns]",
         "type": "datetime"
        },
        {
         "name": "UnitPrice",
         "rawType": "float64",
         "type": "float"
        },
        {
         "name": "CustomerID",
         "rawType": "float64",
         "type": "float"
        },
        {
         "name": "Country",
         "rawType": "object",
         "type": "string"
        },
        {
         "name": "TotalAmount",
         "rawType": "Float64",
         "type": "float"
        }
       ],
       "conversionMethod": "pd.DataFrame",
       "ref": "5d3b8709-81cb-4382-b14f-82ae9305aef7",
       "rows": [
        [
         "0",
         "536365",
         "85123A",
         "WHITE HANGING HEART T-LIGHT HOLDER",
         "6",
         "2010-12-01 08:26:00",
         "2.55",
         "17850.0",
         "United Kingdom",
         "15.3"
        ],
        [
         "1",
         "536365",
         "71053",
         "WHITE METAL LANTERN",
         "6",
         "2010-12-01 08:26:00",
         "3.39",
         "17850.0",
         "United Kingdom",
         "20.34"
        ],
        [
         "2",
         "536365",
         "84406B",
         "CREAM CUPID HEARTS COAT HANGER",
         "8",
         "2010-12-01 08:26:00",
         "2.75",
         "17850.0",
         "United Kingdom",
         "22.0"
        ],
        [
         "3",
         "536365",
         "84029G",
         "KNITTED UNION FLAG HOT WATER BOTTLE",
         "6",
         "2010-12-01 08:26:00",
         "3.39",
         "17850.0",
         "United Kingdom",
         "20.34"
        ],
        [
         "4",
         "536365",
         "84029E",
         "RED WOOLLY HOTTIE WHITE HEART.",
         "6",
         "2010-12-01 08:26:00",
         "3.39",
         "17850.0",
         "United Kingdom",
         "20.34"
        ]
       ],
       "shape": {
        "columns": 9,
        "rows": 5
       }
      },
      "text/html": [
       "<div>\n",
       "<style scoped>\n",
       "    .dataframe tbody tr th:only-of-type {\n",
       "        vertical-align: middle;\n",
       "    }\n",
       "\n",
       "    .dataframe tbody tr th {\n",
       "        vertical-align: top;\n",
       "    }\n",
       "\n",
       "    .dataframe thead th {\n",
       "        text-align: right;\n",
       "    }\n",
       "</style>\n",
       "<table border=\"1\" class=\"dataframe\">\n",
       "  <thead>\n",
       "    <tr style=\"text-align: right;\">\n",
       "      <th></th>\n",
       "      <th>InvoiceNo</th>\n",
       "      <th>StockCode</th>\n",
       "      <th>Description</th>\n",
       "      <th>Quantity</th>\n",
       "      <th>InvoiceDate</th>\n",
       "      <th>UnitPrice</th>\n",
       "      <th>CustomerID</th>\n",
       "      <th>Country</th>\n",
       "      <th>TotalAmount</th>\n",
       "    </tr>\n",
       "  </thead>\n",
       "  <tbody>\n",
       "    <tr>\n",
       "      <th>0</th>\n",
       "      <td>536365</td>\n",
       "      <td>85123A</td>\n",
       "      <td>WHITE HANGING HEART T-LIGHT HOLDER</td>\n",
       "      <td>6</td>\n",
       "      <td>2010-12-01 08:26:00</td>\n",
       "      <td>2.55</td>\n",
       "      <td>17850.0</td>\n",
       "      <td>United Kingdom</td>\n",
       "      <td>15.3</td>\n",
       "    </tr>\n",
       "    <tr>\n",
       "      <th>1</th>\n",
       "      <td>536365</td>\n",
       "      <td>71053</td>\n",
       "      <td>WHITE METAL LANTERN</td>\n",
       "      <td>6</td>\n",
       "      <td>2010-12-01 08:26:00</td>\n",
       "      <td>3.39</td>\n",
       "      <td>17850.0</td>\n",
       "      <td>United Kingdom</td>\n",
       "      <td>20.34</td>\n",
       "    </tr>\n",
       "    <tr>\n",
       "      <th>2</th>\n",
       "      <td>536365</td>\n",
       "      <td>84406B</td>\n",
       "      <td>CREAM CUPID HEARTS COAT HANGER</td>\n",
       "      <td>8</td>\n",
       "      <td>2010-12-01 08:26:00</td>\n",
       "      <td>2.75</td>\n",
       "      <td>17850.0</td>\n",
       "      <td>United Kingdom</td>\n",
       "      <td>22.0</td>\n",
       "    </tr>\n",
       "    <tr>\n",
       "      <th>3</th>\n",
       "      <td>536365</td>\n",
       "      <td>84029G</td>\n",
       "      <td>KNITTED UNION FLAG HOT WATER BOTTLE</td>\n",
       "      <td>6</td>\n",
       "      <td>2010-12-01 08:26:00</td>\n",
       "      <td>3.39</td>\n",
       "      <td>17850.0</td>\n",
       "      <td>United Kingdom</td>\n",
       "      <td>20.34</td>\n",
       "    </tr>\n",
       "    <tr>\n",
       "      <th>4</th>\n",
       "      <td>536365</td>\n",
       "      <td>84029E</td>\n",
       "      <td>RED WOOLLY HOTTIE WHITE HEART.</td>\n",
       "      <td>6</td>\n",
       "      <td>2010-12-01 08:26:00</td>\n",
       "      <td>3.39</td>\n",
       "      <td>17850.0</td>\n",
       "      <td>United Kingdom</td>\n",
       "      <td>20.34</td>\n",
       "    </tr>\n",
       "  </tbody>\n",
       "</table>\n",
       "</div>"
      ],
      "text/plain": [
       "  InvoiceNo StockCode                          Description  Quantity  \\\n",
       "0    536365    85123A   WHITE HANGING HEART T-LIGHT HOLDER         6   \n",
       "1    536365     71053                  WHITE METAL LANTERN         6   \n",
       "2    536365    84406B       CREAM CUPID HEARTS COAT HANGER         8   \n",
       "3    536365    84029G  KNITTED UNION FLAG HOT WATER BOTTLE         6   \n",
       "4    536365    84029E       RED WOOLLY HOTTIE WHITE HEART.         6   \n",
       "\n",
       "          InvoiceDate  UnitPrice  CustomerID         Country  TotalAmount  \n",
       "0 2010-12-01 08:26:00       2.55     17850.0  United Kingdom         15.3  \n",
       "1 2010-12-01 08:26:00       3.39     17850.0  United Kingdom        20.34  \n",
       "2 2010-12-01 08:26:00       2.75     17850.0  United Kingdom         22.0  \n",
       "3 2010-12-01 08:26:00       3.39     17850.0  United Kingdom        20.34  \n",
       "4 2010-12-01 08:26:00       3.39     17850.0  United Kingdom        20.34  "
      ]
     },
     "execution_count": 7,
     "metadata": {},
     "output_type": "execute_result"
    }
   ],
   "source": [
    "data.head()"
   ]
  },
  {
   "cell_type": "code",
   "execution_count": 8,
   "metadata": {},
   "outputs": [],
   "source": [
    "reference_date = pd.Timestamp(dt.now().date())\n",
    "#reference_date"
   ]
  },
  {
   "cell_type": "code",
   "execution_count": 9,
   "metadata": {},
   "outputs": [
    {
     "data": {
      "text/plain": [
       "Timestamp('2011-12-10 12:50:00')"
      ]
     },
     "execution_count": 9,
     "metadata": {},
     "output_type": "execute_result"
    }
   ],
   "source": [
    "reference_date = data['InvoiceDate'].max() + timedelta(days = 1)\n",
    "reference_date"
   ]
  },
  {
   "cell_type": "code",
   "execution_count": 10,
   "metadata": {},
   "outputs": [
    {
     "name": "stdout",
     "output_type": "stream",
     "text": [
      "<class 'pandas.core.frame.DataFrame'>\n",
      "Index: 406829 entries, 0 to 541908\n",
      "Data columns (total 9 columns):\n",
      " #   Column       Non-Null Count   Dtype         \n",
      "---  ------       --------------   -----         \n",
      " 0   InvoiceNo    406829 non-null  object        \n",
      " 1   StockCode    406829 non-null  object        \n",
      " 2   Description  406829 non-null  object        \n",
      " 3   Quantity     406829 non-null  int64         \n",
      " 4   InvoiceDate  406829 non-null  datetime64[ns]\n",
      " 5   UnitPrice    406829 non-null  float64       \n",
      " 6   CustomerID   406829 non-null  float64       \n",
      " 7   Country      406829 non-null  object        \n",
      " 8   TotalAmount  406829 non-null  Float64       \n",
      "dtypes: Float64(1), datetime64[ns](1), float64(2), int64(1), object(4)\n",
      "memory usage: 31.4+ MB\n"
     ]
    }
   ],
   "source": [
    "data.info()"
   ]
  },
  {
   "cell_type": "code",
   "execution_count": 11,
   "metadata": {},
   "outputs": [
    {
     "data": {
      "text/plain": [
       "InvoiceNo      0\n",
       "StockCode      0\n",
       "Description    0\n",
       "Quantity       0\n",
       "InvoiceDate    0\n",
       "UnitPrice      0\n",
       "CustomerID     0\n",
       "Country        0\n",
       "TotalAmount    0\n",
       "dtype: int64"
      ]
     },
     "execution_count": 11,
     "metadata": {},
     "output_type": "execute_result"
    }
   ],
   "source": [
    "data.isnull().sum()"
   ]
  },
  {
   "cell_type": "code",
   "execution_count": 12,
   "metadata": {},
   "outputs": [
    {
     "data": {
      "application/vnd.microsoft.datawrangler.viewer.v0+json": {
       "columns": [
        {
         "name": "index",
         "rawType": "object",
         "type": "string"
        },
        {
         "name": "Quantity",
         "rawType": "float64",
         "type": "float"
        },
        {
         "name": "InvoiceDate",
         "rawType": "object",
         "type": "unknown"
        },
        {
         "name": "UnitPrice",
         "rawType": "float64",
         "type": "float"
        },
        {
         "name": "CustomerID",
         "rawType": "float64",
         "type": "float"
        },
        {
         "name": "TotalAmount",
         "rawType": "Float64",
         "type": "float"
        }
       ],
       "conversionMethod": "pd.DataFrame",
       "ref": "ed324cc3-1db2-4fc9-87b1-faa0e81d3dd6",
       "rows": [
        [
         "count",
         "406829.0",
         "406829",
         "406829.0",
         "406829.0",
         "406829.0"
        ],
        [
         "mean",
         "12.06130339774205",
         "2011-07-10 16:30:57.879207424",
         "3.460471018536043",
         "15287.690570239585",
         "20.40185387472378"
        ],
        [
         "min",
         "-80995.0",
         "2010-12-01 08:26:00",
         "0.0",
         "12346.0",
         "-168469.6"
        ],
        [
         "25%",
         "2.0",
         "2011-04-06 15:02:00",
         "1.25",
         "13953.0",
         "4.2"
        ],
        [
         "50%",
         "5.0",
         "2011-07-31 11:48:00",
         "1.95",
         "15152.0",
         "11.1"
        ],
        [
         "75%",
         "12.0",
         "2011-10-20 13:06:00",
         "3.75",
         "16791.0",
         "19.5"
        ],
        [
         "max",
         "80995.0",
         "2011-12-09 12:50:00",
         "38970.0",
         "18287.0",
         "168469.6"
        ],
        [
         "std",
         "248.69337001882522",
         null,
         "69.31516172321447",
         "1713.6003033215982",
         "427.59171755175436"
        ]
       ],
       "shape": {
        "columns": 5,
        "rows": 8
       }
      },
      "text/html": [
       "<div>\n",
       "<style scoped>\n",
       "    .dataframe tbody tr th:only-of-type {\n",
       "        vertical-align: middle;\n",
       "    }\n",
       "\n",
       "    .dataframe tbody tr th {\n",
       "        vertical-align: top;\n",
       "    }\n",
       "\n",
       "    .dataframe thead th {\n",
       "        text-align: right;\n",
       "    }\n",
       "</style>\n",
       "<table border=\"1\" class=\"dataframe\">\n",
       "  <thead>\n",
       "    <tr style=\"text-align: right;\">\n",
       "      <th></th>\n",
       "      <th>Quantity</th>\n",
       "      <th>InvoiceDate</th>\n",
       "      <th>UnitPrice</th>\n",
       "      <th>CustomerID</th>\n",
       "      <th>TotalAmount</th>\n",
       "    </tr>\n",
       "  </thead>\n",
       "  <tbody>\n",
       "    <tr>\n",
       "      <th>count</th>\n",
       "      <td>406829.000000</td>\n",
       "      <td>406829</td>\n",
       "      <td>406829.000000</td>\n",
       "      <td>406829.000000</td>\n",
       "      <td>406829.0</td>\n",
       "    </tr>\n",
       "    <tr>\n",
       "      <th>mean</th>\n",
       "      <td>12.061303</td>\n",
       "      <td>2011-07-10 16:30:57.879207424</td>\n",
       "      <td>3.460471</td>\n",
       "      <td>15287.690570</td>\n",
       "      <td>20.401854</td>\n",
       "    </tr>\n",
       "    <tr>\n",
       "      <th>min</th>\n",
       "      <td>-80995.000000</td>\n",
       "      <td>2010-12-01 08:26:00</td>\n",
       "      <td>0.000000</td>\n",
       "      <td>12346.000000</td>\n",
       "      <td>-168469.6</td>\n",
       "    </tr>\n",
       "    <tr>\n",
       "      <th>25%</th>\n",
       "      <td>2.000000</td>\n",
       "      <td>2011-04-06 15:02:00</td>\n",
       "      <td>1.250000</td>\n",
       "      <td>13953.000000</td>\n",
       "      <td>4.2</td>\n",
       "    </tr>\n",
       "    <tr>\n",
       "      <th>50%</th>\n",
       "      <td>5.000000</td>\n",
       "      <td>2011-07-31 11:48:00</td>\n",
       "      <td>1.950000</td>\n",
       "      <td>15152.000000</td>\n",
       "      <td>11.1</td>\n",
       "    </tr>\n",
       "    <tr>\n",
       "      <th>75%</th>\n",
       "      <td>12.000000</td>\n",
       "      <td>2011-10-20 13:06:00</td>\n",
       "      <td>3.750000</td>\n",
       "      <td>16791.000000</td>\n",
       "      <td>19.5</td>\n",
       "    </tr>\n",
       "    <tr>\n",
       "      <th>max</th>\n",
       "      <td>80995.000000</td>\n",
       "      <td>2011-12-09 12:50:00</td>\n",
       "      <td>38970.000000</td>\n",
       "      <td>18287.000000</td>\n",
       "      <td>168469.6</td>\n",
       "    </tr>\n",
       "    <tr>\n",
       "      <th>std</th>\n",
       "      <td>248.693370</td>\n",
       "      <td>NaN</td>\n",
       "      <td>69.315162</td>\n",
       "      <td>1713.600303</td>\n",
       "      <td>427.591718</td>\n",
       "    </tr>\n",
       "  </tbody>\n",
       "</table>\n",
       "</div>"
      ],
      "text/plain": [
       "            Quantity                    InvoiceDate      UnitPrice  \\\n",
       "count  406829.000000                         406829  406829.000000   \n",
       "mean       12.061303  2011-07-10 16:30:57.879207424       3.460471   \n",
       "min    -80995.000000            2010-12-01 08:26:00       0.000000   \n",
       "25%         2.000000            2011-04-06 15:02:00       1.250000   \n",
       "50%         5.000000            2011-07-31 11:48:00       1.950000   \n",
       "75%        12.000000            2011-10-20 13:06:00       3.750000   \n",
       "max     80995.000000            2011-12-09 12:50:00   38970.000000   \n",
       "std       248.693370                            NaN      69.315162   \n",
       "\n",
       "          CustomerID  TotalAmount  \n",
       "count  406829.000000     406829.0  \n",
       "mean    15287.690570    20.401854  \n",
       "min     12346.000000    -168469.6  \n",
       "25%     13953.000000          4.2  \n",
       "50%     15152.000000         11.1  \n",
       "75%     16791.000000         19.5  \n",
       "max     18287.000000     168469.6  \n",
       "std      1713.600303   427.591718  "
      ]
     },
     "execution_count": 12,
     "metadata": {},
     "output_type": "execute_result"
    }
   ],
   "source": [
    "data.describe()"
   ]
  },
  {
   "cell_type": "code",
   "execution_count": 13,
   "metadata": {},
   "outputs": [
    {
     "data": {
      "text/plain": [
       "(406829, 9)"
      ]
     },
     "execution_count": 13,
     "metadata": {},
     "output_type": "execute_result"
    }
   ],
   "source": [
    "data.shape"
   ]
  },
  {
   "cell_type": "code",
   "execution_count": 14,
   "metadata": {},
   "outputs": [
    {
     "name": "stdout",
     "output_type": "stream",
     "text": [
      "3896\n"
     ]
    }
   ],
   "source": [
    "#number of unique products\n",
    "print(data['Description'].nunique())"
   ]
  },
  {
   "cell_type": "code",
   "execution_count": 15,
   "metadata": {},
   "outputs": [
    {
     "data": {
      "text/plain": [
       "Description\n",
       "WHITE HANGING HEART T-LIGHT HOLDER    2070\n",
       "REGENCY CAKESTAND 3 TIER              1905\n",
       "JUMBO BAG RED RETROSPOT               1662\n",
       "ASSORTED COLOUR BIRD ORNAMENT         1418\n",
       "PARTY BUNTING                         1416\n",
       "Name: count, dtype: int64"
      ]
     },
     "execution_count": 15,
     "metadata": {},
     "output_type": "execute_result"
    }
   ],
   "source": [
    "#number of each products\n",
    "data['Description'].value_counts().head()"
   ]
  },
  {
   "cell_type": "code",
   "execution_count": 16,
   "metadata": {},
   "outputs": [
    {
     "data": {
      "application/vnd.microsoft.datawrangler.viewer.v0+json": {
       "columns": [
        {
         "name": "Description",
         "rawType": "object",
         "type": "string"
        },
        {
         "name": "Quantity",
         "rawType": "int64",
         "type": "integer"
        }
       ],
       "conversionMethod": "pd.DataFrame",
       "ref": "14323dce-e7c6-4063-9878-61c05a1129f7",
       "rows": [
        [
         " 4 PURPLE FLOCK DINNER CANDLES",
         "140"
        ],
        [
         " 50'S CHRISTMAS GIFT BAG LARGE",
         "1883"
        ],
        [
         " DOLLY GIRL BEAKER",
         "2391"
        ],
        [
         " I LOVE LONDON MINI BACKPACK",
         "360"
        ],
        [
         " I LOVE LONDON MINI RUCKSACK",
         "1"
        ]
       ],
       "shape": {
        "columns": 1,
        "rows": 5
       }
      },
      "text/html": [
       "<div>\n",
       "<style scoped>\n",
       "    .dataframe tbody tr th:only-of-type {\n",
       "        vertical-align: middle;\n",
       "    }\n",
       "\n",
       "    .dataframe tbody tr th {\n",
       "        vertical-align: top;\n",
       "    }\n",
       "\n",
       "    .dataframe thead th {\n",
       "        text-align: right;\n",
       "    }\n",
       "</style>\n",
       "<table border=\"1\" class=\"dataframe\">\n",
       "  <thead>\n",
       "    <tr style=\"text-align: right;\">\n",
       "      <th></th>\n",
       "      <th>Quantity</th>\n",
       "    </tr>\n",
       "    <tr>\n",
       "      <th>Description</th>\n",
       "      <th></th>\n",
       "    </tr>\n",
       "  </thead>\n",
       "  <tbody>\n",
       "    <tr>\n",
       "      <th>4 PURPLE FLOCK DINNER CANDLES</th>\n",
       "      <td>140</td>\n",
       "    </tr>\n",
       "    <tr>\n",
       "      <th>50'S CHRISTMAS GIFT BAG LARGE</th>\n",
       "      <td>1883</td>\n",
       "    </tr>\n",
       "    <tr>\n",
       "      <th>DOLLY GIRL BEAKER</th>\n",
       "      <td>2391</td>\n",
       "    </tr>\n",
       "    <tr>\n",
       "      <th>I LOVE LONDON MINI BACKPACK</th>\n",
       "      <td>360</td>\n",
       "    </tr>\n",
       "    <tr>\n",
       "      <th>I LOVE LONDON MINI RUCKSACK</th>\n",
       "      <td>1</td>\n",
       "    </tr>\n",
       "  </tbody>\n",
       "</table>\n",
       "</div>"
      ],
      "text/plain": [
       "                               Quantity\n",
       "Description                            \n",
       "4 PURPLE FLOCK DINNER CANDLES       140\n",
       "50'S CHRISTMAS GIFT BAG LARGE      1883\n",
       "DOLLY GIRL BEAKER                  2391\n",
       "I LOVE LONDON MINI BACKPACK         360\n",
       "I LOVE LONDON MINI RUCKSACK           1"
      ]
     },
     "execution_count": 16,
     "metadata": {},
     "output_type": "execute_result"
    }
   ],
   "source": [
    "#The most ordered product\n",
    "data.groupby(\"Description\").agg({\"Quantity\" : \"sum\"}).head()\n"
   ]
  },
  {
   "cell_type": "code",
   "execution_count": 17,
   "metadata": {},
   "outputs": [
    {
     "data": {
      "text/plain": [
       "22190"
      ]
     },
     "execution_count": 17,
     "metadata": {},
     "output_type": "execute_result"
    }
   ],
   "source": [
    "#Number of invoices were issued in total\n",
    "data['InvoiceNo'].nunique()"
   ]
  },
  {
   "cell_type": "code",
   "execution_count": 18,
   "metadata": {},
   "outputs": [
    {
     "data": {
      "text/plain": [
       "0          15.3\n",
       "1         20.34\n",
       "2          22.0\n",
       "3         20.34\n",
       "4         20.34\n",
       "          ...  \n",
       "541904     10.2\n",
       "541905     12.6\n",
       "541906     16.6\n",
       "541907     16.6\n",
       "541908    14.85\n",
       "Name: TotalAmount, Length: 406829, dtype: Float64"
      ]
     },
     "execution_count": 18,
     "metadata": {},
     "output_type": "execute_result"
    }
   ],
   "source": [
    "# Total Price that was paid per invoice\n",
    "## return Price to float\n",
    "data['TotalAmount']"
   ]
  },
  {
   "cell_type": "code",
   "execution_count": 19,
   "metadata": {},
   "outputs": [
    {
     "data": {
      "application/vnd.microsoft.datawrangler.viewer.v0+json": {
       "columns": [
        {
         "name": "index",
         "rawType": "object",
         "type": "string"
        },
        {
         "name": "Quantity",
         "rawType": "float64",
         "type": "float"
        },
        {
         "name": "InvoiceDate",
         "rawType": "object",
         "type": "unknown"
        },
        {
         "name": "UnitPrice",
         "rawType": "float64",
         "type": "float"
        },
        {
         "name": "CustomerID",
         "rawType": "float64",
         "type": "float"
        },
        {
         "name": "TotalAmount",
         "rawType": "Float64",
         "type": "float"
        }
       ],
       "conversionMethod": "pd.DataFrame",
       "ref": "15ff5710-1d75-4bfc-b6e6-43c63a10d831",
       "rows": [
        [
         "count",
         "406829.0",
         "406829",
         "406829.0",
         "406829.0",
         "406829.0"
        ],
        [
         "mean",
         "12.06130339774205",
         "2011-07-10 16:30:57.879207424",
         "3.460471018536043",
         "15287.690570239585",
         "20.40185387472378"
        ],
        [
         "min",
         "-80995.0",
         "2010-12-01 08:26:00",
         "0.0",
         "12346.0",
         "-168469.6"
        ],
        [
         "25%",
         "2.0",
         "2011-04-06 15:02:00",
         "1.25",
         "13953.0",
         "4.2"
        ],
        [
         "50%",
         "5.0",
         "2011-07-31 11:48:00",
         "1.95",
         "15152.0",
         "11.1"
        ],
        [
         "75%",
         "12.0",
         "2011-10-20 13:06:00",
         "3.75",
         "16791.0",
         "19.5"
        ],
        [
         "max",
         "80995.0",
         "2011-12-09 12:50:00",
         "38970.0",
         "18287.0",
         "168469.6"
        ],
        [
         "std",
         "248.69337001882522",
         null,
         "69.31516172321447",
         "1713.6003033215982",
         "427.59171755175436"
        ]
       ],
       "shape": {
        "columns": 5,
        "rows": 8
       }
      },
      "text/html": [
       "<div>\n",
       "<style scoped>\n",
       "    .dataframe tbody tr th:only-of-type {\n",
       "        vertical-align: middle;\n",
       "    }\n",
       "\n",
       "    .dataframe tbody tr th {\n",
       "        vertical-align: top;\n",
       "    }\n",
       "\n",
       "    .dataframe thead th {\n",
       "        text-align: right;\n",
       "    }\n",
       "</style>\n",
       "<table border=\"1\" class=\"dataframe\">\n",
       "  <thead>\n",
       "    <tr style=\"text-align: right;\">\n",
       "      <th></th>\n",
       "      <th>Quantity</th>\n",
       "      <th>InvoiceDate</th>\n",
       "      <th>UnitPrice</th>\n",
       "      <th>CustomerID</th>\n",
       "      <th>TotalAmount</th>\n",
       "    </tr>\n",
       "  </thead>\n",
       "  <tbody>\n",
       "    <tr>\n",
       "      <th>count</th>\n",
       "      <td>406829.000000</td>\n",
       "      <td>406829</td>\n",
       "      <td>406829.000000</td>\n",
       "      <td>406829.000000</td>\n",
       "      <td>406829.0</td>\n",
       "    </tr>\n",
       "    <tr>\n",
       "      <th>mean</th>\n",
       "      <td>12.061303</td>\n",
       "      <td>2011-07-10 16:30:57.879207424</td>\n",
       "      <td>3.460471</td>\n",
       "      <td>15287.690570</td>\n",
       "      <td>20.401854</td>\n",
       "    </tr>\n",
       "    <tr>\n",
       "      <th>min</th>\n",
       "      <td>-80995.000000</td>\n",
       "      <td>2010-12-01 08:26:00</td>\n",
       "      <td>0.000000</td>\n",
       "      <td>12346.000000</td>\n",
       "      <td>-168469.6</td>\n",
       "    </tr>\n",
       "    <tr>\n",
       "      <th>25%</th>\n",
       "      <td>2.000000</td>\n",
       "      <td>2011-04-06 15:02:00</td>\n",
       "      <td>1.250000</td>\n",
       "      <td>13953.000000</td>\n",
       "      <td>4.2</td>\n",
       "    </tr>\n",
       "    <tr>\n",
       "      <th>50%</th>\n",
       "      <td>5.000000</td>\n",
       "      <td>2011-07-31 11:48:00</td>\n",
       "      <td>1.950000</td>\n",
       "      <td>15152.000000</td>\n",
       "      <td>11.1</td>\n",
       "    </tr>\n",
       "    <tr>\n",
       "      <th>75%</th>\n",
       "      <td>12.000000</td>\n",
       "      <td>2011-10-20 13:06:00</td>\n",
       "      <td>3.750000</td>\n",
       "      <td>16791.000000</td>\n",
       "      <td>19.5</td>\n",
       "    </tr>\n",
       "    <tr>\n",
       "      <th>max</th>\n",
       "      <td>80995.000000</td>\n",
       "      <td>2011-12-09 12:50:00</td>\n",
       "      <td>38970.000000</td>\n",
       "      <td>18287.000000</td>\n",
       "      <td>168469.6</td>\n",
       "    </tr>\n",
       "    <tr>\n",
       "      <th>std</th>\n",
       "      <td>248.693370</td>\n",
       "      <td>NaN</td>\n",
       "      <td>69.315162</td>\n",
       "      <td>1713.600303</td>\n",
       "      <td>427.591718</td>\n",
       "    </tr>\n",
       "  </tbody>\n",
       "</table>\n",
       "</div>"
      ],
      "text/plain": [
       "            Quantity                    InvoiceDate      UnitPrice  \\\n",
       "count  406829.000000                         406829  406829.000000   \n",
       "mean       12.061303  2011-07-10 16:30:57.879207424       3.460471   \n",
       "min    -80995.000000            2010-12-01 08:26:00       0.000000   \n",
       "25%         2.000000            2011-04-06 15:02:00       1.250000   \n",
       "50%         5.000000            2011-07-31 11:48:00       1.950000   \n",
       "75%        12.000000            2011-10-20 13:06:00       3.750000   \n",
       "max     80995.000000            2011-12-09 12:50:00   38970.000000   \n",
       "std       248.693370                            NaN      69.315162   \n",
       "\n",
       "          CustomerID  TotalAmount  \n",
       "count  406829.000000     406829.0  \n",
       "mean    15287.690570    20.401854  \n",
       "min     12346.000000    -168469.6  \n",
       "25%     13953.000000          4.2  \n",
       "50%     15152.000000         11.1  \n",
       "75%     16791.000000         19.5  \n",
       "max     18287.000000     168469.6  \n",
       "std      1713.600303   427.591718  "
      ]
     },
     "execution_count": 19,
     "metadata": {},
     "output_type": "execute_result"
    }
   ],
   "source": [
    "data.describe()"
   ]
  },
  {
   "cell_type": "code",
   "execution_count": 20,
   "metadata": {},
   "outputs": [
    {
     "name": "stdout",
     "output_type": "stream",
     "text": [
      "Total 'Quantity' column less than 0: 8905 row\n",
      "Total 'TotalAmount' column less than 0: 8949 row\n"
     ]
    }
   ],
   "source": [
    "# คอลัมน์ Price , Quantity มีข้อมูลที่เป็นลบ\n",
    "print(f\"Total 'Quantity' column less than 0: {np.sum(data['Quantity'] <= 0)} row\")\n",
    "print(f\"Total 'TotalAmount' column less than 0: {np.sum(data['TotalAmount'] <= 0)} row\")"
   ]
  },
  {
   "cell_type": "code",
   "execution_count": 21,
   "metadata": {},
   "outputs": [
    {
     "data": {
      "application/vnd.microsoft.datawrangler.viewer.v0+json": {
       "columns": [
        {
         "name": "index",
         "rawType": "int64",
         "type": "integer"
        },
        {
         "name": "InvoiceNo",
         "rawType": "object",
         "type": "string"
        },
        {
         "name": "StockCode",
         "rawType": "object",
         "type": "string"
        },
        {
         "name": "Description",
         "rawType": "object",
         "type": "string"
        },
        {
         "name": "Quantity",
         "rawType": "int64",
         "type": "integer"
        },
        {
         "name": "InvoiceDate",
         "rawType": "datetime64[ns]",
         "type": "datetime"
        },
        {
         "name": "UnitPrice",
         "rawType": "float64",
         "type": "float"
        },
        {
         "name": "CustomerID",
         "rawType": "float64",
         "type": "float"
        },
        {
         "name": "Country",
         "rawType": "object",
         "type": "string"
        },
        {
         "name": "TotalAmount",
         "rawType": "Float64",
         "type": "float"
        }
       ],
       "conversionMethod": "pd.DataFrame",
       "ref": "a7cc308c-89b5-44bd-a6f4-fb1b4b2a69af",
       "rows": [
        [
         "141",
         "C536379",
         "D",
         "Discount",
         "-1",
         "2010-12-01 09:41:00",
         "27.5",
         "14527.0",
         "United Kingdom",
         "-27.5"
        ],
        [
         "154",
         "C536383",
         "35004C",
         "SET OF 3 COLOURED  FLYING DUCKS",
         "-1",
         "2010-12-01 09:49:00",
         "4.65",
         "15311.0",
         "United Kingdom",
         "-4.65"
        ],
        [
         "235",
         "C536391",
         "22556",
         "PLASTERS IN TIN CIRCUS PARADE ",
         "-12",
         "2010-12-01 10:24:00",
         "1.65",
         "17548.0",
         "United Kingdom",
         "-19.8"
        ],
        [
         "236",
         "C536391",
         "21984",
         "PACK OF 12 PINK PAISLEY TISSUES ",
         "-24",
         "2010-12-01 10:24:00",
         "0.29",
         "17548.0",
         "United Kingdom",
         "-6.96"
        ],
        [
         "237",
         "C536391",
         "21983",
         "PACK OF 12 BLUE PAISLEY TISSUES ",
         "-24",
         "2010-12-01 10:24:00",
         "0.29",
         "17548.0",
         "United Kingdom",
         "-6.96"
        ],
        [
         "238",
         "C536391",
         "21980",
         "PACK OF 12 RED RETROSPOT TISSUES ",
         "-24",
         "2010-12-01 10:24:00",
         "0.29",
         "17548.0",
         "United Kingdom",
         "-6.96"
        ],
        [
         "239",
         "C536391",
         "21484",
         "CHICK GREY HOT WATER BOTTLE",
         "-12",
         "2010-12-01 10:24:00",
         "3.45",
         "17548.0",
         "United Kingdom",
         "-41.4"
        ],
        [
         "240",
         "C536391",
         "22557",
         "PLASTERS IN TIN VINTAGE PAISLEY ",
         "-12",
         "2010-12-01 10:24:00",
         "1.65",
         "17548.0",
         "United Kingdom",
         "-19.8"
        ],
        [
         "241",
         "C536391",
         "22553",
         "PLASTERS IN TIN SKULLS",
         "-24",
         "2010-12-01 10:24:00",
         "1.65",
         "17548.0",
         "United Kingdom",
         "-39.6"
        ],
        [
         "939",
         "C536506",
         "22960",
         "JAM MAKING SET WITH JARS",
         "-6",
         "2010-12-01 12:38:00",
         "4.25",
         "17897.0",
         "United Kingdom",
         "-25.5"
        ],
        [
         "1441",
         "C536543",
         "22632",
         "HAND WARMER RED RETROSPOT",
         "-1",
         "2010-12-01 14:30:00",
         "2.1",
         "17841.0",
         "United Kingdom",
         "-2.1"
        ],
        [
         "1442",
         "C536543",
         "22355",
         "CHARLOTTE BAG SUKI DESIGN",
         "-2",
         "2010-12-01 14:30:00",
         "0.85",
         "17841.0",
         "United Kingdom",
         "-1.7"
        ],
        [
         "1973",
         "C536548",
         "22244",
         "3 HOOK HANGER MAGIC GARDEN",
         "-4",
         "2010-12-01 14:33:00",
         "1.95",
         "12472.0",
         "Germany",
         "-7.8"
        ],
        [
         "1974",
         "C536548",
         "22242",
         "5 HOOK HANGER MAGIC TOADSTOOL",
         "-5",
         "2010-12-01 14:33:00",
         "1.65",
         "12472.0",
         "Germany",
         "-8.25"
        ],
        [
         "1975",
         "C536548",
         "20914",
         "SET/5 RED RETROSPOT LID GLASS BOWLS",
         "-1",
         "2010-12-01 14:33:00",
         "2.95",
         "12472.0",
         "Germany",
         "-2.95"
        ],
        [
         "1976",
         "C536548",
         "22892",
         "SET OF SALT AND PEPPER TOADSTOOLS",
         "-7",
         "2010-12-01 14:33:00",
         "1.25",
         "12472.0",
         "Germany",
         "-8.75"
        ],
        [
         "1977",
         "C536548",
         "22654",
         "DELUXE SEWING KIT ",
         "-1",
         "2010-12-01 14:33:00",
         "5.95",
         "12472.0",
         "Germany",
         "-5.95"
        ],
        [
         "1978",
         "C536548",
         "22767",
         "TRIPLE PHOTO FRAME CORNICE ",
         "-2",
         "2010-12-01 14:33:00",
         "9.95",
         "12472.0",
         "Germany",
         "-19.9"
        ],
        [
         "1979",
         "C536548",
         "22333",
         "RETROSPOT PARTY BAG + STICKER SET",
         "-1",
         "2010-12-01 14:33:00",
         "1.65",
         "12472.0",
         "Germany",
         "-1.65"
        ],
        [
         "1980",
         "C536548",
         "22245",
         "HOOK, 1 HANGER ,MAGIC GARDEN",
         "-2",
         "2010-12-01 14:33:00",
         "0.85",
         "12472.0",
         "Germany",
         "-1.7"
        ],
        [
         "1981",
         "C536548",
         "22077",
         "6 RIBBONS RUSTIC CHARM",
         "-6",
         "2010-12-01 14:33:00",
         "1.65",
         "12472.0",
         "Germany",
         "-9.9"
        ],
        [
         "1982",
         "C536548",
         "22631",
         "CIRCUS PARADE LUNCH BOX ",
         "-1",
         "2010-12-01 14:33:00",
         "1.95",
         "12472.0",
         "Germany",
         "-1.95"
        ],
        [
         "1983",
         "C536548",
         "22168",
         "ORGANISER WOOD ANTIQUE WHITE ",
         "-2",
         "2010-12-01 14:33:00",
         "8.5",
         "12472.0",
         "Germany",
         "-17.0"
        ],
        [
         "1984",
         "C536548",
         "21218",
         "RED SPOTTY BISCUIT TIN",
         "-3",
         "2010-12-01 14:33:00",
         "3.75",
         "12472.0",
         "Germany",
         "-11.25"
        ],
        [
         "1985",
         "C536548",
         "20957",
         "PORCELAIN HANGING BELL SMALL",
         "-1",
         "2010-12-01 14:33:00",
         "1.45",
         "12472.0",
         "Germany",
         "-1.45"
        ],
        [
         "1986",
         "C536548",
         "22580",
         "ADVENT CALENDAR GINGHAM SACK",
         "-4",
         "2010-12-01 14:33:00",
         "5.95",
         "12472.0",
         "Germany",
         "-23.8"
        ],
        [
         "3170",
         "C536606",
         "20914",
         "SET/5 RED RETROSPOT LID GLASS BOWLS",
         "-2",
         "2010-12-02 09:10:00",
         "2.95",
         "14092.0",
         "United Kingdom",
         "-5.9"
        ],
        [
         "3338",
         "C536622",
         "22752",
         "SET 7 BABUSHKA NESTING BOXES",
         "-2",
         "2010-12-02 10:37:00",
         "8.5",
         "12471.0",
         "Germany",
         "-17.0"
        ],
        [
         "3410",
         "C536625",
         "22839",
         "3 TIER CAKE TIN GREEN AND CREAM",
         "-2",
         "2010-12-02 10:46:00",
         "14.95",
         "14766.0",
         "United Kingdom",
         "-29.9"
        ],
        [
         "3693",
         "C536642",
         "21463",
         "MIRRORED DISCO BALL ",
         "-1",
         "2010-12-02 11:56:00",
         "5.95",
         "14390.0",
         "United Kingdom",
         "-5.95"
        ],
        [
         "3911",
         "C536734",
         "22780",
         "LIGHT GARLAND BUTTERFILES PINK",
         "-4",
         "2010-12-02 12:50:00",
         "4.25",
         "16042.0",
         "United Kingdom",
         "-17.0"
        ],
        [
         "3912",
         "C536734",
         "85048",
         "15CM CHRISTMAS GLASS BALL 20 LIGHTS",
         "-1",
         "2010-12-02 12:50:00",
         "7.95",
         "16042.0",
         "United Kingdom",
         "-7.95"
        ],
        [
         "3919",
         "C536737",
         "22798",
         "ANTIQUE GLASS DRESSING TABLE POT",
         "-2",
         "2010-12-02 13:05:00",
         "2.95",
         "15922.0",
         "United Kingdom",
         "-5.9"
        ],
        [
         "4287",
         "C536757",
         "84347",
         "ROTATING SILVER ANGELS T-LIGHT HLDR",
         "-9360",
         "2010-12-02 14:23:00",
         "0.03",
         "15838.0",
         "United Kingdom",
         "-280.8"
        ],
        [
         "4288",
         "C536758",
         "21314",
         "SMALL GLASS HEART TRINKET POT",
         "-1",
         "2010-12-02 14:25:00",
         "2.1",
         "13767.0",
         "United Kingdom",
         "-2.1"
        ],
        [
         "4306",
         "C536760",
         "22175",
         "PINK OWL SOFT TOY",
         "-1",
         "2010-12-02 14:29:00",
         "2.95",
         "17547.0",
         "United Kingdom",
         "-2.95"
        ],
        [
         "4307",
         "C536760",
         "22273",
         "FELTCRAFT DOLL MOLLY",
         "-3",
         "2010-12-02 14:29:00",
         "2.95",
         "17547.0",
         "United Kingdom",
         "-8.85"
        ],
        [
         "4836",
         "C536807",
         "22501",
         "PICNIC BASKET WICKER LARGE",
         "-2",
         "2010-12-02 16:45:00",
         "9.95",
         "15834.0",
         "United Kingdom",
         "-19.9"
        ],
        [
         "4837",
         "C536807",
         "22778",
         "GLASS CLOCHE SMALL",
         "-1",
         "2010-12-02 16:45:00",
         "3.95",
         "15834.0",
         "United Kingdom",
         "-3.95"
        ],
        [
         "4853",
         "C536812",
         "22578",
         "WOODEN STAR CHRISTMAS SCANDINAVIAN",
         "-36",
         "2010-12-02 16:58:00",
         "0.85",
         "16546.0",
         "United Kingdom",
         "-30.6"
        ],
        [
         "4854",
         "C536812",
         "22574",
         "HEART WOODEN CHRISTMAS DECORATION",
         "-192",
         "2010-12-02 16:58:00",
         "0.72",
         "16546.0",
         "United Kingdom",
         "-138.24"
        ],
        [
         "4855",
         "C536812",
         "22593",
         "CHRISTMAS GINGHAM STAR",
         "-144",
         "2010-12-02 16:58:00",
         "0.72",
         "16546.0",
         "United Kingdom",
         "-103.68"
        ],
        [
         "4856",
         "C536812",
         "22595",
         "CHRISTMAS GINGHAM HEART",
         "-144",
         "2010-12-02 16:58:00",
         "0.72",
         "16546.0",
         "United Kingdom",
         "-103.68"
        ],
        [
         "4857",
         "C536812",
         "22588",
         "CARD HOLDER GINGHAM HEART",
         "-192",
         "2010-12-02 16:58:00",
         "2.1",
         "16546.0",
         "United Kingdom",
         "-403.2"
        ],
        [
         "4858",
         "C536812",
         "22130",
         "PARTY CONE CHRISTMAS DECORATION ",
         "-144",
         "2010-12-02 16:58:00",
         "0.72",
         "16546.0",
         "United Kingdom",
         "-103.68"
        ],
        [
         "4876",
         "C536814",
         "21527",
         "RED RETROSPOT TRADITIONAL TEAPOT ",
         "-2",
         "2010-12-02 17:03:00",
         "7.95",
         "13958.0",
         "United Kingdom",
         "-15.9"
        ],
        [
         "4877",
         "C536814",
         "72799E",
         "IVORY PILLAR CANDLE SILVER FLOCK",
         "-6",
         "2010-12-02 17:03:00",
         "2.95",
         "13958.0",
         "United Kingdom",
         "-17.7"
        ],
        [
         "4878",
         "C536814",
         "85066",
         "CREAM SWEETHEART MINI CHEST",
         "-2",
         "2010-12-02 17:03:00",
         "12.75",
         "13958.0",
         "United Kingdom",
         "-25.5"
        ],
        [
         "4879",
         "C536814",
         "21586",
         "KINGS CHOICE GIANT TUBE MATCHES",
         "-12",
         "2010-12-02 17:03:00",
         "2.55",
         "13958.0",
         "United Kingdom",
         "-30.6"
        ],
        [
         "4880",
         "C536814",
         "21258",
         "VICTORIAN SEWING BOX LARGE",
         "-1",
         "2010-12-02 17:03:00",
         "12.75",
         "13958.0",
         "United Kingdom",
         "-12.75"
        ]
       ],
       "shape": {
        "columns": 9,
        "rows": 8949
       }
      },
      "text/html": [
       "<div>\n",
       "<style scoped>\n",
       "    .dataframe tbody tr th:only-of-type {\n",
       "        vertical-align: middle;\n",
       "    }\n",
       "\n",
       "    .dataframe tbody tr th {\n",
       "        vertical-align: top;\n",
       "    }\n",
       "\n",
       "    .dataframe thead th {\n",
       "        text-align: right;\n",
       "    }\n",
       "</style>\n",
       "<table border=\"1\" class=\"dataframe\">\n",
       "  <thead>\n",
       "    <tr style=\"text-align: right;\">\n",
       "      <th></th>\n",
       "      <th>InvoiceNo</th>\n",
       "      <th>StockCode</th>\n",
       "      <th>Description</th>\n",
       "      <th>Quantity</th>\n",
       "      <th>InvoiceDate</th>\n",
       "      <th>UnitPrice</th>\n",
       "      <th>CustomerID</th>\n",
       "      <th>Country</th>\n",
       "      <th>TotalAmount</th>\n",
       "    </tr>\n",
       "  </thead>\n",
       "  <tbody>\n",
       "    <tr>\n",
       "      <th>141</th>\n",
       "      <td>C536379</td>\n",
       "      <td>D</td>\n",
       "      <td>Discount</td>\n",
       "      <td>-1</td>\n",
       "      <td>2010-12-01 09:41:00</td>\n",
       "      <td>27.50</td>\n",
       "      <td>14527.0</td>\n",
       "      <td>United Kingdom</td>\n",
       "      <td>-27.5</td>\n",
       "    </tr>\n",
       "    <tr>\n",
       "      <th>154</th>\n",
       "      <td>C536383</td>\n",
       "      <td>35004C</td>\n",
       "      <td>SET OF 3 COLOURED  FLYING DUCKS</td>\n",
       "      <td>-1</td>\n",
       "      <td>2010-12-01 09:49:00</td>\n",
       "      <td>4.65</td>\n",
       "      <td>15311.0</td>\n",
       "      <td>United Kingdom</td>\n",
       "      <td>-4.65</td>\n",
       "    </tr>\n",
       "    <tr>\n",
       "      <th>235</th>\n",
       "      <td>C536391</td>\n",
       "      <td>22556</td>\n",
       "      <td>PLASTERS IN TIN CIRCUS PARADE</td>\n",
       "      <td>-12</td>\n",
       "      <td>2010-12-01 10:24:00</td>\n",
       "      <td>1.65</td>\n",
       "      <td>17548.0</td>\n",
       "      <td>United Kingdom</td>\n",
       "      <td>-19.8</td>\n",
       "    </tr>\n",
       "    <tr>\n",
       "      <th>236</th>\n",
       "      <td>C536391</td>\n",
       "      <td>21984</td>\n",
       "      <td>PACK OF 12 PINK PAISLEY TISSUES</td>\n",
       "      <td>-24</td>\n",
       "      <td>2010-12-01 10:24:00</td>\n",
       "      <td>0.29</td>\n",
       "      <td>17548.0</td>\n",
       "      <td>United Kingdom</td>\n",
       "      <td>-6.96</td>\n",
       "    </tr>\n",
       "    <tr>\n",
       "      <th>237</th>\n",
       "      <td>C536391</td>\n",
       "      <td>21983</td>\n",
       "      <td>PACK OF 12 BLUE PAISLEY TISSUES</td>\n",
       "      <td>-24</td>\n",
       "      <td>2010-12-01 10:24:00</td>\n",
       "      <td>0.29</td>\n",
       "      <td>17548.0</td>\n",
       "      <td>United Kingdom</td>\n",
       "      <td>-6.96</td>\n",
       "    </tr>\n",
       "    <tr>\n",
       "      <th>...</th>\n",
       "      <td>...</td>\n",
       "      <td>...</td>\n",
       "      <td>...</td>\n",
       "      <td>...</td>\n",
       "      <td>...</td>\n",
       "      <td>...</td>\n",
       "      <td>...</td>\n",
       "      <td>...</td>\n",
       "      <td>...</td>\n",
       "    </tr>\n",
       "    <tr>\n",
       "      <th>540449</th>\n",
       "      <td>C581490</td>\n",
       "      <td>23144</td>\n",
       "      <td>ZINC T-LIGHT HOLDER STARS SMALL</td>\n",
       "      <td>-11</td>\n",
       "      <td>2011-12-09 09:57:00</td>\n",
       "      <td>0.83</td>\n",
       "      <td>14397.0</td>\n",
       "      <td>United Kingdom</td>\n",
       "      <td>-9.13</td>\n",
       "    </tr>\n",
       "    <tr>\n",
       "      <th>541541</th>\n",
       "      <td>C581499</td>\n",
       "      <td>M</td>\n",
       "      <td>Manual</td>\n",
       "      <td>-1</td>\n",
       "      <td>2011-12-09 10:28:00</td>\n",
       "      <td>224.69</td>\n",
       "      <td>15498.0</td>\n",
       "      <td>United Kingdom</td>\n",
       "      <td>-224.69</td>\n",
       "    </tr>\n",
       "    <tr>\n",
       "      <th>541715</th>\n",
       "      <td>C581568</td>\n",
       "      <td>21258</td>\n",
       "      <td>VICTORIAN SEWING BOX LARGE</td>\n",
       "      <td>-5</td>\n",
       "      <td>2011-12-09 11:57:00</td>\n",
       "      <td>10.95</td>\n",
       "      <td>15311.0</td>\n",
       "      <td>United Kingdom</td>\n",
       "      <td>-54.75</td>\n",
       "    </tr>\n",
       "    <tr>\n",
       "      <th>541716</th>\n",
       "      <td>C581569</td>\n",
       "      <td>84978</td>\n",
       "      <td>HANGING HEART JAR T-LIGHT HOLDER</td>\n",
       "      <td>-1</td>\n",
       "      <td>2011-12-09 11:58:00</td>\n",
       "      <td>1.25</td>\n",
       "      <td>17315.0</td>\n",
       "      <td>United Kingdom</td>\n",
       "      <td>-1.25</td>\n",
       "    </tr>\n",
       "    <tr>\n",
       "      <th>541717</th>\n",
       "      <td>C581569</td>\n",
       "      <td>20979</td>\n",
       "      <td>36 PENCILS TUBE RED RETROSPOT</td>\n",
       "      <td>-5</td>\n",
       "      <td>2011-12-09 11:58:00</td>\n",
       "      <td>1.25</td>\n",
       "      <td>17315.0</td>\n",
       "      <td>United Kingdom</td>\n",
       "      <td>-6.25</td>\n",
       "    </tr>\n",
       "  </tbody>\n",
       "</table>\n",
       "<p>8949 rows × 9 columns</p>\n",
       "</div>"
      ],
      "text/plain": [
       "       InvoiceNo StockCode                       Description  Quantity  \\\n",
       "141      C536379         D                          Discount        -1   \n",
       "154      C536383    35004C   SET OF 3 COLOURED  FLYING DUCKS        -1   \n",
       "235      C536391     22556    PLASTERS IN TIN CIRCUS PARADE        -12   \n",
       "236      C536391     21984  PACK OF 12 PINK PAISLEY TISSUES        -24   \n",
       "237      C536391     21983  PACK OF 12 BLUE PAISLEY TISSUES        -24   \n",
       "...          ...       ...                               ...       ...   \n",
       "540449   C581490     23144   ZINC T-LIGHT HOLDER STARS SMALL       -11   \n",
       "541541   C581499         M                            Manual        -1   \n",
       "541715   C581568     21258        VICTORIAN SEWING BOX LARGE        -5   \n",
       "541716   C581569     84978  HANGING HEART JAR T-LIGHT HOLDER        -1   \n",
       "541717   C581569     20979     36 PENCILS TUBE RED RETROSPOT        -5   \n",
       "\n",
       "               InvoiceDate  UnitPrice  CustomerID         Country  TotalAmount  \n",
       "141    2010-12-01 09:41:00      27.50     14527.0  United Kingdom        -27.5  \n",
       "154    2010-12-01 09:49:00       4.65     15311.0  United Kingdom        -4.65  \n",
       "235    2010-12-01 10:24:00       1.65     17548.0  United Kingdom        -19.8  \n",
       "236    2010-12-01 10:24:00       0.29     17548.0  United Kingdom        -6.96  \n",
       "237    2010-12-01 10:24:00       0.29     17548.0  United Kingdom        -6.96  \n",
       "...                    ...        ...         ...             ...          ...  \n",
       "540449 2011-12-09 09:57:00       0.83     14397.0  United Kingdom        -9.13  \n",
       "541541 2011-12-09 10:28:00     224.69     15498.0  United Kingdom      -224.69  \n",
       "541715 2011-12-09 11:57:00      10.95     15311.0  United Kingdom       -54.75  \n",
       "541716 2011-12-09 11:58:00       1.25     17315.0  United Kingdom        -1.25  \n",
       "541717 2011-12-09 11:58:00       1.25     17315.0  United Kingdom        -6.25  \n",
       "\n",
       "[8949 rows x 9 columns]"
      ]
     },
     "execution_count": 21,
     "metadata": {},
     "output_type": "execute_result"
    }
   ],
   "source": [
    "#data[data['Quantity'] <= 0]\n",
    "data[data['TotalAmount'] <= 0]"
   ]
  },
  {
   "cell_type": "code",
   "execution_count": 22,
   "metadata": {},
   "outputs": [],
   "source": [
    "data = data[data['Quantity'] >= 0]"
   ]
  },
  {
   "cell_type": "code",
   "execution_count": 23,
   "metadata": {},
   "outputs": [
    {
     "data": {
      "application/vnd.microsoft.datawrangler.viewer.v0+json": {
       "columns": [
        {
         "name": "index",
         "rawType": "object",
         "type": "string"
        },
        {
         "name": "Quantity",
         "rawType": "float64",
         "type": "float"
        },
        {
         "name": "InvoiceDate",
         "rawType": "object",
         "type": "unknown"
        },
        {
         "name": "UnitPrice",
         "rawType": "float64",
         "type": "float"
        },
        {
         "name": "CustomerID",
         "rawType": "float64",
         "type": "float"
        },
        {
         "name": "TotalAmount",
         "rawType": "Float64",
         "type": "float"
        }
       ],
       "conversionMethod": "pd.DataFrame",
       "ref": "1a9b37fa-9278-4c1b-9c83-6cab300ccf5f",
       "rows": [
        [
         "count",
         "397924.0",
         "397924",
         "397924.0",
         "397924.0",
         "397924.0"
        ],
        [
         "mean",
         "13.021823262733587",
         "2011-07-10 23:43:36.912475648",
         "3.1161744805540756",
         "15294.315170736121",
         "22.39474849468743"
        ],
        [
         "min",
         "1.0",
         "2010-12-01 08:26:00",
         "0.0",
         "12346.0",
         "0.0"
        ],
        [
         "25%",
         "2.0",
         "2011-04-07 11:12:00",
         "1.25",
         "13969.0",
         "4.68"
        ],
        [
         "50%",
         "6.0",
         "2011-07-31 14:39:00",
         "1.95",
         "15159.0",
         "11.8"
        ],
        [
         "75%",
         "12.0",
         "2011-10-20 14:33:00",
         "3.75",
         "16795.0",
         "19.8"
        ],
        [
         "max",
         "80995.0",
         "2011-12-09 12:50:00",
         "8142.75",
         "18287.0",
         "168469.6"
        ],
        [
         "std",
         "180.4202099169813",
         null,
         "22.09678803168584",
         "1713.1698773382186",
         "309.05558838086813"
        ]
       ],
       "shape": {
        "columns": 5,
        "rows": 8
       }
      },
      "text/html": [
       "<div>\n",
       "<style scoped>\n",
       "    .dataframe tbody tr th:only-of-type {\n",
       "        vertical-align: middle;\n",
       "    }\n",
       "\n",
       "    .dataframe tbody tr th {\n",
       "        vertical-align: top;\n",
       "    }\n",
       "\n",
       "    .dataframe thead th {\n",
       "        text-align: right;\n",
       "    }\n",
       "</style>\n",
       "<table border=\"1\" class=\"dataframe\">\n",
       "  <thead>\n",
       "    <tr style=\"text-align: right;\">\n",
       "      <th></th>\n",
       "      <th>Quantity</th>\n",
       "      <th>InvoiceDate</th>\n",
       "      <th>UnitPrice</th>\n",
       "      <th>CustomerID</th>\n",
       "      <th>TotalAmount</th>\n",
       "    </tr>\n",
       "  </thead>\n",
       "  <tbody>\n",
       "    <tr>\n",
       "      <th>count</th>\n",
       "      <td>397924.000000</td>\n",
       "      <td>397924</td>\n",
       "      <td>397924.000000</td>\n",
       "      <td>397924.000000</td>\n",
       "      <td>397924.0</td>\n",
       "    </tr>\n",
       "    <tr>\n",
       "      <th>mean</th>\n",
       "      <td>13.021823</td>\n",
       "      <td>2011-07-10 23:43:36.912475648</td>\n",
       "      <td>3.116174</td>\n",
       "      <td>15294.315171</td>\n",
       "      <td>22.394748</td>\n",
       "    </tr>\n",
       "    <tr>\n",
       "      <th>min</th>\n",
       "      <td>1.000000</td>\n",
       "      <td>2010-12-01 08:26:00</td>\n",
       "      <td>0.000000</td>\n",
       "      <td>12346.000000</td>\n",
       "      <td>0.0</td>\n",
       "    </tr>\n",
       "    <tr>\n",
       "      <th>25%</th>\n",
       "      <td>2.000000</td>\n",
       "      <td>2011-04-07 11:12:00</td>\n",
       "      <td>1.250000</td>\n",
       "      <td>13969.000000</td>\n",
       "      <td>4.68</td>\n",
       "    </tr>\n",
       "    <tr>\n",
       "      <th>50%</th>\n",
       "      <td>6.000000</td>\n",
       "      <td>2011-07-31 14:39:00</td>\n",
       "      <td>1.950000</td>\n",
       "      <td>15159.000000</td>\n",
       "      <td>11.8</td>\n",
       "    </tr>\n",
       "    <tr>\n",
       "      <th>75%</th>\n",
       "      <td>12.000000</td>\n",
       "      <td>2011-10-20 14:33:00</td>\n",
       "      <td>3.750000</td>\n",
       "      <td>16795.000000</td>\n",
       "      <td>19.8</td>\n",
       "    </tr>\n",
       "    <tr>\n",
       "      <th>max</th>\n",
       "      <td>80995.000000</td>\n",
       "      <td>2011-12-09 12:50:00</td>\n",
       "      <td>8142.750000</td>\n",
       "      <td>18287.000000</td>\n",
       "      <td>168469.6</td>\n",
       "    </tr>\n",
       "    <tr>\n",
       "      <th>std</th>\n",
       "      <td>180.420210</td>\n",
       "      <td>NaN</td>\n",
       "      <td>22.096788</td>\n",
       "      <td>1713.169877</td>\n",
       "      <td>309.055588</td>\n",
       "    </tr>\n",
       "  </tbody>\n",
       "</table>\n",
       "</div>"
      ],
      "text/plain": [
       "            Quantity                    InvoiceDate      UnitPrice  \\\n",
       "count  397924.000000                         397924  397924.000000   \n",
       "mean       13.021823  2011-07-10 23:43:36.912475648       3.116174   \n",
       "min         1.000000            2010-12-01 08:26:00       0.000000   \n",
       "25%         2.000000            2011-04-07 11:12:00       1.250000   \n",
       "50%         6.000000            2011-07-31 14:39:00       1.950000   \n",
       "75%        12.000000            2011-10-20 14:33:00       3.750000   \n",
       "max     80995.000000            2011-12-09 12:50:00    8142.750000   \n",
       "std       180.420210                            NaN      22.096788   \n",
       "\n",
       "          CustomerID  TotalAmount  \n",
       "count  397924.000000     397924.0  \n",
       "mean    15294.315171    22.394748  \n",
       "min     12346.000000          0.0  \n",
       "25%     13969.000000         4.68  \n",
       "50%     15159.000000         11.8  \n",
       "75%     16795.000000         19.8  \n",
       "max     18287.000000     168469.6  \n",
       "std      1713.169877   309.055588  "
      ]
     },
     "execution_count": 23,
     "metadata": {},
     "output_type": "execute_result"
    }
   ],
   "source": [
    "data.describe()"
   ]
  },
  {
   "cell_type": "code",
   "execution_count": 24,
   "metadata": {},
   "outputs": [
    {
     "name": "stderr",
     "output_type": "stream",
     "text": [
      "C:\\Users\\Admin\\AppData\\Local\\Temp\\ipykernel_40652\\3486996870.py:9: PerformanceWarning: DataFrame is highly fragmented.  This is usually the result of calling `frame.insert` many times, which has poor performance.  Consider joining all columns at once using pd.concat(axis=1) instead. To get a de-fragmented frame, use `newframe = frame.copy()`\n",
      "  data[data_quartile] = np.where(data[col] > upper_limit, upper_limit, data[col])\n",
      "C:\\Users\\Admin\\AppData\\Local\\Temp\\ipykernel_40652\\3486996870.py:9: PerformanceWarning: DataFrame is highly fragmented.  This is usually the result of calling `frame.insert` many times, which has poor performance.  Consider joining all columns at once using pd.concat(axis=1) instead. To get a de-fragmented frame, use `newframe = frame.copy()`\n",
      "  data[data_quartile] = np.where(data[col] > upper_limit, upper_limit, data[col])\n",
      "C:\\Users\\Admin\\AppData\\Local\\Temp\\ipykernel_40652\\3486996870.py:9: PerformanceWarning: DataFrame is highly fragmented.  This is usually the result of calling `frame.insert` many times, which has poor performance.  Consider joining all columns at once using pd.concat(axis=1) instead. To get a de-fragmented frame, use `newframe = frame.copy()`\n",
      "  data[data_quartile] = np.where(data[col] > upper_limit, upper_limit, data[col])\n",
      "C:\\Users\\Admin\\AppData\\Local\\Temp\\ipykernel_40652\\3486996870.py:9: PerformanceWarning: DataFrame is highly fragmented.  This is usually the result of calling `frame.insert` many times, which has poor performance.  Consider joining all columns at once using pd.concat(axis=1) instead. To get a de-fragmented frame, use `newframe = frame.copy()`\n",
      "  data[data_quartile] = np.where(data[col] > upper_limit, upper_limit, data[col])\n",
      "C:\\Users\\Admin\\AppData\\Local\\Temp\\ipykernel_40652\\3486996870.py:9: PerformanceWarning: DataFrame is highly fragmented.  This is usually the result of calling `frame.insert` many times, which has poor performance.  Consider joining all columns at once using pd.concat(axis=1) instead. To get a de-fragmented frame, use `newframe = frame.copy()`\n",
      "  data[data_quartile] = np.where(data[col] > upper_limit, upper_limit, data[col])\n",
      "C:\\Users\\Admin\\AppData\\Local\\Temp\\ipykernel_40652\\3486996870.py:9: PerformanceWarning: DataFrame is highly fragmented.  This is usually the result of calling `frame.insert` many times, which has poor performance.  Consider joining all columns at once using pd.concat(axis=1) instead. To get a de-fragmented frame, use `newframe = frame.copy()`\n",
      "  data[data_quartile] = np.where(data[col] > upper_limit, upper_limit, data[col])\n",
      "C:\\Users\\Admin\\AppData\\Local\\Temp\\ipykernel_40652\\3486996870.py:9: PerformanceWarning: DataFrame is highly fragmented.  This is usually the result of calling `frame.insert` many times, which has poor performance.  Consider joining all columns at once using pd.concat(axis=1) instead. To get a de-fragmented frame, use `newframe = frame.copy()`\n",
      "  data[data_quartile] = np.where(data[col] > upper_limit, upper_limit, data[col])\n",
      "C:\\Users\\Admin\\AppData\\Local\\Temp\\ipykernel_40652\\3486996870.py:9: PerformanceWarning: DataFrame is highly fragmented.  This is usually the result of calling `frame.insert` many times, which has poor performance.  Consider joining all columns at once using pd.concat(axis=1) instead. To get a de-fragmented frame, use `newframe = frame.copy()`\n",
      "  data[data_quartile] = np.where(data[col] > upper_limit, upper_limit, data[col])\n",
      "C:\\Users\\Admin\\AppData\\Local\\Temp\\ipykernel_40652\\3486996870.py:9: PerformanceWarning: DataFrame is highly fragmented.  This is usually the result of calling `frame.insert` many times, which has poor performance.  Consider joining all columns at once using pd.concat(axis=1) instead. To get a de-fragmented frame, use `newframe = frame.copy()`\n",
      "  data[data_quartile] = np.where(data[col] > upper_limit, upper_limit, data[col])\n",
      "C:\\Users\\Admin\\AppData\\Local\\Temp\\ipykernel_40652\\3486996870.py:9: PerformanceWarning: DataFrame is highly fragmented.  This is usually the result of calling `frame.insert` many times, which has poor performance.  Consider joining all columns at once using pd.concat(axis=1) instead. To get a de-fragmented frame, use `newframe = frame.copy()`\n",
      "  data[data_quartile] = np.where(data[col] > upper_limit, upper_limit, data[col])\n",
      "C:\\Users\\Admin\\AppData\\Local\\Temp\\ipykernel_40652\\3486996870.py:9: PerformanceWarning: DataFrame is highly fragmented.  This is usually the result of calling `frame.insert` many times, which has poor performance.  Consider joining all columns at once using pd.concat(axis=1) instead. To get a de-fragmented frame, use `newframe = frame.copy()`\n",
      "  data[data_quartile] = np.where(data[col] > upper_limit, upper_limit, data[col])\n",
      "C:\\Users\\Admin\\AppData\\Local\\Temp\\ipykernel_40652\\3486996870.py:9: PerformanceWarning: DataFrame is highly fragmented.  This is usually the result of calling `frame.insert` many times, which has poor performance.  Consider joining all columns at once using pd.concat(axis=1) instead. To get a de-fragmented frame, use `newframe = frame.copy()`\n",
      "  data[data_quartile] = np.where(data[col] > upper_limit, upper_limit, data[col])\n",
      "C:\\Users\\Admin\\AppData\\Local\\Temp\\ipykernel_40652\\3486996870.py:9: PerformanceWarning: DataFrame is highly fragmented.  This is usually the result of calling `frame.insert` many times, which has poor performance.  Consider joining all columns at once using pd.concat(axis=1) instead. To get a de-fragmented frame, use `newframe = frame.copy()`\n",
      "  data[data_quartile] = np.where(data[col] > upper_limit, upper_limit, data[col])\n",
      "C:\\Users\\Admin\\AppData\\Local\\Temp\\ipykernel_40652\\3486996870.py:9: PerformanceWarning: DataFrame is highly fragmented.  This is usually the result of calling `frame.insert` many times, which has poor performance.  Consider joining all columns at once using pd.concat(axis=1) instead. To get a de-fragmented frame, use `newframe = frame.copy()`\n",
      "  data[data_quartile] = np.where(data[col] > upper_limit, upper_limit, data[col])\n",
      "C:\\Users\\Admin\\AppData\\Local\\Temp\\ipykernel_40652\\3486996870.py:9: PerformanceWarning: DataFrame is highly fragmented.  This is usually the result of calling `frame.insert` many times, which has poor performance.  Consider joining all columns at once using pd.concat(axis=1) instead. To get a de-fragmented frame, use `newframe = frame.copy()`\n",
      "  data[data_quartile] = np.where(data[col] > upper_limit, upper_limit, data[col])\n",
      "C:\\Users\\Admin\\AppData\\Local\\Temp\\ipykernel_40652\\3486996870.py:9: PerformanceWarning: DataFrame is highly fragmented.  This is usually the result of calling `frame.insert` many times, which has poor performance.  Consider joining all columns at once using pd.concat(axis=1) instead. To get a de-fragmented frame, use `newframe = frame.copy()`\n",
      "  data[data_quartile] = np.where(data[col] > upper_limit, upper_limit, data[col])\n",
      "C:\\Users\\Admin\\AppData\\Local\\Temp\\ipykernel_40652\\3486996870.py:9: PerformanceWarning: DataFrame is highly fragmented.  This is usually the result of calling `frame.insert` many times, which has poor performance.  Consider joining all columns at once using pd.concat(axis=1) instead. To get a de-fragmented frame, use `newframe = frame.copy()`\n",
      "  data[data_quartile] = np.where(data[col] > upper_limit, upper_limit, data[col])\n",
      "C:\\Users\\Admin\\AppData\\Local\\Temp\\ipykernel_40652\\3486996870.py:9: PerformanceWarning: DataFrame is highly fragmented.  This is usually the result of calling `frame.insert` many times, which has poor performance.  Consider joining all columns at once using pd.concat(axis=1) instead. To get a de-fragmented frame, use `newframe = frame.copy()`\n",
      "  data[data_quartile] = np.where(data[col] > upper_limit, upper_limit, data[col])\n",
      "C:\\Users\\Admin\\AppData\\Local\\Temp\\ipykernel_40652\\3486996870.py:9: PerformanceWarning: DataFrame is highly fragmented.  This is usually the result of calling `frame.insert` many times, which has poor performance.  Consider joining all columns at once using pd.concat(axis=1) instead. To get a de-fragmented frame, use `newframe = frame.copy()`\n",
      "  data[data_quartile] = np.where(data[col] > upper_limit, upper_limit, data[col])\n",
      "C:\\Users\\Admin\\AppData\\Local\\Temp\\ipykernel_40652\\3486996870.py:9: PerformanceWarning: DataFrame is highly fragmented.  This is usually the result of calling `frame.insert` many times, which has poor performance.  Consider joining all columns at once using pd.concat(axis=1) instead. To get a de-fragmented frame, use `newframe = frame.copy()`\n",
      "  data[data_quartile] = np.where(data[col] > upper_limit, upper_limit, data[col])\n",
      "C:\\Users\\Admin\\AppData\\Local\\Temp\\ipykernel_40652\\3486996870.py:9: PerformanceWarning: DataFrame is highly fragmented.  This is usually the result of calling `frame.insert` many times, which has poor performance.  Consider joining all columns at once using pd.concat(axis=1) instead. To get a de-fragmented frame, use `newframe = frame.copy()`\n",
      "  data[data_quartile] = np.where(data[col] > upper_limit, upper_limit, data[col])\n",
      "C:\\Users\\Admin\\AppData\\Local\\Temp\\ipykernel_40652\\3486996870.py:9: PerformanceWarning: DataFrame is highly fragmented.  This is usually the result of calling `frame.insert` many times, which has poor performance.  Consider joining all columns at once using pd.concat(axis=1) instead. To get a de-fragmented frame, use `newframe = frame.copy()`\n",
      "  data[data_quartile] = np.where(data[col] > upper_limit, upper_limit, data[col])\n",
      "C:\\Users\\Admin\\AppData\\Local\\Temp\\ipykernel_40652\\3486996870.py:9: PerformanceWarning: DataFrame is highly fragmented.  This is usually the result of calling `frame.insert` many times, which has poor performance.  Consider joining all columns at once using pd.concat(axis=1) instead. To get a de-fragmented frame, use `newframe = frame.copy()`\n",
      "  data[data_quartile] = np.where(data[col] > upper_limit, upper_limit, data[col])\n",
      "C:\\Users\\Admin\\AppData\\Local\\Temp\\ipykernel_40652\\3486996870.py:9: PerformanceWarning: DataFrame is highly fragmented.  This is usually the result of calling `frame.insert` many times, which has poor performance.  Consider joining all columns at once using pd.concat(axis=1) instead. To get a de-fragmented frame, use `newframe = frame.copy()`\n",
      "  data[data_quartile] = np.where(data[col] > upper_limit, upper_limit, data[col])\n",
      "C:\\Users\\Admin\\AppData\\Local\\Temp\\ipykernel_40652\\3486996870.py:9: PerformanceWarning: DataFrame is highly fragmented.  This is usually the result of calling `frame.insert` many times, which has poor performance.  Consider joining all columns at once using pd.concat(axis=1) instead. To get a de-fragmented frame, use `newframe = frame.copy()`\n",
      "  data[data_quartile] = np.where(data[col] > upper_limit, upper_limit, data[col])\n",
      "C:\\Users\\Admin\\AppData\\Local\\Temp\\ipykernel_40652\\3486996870.py:9: PerformanceWarning: DataFrame is highly fragmented.  This is usually the result of calling `frame.insert` many times, which has poor performance.  Consider joining all columns at once using pd.concat(axis=1) instead. To get a de-fragmented frame, use `newframe = frame.copy()`\n",
      "  data[data_quartile] = np.where(data[col] > upper_limit, upper_limit, data[col])\n",
      "C:\\Users\\Admin\\AppData\\Local\\Temp\\ipykernel_40652\\3486996870.py:9: PerformanceWarning: DataFrame is highly fragmented.  This is usually the result of calling `frame.insert` many times, which has poor performance.  Consider joining all columns at once using pd.concat(axis=1) instead. To get a de-fragmented frame, use `newframe = frame.copy()`\n",
      "  data[data_quartile] = np.where(data[col] > upper_limit, upper_limit, data[col])\n",
      "C:\\Users\\Admin\\AppData\\Local\\Temp\\ipykernel_40652\\3486996870.py:9: PerformanceWarning: DataFrame is highly fragmented.  This is usually the result of calling `frame.insert` many times, which has poor performance.  Consider joining all columns at once using pd.concat(axis=1) instead. To get a de-fragmented frame, use `newframe = frame.copy()`\n",
      "  data[data_quartile] = np.where(data[col] > upper_limit, upper_limit, data[col])\n",
      "C:\\Users\\Admin\\AppData\\Local\\Temp\\ipykernel_40652\\3486996870.py:9: PerformanceWarning: DataFrame is highly fragmented.  This is usually the result of calling `frame.insert` many times, which has poor performance.  Consider joining all columns at once using pd.concat(axis=1) instead. To get a de-fragmented frame, use `newframe = frame.copy()`\n",
      "  data[data_quartile] = np.where(data[col] > upper_limit, upper_limit, data[col])\n",
      "C:\\Users\\Admin\\AppData\\Local\\Temp\\ipykernel_40652\\3486996870.py:9: PerformanceWarning: DataFrame is highly fragmented.  This is usually the result of calling `frame.insert` many times, which has poor performance.  Consider joining all columns at once using pd.concat(axis=1) instead. To get a de-fragmented frame, use `newframe = frame.copy()`\n",
      "  data[data_quartile] = np.where(data[col] > upper_limit, upper_limit, data[col])\n",
      "C:\\Users\\Admin\\AppData\\Local\\Temp\\ipykernel_40652\\3486996870.py:9: PerformanceWarning: DataFrame is highly fragmented.  This is usually the result of calling `frame.insert` many times, which has poor performance.  Consider joining all columns at once using pd.concat(axis=1) instead. To get a de-fragmented frame, use `newframe = frame.copy()`\n",
      "  data[data_quartile] = np.where(data[col] > upper_limit, upper_limit, data[col])\n",
      "C:\\Users\\Admin\\AppData\\Local\\Temp\\ipykernel_40652\\3486996870.py:9: PerformanceWarning: DataFrame is highly fragmented.  This is usually the result of calling `frame.insert` many times, which has poor performance.  Consider joining all columns at once using pd.concat(axis=1) instead. To get a de-fragmented frame, use `newframe = frame.copy()`\n",
      "  data[data_quartile] = np.where(data[col] > upper_limit, upper_limit, data[col])\n",
      "C:\\Users\\Admin\\AppData\\Local\\Temp\\ipykernel_40652\\3486996870.py:9: PerformanceWarning: DataFrame is highly fragmented.  This is usually the result of calling `frame.insert` many times, which has poor performance.  Consider joining all columns at once using pd.concat(axis=1) instead. To get a de-fragmented frame, use `newframe = frame.copy()`\n",
      "  data[data_quartile] = np.where(data[col] > upper_limit, upper_limit, data[col])\n",
      "C:\\Users\\Admin\\AppData\\Local\\Temp\\ipykernel_40652\\3486996870.py:9: PerformanceWarning: DataFrame is highly fragmented.  This is usually the result of calling `frame.insert` many times, which has poor performance.  Consider joining all columns at once using pd.concat(axis=1) instead. To get a de-fragmented frame, use `newframe = frame.copy()`\n",
      "  data[data_quartile] = np.where(data[col] > upper_limit, upper_limit, data[col])\n",
      "C:\\Users\\Admin\\AppData\\Local\\Temp\\ipykernel_40652\\3486996870.py:9: PerformanceWarning: DataFrame is highly fragmented.  This is usually the result of calling `frame.insert` many times, which has poor performance.  Consider joining all columns at once using pd.concat(axis=1) instead. To get a de-fragmented frame, use `newframe = frame.copy()`\n",
      "  data[data_quartile] = np.where(data[col] > upper_limit, upper_limit, data[col])\n",
      "C:\\Users\\Admin\\AppData\\Local\\Temp\\ipykernel_40652\\3486996870.py:9: PerformanceWarning: DataFrame is highly fragmented.  This is usually the result of calling `frame.insert` many times, which has poor performance.  Consider joining all columns at once using pd.concat(axis=1) instead. To get a de-fragmented frame, use `newframe = frame.copy()`\n",
      "  data[data_quartile] = np.where(data[col] > upper_limit, upper_limit, data[col])\n",
      "C:\\Users\\Admin\\AppData\\Local\\Temp\\ipykernel_40652\\3486996870.py:9: PerformanceWarning: DataFrame is highly fragmented.  This is usually the result of calling `frame.insert` many times, which has poor performance.  Consider joining all columns at once using pd.concat(axis=1) instead. To get a de-fragmented frame, use `newframe = frame.copy()`\n",
      "  data[data_quartile] = np.where(data[col] > upper_limit, upper_limit, data[col])\n",
      "C:\\Users\\Admin\\AppData\\Local\\Temp\\ipykernel_40652\\3486996870.py:9: PerformanceWarning: DataFrame is highly fragmented.  This is usually the result of calling `frame.insert` many times, which has poor performance.  Consider joining all columns at once using pd.concat(axis=1) instead. To get a de-fragmented frame, use `newframe = frame.copy()`\n",
      "  data[data_quartile] = np.where(data[col] > upper_limit, upper_limit, data[col])\n",
      "C:\\Users\\Admin\\AppData\\Local\\Temp\\ipykernel_40652\\3486996870.py:9: PerformanceWarning: DataFrame is highly fragmented.  This is usually the result of calling `frame.insert` many times, which has poor performance.  Consider joining all columns at once using pd.concat(axis=1) instead. To get a de-fragmented frame, use `newframe = frame.copy()`\n",
      "  data[data_quartile] = np.where(data[col] > upper_limit, upper_limit, data[col])\n",
      "C:\\Users\\Admin\\AppData\\Local\\Temp\\ipykernel_40652\\3486996870.py:9: PerformanceWarning: DataFrame is highly fragmented.  This is usually the result of calling `frame.insert` many times, which has poor performance.  Consider joining all columns at once using pd.concat(axis=1) instead. To get a de-fragmented frame, use `newframe = frame.copy()`\n",
      "  data[data_quartile] = np.where(data[col] > upper_limit, upper_limit, data[col])\n",
      "C:\\Users\\Admin\\AppData\\Local\\Temp\\ipykernel_40652\\3486996870.py:9: PerformanceWarning: DataFrame is highly fragmented.  This is usually the result of calling `frame.insert` many times, which has poor performance.  Consider joining all columns at once using pd.concat(axis=1) instead. To get a de-fragmented frame, use `newframe = frame.copy()`\n",
      "  data[data_quartile] = np.where(data[col] > upper_limit, upper_limit, data[col])\n",
      "C:\\Users\\Admin\\AppData\\Local\\Temp\\ipykernel_40652\\3486996870.py:9: PerformanceWarning: DataFrame is highly fragmented.  This is usually the result of calling `frame.insert` many times, which has poor performance.  Consider joining all columns at once using pd.concat(axis=1) instead. To get a de-fragmented frame, use `newframe = frame.copy()`\n",
      "  data[data_quartile] = np.where(data[col] > upper_limit, upper_limit, data[col])\n",
      "C:\\Users\\Admin\\AppData\\Local\\Temp\\ipykernel_40652\\3486996870.py:9: PerformanceWarning: DataFrame is highly fragmented.  This is usually the result of calling `frame.insert` many times, which has poor performance.  Consider joining all columns at once using pd.concat(axis=1) instead. To get a de-fragmented frame, use `newframe = frame.copy()`\n",
      "  data[data_quartile] = np.where(data[col] > upper_limit, upper_limit, data[col])\n",
      "C:\\Users\\Admin\\AppData\\Local\\Temp\\ipykernel_40652\\3486996870.py:9: PerformanceWarning: DataFrame is highly fragmented.  This is usually the result of calling `frame.insert` many times, which has poor performance.  Consider joining all columns at once using pd.concat(axis=1) instead. To get a de-fragmented frame, use `newframe = frame.copy()`\n",
      "  data[data_quartile] = np.where(data[col] > upper_limit, upper_limit, data[col])\n",
      "C:\\Users\\Admin\\AppData\\Local\\Temp\\ipykernel_40652\\3486996870.py:9: PerformanceWarning: DataFrame is highly fragmented.  This is usually the result of calling `frame.insert` many times, which has poor performance.  Consider joining all columns at once using pd.concat(axis=1) instead. To get a de-fragmented frame, use `newframe = frame.copy()`\n",
      "  data[data_quartile] = np.where(data[col] > upper_limit, upper_limit, data[col])\n",
      "C:\\Users\\Admin\\AppData\\Local\\Temp\\ipykernel_40652\\3486996870.py:9: PerformanceWarning: DataFrame is highly fragmented.  This is usually the result of calling `frame.insert` many times, which has poor performance.  Consider joining all columns at once using pd.concat(axis=1) instead. To get a de-fragmented frame, use `newframe = frame.copy()`\n",
      "  data[data_quartile] = np.where(data[col] > upper_limit, upper_limit, data[col])\n",
      "C:\\Users\\Admin\\AppData\\Local\\Temp\\ipykernel_40652\\3486996870.py:9: PerformanceWarning: DataFrame is highly fragmented.  This is usually the result of calling `frame.insert` many times, which has poor performance.  Consider joining all columns at once using pd.concat(axis=1) instead. To get a de-fragmented frame, use `newframe = frame.copy()`\n",
      "  data[data_quartile] = np.where(data[col] > upper_limit, upper_limit, data[col])\n",
      "C:\\Users\\Admin\\AppData\\Local\\Temp\\ipykernel_40652\\3486996870.py:9: PerformanceWarning: DataFrame is highly fragmented.  This is usually the result of calling `frame.insert` many times, which has poor performance.  Consider joining all columns at once using pd.concat(axis=1) instead. To get a de-fragmented frame, use `newframe = frame.copy()`\n",
      "  data[data_quartile] = np.where(data[col] > upper_limit, upper_limit, data[col])\n",
      "C:\\Users\\Admin\\AppData\\Local\\Temp\\ipykernel_40652\\3486996870.py:9: PerformanceWarning: DataFrame is highly fragmented.  This is usually the result of calling `frame.insert` many times, which has poor performance.  Consider joining all columns at once using pd.concat(axis=1) instead. To get a de-fragmented frame, use `newframe = frame.copy()`\n",
      "  data[data_quartile] = np.where(data[col] > upper_limit, upper_limit, data[col])\n",
      "C:\\Users\\Admin\\AppData\\Local\\Temp\\ipykernel_40652\\3486996870.py:9: PerformanceWarning: DataFrame is highly fragmented.  This is usually the result of calling `frame.insert` many times, which has poor performance.  Consider joining all columns at once using pd.concat(axis=1) instead. To get a de-fragmented frame, use `newframe = frame.copy()`\n",
      "  data[data_quartile] = np.where(data[col] > upper_limit, upper_limit, data[col])\n",
      "C:\\Users\\Admin\\AppData\\Local\\Temp\\ipykernel_40652\\3486996870.py:9: PerformanceWarning: DataFrame is highly fragmented.  This is usually the result of calling `frame.insert` many times, which has poor performance.  Consider joining all columns at once using pd.concat(axis=1) instead. To get a de-fragmented frame, use `newframe = frame.copy()`\n",
      "  data[data_quartile] = np.where(data[col] > upper_limit, upper_limit, data[col])\n",
      "C:\\Users\\Admin\\AppData\\Local\\Temp\\ipykernel_40652\\3486996870.py:9: PerformanceWarning: DataFrame is highly fragmented.  This is usually the result of calling `frame.insert` many times, which has poor performance.  Consider joining all columns at once using pd.concat(axis=1) instead. To get a de-fragmented frame, use `newframe = frame.copy()`\n",
      "  data[data_quartile] = np.where(data[col] > upper_limit, upper_limit, data[col])\n",
      "C:\\Users\\Admin\\AppData\\Local\\Temp\\ipykernel_40652\\3486996870.py:9: PerformanceWarning: DataFrame is highly fragmented.  This is usually the result of calling `frame.insert` many times, which has poor performance.  Consider joining all columns at once using pd.concat(axis=1) instead. To get a de-fragmented frame, use `newframe = frame.copy()`\n",
      "  data[data_quartile] = np.where(data[col] > upper_limit, upper_limit, data[col])\n",
      "C:\\Users\\Admin\\AppData\\Local\\Temp\\ipykernel_40652\\3486996870.py:9: PerformanceWarning: DataFrame is highly fragmented.  This is usually the result of calling `frame.insert` many times, which has poor performance.  Consider joining all columns at once using pd.concat(axis=1) instead. To get a de-fragmented frame, use `newframe = frame.copy()`\n",
      "  data[data_quartile] = np.where(data[col] > upper_limit, upper_limit, data[col])\n",
      "C:\\Users\\Admin\\AppData\\Local\\Temp\\ipykernel_40652\\3486996870.py:9: PerformanceWarning: DataFrame is highly fragmented.  This is usually the result of calling `frame.insert` many times, which has poor performance.  Consider joining all columns at once using pd.concat(axis=1) instead. To get a de-fragmented frame, use `newframe = frame.copy()`\n",
      "  data[data_quartile] = np.where(data[col] > upper_limit, upper_limit, data[col])\n",
      "C:\\Users\\Admin\\AppData\\Local\\Temp\\ipykernel_40652\\3486996870.py:9: PerformanceWarning: DataFrame is highly fragmented.  This is usually the result of calling `frame.insert` many times, which has poor performance.  Consider joining all columns at once using pd.concat(axis=1) instead. To get a de-fragmented frame, use `newframe = frame.copy()`\n",
      "  data[data_quartile] = np.where(data[col] > upper_limit, upper_limit, data[col])\n",
      "C:\\Users\\Admin\\AppData\\Local\\Temp\\ipykernel_40652\\3486996870.py:9: PerformanceWarning: DataFrame is highly fragmented.  This is usually the result of calling `frame.insert` many times, which has poor performance.  Consider joining all columns at once using pd.concat(axis=1) instead. To get a de-fragmented frame, use `newframe = frame.copy()`\n",
      "  data[data_quartile] = np.where(data[col] > upper_limit, upper_limit, data[col])\n",
      "C:\\Users\\Admin\\AppData\\Local\\Temp\\ipykernel_40652\\3486996870.py:9: PerformanceWarning: DataFrame is highly fragmented.  This is usually the result of calling `frame.insert` many times, which has poor performance.  Consider joining all columns at once using pd.concat(axis=1) instead. To get a de-fragmented frame, use `newframe = frame.copy()`\n",
      "  data[data_quartile] = np.where(data[col] > upper_limit, upper_limit, data[col])\n",
      "C:\\Users\\Admin\\AppData\\Local\\Temp\\ipykernel_40652\\3486996870.py:9: PerformanceWarning: DataFrame is highly fragmented.  This is usually the result of calling `frame.insert` many times, which has poor performance.  Consider joining all columns at once using pd.concat(axis=1) instead. To get a de-fragmented frame, use `newframe = frame.copy()`\n",
      "  data[data_quartile] = np.where(data[col] > upper_limit, upper_limit, data[col])\n",
      "C:\\Users\\Admin\\AppData\\Local\\Temp\\ipykernel_40652\\3486996870.py:9: PerformanceWarning: DataFrame is highly fragmented.  This is usually the result of calling `frame.insert` many times, which has poor performance.  Consider joining all columns at once using pd.concat(axis=1) instead. To get a de-fragmented frame, use `newframe = frame.copy()`\n",
      "  data[data_quartile] = np.where(data[col] > upper_limit, upper_limit, data[col])\n",
      "C:\\Users\\Admin\\AppData\\Local\\Temp\\ipykernel_40652\\3486996870.py:9: PerformanceWarning: DataFrame is highly fragmented.  This is usually the result of calling `frame.insert` many times, which has poor performance.  Consider joining all columns at once using pd.concat(axis=1) instead. To get a de-fragmented frame, use `newframe = frame.copy()`\n",
      "  data[data_quartile] = np.where(data[col] > upper_limit, upper_limit, data[col])\n",
      "C:\\Users\\Admin\\AppData\\Local\\Temp\\ipykernel_40652\\3486996870.py:9: PerformanceWarning: DataFrame is highly fragmented.  This is usually the result of calling `frame.insert` many times, which has poor performance.  Consider joining all columns at once using pd.concat(axis=1) instead. To get a de-fragmented frame, use `newframe = frame.copy()`\n",
      "  data[data_quartile] = np.where(data[col] > upper_limit, upper_limit, data[col])\n",
      "C:\\Users\\Admin\\AppData\\Local\\Temp\\ipykernel_40652\\3486996870.py:9: PerformanceWarning: DataFrame is highly fragmented.  This is usually the result of calling `frame.insert` many times, which has poor performance.  Consider joining all columns at once using pd.concat(axis=1) instead. To get a de-fragmented frame, use `newframe = frame.copy()`\n",
      "  data[data_quartile] = np.where(data[col] > upper_limit, upper_limit, data[col])\n",
      "C:\\Users\\Admin\\AppData\\Local\\Temp\\ipykernel_40652\\3486996870.py:9: PerformanceWarning: DataFrame is highly fragmented.  This is usually the result of calling `frame.insert` many times, which has poor performance.  Consider joining all columns at once using pd.concat(axis=1) instead. To get a de-fragmented frame, use `newframe = frame.copy()`\n",
      "  data[data_quartile] = np.where(data[col] > upper_limit, upper_limit, data[col])\n",
      "C:\\Users\\Admin\\AppData\\Local\\Temp\\ipykernel_40652\\3486996870.py:9: PerformanceWarning: DataFrame is highly fragmented.  This is usually the result of calling `frame.insert` many times, which has poor performance.  Consider joining all columns at once using pd.concat(axis=1) instead. To get a de-fragmented frame, use `newframe = frame.copy()`\n",
      "  data[data_quartile] = np.where(data[col] > upper_limit, upper_limit, data[col])\n",
      "C:\\Users\\Admin\\AppData\\Local\\Temp\\ipykernel_40652\\3486996870.py:9: PerformanceWarning: DataFrame is highly fragmented.  This is usually the result of calling `frame.insert` many times, which has poor performance.  Consider joining all columns at once using pd.concat(axis=1) instead. To get a de-fragmented frame, use `newframe = frame.copy()`\n",
      "  data[data_quartile] = np.where(data[col] > upper_limit, upper_limit, data[col])\n",
      "C:\\Users\\Admin\\AppData\\Local\\Temp\\ipykernel_40652\\3486996870.py:9: PerformanceWarning: DataFrame is highly fragmented.  This is usually the result of calling `frame.insert` many times, which has poor performance.  Consider joining all columns at once using pd.concat(axis=1) instead. To get a de-fragmented frame, use `newframe = frame.copy()`\n",
      "  data[data_quartile] = np.where(data[col] > upper_limit, upper_limit, data[col])\n",
      "C:\\Users\\Admin\\AppData\\Local\\Temp\\ipykernel_40652\\3486996870.py:9: PerformanceWarning: DataFrame is highly fragmented.  This is usually the result of calling `frame.insert` many times, which has poor performance.  Consider joining all columns at once using pd.concat(axis=1) instead. To get a de-fragmented frame, use `newframe = frame.copy()`\n",
      "  data[data_quartile] = np.where(data[col] > upper_limit, upper_limit, data[col])\n",
      "C:\\Users\\Admin\\AppData\\Local\\Temp\\ipykernel_40652\\3486996870.py:9: PerformanceWarning: DataFrame is highly fragmented.  This is usually the result of calling `frame.insert` many times, which has poor performance.  Consider joining all columns at once using pd.concat(axis=1) instead. To get a de-fragmented frame, use `newframe = frame.copy()`\n",
      "  data[data_quartile] = np.where(data[col] > upper_limit, upper_limit, data[col])\n",
      "C:\\Users\\Admin\\AppData\\Local\\Temp\\ipykernel_40652\\3486996870.py:9: PerformanceWarning: DataFrame is highly fragmented.  This is usually the result of calling `frame.insert` many times, which has poor performance.  Consider joining all columns at once using pd.concat(axis=1) instead. To get a de-fragmented frame, use `newframe = frame.copy()`\n",
      "  data[data_quartile] = np.where(data[col] > upper_limit, upper_limit, data[col])\n",
      "C:\\Users\\Admin\\AppData\\Local\\Temp\\ipykernel_40652\\3486996870.py:9: PerformanceWarning: DataFrame is highly fragmented.  This is usually the result of calling `frame.insert` many times, which has poor performance.  Consider joining all columns at once using pd.concat(axis=1) instead. To get a de-fragmented frame, use `newframe = frame.copy()`\n",
      "  data[data_quartile] = np.where(data[col] > upper_limit, upper_limit, data[col])\n",
      "C:\\Users\\Admin\\AppData\\Local\\Temp\\ipykernel_40652\\3486996870.py:9: PerformanceWarning: DataFrame is highly fragmented.  This is usually the result of calling `frame.insert` many times, which has poor performance.  Consider joining all columns at once using pd.concat(axis=1) instead. To get a de-fragmented frame, use `newframe = frame.copy()`\n",
      "  data[data_quartile] = np.where(data[col] > upper_limit, upper_limit, data[col])\n",
      "C:\\Users\\Admin\\AppData\\Local\\Temp\\ipykernel_40652\\3486996870.py:9: PerformanceWarning: DataFrame is highly fragmented.  This is usually the result of calling `frame.insert` many times, which has poor performance.  Consider joining all columns at once using pd.concat(axis=1) instead. To get a de-fragmented frame, use `newframe = frame.copy()`\n",
      "  data[data_quartile] = np.where(data[col] > upper_limit, upper_limit, data[col])\n",
      "C:\\Users\\Admin\\AppData\\Local\\Temp\\ipykernel_40652\\3486996870.py:9: PerformanceWarning: DataFrame is highly fragmented.  This is usually the result of calling `frame.insert` many times, which has poor performance.  Consider joining all columns at once using pd.concat(axis=1) instead. To get a de-fragmented frame, use `newframe = frame.copy()`\n",
      "  data[data_quartile] = np.where(data[col] > upper_limit, upper_limit, data[col])\n",
      "C:\\Users\\Admin\\AppData\\Local\\Temp\\ipykernel_40652\\3486996870.py:9: PerformanceWarning: DataFrame is highly fragmented.  This is usually the result of calling `frame.insert` many times, which has poor performance.  Consider joining all columns at once using pd.concat(axis=1) instead. To get a de-fragmented frame, use `newframe = frame.copy()`\n",
      "  data[data_quartile] = np.where(data[col] > upper_limit, upper_limit, data[col])\n",
      "C:\\Users\\Admin\\AppData\\Local\\Temp\\ipykernel_40652\\3486996870.py:9: PerformanceWarning: DataFrame is highly fragmented.  This is usually the result of calling `frame.insert` many times, which has poor performance.  Consider joining all columns at once using pd.concat(axis=1) instead. To get a de-fragmented frame, use `newframe = frame.copy()`\n",
      "  data[data_quartile] = np.where(data[col] > upper_limit, upper_limit, data[col])\n",
      "C:\\Users\\Admin\\AppData\\Local\\Temp\\ipykernel_40652\\3486996870.py:9: PerformanceWarning: DataFrame is highly fragmented.  This is usually the result of calling `frame.insert` many times, which has poor performance.  Consider joining all columns at once using pd.concat(axis=1) instead. To get a de-fragmented frame, use `newframe = frame.copy()`\n",
      "  data[data_quartile] = np.where(data[col] > upper_limit, upper_limit, data[col])\n",
      "C:\\Users\\Admin\\AppData\\Local\\Temp\\ipykernel_40652\\3486996870.py:9: PerformanceWarning: DataFrame is highly fragmented.  This is usually the result of calling `frame.insert` many times, which has poor performance.  Consider joining all columns at once using pd.concat(axis=1) instead. To get a de-fragmented frame, use `newframe = frame.copy()`\n",
      "  data[data_quartile] = np.where(data[col] > upper_limit, upper_limit, data[col])\n",
      "C:\\Users\\Admin\\AppData\\Local\\Temp\\ipykernel_40652\\3486996870.py:9: PerformanceWarning: DataFrame is highly fragmented.  This is usually the result of calling `frame.insert` many times, which has poor performance.  Consider joining all columns at once using pd.concat(axis=1) instead. To get a de-fragmented frame, use `newframe = frame.copy()`\n",
      "  data[data_quartile] = np.where(data[col] > upper_limit, upper_limit, data[col])\n",
      "C:\\Users\\Admin\\AppData\\Local\\Temp\\ipykernel_40652\\3486996870.py:9: PerformanceWarning: DataFrame is highly fragmented.  This is usually the result of calling `frame.insert` many times, which has poor performance.  Consider joining all columns at once using pd.concat(axis=1) instead. To get a de-fragmented frame, use `newframe = frame.copy()`\n",
      "  data[data_quartile] = np.where(data[col] > upper_limit, upper_limit, data[col])\n",
      "C:\\Users\\Admin\\AppData\\Local\\Temp\\ipykernel_40652\\3486996870.py:9: PerformanceWarning: DataFrame is highly fragmented.  This is usually the result of calling `frame.insert` many times, which has poor performance.  Consider joining all columns at once using pd.concat(axis=1) instead. To get a de-fragmented frame, use `newframe = frame.copy()`\n",
      "  data[data_quartile] = np.where(data[col] > upper_limit, upper_limit, data[col])\n",
      "C:\\Users\\Admin\\AppData\\Local\\Temp\\ipykernel_40652\\3486996870.py:9: PerformanceWarning: DataFrame is highly fragmented.  This is usually the result of calling `frame.insert` many times, which has poor performance.  Consider joining all columns at once using pd.concat(axis=1) instead. To get a de-fragmented frame, use `newframe = frame.copy()`\n",
      "  data[data_quartile] = np.where(data[col] > upper_limit, upper_limit, data[col])\n",
      "C:\\Users\\Admin\\AppData\\Local\\Temp\\ipykernel_40652\\3486996870.py:9: PerformanceWarning: DataFrame is highly fragmented.  This is usually the result of calling `frame.insert` many times, which has poor performance.  Consider joining all columns at once using pd.concat(axis=1) instead. To get a de-fragmented frame, use `newframe = frame.copy()`\n",
      "  data[data_quartile] = np.where(data[col] > upper_limit, upper_limit, data[col])\n",
      "C:\\Users\\Admin\\AppData\\Local\\Temp\\ipykernel_40652\\3486996870.py:9: PerformanceWarning: DataFrame is highly fragmented.  This is usually the result of calling `frame.insert` many times, which has poor performance.  Consider joining all columns at once using pd.concat(axis=1) instead. To get a de-fragmented frame, use `newframe = frame.copy()`\n",
      "  data[data_quartile] = np.where(data[col] > upper_limit, upper_limit, data[col])\n",
      "C:\\Users\\Admin\\AppData\\Local\\Temp\\ipykernel_40652\\3486996870.py:9: PerformanceWarning: DataFrame is highly fragmented.  This is usually the result of calling `frame.insert` many times, which has poor performance.  Consider joining all columns at once using pd.concat(axis=1) instead. To get a de-fragmented frame, use `newframe = frame.copy()`\n",
      "  data[data_quartile] = np.where(data[col] > upper_limit, upper_limit, data[col])\n",
      "C:\\Users\\Admin\\AppData\\Local\\Temp\\ipykernel_40652\\3486996870.py:9: PerformanceWarning: DataFrame is highly fragmented.  This is usually the result of calling `frame.insert` many times, which has poor performance.  Consider joining all columns at once using pd.concat(axis=1) instead. To get a de-fragmented frame, use `newframe = frame.copy()`\n",
      "  data[data_quartile] = np.where(data[col] > upper_limit, upper_limit, data[col])\n",
      "C:\\Users\\Admin\\AppData\\Local\\Temp\\ipykernel_40652\\3486996870.py:9: PerformanceWarning: DataFrame is highly fragmented.  This is usually the result of calling `frame.insert` many times, which has poor performance.  Consider joining all columns at once using pd.concat(axis=1) instead. To get a de-fragmented frame, use `newframe = frame.copy()`\n",
      "  data[data_quartile] = np.where(data[col] > upper_limit, upper_limit, data[col])\n",
      "C:\\Users\\Admin\\AppData\\Local\\Temp\\ipykernel_40652\\3486996870.py:9: PerformanceWarning: DataFrame is highly fragmented.  This is usually the result of calling `frame.insert` many times, which has poor performance.  Consider joining all columns at once using pd.concat(axis=1) instead. To get a de-fragmented frame, use `newframe = frame.copy()`\n",
      "  data[data_quartile] = np.where(data[col] > upper_limit, upper_limit, data[col])\n",
      "C:\\Users\\Admin\\AppData\\Local\\Temp\\ipykernel_40652\\3486996870.py:9: PerformanceWarning: DataFrame is highly fragmented.  This is usually the result of calling `frame.insert` many times, which has poor performance.  Consider joining all columns at once using pd.concat(axis=1) instead. To get a de-fragmented frame, use `newframe = frame.copy()`\n",
      "  data[data_quartile] = np.where(data[col] > upper_limit, upper_limit, data[col])\n",
      "C:\\Users\\Admin\\AppData\\Local\\Temp\\ipykernel_40652\\3486996870.py:9: PerformanceWarning: DataFrame is highly fragmented.  This is usually the result of calling `frame.insert` many times, which has poor performance.  Consider joining all columns at once using pd.concat(axis=1) instead. To get a de-fragmented frame, use `newframe = frame.copy()`\n",
      "  data[data_quartile] = np.where(data[col] > upper_limit, upper_limit, data[col])\n",
      "C:\\Users\\Admin\\AppData\\Local\\Temp\\ipykernel_40652\\3486996870.py:9: PerformanceWarning: DataFrame is highly fragmented.  This is usually the result of calling `frame.insert` many times, which has poor performance.  Consider joining all columns at once using pd.concat(axis=1) instead. To get a de-fragmented frame, use `newframe = frame.copy()`\n",
      "  data[data_quartile] = np.where(data[col] > upper_limit, upper_limit, data[col])\n",
      "C:\\Users\\Admin\\AppData\\Local\\Temp\\ipykernel_40652\\3486996870.py:9: PerformanceWarning: DataFrame is highly fragmented.  This is usually the result of calling `frame.insert` many times, which has poor performance.  Consider joining all columns at once using pd.concat(axis=1) instead. To get a de-fragmented frame, use `newframe = frame.copy()`\n",
      "  data[data_quartile] = np.where(data[col] > upper_limit, upper_limit, data[col])\n",
      "C:\\Users\\Admin\\AppData\\Local\\Temp\\ipykernel_40652\\3486996870.py:9: PerformanceWarning: DataFrame is highly fragmented.  This is usually the result of calling `frame.insert` many times, which has poor performance.  Consider joining all columns at once using pd.concat(axis=1) instead. To get a de-fragmented frame, use `newframe = frame.copy()`\n",
      "  data[data_quartile] = np.where(data[col] > upper_limit, upper_limit, data[col])\n",
      "C:\\Users\\Admin\\AppData\\Local\\Temp\\ipykernel_40652\\3486996870.py:9: PerformanceWarning: DataFrame is highly fragmented.  This is usually the result of calling `frame.insert` many times, which has poor performance.  Consider joining all columns at once using pd.concat(axis=1) instead. To get a de-fragmented frame, use `newframe = frame.copy()`\n",
      "  data[data_quartile] = np.where(data[col] > upper_limit, upper_limit, data[col])\n",
      "C:\\Users\\Admin\\AppData\\Local\\Temp\\ipykernel_40652\\3486996870.py:9: PerformanceWarning: DataFrame is highly fragmented.  This is usually the result of calling `frame.insert` many times, which has poor performance.  Consider joining all columns at once using pd.concat(axis=1) instead. To get a de-fragmented frame, use `newframe = frame.copy()`\n",
      "  data[data_quartile] = np.where(data[col] > upper_limit, upper_limit, data[col])\n",
      "C:\\Users\\Admin\\AppData\\Local\\Temp\\ipykernel_40652\\3486996870.py:9: PerformanceWarning: DataFrame is highly fragmented.  This is usually the result of calling `frame.insert` many times, which has poor performance.  Consider joining all columns at once using pd.concat(axis=1) instead. To get a de-fragmented frame, use `newframe = frame.copy()`\n",
      "  data[data_quartile] = np.where(data[col] > upper_limit, upper_limit, data[col])\n",
      "C:\\Users\\Admin\\AppData\\Local\\Temp\\ipykernel_40652\\3486996870.py:9: PerformanceWarning: DataFrame is highly fragmented.  This is usually the result of calling `frame.insert` many times, which has poor performance.  Consider joining all columns at once using pd.concat(axis=1) instead. To get a de-fragmented frame, use `newframe = frame.copy()`\n",
      "  data[data_quartile] = np.where(data[col] > upper_limit, upper_limit, data[col])\n",
      "C:\\Users\\Admin\\AppData\\Local\\Temp\\ipykernel_40652\\3486996870.py:9: PerformanceWarning: DataFrame is highly fragmented.  This is usually the result of calling `frame.insert` many times, which has poor performance.  Consider joining all columns at once using pd.concat(axis=1) instead. To get a de-fragmented frame, use `newframe = frame.copy()`\n",
      "  data[data_quartile] = np.where(data[col] > upper_limit, upper_limit, data[col])\n",
      "C:\\Users\\Admin\\AppData\\Local\\Temp\\ipykernel_40652\\3486996870.py:9: PerformanceWarning: DataFrame is highly fragmented.  This is usually the result of calling `frame.insert` many times, which has poor performance.  Consider joining all columns at once using pd.concat(axis=1) instead. To get a de-fragmented frame, use `newframe = frame.copy()`\n",
      "  data[data_quartile] = np.where(data[col] > upper_limit, upper_limit, data[col])\n",
      "C:\\Users\\Admin\\AppData\\Local\\Temp\\ipykernel_40652\\3486996870.py:9: PerformanceWarning: DataFrame is highly fragmented.  This is usually the result of calling `frame.insert` many times, which has poor performance.  Consider joining all columns at once using pd.concat(axis=1) instead. To get a de-fragmented frame, use `newframe = frame.copy()`\n",
      "  data[data_quartile] = np.where(data[col] > upper_limit, upper_limit, data[col])\n",
      "C:\\Users\\Admin\\AppData\\Local\\Temp\\ipykernel_40652\\3486996870.py:9: PerformanceWarning: DataFrame is highly fragmented.  This is usually the result of calling `frame.insert` many times, which has poor performance.  Consider joining all columns at once using pd.concat(axis=1) instead. To get a de-fragmented frame, use `newframe = frame.copy()`\n",
      "  data[data_quartile] = np.where(data[col] > upper_limit, upper_limit, data[col])\n",
      "C:\\Users\\Admin\\AppData\\Local\\Temp\\ipykernel_40652\\3486996870.py:9: PerformanceWarning: DataFrame is highly fragmented.  This is usually the result of calling `frame.insert` many times, which has poor performance.  Consider joining all columns at once using pd.concat(axis=1) instead. To get a de-fragmented frame, use `newframe = frame.copy()`\n",
      "  data[data_quartile] = np.where(data[col] > upper_limit, upper_limit, data[col])\n",
      "C:\\Users\\Admin\\AppData\\Local\\Temp\\ipykernel_40652\\3486996870.py:9: PerformanceWarning: DataFrame is highly fragmented.  This is usually the result of calling `frame.insert` many times, which has poor performance.  Consider joining all columns at once using pd.concat(axis=1) instead. To get a de-fragmented frame, use `newframe = frame.copy()`\n",
      "  data[data_quartile] = np.where(data[col] > upper_limit, upper_limit, data[col])\n",
      "C:\\Users\\Admin\\AppData\\Local\\Temp\\ipykernel_40652\\3486996870.py:9: PerformanceWarning: DataFrame is highly fragmented.  This is usually the result of calling `frame.insert` many times, which has poor performance.  Consider joining all columns at once using pd.concat(axis=1) instead. To get a de-fragmented frame, use `newframe = frame.copy()`\n",
      "  data[data_quartile] = np.where(data[col] > upper_limit, upper_limit, data[col])\n",
      "C:\\Users\\Admin\\AppData\\Local\\Temp\\ipykernel_40652\\3486996870.py:9: PerformanceWarning: DataFrame is highly fragmented.  This is usually the result of calling `frame.insert` many times, which has poor performance.  Consider joining all columns at once using pd.concat(axis=1) instead. To get a de-fragmented frame, use `newframe = frame.copy()`\n",
      "  data[data_quartile] = np.where(data[col] > upper_limit, upper_limit, data[col])\n",
      "C:\\Users\\Admin\\AppData\\Local\\Temp\\ipykernel_40652\\3486996870.py:9: PerformanceWarning: DataFrame is highly fragmented.  This is usually the result of calling `frame.insert` many times, which has poor performance.  Consider joining all columns at once using pd.concat(axis=1) instead. To get a de-fragmented frame, use `newframe = frame.copy()`\n",
      "  data[data_quartile] = np.where(data[col] > upper_limit, upper_limit, data[col])\n",
      "C:\\Users\\Admin\\AppData\\Local\\Temp\\ipykernel_40652\\3486996870.py:9: PerformanceWarning: DataFrame is highly fragmented.  This is usually the result of calling `frame.insert` many times, which has poor performance.  Consider joining all columns at once using pd.concat(axis=1) instead. To get a de-fragmented frame, use `newframe = frame.copy()`\n",
      "  data[data_quartile] = np.where(data[col] > upper_limit, upper_limit, data[col])\n",
      "C:\\Users\\Admin\\AppData\\Local\\Temp\\ipykernel_40652\\3486996870.py:9: PerformanceWarning: DataFrame is highly fragmented.  This is usually the result of calling `frame.insert` many times, which has poor performance.  Consider joining all columns at once using pd.concat(axis=1) instead. To get a de-fragmented frame, use `newframe = frame.copy()`\n",
      "  data[data_quartile] = np.where(data[col] > upper_limit, upper_limit, data[col])\n",
      "C:\\Users\\Admin\\AppData\\Local\\Temp\\ipykernel_40652\\3486996870.py:9: PerformanceWarning: DataFrame is highly fragmented.  This is usually the result of calling `frame.insert` many times, which has poor performance.  Consider joining all columns at once using pd.concat(axis=1) instead. To get a de-fragmented frame, use `newframe = frame.copy()`\n",
      "  data[data_quartile] = np.where(data[col] > upper_limit, upper_limit, data[col])\n",
      "C:\\Users\\Admin\\AppData\\Local\\Temp\\ipykernel_40652\\3486996870.py:9: PerformanceWarning: DataFrame is highly fragmented.  This is usually the result of calling `frame.insert` many times, which has poor performance.  Consider joining all columns at once using pd.concat(axis=1) instead. To get a de-fragmented frame, use `newframe = frame.copy()`\n",
      "  data[data_quartile] = np.where(data[col] > upper_limit, upper_limit, data[col])\n",
      "C:\\Users\\Admin\\AppData\\Local\\Temp\\ipykernel_40652\\3486996870.py:9: PerformanceWarning: DataFrame is highly fragmented.  This is usually the result of calling `frame.insert` many times, which has poor performance.  Consider joining all columns at once using pd.concat(axis=1) instead. To get a de-fragmented frame, use `newframe = frame.copy()`\n",
      "  data[data_quartile] = np.where(data[col] > upper_limit, upper_limit, data[col])\n",
      "C:\\Users\\Admin\\AppData\\Local\\Temp\\ipykernel_40652\\3486996870.py:9: PerformanceWarning: DataFrame is highly fragmented.  This is usually the result of calling `frame.insert` many times, which has poor performance.  Consider joining all columns at once using pd.concat(axis=1) instead. To get a de-fragmented frame, use `newframe = frame.copy()`\n",
      "  data[data_quartile] = np.where(data[col] > upper_limit, upper_limit, data[col])\n",
      "C:\\Users\\Admin\\AppData\\Local\\Temp\\ipykernel_40652\\3486996870.py:9: PerformanceWarning: DataFrame is highly fragmented.  This is usually the result of calling `frame.insert` many times, which has poor performance.  Consider joining all columns at once using pd.concat(axis=1) instead. To get a de-fragmented frame, use `newframe = frame.copy()`\n",
      "  data[data_quartile] = np.where(data[col] > upper_limit, upper_limit, data[col])\n",
      "C:\\Users\\Admin\\AppData\\Local\\Temp\\ipykernel_40652\\3486996870.py:9: PerformanceWarning: DataFrame is highly fragmented.  This is usually the result of calling `frame.insert` many times, which has poor performance.  Consider joining all columns at once using pd.concat(axis=1) instead. To get a de-fragmented frame, use `newframe = frame.copy()`\n",
      "  data[data_quartile] = np.where(data[col] > upper_limit, upper_limit, data[col])\n",
      "C:\\Users\\Admin\\AppData\\Local\\Temp\\ipykernel_40652\\3486996870.py:9: PerformanceWarning: DataFrame is highly fragmented.  This is usually the result of calling `frame.insert` many times, which has poor performance.  Consider joining all columns at once using pd.concat(axis=1) instead. To get a de-fragmented frame, use `newframe = frame.copy()`\n",
      "  data[data_quartile] = np.where(data[col] > upper_limit, upper_limit, data[col])\n",
      "C:\\Users\\Admin\\AppData\\Local\\Temp\\ipykernel_40652\\3486996870.py:9: PerformanceWarning: DataFrame is highly fragmented.  This is usually the result of calling `frame.insert` many times, which has poor performance.  Consider joining all columns at once using pd.concat(axis=1) instead. To get a de-fragmented frame, use `newframe = frame.copy()`\n",
      "  data[data_quartile] = np.where(data[col] > upper_limit, upper_limit, data[col])\n",
      "C:\\Users\\Admin\\AppData\\Local\\Temp\\ipykernel_40652\\3486996870.py:9: PerformanceWarning: DataFrame is highly fragmented.  This is usually the result of calling `frame.insert` many times, which has poor performance.  Consider joining all columns at once using pd.concat(axis=1) instead. To get a de-fragmented frame, use `newframe = frame.copy()`\n",
      "  data[data_quartile] = np.where(data[col] > upper_limit, upper_limit, data[col])\n",
      "C:\\Users\\Admin\\AppData\\Local\\Temp\\ipykernel_40652\\3486996870.py:9: PerformanceWarning: DataFrame is highly fragmented.  This is usually the result of calling `frame.insert` many times, which has poor performance.  Consider joining all columns at once using pd.concat(axis=1) instead. To get a de-fragmented frame, use `newframe = frame.copy()`\n",
      "  data[data_quartile] = np.where(data[col] > upper_limit, upper_limit, data[col])\n",
      "C:\\Users\\Admin\\AppData\\Local\\Temp\\ipykernel_40652\\3486996870.py:9: PerformanceWarning: DataFrame is highly fragmented.  This is usually the result of calling `frame.insert` many times, which has poor performance.  Consider joining all columns at once using pd.concat(axis=1) instead. To get a de-fragmented frame, use `newframe = frame.copy()`\n",
      "  data[data_quartile] = np.where(data[col] > upper_limit, upper_limit, data[col])\n",
      "C:\\Users\\Admin\\AppData\\Local\\Temp\\ipykernel_40652\\3486996870.py:9: PerformanceWarning: DataFrame is highly fragmented.  This is usually the result of calling `frame.insert` many times, which has poor performance.  Consider joining all columns at once using pd.concat(axis=1) instead. To get a de-fragmented frame, use `newframe = frame.copy()`\n",
      "  data[data_quartile] = np.where(data[col] > upper_limit, upper_limit, data[col])\n",
      "C:\\Users\\Admin\\AppData\\Local\\Temp\\ipykernel_40652\\3486996870.py:9: PerformanceWarning: DataFrame is highly fragmented.  This is usually the result of calling `frame.insert` many times, which has poor performance.  Consider joining all columns at once using pd.concat(axis=1) instead. To get a de-fragmented frame, use `newframe = frame.copy()`\n",
      "  data[data_quartile] = np.where(data[col] > upper_limit, upper_limit, data[col])\n",
      "C:\\Users\\Admin\\AppData\\Local\\Temp\\ipykernel_40652\\3486996870.py:9: PerformanceWarning: DataFrame is highly fragmented.  This is usually the result of calling `frame.insert` many times, which has poor performance.  Consider joining all columns at once using pd.concat(axis=1) instead. To get a de-fragmented frame, use `newframe = frame.copy()`\n",
      "  data[data_quartile] = np.where(data[col] > upper_limit, upper_limit, data[col])\n",
      "C:\\Users\\Admin\\AppData\\Local\\Temp\\ipykernel_40652\\3486996870.py:9: PerformanceWarning: DataFrame is highly fragmented.  This is usually the result of calling `frame.insert` many times, which has poor performance.  Consider joining all columns at once using pd.concat(axis=1) instead. To get a de-fragmented frame, use `newframe = frame.copy()`\n",
      "  data[data_quartile] = np.where(data[col] > upper_limit, upper_limit, data[col])\n",
      "C:\\Users\\Admin\\AppData\\Local\\Temp\\ipykernel_40652\\3486996870.py:9: PerformanceWarning: DataFrame is highly fragmented.  This is usually the result of calling `frame.insert` many times, which has poor performance.  Consider joining all columns at once using pd.concat(axis=1) instead. To get a de-fragmented frame, use `newframe = frame.copy()`\n",
      "  data[data_quartile] = np.where(data[col] > upper_limit, upper_limit, data[col])\n",
      "C:\\Users\\Admin\\AppData\\Local\\Temp\\ipykernel_40652\\3486996870.py:9: PerformanceWarning: DataFrame is highly fragmented.  This is usually the result of calling `frame.insert` many times, which has poor performance.  Consider joining all columns at once using pd.concat(axis=1) instead. To get a de-fragmented frame, use `newframe = frame.copy()`\n",
      "  data[data_quartile] = np.where(data[col] > upper_limit, upper_limit, data[col])\n",
      "C:\\Users\\Admin\\AppData\\Local\\Temp\\ipykernel_40652\\3486996870.py:9: PerformanceWarning: DataFrame is highly fragmented.  This is usually the result of calling `frame.insert` many times, which has poor performance.  Consider joining all columns at once using pd.concat(axis=1) instead. To get a de-fragmented frame, use `newframe = frame.copy()`\n",
      "  data[data_quartile] = np.where(data[col] > upper_limit, upper_limit, data[col])\n",
      "C:\\Users\\Admin\\AppData\\Local\\Temp\\ipykernel_40652\\3486996870.py:9: PerformanceWarning: DataFrame is highly fragmented.  This is usually the result of calling `frame.insert` many times, which has poor performance.  Consider joining all columns at once using pd.concat(axis=1) instead. To get a de-fragmented frame, use `newframe = frame.copy()`\n",
      "  data[data_quartile] = np.where(data[col] > upper_limit, upper_limit, data[col])\n",
      "C:\\Users\\Admin\\AppData\\Local\\Temp\\ipykernel_40652\\3486996870.py:9: PerformanceWarning: DataFrame is highly fragmented.  This is usually the result of calling `frame.insert` many times, which has poor performance.  Consider joining all columns at once using pd.concat(axis=1) instead. To get a de-fragmented frame, use `newframe = frame.copy()`\n",
      "  data[data_quartile] = np.where(data[col] > upper_limit, upper_limit, data[col])\n",
      "C:\\Users\\Admin\\AppData\\Local\\Temp\\ipykernel_40652\\3486996870.py:9: PerformanceWarning: DataFrame is highly fragmented.  This is usually the result of calling `frame.insert` many times, which has poor performance.  Consider joining all columns at once using pd.concat(axis=1) instead. To get a de-fragmented frame, use `newframe = frame.copy()`\n",
      "  data[data_quartile] = np.where(data[col] > upper_limit, upper_limit, data[col])\n",
      "C:\\Users\\Admin\\AppData\\Local\\Temp\\ipykernel_40652\\3486996870.py:9: PerformanceWarning: DataFrame is highly fragmented.  This is usually the result of calling `frame.insert` many times, which has poor performance.  Consider joining all columns at once using pd.concat(axis=1) instead. To get a de-fragmented frame, use `newframe = frame.copy()`\n",
      "  data[data_quartile] = np.where(data[col] > upper_limit, upper_limit, data[col])\n",
      "C:\\Users\\Admin\\AppData\\Local\\Temp\\ipykernel_40652\\3486996870.py:9: PerformanceWarning: DataFrame is highly fragmented.  This is usually the result of calling `frame.insert` many times, which has poor performance.  Consider joining all columns at once using pd.concat(axis=1) instead. To get a de-fragmented frame, use `newframe = frame.copy()`\n",
      "  data[data_quartile] = np.where(data[col] > upper_limit, upper_limit, data[col])\n",
      "C:\\Users\\Admin\\AppData\\Local\\Temp\\ipykernel_40652\\3486996870.py:9: PerformanceWarning: DataFrame is highly fragmented.  This is usually the result of calling `frame.insert` many times, which has poor performance.  Consider joining all columns at once using pd.concat(axis=1) instead. To get a de-fragmented frame, use `newframe = frame.copy()`\n",
      "  data[data_quartile] = np.where(data[col] > upper_limit, upper_limit, data[col])\n",
      "C:\\Users\\Admin\\AppData\\Local\\Temp\\ipykernel_40652\\3486996870.py:9: PerformanceWarning: DataFrame is highly fragmented.  This is usually the result of calling `frame.insert` many times, which has poor performance.  Consider joining all columns at once using pd.concat(axis=1) instead. To get a de-fragmented frame, use `newframe = frame.copy()`\n",
      "  data[data_quartile] = np.where(data[col] > upper_limit, upper_limit, data[col])\n",
      "C:\\Users\\Admin\\AppData\\Local\\Temp\\ipykernel_40652\\3486996870.py:9: PerformanceWarning: DataFrame is highly fragmented.  This is usually the result of calling `frame.insert` many times, which has poor performance.  Consider joining all columns at once using pd.concat(axis=1) instead. To get a de-fragmented frame, use `newframe = frame.copy()`\n",
      "  data[data_quartile] = np.where(data[col] > upper_limit, upper_limit, data[col])\n",
      "C:\\Users\\Admin\\AppData\\Local\\Temp\\ipykernel_40652\\3486996870.py:9: PerformanceWarning: DataFrame is highly fragmented.  This is usually the result of calling `frame.insert` many times, which has poor performance.  Consider joining all columns at once using pd.concat(axis=1) instead. To get a de-fragmented frame, use `newframe = frame.copy()`\n",
      "  data[data_quartile] = np.where(data[col] > upper_limit, upper_limit, data[col])\n",
      "C:\\Users\\Admin\\AppData\\Local\\Temp\\ipykernel_40652\\3486996870.py:9: PerformanceWarning: DataFrame is highly fragmented.  This is usually the result of calling `frame.insert` many times, which has poor performance.  Consider joining all columns at once using pd.concat(axis=1) instead. To get a de-fragmented frame, use `newframe = frame.copy()`\n",
      "  data[data_quartile] = np.where(data[col] > upper_limit, upper_limit, data[col])\n",
      "C:\\Users\\Admin\\AppData\\Local\\Temp\\ipykernel_40652\\3486996870.py:9: PerformanceWarning: DataFrame is highly fragmented.  This is usually the result of calling `frame.insert` many times, which has poor performance.  Consider joining all columns at once using pd.concat(axis=1) instead. To get a de-fragmented frame, use `newframe = frame.copy()`\n",
      "  data[data_quartile] = np.where(data[col] > upper_limit, upper_limit, data[col])\n",
      "C:\\Users\\Admin\\AppData\\Local\\Temp\\ipykernel_40652\\3486996870.py:9: PerformanceWarning: DataFrame is highly fragmented.  This is usually the result of calling `frame.insert` many times, which has poor performance.  Consider joining all columns at once using pd.concat(axis=1) instead. To get a de-fragmented frame, use `newframe = frame.copy()`\n",
      "  data[data_quartile] = np.where(data[col] > upper_limit, upper_limit, data[col])\n",
      "C:\\Users\\Admin\\AppData\\Local\\Temp\\ipykernel_40652\\3486996870.py:9: PerformanceWarning: DataFrame is highly fragmented.  This is usually the result of calling `frame.insert` many times, which has poor performance.  Consider joining all columns at once using pd.concat(axis=1) instead. To get a de-fragmented frame, use `newframe = frame.copy()`\n",
      "  data[data_quartile] = np.where(data[col] > upper_limit, upper_limit, data[col])\n",
      "C:\\Users\\Admin\\AppData\\Local\\Temp\\ipykernel_40652\\3486996870.py:9: PerformanceWarning: DataFrame is highly fragmented.  This is usually the result of calling `frame.insert` many times, which has poor performance.  Consider joining all columns at once using pd.concat(axis=1) instead. To get a de-fragmented frame, use `newframe = frame.copy()`\n",
      "  data[data_quartile] = np.where(data[col] > upper_limit, upper_limit, data[col])\n",
      "C:\\Users\\Admin\\AppData\\Local\\Temp\\ipykernel_40652\\3486996870.py:9: PerformanceWarning: DataFrame is highly fragmented.  This is usually the result of calling `frame.insert` many times, which has poor performance.  Consider joining all columns at once using pd.concat(axis=1) instead. To get a de-fragmented frame, use `newframe = frame.copy()`\n",
      "  data[data_quartile] = np.where(data[col] > upper_limit, upper_limit, data[col])\n",
      "C:\\Users\\Admin\\AppData\\Local\\Temp\\ipykernel_40652\\3486996870.py:9: PerformanceWarning: DataFrame is highly fragmented.  This is usually the result of calling `frame.insert` many times, which has poor performance.  Consider joining all columns at once using pd.concat(axis=1) instead. To get a de-fragmented frame, use `newframe = frame.copy()`\n",
      "  data[data_quartile] = np.where(data[col] > upper_limit, upper_limit, data[col])\n",
      "C:\\Users\\Admin\\AppData\\Local\\Temp\\ipykernel_40652\\3486996870.py:9: PerformanceWarning: DataFrame is highly fragmented.  This is usually the result of calling `frame.insert` many times, which has poor performance.  Consider joining all columns at once using pd.concat(axis=1) instead. To get a de-fragmented frame, use `newframe = frame.copy()`\n",
      "  data[data_quartile] = np.where(data[col] > upper_limit, upper_limit, data[col])\n",
      "C:\\Users\\Admin\\AppData\\Local\\Temp\\ipykernel_40652\\3486996870.py:9: PerformanceWarning: DataFrame is highly fragmented.  This is usually the result of calling `frame.insert` many times, which has poor performance.  Consider joining all columns at once using pd.concat(axis=1) instead. To get a de-fragmented frame, use `newframe = frame.copy()`\n",
      "  data[data_quartile] = np.where(data[col] > upper_limit, upper_limit, data[col])\n",
      "C:\\Users\\Admin\\AppData\\Local\\Temp\\ipykernel_40652\\3486996870.py:9: PerformanceWarning: DataFrame is highly fragmented.  This is usually the result of calling `frame.insert` many times, which has poor performance.  Consider joining all columns at once using pd.concat(axis=1) instead. To get a de-fragmented frame, use `newframe = frame.copy()`\n",
      "  data[data_quartile] = np.where(data[col] > upper_limit, upper_limit, data[col])\n",
      "C:\\Users\\Admin\\AppData\\Local\\Temp\\ipykernel_40652\\3486996870.py:9: PerformanceWarning: DataFrame is highly fragmented.  This is usually the result of calling `frame.insert` many times, which has poor performance.  Consider joining all columns at once using pd.concat(axis=1) instead. To get a de-fragmented frame, use `newframe = frame.copy()`\n",
      "  data[data_quartile] = np.where(data[col] > upper_limit, upper_limit, data[col])\n",
      "C:\\Users\\Admin\\AppData\\Local\\Temp\\ipykernel_40652\\3486996870.py:9: PerformanceWarning: DataFrame is highly fragmented.  This is usually the result of calling `frame.insert` many times, which has poor performance.  Consider joining all columns at once using pd.concat(axis=1) instead. To get a de-fragmented frame, use `newframe = frame.copy()`\n",
      "  data[data_quartile] = np.where(data[col] > upper_limit, upper_limit, data[col])\n",
      "C:\\Users\\Admin\\AppData\\Local\\Temp\\ipykernel_40652\\3486996870.py:9: PerformanceWarning: DataFrame is highly fragmented.  This is usually the result of calling `frame.insert` many times, which has poor performance.  Consider joining all columns at once using pd.concat(axis=1) instead. To get a de-fragmented frame, use `newframe = frame.copy()`\n",
      "  data[data_quartile] = np.where(data[col] > upper_limit, upper_limit, data[col])\n",
      "C:\\Users\\Admin\\AppData\\Local\\Temp\\ipykernel_40652\\3486996870.py:9: PerformanceWarning: DataFrame is highly fragmented.  This is usually the result of calling `frame.insert` many times, which has poor performance.  Consider joining all columns at once using pd.concat(axis=1) instead. To get a de-fragmented frame, use `newframe = frame.copy()`\n",
      "  data[data_quartile] = np.where(data[col] > upper_limit, upper_limit, data[col])\n",
      "C:\\Users\\Admin\\AppData\\Local\\Temp\\ipykernel_40652\\3486996870.py:9: PerformanceWarning: DataFrame is highly fragmented.  This is usually the result of calling `frame.insert` many times, which has poor performance.  Consider joining all columns at once using pd.concat(axis=1) instead. To get a de-fragmented frame, use `newframe = frame.copy()`\n",
      "  data[data_quartile] = np.where(data[col] > upper_limit, upper_limit, data[col])\n",
      "C:\\Users\\Admin\\AppData\\Local\\Temp\\ipykernel_40652\\3486996870.py:9: PerformanceWarning: DataFrame is highly fragmented.  This is usually the result of calling `frame.insert` many times, which has poor performance.  Consider joining all columns at once using pd.concat(axis=1) instead. To get a de-fragmented frame, use `newframe = frame.copy()`\n",
      "  data[data_quartile] = np.where(data[col] > upper_limit, upper_limit, data[col])\n",
      "C:\\Users\\Admin\\AppData\\Local\\Temp\\ipykernel_40652\\3486996870.py:9: PerformanceWarning: DataFrame is highly fragmented.  This is usually the result of calling `frame.insert` many times, which has poor performance.  Consider joining all columns at once using pd.concat(axis=1) instead. To get a de-fragmented frame, use `newframe = frame.copy()`\n",
      "  data[data_quartile] = np.where(data[col] > upper_limit, upper_limit, data[col])\n",
      "C:\\Users\\Admin\\AppData\\Local\\Temp\\ipykernel_40652\\3486996870.py:9: PerformanceWarning: DataFrame is highly fragmented.  This is usually the result of calling `frame.insert` many times, which has poor performance.  Consider joining all columns at once using pd.concat(axis=1) instead. To get a de-fragmented frame, use `newframe = frame.copy()`\n",
      "  data[data_quartile] = np.where(data[col] > upper_limit, upper_limit, data[col])\n",
      "C:\\Users\\Admin\\AppData\\Local\\Temp\\ipykernel_40652\\3486996870.py:9: PerformanceWarning: DataFrame is highly fragmented.  This is usually the result of calling `frame.insert` many times, which has poor performance.  Consider joining all columns at once using pd.concat(axis=1) instead. To get a de-fragmented frame, use `newframe = frame.copy()`\n",
      "  data[data_quartile] = np.where(data[col] > upper_limit, upper_limit, data[col])\n",
      "C:\\Users\\Admin\\AppData\\Local\\Temp\\ipykernel_40652\\3486996870.py:9: PerformanceWarning: DataFrame is highly fragmented.  This is usually the result of calling `frame.insert` many times, which has poor performance.  Consider joining all columns at once using pd.concat(axis=1) instead. To get a de-fragmented frame, use `newframe = frame.copy()`\n",
      "  data[data_quartile] = np.where(data[col] > upper_limit, upper_limit, data[col])\n",
      "C:\\Users\\Admin\\AppData\\Local\\Temp\\ipykernel_40652\\3486996870.py:9: PerformanceWarning: DataFrame is highly fragmented.  This is usually the result of calling `frame.insert` many times, which has poor performance.  Consider joining all columns at once using pd.concat(axis=1) instead. To get a de-fragmented frame, use `newframe = frame.copy()`\n",
      "  data[data_quartile] = np.where(data[col] > upper_limit, upper_limit, data[col])\n",
      "C:\\Users\\Admin\\AppData\\Local\\Temp\\ipykernel_40652\\3486996870.py:9: PerformanceWarning: DataFrame is highly fragmented.  This is usually the result of calling `frame.insert` many times, which has poor performance.  Consider joining all columns at once using pd.concat(axis=1) instead. To get a de-fragmented frame, use `newframe = frame.copy()`\n",
      "  data[data_quartile] = np.where(data[col] > upper_limit, upper_limit, data[col])\n",
      "C:\\Users\\Admin\\AppData\\Local\\Temp\\ipykernel_40652\\3486996870.py:9: PerformanceWarning: DataFrame is highly fragmented.  This is usually the result of calling `frame.insert` many times, which has poor performance.  Consider joining all columns at once using pd.concat(axis=1) instead. To get a de-fragmented frame, use `newframe = frame.copy()`\n",
      "  data[data_quartile] = np.where(data[col] > upper_limit, upper_limit, data[col])\n",
      "C:\\Users\\Admin\\AppData\\Local\\Temp\\ipykernel_40652\\3486996870.py:9: PerformanceWarning: DataFrame is highly fragmented.  This is usually the result of calling `frame.insert` many times, which has poor performance.  Consider joining all columns at once using pd.concat(axis=1) instead. To get a de-fragmented frame, use `newframe = frame.copy()`\n",
      "  data[data_quartile] = np.where(data[col] > upper_limit, upper_limit, data[col])\n",
      "C:\\Users\\Admin\\AppData\\Local\\Temp\\ipykernel_40652\\3486996870.py:9: PerformanceWarning: DataFrame is highly fragmented.  This is usually the result of calling `frame.insert` many times, which has poor performance.  Consider joining all columns at once using pd.concat(axis=1) instead. To get a de-fragmented frame, use `newframe = frame.copy()`\n",
      "  data[data_quartile] = np.where(data[col] > upper_limit, upper_limit, data[col])\n",
      "C:\\Users\\Admin\\AppData\\Local\\Temp\\ipykernel_40652\\3486996870.py:9: PerformanceWarning: DataFrame is highly fragmented.  This is usually the result of calling `frame.insert` many times, which has poor performance.  Consider joining all columns at once using pd.concat(axis=1) instead. To get a de-fragmented frame, use `newframe = frame.copy()`\n",
      "  data[data_quartile] = np.where(data[col] > upper_limit, upper_limit, data[col])\n",
      "C:\\Users\\Admin\\AppData\\Local\\Temp\\ipykernel_40652\\3486996870.py:9: PerformanceWarning: DataFrame is highly fragmented.  This is usually the result of calling `frame.insert` many times, which has poor performance.  Consider joining all columns at once using pd.concat(axis=1) instead. To get a de-fragmented frame, use `newframe = frame.copy()`\n",
      "  data[data_quartile] = np.where(data[col] > upper_limit, upper_limit, data[col])\n",
      "C:\\Users\\Admin\\AppData\\Local\\Temp\\ipykernel_40652\\3486996870.py:9: PerformanceWarning: DataFrame is highly fragmented.  This is usually the result of calling `frame.insert` many times, which has poor performance.  Consider joining all columns at once using pd.concat(axis=1) instead. To get a de-fragmented frame, use `newframe = frame.copy()`\n",
      "  data[data_quartile] = np.where(data[col] > upper_limit, upper_limit, data[col])\n",
      "C:\\Users\\Admin\\AppData\\Local\\Temp\\ipykernel_40652\\3486996870.py:9: PerformanceWarning: DataFrame is highly fragmented.  This is usually the result of calling `frame.insert` many times, which has poor performance.  Consider joining all columns at once using pd.concat(axis=1) instead. To get a de-fragmented frame, use `newframe = frame.copy()`\n",
      "  data[data_quartile] = np.where(data[col] > upper_limit, upper_limit, data[col])\n",
      "C:\\Users\\Admin\\AppData\\Local\\Temp\\ipykernel_40652\\3486996870.py:9: PerformanceWarning: DataFrame is highly fragmented.  This is usually the result of calling `frame.insert` many times, which has poor performance.  Consider joining all columns at once using pd.concat(axis=1) instead. To get a de-fragmented frame, use `newframe = frame.copy()`\n",
      "  data[data_quartile] = np.where(data[col] > upper_limit, upper_limit, data[col])\n",
      "C:\\Users\\Admin\\AppData\\Local\\Temp\\ipykernel_40652\\3486996870.py:9: PerformanceWarning: DataFrame is highly fragmented.  This is usually the result of calling `frame.insert` many times, which has poor performance.  Consider joining all columns at once using pd.concat(axis=1) instead. To get a de-fragmented frame, use `newframe = frame.copy()`\n",
      "  data[data_quartile] = np.where(data[col] > upper_limit, upper_limit, data[col])\n",
      "C:\\Users\\Admin\\AppData\\Local\\Temp\\ipykernel_40652\\3486996870.py:9: PerformanceWarning: DataFrame is highly fragmented.  This is usually the result of calling `frame.insert` many times, which has poor performance.  Consider joining all columns at once using pd.concat(axis=1) instead. To get a de-fragmented frame, use `newframe = frame.copy()`\n",
      "  data[data_quartile] = np.where(data[col] > upper_limit, upper_limit, data[col])\n",
      "C:\\Users\\Admin\\AppData\\Local\\Temp\\ipykernel_40652\\3486996870.py:9: PerformanceWarning: DataFrame is highly fragmented.  This is usually the result of calling `frame.insert` many times, which has poor performance.  Consider joining all columns at once using pd.concat(axis=1) instead. To get a de-fragmented frame, use `newframe = frame.copy()`\n",
      "  data[data_quartile] = np.where(data[col] > upper_limit, upper_limit, data[col])\n",
      "C:\\Users\\Admin\\AppData\\Local\\Temp\\ipykernel_40652\\3486996870.py:9: PerformanceWarning: DataFrame is highly fragmented.  This is usually the result of calling `frame.insert` many times, which has poor performance.  Consider joining all columns at once using pd.concat(axis=1) instead. To get a de-fragmented frame, use `newframe = frame.copy()`\n",
      "  data[data_quartile] = np.where(data[col] > upper_limit, upper_limit, data[col])\n",
      "C:\\Users\\Admin\\AppData\\Local\\Temp\\ipykernel_40652\\3486996870.py:9: PerformanceWarning: DataFrame is highly fragmented.  This is usually the result of calling `frame.insert` many times, which has poor performance.  Consider joining all columns at once using pd.concat(axis=1) instead. To get a de-fragmented frame, use `newframe = frame.copy()`\n",
      "  data[data_quartile] = np.where(data[col] > upper_limit, upper_limit, data[col])\n",
      "C:\\Users\\Admin\\AppData\\Local\\Temp\\ipykernel_40652\\3486996870.py:9: PerformanceWarning: DataFrame is highly fragmented.  This is usually the result of calling `frame.insert` many times, which has poor performance.  Consider joining all columns at once using pd.concat(axis=1) instead. To get a de-fragmented frame, use `newframe = frame.copy()`\n",
      "  data[data_quartile] = np.where(data[col] > upper_limit, upper_limit, data[col])\n",
      "C:\\Users\\Admin\\AppData\\Local\\Temp\\ipykernel_40652\\3486996870.py:9: PerformanceWarning: DataFrame is highly fragmented.  This is usually the result of calling `frame.insert` many times, which has poor performance.  Consider joining all columns at once using pd.concat(axis=1) instead. To get a de-fragmented frame, use `newframe = frame.copy()`\n",
      "  data[data_quartile] = np.where(data[col] > upper_limit, upper_limit, data[col])\n",
      "C:\\Users\\Admin\\AppData\\Local\\Temp\\ipykernel_40652\\3486996870.py:9: PerformanceWarning: DataFrame is highly fragmented.  This is usually the result of calling `frame.insert` many times, which has poor performance.  Consider joining all columns at once using pd.concat(axis=1) instead. To get a de-fragmented frame, use `newframe = frame.copy()`\n",
      "  data[data_quartile] = np.where(data[col] > upper_limit, upper_limit, data[col])\n",
      "C:\\Users\\Admin\\AppData\\Local\\Temp\\ipykernel_40652\\3486996870.py:9: PerformanceWarning: DataFrame is highly fragmented.  This is usually the result of calling `frame.insert` many times, which has poor performance.  Consider joining all columns at once using pd.concat(axis=1) instead. To get a de-fragmented frame, use `newframe = frame.copy()`\n",
      "  data[data_quartile] = np.where(data[col] > upper_limit, upper_limit, data[col])\n",
      "C:\\Users\\Admin\\AppData\\Local\\Temp\\ipykernel_40652\\3486996870.py:9: PerformanceWarning: DataFrame is highly fragmented.  This is usually the result of calling `frame.insert` many times, which has poor performance.  Consider joining all columns at once using pd.concat(axis=1) instead. To get a de-fragmented frame, use `newframe = frame.copy()`\n",
      "  data[data_quartile] = np.where(data[col] > upper_limit, upper_limit, data[col])\n",
      "C:\\Users\\Admin\\AppData\\Local\\Temp\\ipykernel_40652\\3486996870.py:9: PerformanceWarning: DataFrame is highly fragmented.  This is usually the result of calling `frame.insert` many times, which has poor performance.  Consider joining all columns at once using pd.concat(axis=1) instead. To get a de-fragmented frame, use `newframe = frame.copy()`\n",
      "  data[data_quartile] = np.where(data[col] > upper_limit, upper_limit, data[col])\n",
      "C:\\Users\\Admin\\AppData\\Local\\Temp\\ipykernel_40652\\3486996870.py:9: PerformanceWarning: DataFrame is highly fragmented.  This is usually the result of calling `frame.insert` many times, which has poor performance.  Consider joining all columns at once using pd.concat(axis=1) instead. To get a de-fragmented frame, use `newframe = frame.copy()`\n",
      "  data[data_quartile] = np.where(data[col] > upper_limit, upper_limit, data[col])\n",
      "C:\\Users\\Admin\\AppData\\Local\\Temp\\ipykernel_40652\\3486996870.py:9: PerformanceWarning: DataFrame is highly fragmented.  This is usually the result of calling `frame.insert` many times, which has poor performance.  Consider joining all columns at once using pd.concat(axis=1) instead. To get a de-fragmented frame, use `newframe = frame.copy()`\n",
      "  data[data_quartile] = np.where(data[col] > upper_limit, upper_limit, data[col])\n",
      "C:\\Users\\Admin\\AppData\\Local\\Temp\\ipykernel_40652\\3486996870.py:9: PerformanceWarning: DataFrame is highly fragmented.  This is usually the result of calling `frame.insert` many times, which has poor performance.  Consider joining all columns at once using pd.concat(axis=1) instead. To get a de-fragmented frame, use `newframe = frame.copy()`\n",
      "  data[data_quartile] = np.where(data[col] > upper_limit, upper_limit, data[col])\n",
      "C:\\Users\\Admin\\AppData\\Local\\Temp\\ipykernel_40652\\3486996870.py:9: PerformanceWarning: DataFrame is highly fragmented.  This is usually the result of calling `frame.insert` many times, which has poor performance.  Consider joining all columns at once using pd.concat(axis=1) instead. To get a de-fragmented frame, use `newframe = frame.copy()`\n",
      "  data[data_quartile] = np.where(data[col] > upper_limit, upper_limit, data[col])\n",
      "C:\\Users\\Admin\\AppData\\Local\\Temp\\ipykernel_40652\\3486996870.py:9: PerformanceWarning: DataFrame is highly fragmented.  This is usually the result of calling `frame.insert` many times, which has poor performance.  Consider joining all columns at once using pd.concat(axis=1) instead. To get a de-fragmented frame, use `newframe = frame.copy()`\n",
      "  data[data_quartile] = np.where(data[col] > upper_limit, upper_limit, data[col])\n",
      "C:\\Users\\Admin\\AppData\\Local\\Temp\\ipykernel_40652\\3486996870.py:9: PerformanceWarning: DataFrame is highly fragmented.  This is usually the result of calling `frame.insert` many times, which has poor performance.  Consider joining all columns at once using pd.concat(axis=1) instead. To get a de-fragmented frame, use `newframe = frame.copy()`\n",
      "  data[data_quartile] = np.where(data[col] > upper_limit, upper_limit, data[col])\n",
      "C:\\Users\\Admin\\AppData\\Local\\Temp\\ipykernel_40652\\3486996870.py:9: PerformanceWarning: DataFrame is highly fragmented.  This is usually the result of calling `frame.insert` many times, which has poor performance.  Consider joining all columns at once using pd.concat(axis=1) instead. To get a de-fragmented frame, use `newframe = frame.copy()`\n",
      "  data[data_quartile] = np.where(data[col] > upper_limit, upper_limit, data[col])\n",
      "C:\\Users\\Admin\\AppData\\Local\\Temp\\ipykernel_40652\\3486996870.py:9: PerformanceWarning: DataFrame is highly fragmented.  This is usually the result of calling `frame.insert` many times, which has poor performance.  Consider joining all columns at once using pd.concat(axis=1) instead. To get a de-fragmented frame, use `newframe = frame.copy()`\n",
      "  data[data_quartile] = np.where(data[col] > upper_limit, upper_limit, data[col])\n",
      "C:\\Users\\Admin\\AppData\\Local\\Temp\\ipykernel_40652\\3486996870.py:9: PerformanceWarning: DataFrame is highly fragmented.  This is usually the result of calling `frame.insert` many times, which has poor performance.  Consider joining all columns at once using pd.concat(axis=1) instead. To get a de-fragmented frame, use `newframe = frame.copy()`\n",
      "  data[data_quartile] = np.where(data[col] > upper_limit, upper_limit, data[col])\n",
      "C:\\Users\\Admin\\AppData\\Local\\Temp\\ipykernel_40652\\3486996870.py:9: PerformanceWarning: DataFrame is highly fragmented.  This is usually the result of calling `frame.insert` many times, which has poor performance.  Consider joining all columns at once using pd.concat(axis=1) instead. To get a de-fragmented frame, use `newframe = frame.copy()`\n",
      "  data[data_quartile] = np.where(data[col] > upper_limit, upper_limit, data[col])\n",
      "C:\\Users\\Admin\\AppData\\Local\\Temp\\ipykernel_40652\\3486996870.py:9: PerformanceWarning: DataFrame is highly fragmented.  This is usually the result of calling `frame.insert` many times, which has poor performance.  Consider joining all columns at once using pd.concat(axis=1) instead. To get a de-fragmented frame, use `newframe = frame.copy()`\n",
      "  data[data_quartile] = np.where(data[col] > upper_limit, upper_limit, data[col])\n",
      "C:\\Users\\Admin\\AppData\\Local\\Temp\\ipykernel_40652\\3486996870.py:9: PerformanceWarning: DataFrame is highly fragmented.  This is usually the result of calling `frame.insert` many times, which has poor performance.  Consider joining all columns at once using pd.concat(axis=1) instead. To get a de-fragmented frame, use `newframe = frame.copy()`\n",
      "  data[data_quartile] = np.where(data[col] > upper_limit, upper_limit, data[col])\n",
      "C:\\Users\\Admin\\AppData\\Local\\Temp\\ipykernel_40652\\3486996870.py:9: PerformanceWarning: DataFrame is highly fragmented.  This is usually the result of calling `frame.insert` many times, which has poor performance.  Consider joining all columns at once using pd.concat(axis=1) instead. To get a de-fragmented frame, use `newframe = frame.copy()`\n",
      "  data[data_quartile] = np.where(data[col] > upper_limit, upper_limit, data[col])\n",
      "C:\\Users\\Admin\\AppData\\Local\\Temp\\ipykernel_40652\\3486996870.py:9: PerformanceWarning: DataFrame is highly fragmented.  This is usually the result of calling `frame.insert` many times, which has poor performance.  Consider joining all columns at once using pd.concat(axis=1) instead. To get a de-fragmented frame, use `newframe = frame.copy()`\n",
      "  data[data_quartile] = np.where(data[col] > upper_limit, upper_limit, data[col])\n",
      "C:\\Users\\Admin\\AppData\\Local\\Temp\\ipykernel_40652\\3486996870.py:9: PerformanceWarning: DataFrame is highly fragmented.  This is usually the result of calling `frame.insert` many times, which has poor performance.  Consider joining all columns at once using pd.concat(axis=1) instead. To get a de-fragmented frame, use `newframe = frame.copy()`\n",
      "  data[data_quartile] = np.where(data[col] > upper_limit, upper_limit, data[col])\n",
      "C:\\Users\\Admin\\AppData\\Local\\Temp\\ipykernel_40652\\3486996870.py:9: PerformanceWarning: DataFrame is highly fragmented.  This is usually the result of calling `frame.insert` many times, which has poor performance.  Consider joining all columns at once using pd.concat(axis=1) instead. To get a de-fragmented frame, use `newframe = frame.copy()`\n",
      "  data[data_quartile] = np.where(data[col] > upper_limit, upper_limit, data[col])\n",
      "C:\\Users\\Admin\\AppData\\Local\\Temp\\ipykernel_40652\\3486996870.py:9: PerformanceWarning: DataFrame is highly fragmented.  This is usually the result of calling `frame.insert` many times, which has poor performance.  Consider joining all columns at once using pd.concat(axis=1) instead. To get a de-fragmented frame, use `newframe = frame.copy()`\n",
      "  data[data_quartile] = np.where(data[col] > upper_limit, upper_limit, data[col])\n",
      "C:\\Users\\Admin\\AppData\\Local\\Temp\\ipykernel_40652\\3486996870.py:9: PerformanceWarning: DataFrame is highly fragmented.  This is usually the result of calling `frame.insert` many times, which has poor performance.  Consider joining all columns at once using pd.concat(axis=1) instead. To get a de-fragmented frame, use `newframe = frame.copy()`\n",
      "  data[data_quartile] = np.where(data[col] > upper_limit, upper_limit, data[col])\n",
      "C:\\Users\\Admin\\AppData\\Local\\Temp\\ipykernel_40652\\3486996870.py:9: PerformanceWarning: DataFrame is highly fragmented.  This is usually the result of calling `frame.insert` many times, which has poor performance.  Consider joining all columns at once using pd.concat(axis=1) instead. To get a de-fragmented frame, use `newframe = frame.copy()`\n",
      "  data[data_quartile] = np.where(data[col] > upper_limit, upper_limit, data[col])\n",
      "C:\\Users\\Admin\\AppData\\Local\\Temp\\ipykernel_40652\\3486996870.py:9: PerformanceWarning: DataFrame is highly fragmented.  This is usually the result of calling `frame.insert` many times, which has poor performance.  Consider joining all columns at once using pd.concat(axis=1) instead. To get a de-fragmented frame, use `newframe = frame.copy()`\n",
      "  data[data_quartile] = np.where(data[col] > upper_limit, upper_limit, data[col])\n",
      "C:\\Users\\Admin\\AppData\\Local\\Temp\\ipykernel_40652\\3486996870.py:9: PerformanceWarning: DataFrame is highly fragmented.  This is usually the result of calling `frame.insert` many times, which has poor performance.  Consider joining all columns at once using pd.concat(axis=1) instead. To get a de-fragmented frame, use `newframe = frame.copy()`\n",
      "  data[data_quartile] = np.where(data[col] > upper_limit, upper_limit, data[col])\n",
      "C:\\Users\\Admin\\AppData\\Local\\Temp\\ipykernel_40652\\3486996870.py:9: PerformanceWarning: DataFrame is highly fragmented.  This is usually the result of calling `frame.insert` many times, which has poor performance.  Consider joining all columns at once using pd.concat(axis=1) instead. To get a de-fragmented frame, use `newframe = frame.copy()`\n",
      "  data[data_quartile] = np.where(data[col] > upper_limit, upper_limit, data[col])\n",
      "C:\\Users\\Admin\\AppData\\Local\\Temp\\ipykernel_40652\\3486996870.py:9: PerformanceWarning: DataFrame is highly fragmented.  This is usually the result of calling `frame.insert` many times, which has poor performance.  Consider joining all columns at once using pd.concat(axis=1) instead. To get a de-fragmented frame, use `newframe = frame.copy()`\n",
      "  data[data_quartile] = np.where(data[col] > upper_limit, upper_limit, data[col])\n",
      "C:\\Users\\Admin\\AppData\\Local\\Temp\\ipykernel_40652\\3486996870.py:9: PerformanceWarning: DataFrame is highly fragmented.  This is usually the result of calling `frame.insert` many times, which has poor performance.  Consider joining all columns at once using pd.concat(axis=1) instead. To get a de-fragmented frame, use `newframe = frame.copy()`\n",
      "  data[data_quartile] = np.where(data[col] > upper_limit, upper_limit, data[col])\n",
      "C:\\Users\\Admin\\AppData\\Local\\Temp\\ipykernel_40652\\3486996870.py:9: PerformanceWarning: DataFrame is highly fragmented.  This is usually the result of calling `frame.insert` many times, which has poor performance.  Consider joining all columns at once using pd.concat(axis=1) instead. To get a de-fragmented frame, use `newframe = frame.copy()`\n",
      "  data[data_quartile] = np.where(data[col] > upper_limit, upper_limit, data[col])\n",
      "C:\\Users\\Admin\\AppData\\Local\\Temp\\ipykernel_40652\\3486996870.py:9: PerformanceWarning: DataFrame is highly fragmented.  This is usually the result of calling `frame.insert` many times, which has poor performance.  Consider joining all columns at once using pd.concat(axis=1) instead. To get a de-fragmented frame, use `newframe = frame.copy()`\n",
      "  data[data_quartile] = np.where(data[col] > upper_limit, upper_limit, data[col])\n",
      "C:\\Users\\Admin\\AppData\\Local\\Temp\\ipykernel_40652\\3486996870.py:9: PerformanceWarning: DataFrame is highly fragmented.  This is usually the result of calling `frame.insert` many times, which has poor performance.  Consider joining all columns at once using pd.concat(axis=1) instead. To get a de-fragmented frame, use `newframe = frame.copy()`\n",
      "  data[data_quartile] = np.where(data[col] > upper_limit, upper_limit, data[col])\n",
      "C:\\Users\\Admin\\AppData\\Local\\Temp\\ipykernel_40652\\3486996870.py:9: PerformanceWarning: DataFrame is highly fragmented.  This is usually the result of calling `frame.insert` many times, which has poor performance.  Consider joining all columns at once using pd.concat(axis=1) instead. To get a de-fragmented frame, use `newframe = frame.copy()`\n",
      "  data[data_quartile] = np.where(data[col] > upper_limit, upper_limit, data[col])\n",
      "C:\\Users\\Admin\\AppData\\Local\\Temp\\ipykernel_40652\\3486996870.py:9: PerformanceWarning: DataFrame is highly fragmented.  This is usually the result of calling `frame.insert` many times, which has poor performance.  Consider joining all columns at once using pd.concat(axis=1) instead. To get a de-fragmented frame, use `newframe = frame.copy()`\n",
      "  data[data_quartile] = np.where(data[col] > upper_limit, upper_limit, data[col])\n",
      "C:\\Users\\Admin\\AppData\\Local\\Temp\\ipykernel_40652\\3486996870.py:9: PerformanceWarning: DataFrame is highly fragmented.  This is usually the result of calling `frame.insert` many times, which has poor performance.  Consider joining all columns at once using pd.concat(axis=1) instead. To get a de-fragmented frame, use `newframe = frame.copy()`\n",
      "  data[data_quartile] = np.where(data[col] > upper_limit, upper_limit, data[col])\n",
      "C:\\Users\\Admin\\AppData\\Local\\Temp\\ipykernel_40652\\3486996870.py:9: PerformanceWarning: DataFrame is highly fragmented.  This is usually the result of calling `frame.insert` many times, which has poor performance.  Consider joining all columns at once using pd.concat(axis=1) instead. To get a de-fragmented frame, use `newframe = frame.copy()`\n",
      "  data[data_quartile] = np.where(data[col] > upper_limit, upper_limit, data[col])\n",
      "C:\\Users\\Admin\\AppData\\Local\\Temp\\ipykernel_40652\\3486996870.py:9: PerformanceWarning: DataFrame is highly fragmented.  This is usually the result of calling `frame.insert` many times, which has poor performance.  Consider joining all columns at once using pd.concat(axis=1) instead. To get a de-fragmented frame, use `newframe = frame.copy()`\n",
      "  data[data_quartile] = np.where(data[col] > upper_limit, upper_limit, data[col])\n",
      "C:\\Users\\Admin\\AppData\\Local\\Temp\\ipykernel_40652\\3486996870.py:9: PerformanceWarning: DataFrame is highly fragmented.  This is usually the result of calling `frame.insert` many times, which has poor performance.  Consider joining all columns at once using pd.concat(axis=1) instead. To get a de-fragmented frame, use `newframe = frame.copy()`\n",
      "  data[data_quartile] = np.where(data[col] > upper_limit, upper_limit, data[col])\n",
      "C:\\Users\\Admin\\AppData\\Local\\Temp\\ipykernel_40652\\3486996870.py:9: PerformanceWarning: DataFrame is highly fragmented.  This is usually the result of calling `frame.insert` many times, which has poor performance.  Consider joining all columns at once using pd.concat(axis=1) instead. To get a de-fragmented frame, use `newframe = frame.copy()`\n",
      "  data[data_quartile] = np.where(data[col] > upper_limit, upper_limit, data[col])\n",
      "C:\\Users\\Admin\\AppData\\Local\\Temp\\ipykernel_40652\\3486996870.py:9: PerformanceWarning: DataFrame is highly fragmented.  This is usually the result of calling `frame.insert` many times, which has poor performance.  Consider joining all columns at once using pd.concat(axis=1) instead. To get a de-fragmented frame, use `newframe = frame.copy()`\n",
      "  data[data_quartile] = np.where(data[col] > upper_limit, upper_limit, data[col])\n",
      "C:\\Users\\Admin\\AppData\\Local\\Temp\\ipykernel_40652\\3486996870.py:9: PerformanceWarning: DataFrame is highly fragmented.  This is usually the result of calling `frame.insert` many times, which has poor performance.  Consider joining all columns at once using pd.concat(axis=1) instead. To get a de-fragmented frame, use `newframe = frame.copy()`\n",
      "  data[data_quartile] = np.where(data[col] > upper_limit, upper_limit, data[col])\n",
      "C:\\Users\\Admin\\AppData\\Local\\Temp\\ipykernel_40652\\3486996870.py:9: PerformanceWarning: DataFrame is highly fragmented.  This is usually the result of calling `frame.insert` many times, which has poor performance.  Consider joining all columns at once using pd.concat(axis=1) instead. To get a de-fragmented frame, use `newframe = frame.copy()`\n",
      "  data[data_quartile] = np.where(data[col] > upper_limit, upper_limit, data[col])\n",
      "C:\\Users\\Admin\\AppData\\Local\\Temp\\ipykernel_40652\\3486996870.py:9: PerformanceWarning: DataFrame is highly fragmented.  This is usually the result of calling `frame.insert` many times, which has poor performance.  Consider joining all columns at once using pd.concat(axis=1) instead. To get a de-fragmented frame, use `newframe = frame.copy()`\n",
      "  data[data_quartile] = np.where(data[col] > upper_limit, upper_limit, data[col])\n",
      "C:\\Users\\Admin\\AppData\\Local\\Temp\\ipykernel_40652\\3486996870.py:9: PerformanceWarning: DataFrame is highly fragmented.  This is usually the result of calling `frame.insert` many times, which has poor performance.  Consider joining all columns at once using pd.concat(axis=1) instead. To get a de-fragmented frame, use `newframe = frame.copy()`\n",
      "  data[data_quartile] = np.where(data[col] > upper_limit, upper_limit, data[col])\n",
      "C:\\Users\\Admin\\AppData\\Local\\Temp\\ipykernel_40652\\3486996870.py:9: PerformanceWarning: DataFrame is highly fragmented.  This is usually the result of calling `frame.insert` many times, which has poor performance.  Consider joining all columns at once using pd.concat(axis=1) instead. To get a de-fragmented frame, use `newframe = frame.copy()`\n",
      "  data[data_quartile] = np.where(data[col] > upper_limit, upper_limit, data[col])\n",
      "C:\\Users\\Admin\\AppData\\Local\\Temp\\ipykernel_40652\\3486996870.py:9: PerformanceWarning: DataFrame is highly fragmented.  This is usually the result of calling `frame.insert` many times, which has poor performance.  Consider joining all columns at once using pd.concat(axis=1) instead. To get a de-fragmented frame, use `newframe = frame.copy()`\n",
      "  data[data_quartile] = np.where(data[col] > upper_limit, upper_limit, data[col])\n",
      "C:\\Users\\Admin\\AppData\\Local\\Temp\\ipykernel_40652\\3486996870.py:9: PerformanceWarning: DataFrame is highly fragmented.  This is usually the result of calling `frame.insert` many times, which has poor performance.  Consider joining all columns at once using pd.concat(axis=1) instead. To get a de-fragmented frame, use `newframe = frame.copy()`\n",
      "  data[data_quartile] = np.where(data[col] > upper_limit, upper_limit, data[col])\n",
      "C:\\Users\\Admin\\AppData\\Local\\Temp\\ipykernel_40652\\3486996870.py:9: PerformanceWarning: DataFrame is highly fragmented.  This is usually the result of calling `frame.insert` many times, which has poor performance.  Consider joining all columns at once using pd.concat(axis=1) instead. To get a de-fragmented frame, use `newframe = frame.copy()`\n",
      "  data[data_quartile] = np.where(data[col] > upper_limit, upper_limit, data[col])\n",
      "C:\\Users\\Admin\\AppData\\Local\\Temp\\ipykernel_40652\\3486996870.py:9: PerformanceWarning: DataFrame is highly fragmented.  This is usually the result of calling `frame.insert` many times, which has poor performance.  Consider joining all columns at once using pd.concat(axis=1) instead. To get a de-fragmented frame, use `newframe = frame.copy()`\n",
      "  data[data_quartile] = np.where(data[col] > upper_limit, upper_limit, data[col])\n",
      "C:\\Users\\Admin\\AppData\\Local\\Temp\\ipykernel_40652\\3486996870.py:9: PerformanceWarning: DataFrame is highly fragmented.  This is usually the result of calling `frame.insert` many times, which has poor performance.  Consider joining all columns at once using pd.concat(axis=1) instead. To get a de-fragmented frame, use `newframe = frame.copy()`\n",
      "  data[data_quartile] = np.where(data[col] > upper_limit, upper_limit, data[col])\n",
      "C:\\Users\\Admin\\AppData\\Local\\Temp\\ipykernel_40652\\3486996870.py:9: PerformanceWarning: DataFrame is highly fragmented.  This is usually the result of calling `frame.insert` many times, which has poor performance.  Consider joining all columns at once using pd.concat(axis=1) instead. To get a de-fragmented frame, use `newframe = frame.copy()`\n",
      "  data[data_quartile] = np.where(data[col] > upper_limit, upper_limit, data[col])\n",
      "C:\\Users\\Admin\\AppData\\Local\\Temp\\ipykernel_40652\\3486996870.py:9: PerformanceWarning: DataFrame is highly fragmented.  This is usually the result of calling `frame.insert` many times, which has poor performance.  Consider joining all columns at once using pd.concat(axis=1) instead. To get a de-fragmented frame, use `newframe = frame.copy()`\n",
      "  data[data_quartile] = np.where(data[col] > upper_limit, upper_limit, data[col])\n",
      "C:\\Users\\Admin\\AppData\\Local\\Temp\\ipykernel_40652\\3486996870.py:9: PerformanceWarning: DataFrame is highly fragmented.  This is usually the result of calling `frame.insert` many times, which has poor performance.  Consider joining all columns at once using pd.concat(axis=1) instead. To get a de-fragmented frame, use `newframe = frame.copy()`\n",
      "  data[data_quartile] = np.where(data[col] > upper_limit, upper_limit, data[col])\n",
      "C:\\Users\\Admin\\AppData\\Local\\Temp\\ipykernel_40652\\3486996870.py:9: PerformanceWarning: DataFrame is highly fragmented.  This is usually the result of calling `frame.insert` many times, which has poor performance.  Consider joining all columns at once using pd.concat(axis=1) instead. To get a de-fragmented frame, use `newframe = frame.copy()`\n",
      "  data[data_quartile] = np.where(data[col] > upper_limit, upper_limit, data[col])\n",
      "C:\\Users\\Admin\\AppData\\Local\\Temp\\ipykernel_40652\\3486996870.py:9: PerformanceWarning: DataFrame is highly fragmented.  This is usually the result of calling `frame.insert` many times, which has poor performance.  Consider joining all columns at once using pd.concat(axis=1) instead. To get a de-fragmented frame, use `newframe = frame.copy()`\n",
      "  data[data_quartile] = np.where(data[col] > upper_limit, upper_limit, data[col])\n",
      "C:\\Users\\Admin\\AppData\\Local\\Temp\\ipykernel_40652\\3486996870.py:9: PerformanceWarning: DataFrame is highly fragmented.  This is usually the result of calling `frame.insert` many times, which has poor performance.  Consider joining all columns at once using pd.concat(axis=1) instead. To get a de-fragmented frame, use `newframe = frame.copy()`\n",
      "  data[data_quartile] = np.where(data[col] > upper_limit, upper_limit, data[col])\n",
      "C:\\Users\\Admin\\AppData\\Local\\Temp\\ipykernel_40652\\3486996870.py:9: PerformanceWarning: DataFrame is highly fragmented.  This is usually the result of calling `frame.insert` many times, which has poor performance.  Consider joining all columns at once using pd.concat(axis=1) instead. To get a de-fragmented frame, use `newframe = frame.copy()`\n",
      "  data[data_quartile] = np.where(data[col] > upper_limit, upper_limit, data[col])\n",
      "C:\\Users\\Admin\\AppData\\Local\\Temp\\ipykernel_40652\\3486996870.py:9: PerformanceWarning: DataFrame is highly fragmented.  This is usually the result of calling `frame.insert` many times, which has poor performance.  Consider joining all columns at once using pd.concat(axis=1) instead. To get a de-fragmented frame, use `newframe = frame.copy()`\n",
      "  data[data_quartile] = np.where(data[col] > upper_limit, upper_limit, data[col])\n",
      "C:\\Users\\Admin\\AppData\\Local\\Temp\\ipykernel_40652\\3486996870.py:9: PerformanceWarning: DataFrame is highly fragmented.  This is usually the result of calling `frame.insert` many times, which has poor performance.  Consider joining all columns at once using pd.concat(axis=1) instead. To get a de-fragmented frame, use `newframe = frame.copy()`\n",
      "  data[data_quartile] = np.where(data[col] > upper_limit, upper_limit, data[col])\n",
      "C:\\Users\\Admin\\AppData\\Local\\Temp\\ipykernel_40652\\3486996870.py:9: PerformanceWarning: DataFrame is highly fragmented.  This is usually the result of calling `frame.insert` many times, which has poor performance.  Consider joining all columns at once using pd.concat(axis=1) instead. To get a de-fragmented frame, use `newframe = frame.copy()`\n",
      "  data[data_quartile] = np.where(data[col] > upper_limit, upper_limit, data[col])\n",
      "C:\\Users\\Admin\\AppData\\Local\\Temp\\ipykernel_40652\\3486996870.py:9: PerformanceWarning: DataFrame is highly fragmented.  This is usually the result of calling `frame.insert` many times, which has poor performance.  Consider joining all columns at once using pd.concat(axis=1) instead. To get a de-fragmented frame, use `newframe = frame.copy()`\n",
      "  data[data_quartile] = np.where(data[col] > upper_limit, upper_limit, data[col])\n",
      "C:\\Users\\Admin\\AppData\\Local\\Temp\\ipykernel_40652\\3486996870.py:9: PerformanceWarning: DataFrame is highly fragmented.  This is usually the result of calling `frame.insert` many times, which has poor performance.  Consider joining all columns at once using pd.concat(axis=1) instead. To get a de-fragmented frame, use `newframe = frame.copy()`\n",
      "  data[data_quartile] = np.where(data[col] > upper_limit, upper_limit, data[col])\n",
      "C:\\Users\\Admin\\AppData\\Local\\Temp\\ipykernel_40652\\3486996870.py:9: PerformanceWarning: DataFrame is highly fragmented.  This is usually the result of calling `frame.insert` many times, which has poor performance.  Consider joining all columns at once using pd.concat(axis=1) instead. To get a de-fragmented frame, use `newframe = frame.copy()`\n",
      "  data[data_quartile] = np.where(data[col] > upper_limit, upper_limit, data[col])\n",
      "C:\\Users\\Admin\\AppData\\Local\\Temp\\ipykernel_40652\\3486996870.py:9: PerformanceWarning: DataFrame is highly fragmented.  This is usually the result of calling `frame.insert` many times, which has poor performance.  Consider joining all columns at once using pd.concat(axis=1) instead. To get a de-fragmented frame, use `newframe = frame.copy()`\n",
      "  data[data_quartile] = np.where(data[col] > upper_limit, upper_limit, data[col])\n",
      "C:\\Users\\Admin\\AppData\\Local\\Temp\\ipykernel_40652\\3486996870.py:9: PerformanceWarning: DataFrame is highly fragmented.  This is usually the result of calling `frame.insert` many times, which has poor performance.  Consider joining all columns at once using pd.concat(axis=1) instead. To get a de-fragmented frame, use `newframe = frame.copy()`\n",
      "  data[data_quartile] = np.where(data[col] > upper_limit, upper_limit, data[col])\n",
      "C:\\Users\\Admin\\AppData\\Local\\Temp\\ipykernel_40652\\3486996870.py:9: PerformanceWarning: DataFrame is highly fragmented.  This is usually the result of calling `frame.insert` many times, which has poor performance.  Consider joining all columns at once using pd.concat(axis=1) instead. To get a de-fragmented frame, use `newframe = frame.copy()`\n",
      "  data[data_quartile] = np.where(data[col] > upper_limit, upper_limit, data[col])\n",
      "C:\\Users\\Admin\\AppData\\Local\\Temp\\ipykernel_40652\\3486996870.py:9: PerformanceWarning: DataFrame is highly fragmented.  This is usually the result of calling `frame.insert` many times, which has poor performance.  Consider joining all columns at once using pd.concat(axis=1) instead. To get a de-fragmented frame, use `newframe = frame.copy()`\n",
      "  data[data_quartile] = np.where(data[col] > upper_limit, upper_limit, data[col])\n",
      "C:\\Users\\Admin\\AppData\\Local\\Temp\\ipykernel_40652\\3486996870.py:9: PerformanceWarning: DataFrame is highly fragmented.  This is usually the result of calling `frame.insert` many times, which has poor performance.  Consider joining all columns at once using pd.concat(axis=1) instead. To get a de-fragmented frame, use `newframe = frame.copy()`\n",
      "  data[data_quartile] = np.where(data[col] > upper_limit, upper_limit, data[col])\n",
      "C:\\Users\\Admin\\AppData\\Local\\Temp\\ipykernel_40652\\3486996870.py:9: PerformanceWarning: DataFrame is highly fragmented.  This is usually the result of calling `frame.insert` many times, which has poor performance.  Consider joining all columns at once using pd.concat(axis=1) instead. To get a de-fragmented frame, use `newframe = frame.copy()`\n",
      "  data[data_quartile] = np.where(data[col] > upper_limit, upper_limit, data[col])\n",
      "C:\\Users\\Admin\\AppData\\Local\\Temp\\ipykernel_40652\\3486996870.py:9: PerformanceWarning: DataFrame is highly fragmented.  This is usually the result of calling `frame.insert` many times, which has poor performance.  Consider joining all columns at once using pd.concat(axis=1) instead. To get a de-fragmented frame, use `newframe = frame.copy()`\n",
      "  data[data_quartile] = np.where(data[col] > upper_limit, upper_limit, data[col])\n",
      "C:\\Users\\Admin\\AppData\\Local\\Temp\\ipykernel_40652\\3486996870.py:9: PerformanceWarning: DataFrame is highly fragmented.  This is usually the result of calling `frame.insert` many times, which has poor performance.  Consider joining all columns at once using pd.concat(axis=1) instead. To get a de-fragmented frame, use `newframe = frame.copy()`\n",
      "  data[data_quartile] = np.where(data[col] > upper_limit, upper_limit, data[col])\n",
      "C:\\Users\\Admin\\AppData\\Local\\Temp\\ipykernel_40652\\3486996870.py:9: PerformanceWarning: DataFrame is highly fragmented.  This is usually the result of calling `frame.insert` many times, which has poor performance.  Consider joining all columns at once using pd.concat(axis=1) instead. To get a de-fragmented frame, use `newframe = frame.copy()`\n",
      "  data[data_quartile] = np.where(data[col] > upper_limit, upper_limit, data[col])\n",
      "C:\\Users\\Admin\\AppData\\Local\\Temp\\ipykernel_40652\\3486996870.py:9: PerformanceWarning: DataFrame is highly fragmented.  This is usually the result of calling `frame.insert` many times, which has poor performance.  Consider joining all columns at once using pd.concat(axis=1) instead. To get a de-fragmented frame, use `newframe = frame.copy()`\n",
      "  data[data_quartile] = np.where(data[col] > upper_limit, upper_limit, data[col])\n",
      "C:\\Users\\Admin\\AppData\\Local\\Temp\\ipykernel_40652\\3486996870.py:9: PerformanceWarning: DataFrame is highly fragmented.  This is usually the result of calling `frame.insert` many times, which has poor performance.  Consider joining all columns at once using pd.concat(axis=1) instead. To get a de-fragmented frame, use `newframe = frame.copy()`\n",
      "  data[data_quartile] = np.where(data[col] > upper_limit, upper_limit, data[col])\n",
      "C:\\Users\\Admin\\AppData\\Local\\Temp\\ipykernel_40652\\3486996870.py:9: PerformanceWarning: DataFrame is highly fragmented.  This is usually the result of calling `frame.insert` many times, which has poor performance.  Consider joining all columns at once using pd.concat(axis=1) instead. To get a de-fragmented frame, use `newframe = frame.copy()`\n",
      "  data[data_quartile] = np.where(data[col] > upper_limit, upper_limit, data[col])\n",
      "C:\\Users\\Admin\\AppData\\Local\\Temp\\ipykernel_40652\\3486996870.py:9: PerformanceWarning: DataFrame is highly fragmented.  This is usually the result of calling `frame.insert` many times, which has poor performance.  Consider joining all columns at once using pd.concat(axis=1) instead. To get a de-fragmented frame, use `newframe = frame.copy()`\n",
      "  data[data_quartile] = np.where(data[col] > upper_limit, upper_limit, data[col])\n",
      "C:\\Users\\Admin\\AppData\\Local\\Temp\\ipykernel_40652\\3486996870.py:9: PerformanceWarning: DataFrame is highly fragmented.  This is usually the result of calling `frame.insert` many times, which has poor performance.  Consider joining all columns at once using pd.concat(axis=1) instead. To get a de-fragmented frame, use `newframe = frame.copy()`\n",
      "  data[data_quartile] = np.where(data[col] > upper_limit, upper_limit, data[col])\n",
      "C:\\Users\\Admin\\AppData\\Local\\Temp\\ipykernel_40652\\3486996870.py:9: PerformanceWarning: DataFrame is highly fragmented.  This is usually the result of calling `frame.insert` many times, which has poor performance.  Consider joining all columns at once using pd.concat(axis=1) instead. To get a de-fragmented frame, use `newframe = frame.copy()`\n",
      "  data[data_quartile] = np.where(data[col] > upper_limit, upper_limit, data[col])\n",
      "C:\\Users\\Admin\\AppData\\Local\\Temp\\ipykernel_40652\\3486996870.py:9: PerformanceWarning: DataFrame is highly fragmented.  This is usually the result of calling `frame.insert` many times, which has poor performance.  Consider joining all columns at once using pd.concat(axis=1) instead. To get a de-fragmented frame, use `newframe = frame.copy()`\n",
      "  data[data_quartile] = np.where(data[col] > upper_limit, upper_limit, data[col])\n",
      "C:\\Users\\Admin\\AppData\\Local\\Temp\\ipykernel_40652\\3486996870.py:9: PerformanceWarning: DataFrame is highly fragmented.  This is usually the result of calling `frame.insert` many times, which has poor performance.  Consider joining all columns at once using pd.concat(axis=1) instead. To get a de-fragmented frame, use `newframe = frame.copy()`\n",
      "  data[data_quartile] = np.where(data[col] > upper_limit, upper_limit, data[col])\n",
      "C:\\Users\\Admin\\AppData\\Local\\Temp\\ipykernel_40652\\3486996870.py:9: PerformanceWarning: DataFrame is highly fragmented.  This is usually the result of calling `frame.insert` many times, which has poor performance.  Consider joining all columns at once using pd.concat(axis=1) instead. To get a de-fragmented frame, use `newframe = frame.copy()`\n",
      "  data[data_quartile] = np.where(data[col] > upper_limit, upper_limit, data[col])\n",
      "C:\\Users\\Admin\\AppData\\Local\\Temp\\ipykernel_40652\\3486996870.py:9: PerformanceWarning: DataFrame is highly fragmented.  This is usually the result of calling `frame.insert` many times, which has poor performance.  Consider joining all columns at once using pd.concat(axis=1) instead. To get a de-fragmented frame, use `newframe = frame.copy()`\n",
      "  data[data_quartile] = np.where(data[col] > upper_limit, upper_limit, data[col])\n",
      "C:\\Users\\Admin\\AppData\\Local\\Temp\\ipykernel_40652\\3486996870.py:9: PerformanceWarning: DataFrame is highly fragmented.  This is usually the result of calling `frame.insert` many times, which has poor performance.  Consider joining all columns at once using pd.concat(axis=1) instead. To get a de-fragmented frame, use `newframe = frame.copy()`\n",
      "  data[data_quartile] = np.where(data[col] > upper_limit, upper_limit, data[col])\n",
      "C:\\Users\\Admin\\AppData\\Local\\Temp\\ipykernel_40652\\3486996870.py:9: PerformanceWarning: DataFrame is highly fragmented.  This is usually the result of calling `frame.insert` many times, which has poor performance.  Consider joining all columns at once using pd.concat(axis=1) instead. To get a de-fragmented frame, use `newframe = frame.copy()`\n",
      "  data[data_quartile] = np.where(data[col] > upper_limit, upper_limit, data[col])\n",
      "C:\\Users\\Admin\\AppData\\Local\\Temp\\ipykernel_40652\\3486996870.py:9: PerformanceWarning: DataFrame is highly fragmented.  This is usually the result of calling `frame.insert` many times, which has poor performance.  Consider joining all columns at once using pd.concat(axis=1) instead. To get a de-fragmented frame, use `newframe = frame.copy()`\n",
      "  data[data_quartile] = np.where(data[col] > upper_limit, upper_limit, data[col])\n",
      "C:\\Users\\Admin\\AppData\\Local\\Temp\\ipykernel_40652\\3486996870.py:9: PerformanceWarning: DataFrame is highly fragmented.  This is usually the result of calling `frame.insert` many times, which has poor performance.  Consider joining all columns at once using pd.concat(axis=1) instead. To get a de-fragmented frame, use `newframe = frame.copy()`\n",
      "  data[data_quartile] = np.where(data[col] > upper_limit, upper_limit, data[col])\n",
      "C:\\Users\\Admin\\AppData\\Local\\Temp\\ipykernel_40652\\3486996870.py:9: PerformanceWarning: DataFrame is highly fragmented.  This is usually the result of calling `frame.insert` many times, which has poor performance.  Consider joining all columns at once using pd.concat(axis=1) instead. To get a de-fragmented frame, use `newframe = frame.copy()`\n",
      "  data[data_quartile] = np.where(data[col] > upper_limit, upper_limit, data[col])\n",
      "C:\\Users\\Admin\\AppData\\Local\\Temp\\ipykernel_40652\\3486996870.py:9: PerformanceWarning: DataFrame is highly fragmented.  This is usually the result of calling `frame.insert` many times, which has poor performance.  Consider joining all columns at once using pd.concat(axis=1) instead. To get a de-fragmented frame, use `newframe = frame.copy()`\n",
      "  data[data_quartile] = np.where(data[col] > upper_limit, upper_limit, data[col])\n",
      "C:\\Users\\Admin\\AppData\\Local\\Temp\\ipykernel_40652\\3486996870.py:9: PerformanceWarning: DataFrame is highly fragmented.  This is usually the result of calling `frame.insert` many times, which has poor performance.  Consider joining all columns at once using pd.concat(axis=1) instead. To get a de-fragmented frame, use `newframe = frame.copy()`\n",
      "  data[data_quartile] = np.where(data[col] > upper_limit, upper_limit, data[col])\n",
      "C:\\Users\\Admin\\AppData\\Local\\Temp\\ipykernel_40652\\3486996870.py:9: PerformanceWarning: DataFrame is highly fragmented.  This is usually the result of calling `frame.insert` many times, which has poor performance.  Consider joining all columns at once using pd.concat(axis=1) instead. To get a de-fragmented frame, use `newframe = frame.copy()`\n",
      "  data[data_quartile] = np.where(data[col] > upper_limit, upper_limit, data[col])\n",
      "C:\\Users\\Admin\\AppData\\Local\\Temp\\ipykernel_40652\\3486996870.py:9: PerformanceWarning: DataFrame is highly fragmented.  This is usually the result of calling `frame.insert` many times, which has poor performance.  Consider joining all columns at once using pd.concat(axis=1) instead. To get a de-fragmented frame, use `newframe = frame.copy()`\n",
      "  data[data_quartile] = np.where(data[col] > upper_limit, upper_limit, data[col])\n",
      "C:\\Users\\Admin\\AppData\\Local\\Temp\\ipykernel_40652\\3486996870.py:9: PerformanceWarning: DataFrame is highly fragmented.  This is usually the result of calling `frame.insert` many times, which has poor performance.  Consider joining all columns at once using pd.concat(axis=1) instead. To get a de-fragmented frame, use `newframe = frame.copy()`\n",
      "  data[data_quartile] = np.where(data[col] > upper_limit, upper_limit, data[col])\n",
      "C:\\Users\\Admin\\AppData\\Local\\Temp\\ipykernel_40652\\3486996870.py:9: PerformanceWarning: DataFrame is highly fragmented.  This is usually the result of calling `frame.insert` many times, which has poor performance.  Consider joining all columns at once using pd.concat(axis=1) instead. To get a de-fragmented frame, use `newframe = frame.copy()`\n",
      "  data[data_quartile] = np.where(data[col] > upper_limit, upper_limit, data[col])\n",
      "C:\\Users\\Admin\\AppData\\Local\\Temp\\ipykernel_40652\\3486996870.py:9: PerformanceWarning: DataFrame is highly fragmented.  This is usually the result of calling `frame.insert` many times, which has poor performance.  Consider joining all columns at once using pd.concat(axis=1) instead. To get a de-fragmented frame, use `newframe = frame.copy()`\n",
      "  data[data_quartile] = np.where(data[col] > upper_limit, upper_limit, data[col])\n",
      "C:\\Users\\Admin\\AppData\\Local\\Temp\\ipykernel_40652\\3486996870.py:9: PerformanceWarning: DataFrame is highly fragmented.  This is usually the result of calling `frame.insert` many times, which has poor performance.  Consider joining all columns at once using pd.concat(axis=1) instead. To get a de-fragmented frame, use `newframe = frame.copy()`\n",
      "  data[data_quartile] = np.where(data[col] > upper_limit, upper_limit, data[col])\n",
      "C:\\Users\\Admin\\AppData\\Local\\Temp\\ipykernel_40652\\3486996870.py:9: PerformanceWarning: DataFrame is highly fragmented.  This is usually the result of calling `frame.insert` many times, which has poor performance.  Consider joining all columns at once using pd.concat(axis=1) instead. To get a de-fragmented frame, use `newframe = frame.copy()`\n",
      "  data[data_quartile] = np.where(data[col] > upper_limit, upper_limit, data[col])\n",
      "C:\\Users\\Admin\\AppData\\Local\\Temp\\ipykernel_40652\\3486996870.py:9: PerformanceWarning: DataFrame is highly fragmented.  This is usually the result of calling `frame.insert` many times, which has poor performance.  Consider joining all columns at once using pd.concat(axis=1) instead. To get a de-fragmented frame, use `newframe = frame.copy()`\n",
      "  data[data_quartile] = np.where(data[col] > upper_limit, upper_limit, data[col])\n",
      "C:\\Users\\Admin\\AppData\\Local\\Temp\\ipykernel_40652\\3486996870.py:9: PerformanceWarning: DataFrame is highly fragmented.  This is usually the result of calling `frame.insert` many times, which has poor performance.  Consider joining all columns at once using pd.concat(axis=1) instead. To get a de-fragmented frame, use `newframe = frame.copy()`\n",
      "  data[data_quartile] = np.where(data[col] > upper_limit, upper_limit, data[col])\n",
      "C:\\Users\\Admin\\AppData\\Local\\Temp\\ipykernel_40652\\3486996870.py:9: PerformanceWarning: DataFrame is highly fragmented.  This is usually the result of calling `frame.insert` many times, which has poor performance.  Consider joining all columns at once using pd.concat(axis=1) instead. To get a de-fragmented frame, use `newframe = frame.copy()`\n",
      "  data[data_quartile] = np.where(data[col] > upper_limit, upper_limit, data[col])\n",
      "C:\\Users\\Admin\\AppData\\Local\\Temp\\ipykernel_40652\\3486996870.py:9: PerformanceWarning: DataFrame is highly fragmented.  This is usually the result of calling `frame.insert` many times, which has poor performance.  Consider joining all columns at once using pd.concat(axis=1) instead. To get a de-fragmented frame, use `newframe = frame.copy()`\n",
      "  data[data_quartile] = np.where(data[col] > upper_limit, upper_limit, data[col])\n",
      "C:\\Users\\Admin\\AppData\\Local\\Temp\\ipykernel_40652\\3486996870.py:9: PerformanceWarning: DataFrame is highly fragmented.  This is usually the result of calling `frame.insert` many times, which has poor performance.  Consider joining all columns at once using pd.concat(axis=1) instead. To get a de-fragmented frame, use `newframe = frame.copy()`\n",
      "  data[data_quartile] = np.where(data[col] > upper_limit, upper_limit, data[col])\n",
      "C:\\Users\\Admin\\AppData\\Local\\Temp\\ipykernel_40652\\3486996870.py:9: PerformanceWarning: DataFrame is highly fragmented.  This is usually the result of calling `frame.insert` many times, which has poor performance.  Consider joining all columns at once using pd.concat(axis=1) instead. To get a de-fragmented frame, use `newframe = frame.copy()`\n",
      "  data[data_quartile] = np.where(data[col] > upper_limit, upper_limit, data[col])\n",
      "C:\\Users\\Admin\\AppData\\Local\\Temp\\ipykernel_40652\\3486996870.py:9: PerformanceWarning: DataFrame is highly fragmented.  This is usually the result of calling `frame.insert` many times, which has poor performance.  Consider joining all columns at once using pd.concat(axis=1) instead. To get a de-fragmented frame, use `newframe = frame.copy()`\n",
      "  data[data_quartile] = np.where(data[col] > upper_limit, upper_limit, data[col])\n",
      "C:\\Users\\Admin\\AppData\\Local\\Temp\\ipykernel_40652\\3486996870.py:9: PerformanceWarning: DataFrame is highly fragmented.  This is usually the result of calling `frame.insert` many times, which has poor performance.  Consider joining all columns at once using pd.concat(axis=1) instead. To get a de-fragmented frame, use `newframe = frame.copy()`\n",
      "  data[data_quartile] = np.where(data[col] > upper_limit, upper_limit, data[col])\n",
      "C:\\Users\\Admin\\AppData\\Local\\Temp\\ipykernel_40652\\3486996870.py:9: PerformanceWarning: DataFrame is highly fragmented.  This is usually the result of calling `frame.insert` many times, which has poor performance.  Consider joining all columns at once using pd.concat(axis=1) instead. To get a de-fragmented frame, use `newframe = frame.copy()`\n",
      "  data[data_quartile] = np.where(data[col] > upper_limit, upper_limit, data[col])\n",
      "C:\\Users\\Admin\\AppData\\Local\\Temp\\ipykernel_40652\\3486996870.py:9: PerformanceWarning: DataFrame is highly fragmented.  This is usually the result of calling `frame.insert` many times, which has poor performance.  Consider joining all columns at once using pd.concat(axis=1) instead. To get a de-fragmented frame, use `newframe = frame.copy()`\n",
      "  data[data_quartile] = np.where(data[col] > upper_limit, upper_limit, data[col])\n",
      "C:\\Users\\Admin\\AppData\\Local\\Temp\\ipykernel_40652\\3486996870.py:9: PerformanceWarning: DataFrame is highly fragmented.  This is usually the result of calling `frame.insert` many times, which has poor performance.  Consider joining all columns at once using pd.concat(axis=1) instead. To get a de-fragmented frame, use `newframe = frame.copy()`\n",
      "  data[data_quartile] = np.where(data[col] > upper_limit, upper_limit, data[col])\n",
      "C:\\Users\\Admin\\AppData\\Local\\Temp\\ipykernel_40652\\3486996870.py:9: PerformanceWarning: DataFrame is highly fragmented.  This is usually the result of calling `frame.insert` many times, which has poor performance.  Consider joining all columns at once using pd.concat(axis=1) instead. To get a de-fragmented frame, use `newframe = frame.copy()`\n",
      "  data[data_quartile] = np.where(data[col] > upper_limit, upper_limit, data[col])\n",
      "C:\\Users\\Admin\\AppData\\Local\\Temp\\ipykernel_40652\\3486996870.py:9: PerformanceWarning: DataFrame is highly fragmented.  This is usually the result of calling `frame.insert` many times, which has poor performance.  Consider joining all columns at once using pd.concat(axis=1) instead. To get a de-fragmented frame, use `newframe = frame.copy()`\n",
      "  data[data_quartile] = np.where(data[col] > upper_limit, upper_limit, data[col])\n",
      "C:\\Users\\Admin\\AppData\\Local\\Temp\\ipykernel_40652\\3486996870.py:9: PerformanceWarning: DataFrame is highly fragmented.  This is usually the result of calling `frame.insert` many times, which has poor performance.  Consider joining all columns at once using pd.concat(axis=1) instead. To get a de-fragmented frame, use `newframe = frame.copy()`\n",
      "  data[data_quartile] = np.where(data[col] > upper_limit, upper_limit, data[col])\n",
      "C:\\Users\\Admin\\AppData\\Local\\Temp\\ipykernel_40652\\3486996870.py:9: PerformanceWarning: DataFrame is highly fragmented.  This is usually the result of calling `frame.insert` many times, which has poor performance.  Consider joining all columns at once using pd.concat(axis=1) instead. To get a de-fragmented frame, use `newframe = frame.copy()`\n",
      "  data[data_quartile] = np.where(data[col] > upper_limit, upper_limit, data[col])\n",
      "C:\\Users\\Admin\\AppData\\Local\\Temp\\ipykernel_40652\\3486996870.py:9: PerformanceWarning: DataFrame is highly fragmented.  This is usually the result of calling `frame.insert` many times, which has poor performance.  Consider joining all columns at once using pd.concat(axis=1) instead. To get a de-fragmented frame, use `newframe = frame.copy()`\n",
      "  data[data_quartile] = np.where(data[col] > upper_limit, upper_limit, data[col])\n",
      "C:\\Users\\Admin\\AppData\\Local\\Temp\\ipykernel_40652\\3486996870.py:9: PerformanceWarning: DataFrame is highly fragmented.  This is usually the result of calling `frame.insert` many times, which has poor performance.  Consider joining all columns at once using pd.concat(axis=1) instead. To get a de-fragmented frame, use `newframe = frame.copy()`\n",
      "  data[data_quartile] = np.where(data[col] > upper_limit, upper_limit, data[col])\n",
      "C:\\Users\\Admin\\AppData\\Local\\Temp\\ipykernel_40652\\3486996870.py:9: PerformanceWarning: DataFrame is highly fragmented.  This is usually the result of calling `frame.insert` many times, which has poor performance.  Consider joining all columns at once using pd.concat(axis=1) instead. To get a de-fragmented frame, use `newframe = frame.copy()`\n",
      "  data[data_quartile] = np.where(data[col] > upper_limit, upper_limit, data[col])\n",
      "C:\\Users\\Admin\\AppData\\Local\\Temp\\ipykernel_40652\\3486996870.py:9: PerformanceWarning: DataFrame is highly fragmented.  This is usually the result of calling `frame.insert` many times, which has poor performance.  Consider joining all columns at once using pd.concat(axis=1) instead. To get a de-fragmented frame, use `newframe = frame.copy()`\n",
      "  data[data_quartile] = np.where(data[col] > upper_limit, upper_limit, data[col])\n",
      "C:\\Users\\Admin\\AppData\\Local\\Temp\\ipykernel_40652\\3486996870.py:9: PerformanceWarning: DataFrame is highly fragmented.  This is usually the result of calling `frame.insert` many times, which has poor performance.  Consider joining all columns at once using pd.concat(axis=1) instead. To get a de-fragmented frame, use `newframe = frame.copy()`\n",
      "  data[data_quartile] = np.where(data[col] > upper_limit, upper_limit, data[col])\n",
      "C:\\Users\\Admin\\AppData\\Local\\Temp\\ipykernel_40652\\3486996870.py:9: PerformanceWarning: DataFrame is highly fragmented.  This is usually the result of calling `frame.insert` many times, which has poor performance.  Consider joining all columns at once using pd.concat(axis=1) instead. To get a de-fragmented frame, use `newframe = frame.copy()`\n",
      "  data[data_quartile] = np.where(data[col] > upper_limit, upper_limit, data[col])\n",
      "C:\\Users\\Admin\\AppData\\Local\\Temp\\ipykernel_40652\\3486996870.py:9: PerformanceWarning: DataFrame is highly fragmented.  This is usually the result of calling `frame.insert` many times, which has poor performance.  Consider joining all columns at once using pd.concat(axis=1) instead. To get a de-fragmented frame, use `newframe = frame.copy()`\n",
      "  data[data_quartile] = np.where(data[col] > upper_limit, upper_limit, data[col])\n",
      "C:\\Users\\Admin\\AppData\\Local\\Temp\\ipykernel_40652\\3486996870.py:9: PerformanceWarning: DataFrame is highly fragmented.  This is usually the result of calling `frame.insert` many times, which has poor performance.  Consider joining all columns at once using pd.concat(axis=1) instead. To get a de-fragmented frame, use `newframe = frame.copy()`\n",
      "  data[data_quartile] = np.where(data[col] > upper_limit, upper_limit, data[col])\n",
      "C:\\Users\\Admin\\AppData\\Local\\Temp\\ipykernel_40652\\3486996870.py:9: PerformanceWarning: DataFrame is highly fragmented.  This is usually the result of calling `frame.insert` many times, which has poor performance.  Consider joining all columns at once using pd.concat(axis=1) instead. To get a de-fragmented frame, use `newframe = frame.copy()`\n",
      "  data[data_quartile] = np.where(data[col] > upper_limit, upper_limit, data[col])\n",
      "C:\\Users\\Admin\\AppData\\Local\\Temp\\ipykernel_40652\\3486996870.py:9: PerformanceWarning: DataFrame is highly fragmented.  This is usually the result of calling `frame.insert` many times, which has poor performance.  Consider joining all columns at once using pd.concat(axis=1) instead. To get a de-fragmented frame, use `newframe = frame.copy()`\n",
      "  data[data_quartile] = np.where(data[col] > upper_limit, upper_limit, data[col])\n",
      "C:\\Users\\Admin\\AppData\\Local\\Temp\\ipykernel_40652\\3486996870.py:9: PerformanceWarning: DataFrame is highly fragmented.  This is usually the result of calling `frame.insert` many times, which has poor performance.  Consider joining all columns at once using pd.concat(axis=1) instead. To get a de-fragmented frame, use `newframe = frame.copy()`\n",
      "  data[data_quartile] = np.where(data[col] > upper_limit, upper_limit, data[col])\n",
      "C:\\Users\\Admin\\AppData\\Local\\Temp\\ipykernel_40652\\3486996870.py:9: PerformanceWarning: DataFrame is highly fragmented.  This is usually the result of calling `frame.insert` many times, which has poor performance.  Consider joining all columns at once using pd.concat(axis=1) instead. To get a de-fragmented frame, use `newframe = frame.copy()`\n",
      "  data[data_quartile] = np.where(data[col] > upper_limit, upper_limit, data[col])\n",
      "C:\\Users\\Admin\\AppData\\Local\\Temp\\ipykernel_40652\\3486996870.py:9: PerformanceWarning: DataFrame is highly fragmented.  This is usually the result of calling `frame.insert` many times, which has poor performance.  Consider joining all columns at once using pd.concat(axis=1) instead. To get a de-fragmented frame, use `newframe = frame.copy()`\n",
      "  data[data_quartile] = np.where(data[col] > upper_limit, upper_limit, data[col])\n",
      "C:\\Users\\Admin\\AppData\\Local\\Temp\\ipykernel_40652\\3486996870.py:9: PerformanceWarning: DataFrame is highly fragmented.  This is usually the result of calling `frame.insert` many times, which has poor performance.  Consider joining all columns at once using pd.concat(axis=1) instead. To get a de-fragmented frame, use `newframe = frame.copy()`\n",
      "  data[data_quartile] = np.where(data[col] > upper_limit, upper_limit, data[col])\n",
      "C:\\Users\\Admin\\AppData\\Local\\Temp\\ipykernel_40652\\3486996870.py:9: PerformanceWarning: DataFrame is highly fragmented.  This is usually the result of calling `frame.insert` many times, which has poor performance.  Consider joining all columns at once using pd.concat(axis=1) instead. To get a de-fragmented frame, use `newframe = frame.copy()`\n",
      "  data[data_quartile] = np.where(data[col] > upper_limit, upper_limit, data[col])\n",
      "C:\\Users\\Admin\\AppData\\Local\\Temp\\ipykernel_40652\\3486996870.py:9: PerformanceWarning: DataFrame is highly fragmented.  This is usually the result of calling `frame.insert` many times, which has poor performance.  Consider joining all columns at once using pd.concat(axis=1) instead. To get a de-fragmented frame, use `newframe = frame.copy()`\n",
      "  data[data_quartile] = np.where(data[col] > upper_limit, upper_limit, data[col])\n",
      "C:\\Users\\Admin\\AppData\\Local\\Temp\\ipykernel_40652\\3486996870.py:9: PerformanceWarning: DataFrame is highly fragmented.  This is usually the result of calling `frame.insert` many times, which has poor performance.  Consider joining all columns at once using pd.concat(axis=1) instead. To get a de-fragmented frame, use `newframe = frame.copy()`\n",
      "  data[data_quartile] = np.where(data[col] > upper_limit, upper_limit, data[col])\n",
      "C:\\Users\\Admin\\AppData\\Local\\Temp\\ipykernel_40652\\3486996870.py:9: PerformanceWarning: DataFrame is highly fragmented.  This is usually the result of calling `frame.insert` many times, which has poor performance.  Consider joining all columns at once using pd.concat(axis=1) instead. To get a de-fragmented frame, use `newframe = frame.copy()`\n",
      "  data[data_quartile] = np.where(data[col] > upper_limit, upper_limit, data[col])\n",
      "C:\\Users\\Admin\\AppData\\Local\\Temp\\ipykernel_40652\\3486996870.py:9: PerformanceWarning: DataFrame is highly fragmented.  This is usually the result of calling `frame.insert` many times, which has poor performance.  Consider joining all columns at once using pd.concat(axis=1) instead. To get a de-fragmented frame, use `newframe = frame.copy()`\n",
      "  data[data_quartile] = np.where(data[col] > upper_limit, upper_limit, data[col])\n",
      "C:\\Users\\Admin\\AppData\\Local\\Temp\\ipykernel_40652\\3486996870.py:9: PerformanceWarning: DataFrame is highly fragmented.  This is usually the result of calling `frame.insert` many times, which has poor performance.  Consider joining all columns at once using pd.concat(axis=1) instead. To get a de-fragmented frame, use `newframe = frame.copy()`\n",
      "  data[data_quartile] = np.where(data[col] > upper_limit, upper_limit, data[col])\n",
      "C:\\Users\\Admin\\AppData\\Local\\Temp\\ipykernel_40652\\3486996870.py:9: PerformanceWarning: DataFrame is highly fragmented.  This is usually the result of calling `frame.insert` many times, which has poor performance.  Consider joining all columns at once using pd.concat(axis=1) instead. To get a de-fragmented frame, use `newframe = frame.copy()`\n",
      "  data[data_quartile] = np.where(data[col] > upper_limit, upper_limit, data[col])\n",
      "C:\\Users\\Admin\\AppData\\Local\\Temp\\ipykernel_40652\\3486996870.py:9: PerformanceWarning: DataFrame is highly fragmented.  This is usually the result of calling `frame.insert` many times, which has poor performance.  Consider joining all columns at once using pd.concat(axis=1) instead. To get a de-fragmented frame, use `newframe = frame.copy()`\n",
      "  data[data_quartile] = np.where(data[col] > upper_limit, upper_limit, data[col])\n",
      "C:\\Users\\Admin\\AppData\\Local\\Temp\\ipykernel_40652\\3486996870.py:9: PerformanceWarning: DataFrame is highly fragmented.  This is usually the result of calling `frame.insert` many times, which has poor performance.  Consider joining all columns at once using pd.concat(axis=1) instead. To get a de-fragmented frame, use `newframe = frame.copy()`\n",
      "  data[data_quartile] = np.where(data[col] > upper_limit, upper_limit, data[col])\n",
      "C:\\Users\\Admin\\AppData\\Local\\Temp\\ipykernel_40652\\3486996870.py:9: PerformanceWarning: DataFrame is highly fragmented.  This is usually the result of calling `frame.insert` many times, which has poor performance.  Consider joining all columns at once using pd.concat(axis=1) instead. To get a de-fragmented frame, use `newframe = frame.copy()`\n",
      "  data[data_quartile] = np.where(data[col] > upper_limit, upper_limit, data[col])\n",
      "C:\\Users\\Admin\\AppData\\Local\\Temp\\ipykernel_40652\\3486996870.py:9: PerformanceWarning: DataFrame is highly fragmented.  This is usually the result of calling `frame.insert` many times, which has poor performance.  Consider joining all columns at once using pd.concat(axis=1) instead. To get a de-fragmented frame, use `newframe = frame.copy()`\n",
      "  data[data_quartile] = np.where(data[col] > upper_limit, upper_limit, data[col])\n",
      "C:\\Users\\Admin\\AppData\\Local\\Temp\\ipykernel_40652\\3486996870.py:9: PerformanceWarning: DataFrame is highly fragmented.  This is usually the result of calling `frame.insert` many times, which has poor performance.  Consider joining all columns at once using pd.concat(axis=1) instead. To get a de-fragmented frame, use `newframe = frame.copy()`\n",
      "  data[data_quartile] = np.where(data[col] > upper_limit, upper_limit, data[col])\n",
      "C:\\Users\\Admin\\AppData\\Local\\Temp\\ipykernel_40652\\3486996870.py:9: PerformanceWarning: DataFrame is highly fragmented.  This is usually the result of calling `frame.insert` many times, which has poor performance.  Consider joining all columns at once using pd.concat(axis=1) instead. To get a de-fragmented frame, use `newframe = frame.copy()`\n",
      "  data[data_quartile] = np.where(data[col] > upper_limit, upper_limit, data[col])\n",
      "C:\\Users\\Admin\\AppData\\Local\\Temp\\ipykernel_40652\\3486996870.py:9: PerformanceWarning: DataFrame is highly fragmented.  This is usually the result of calling `frame.insert` many times, which has poor performance.  Consider joining all columns at once using pd.concat(axis=1) instead. To get a de-fragmented frame, use `newframe = frame.copy()`\n",
      "  data[data_quartile] = np.where(data[col] > upper_limit, upper_limit, data[col])\n",
      "C:\\Users\\Admin\\AppData\\Local\\Temp\\ipykernel_40652\\3486996870.py:9: PerformanceWarning: DataFrame is highly fragmented.  This is usually the result of calling `frame.insert` many times, which has poor performance.  Consider joining all columns at once using pd.concat(axis=1) instead. To get a de-fragmented frame, use `newframe = frame.copy()`\n",
      "  data[data_quartile] = np.where(data[col] > upper_limit, upper_limit, data[col])\n",
      "C:\\Users\\Admin\\AppData\\Local\\Temp\\ipykernel_40652\\3486996870.py:9: PerformanceWarning: DataFrame is highly fragmented.  This is usually the result of calling `frame.insert` many times, which has poor performance.  Consider joining all columns at once using pd.concat(axis=1) instead. To get a de-fragmented frame, use `newframe = frame.copy()`\n",
      "  data[data_quartile] = np.where(data[col] > upper_limit, upper_limit, data[col])\n",
      "C:\\Users\\Admin\\AppData\\Local\\Temp\\ipykernel_40652\\3486996870.py:9: PerformanceWarning: DataFrame is highly fragmented.  This is usually the result of calling `frame.insert` many times, which has poor performance.  Consider joining all columns at once using pd.concat(axis=1) instead. To get a de-fragmented frame, use `newframe = frame.copy()`\n",
      "  data[data_quartile] = np.where(data[col] > upper_limit, upper_limit, data[col])\n",
      "C:\\Users\\Admin\\AppData\\Local\\Temp\\ipykernel_40652\\3486996870.py:9: PerformanceWarning: DataFrame is highly fragmented.  This is usually the result of calling `frame.insert` many times, which has poor performance.  Consider joining all columns at once using pd.concat(axis=1) instead. To get a de-fragmented frame, use `newframe = frame.copy()`\n",
      "  data[data_quartile] = np.where(data[col] > upper_limit, upper_limit, data[col])\n",
      "C:\\Users\\Admin\\AppData\\Local\\Temp\\ipykernel_40652\\3486996870.py:9: PerformanceWarning: DataFrame is highly fragmented.  This is usually the result of calling `frame.insert` many times, which has poor performance.  Consider joining all columns at once using pd.concat(axis=1) instead. To get a de-fragmented frame, use `newframe = frame.copy()`\n",
      "  data[data_quartile] = np.where(data[col] > upper_limit, upper_limit, data[col])\n",
      "C:\\Users\\Admin\\AppData\\Local\\Temp\\ipykernel_40652\\3486996870.py:9: PerformanceWarning: DataFrame is highly fragmented.  This is usually the result of calling `frame.insert` many times, which has poor performance.  Consider joining all columns at once using pd.concat(axis=1) instead. To get a de-fragmented frame, use `newframe = frame.copy()`\n",
      "  data[data_quartile] = np.where(data[col] > upper_limit, upper_limit, data[col])\n",
      "C:\\Users\\Admin\\AppData\\Local\\Temp\\ipykernel_40652\\3486996870.py:9: PerformanceWarning: DataFrame is highly fragmented.  This is usually the result of calling `frame.insert` many times, which has poor performance.  Consider joining all columns at once using pd.concat(axis=1) instead. To get a de-fragmented frame, use `newframe = frame.copy()`\n",
      "  data[data_quartile] = np.where(data[col] > upper_limit, upper_limit, data[col])\n",
      "C:\\Users\\Admin\\AppData\\Local\\Temp\\ipykernel_40652\\3486996870.py:9: PerformanceWarning: DataFrame is highly fragmented.  This is usually the result of calling `frame.insert` many times, which has poor performance.  Consider joining all columns at once using pd.concat(axis=1) instead. To get a de-fragmented frame, use `newframe = frame.copy()`\n",
      "  data[data_quartile] = np.where(data[col] > upper_limit, upper_limit, data[col])\n",
      "C:\\Users\\Admin\\AppData\\Local\\Temp\\ipykernel_40652\\3486996870.py:9: PerformanceWarning: DataFrame is highly fragmented.  This is usually the result of calling `frame.insert` many times, which has poor performance.  Consider joining all columns at once using pd.concat(axis=1) instead. To get a de-fragmented frame, use `newframe = frame.copy()`\n",
      "  data[data_quartile] = np.where(data[col] > upper_limit, upper_limit, data[col])\n",
      "C:\\Users\\Admin\\AppData\\Local\\Temp\\ipykernel_40652\\3486996870.py:9: PerformanceWarning: DataFrame is highly fragmented.  This is usually the result of calling `frame.insert` many times, which has poor performance.  Consider joining all columns at once using pd.concat(axis=1) instead. To get a de-fragmented frame, use `newframe = frame.copy()`\n",
      "  data[data_quartile] = np.where(data[col] > upper_limit, upper_limit, data[col])\n",
      "C:\\Users\\Admin\\AppData\\Local\\Temp\\ipykernel_40652\\3486996870.py:9: PerformanceWarning: DataFrame is highly fragmented.  This is usually the result of calling `frame.insert` many times, which has poor performance.  Consider joining all columns at once using pd.concat(axis=1) instead. To get a de-fragmented frame, use `newframe = frame.copy()`\n",
      "  data[data_quartile] = np.where(data[col] > upper_limit, upper_limit, data[col])\n",
      "C:\\Users\\Admin\\AppData\\Local\\Temp\\ipykernel_40652\\3486996870.py:9: PerformanceWarning: DataFrame is highly fragmented.  This is usually the result of calling `frame.insert` many times, which has poor performance.  Consider joining all columns at once using pd.concat(axis=1) instead. To get a de-fragmented frame, use `newframe = frame.copy()`\n",
      "  data[data_quartile] = np.where(data[col] > upper_limit, upper_limit, data[col])\n",
      "C:\\Users\\Admin\\AppData\\Local\\Temp\\ipykernel_40652\\3486996870.py:9: PerformanceWarning: DataFrame is highly fragmented.  This is usually the result of calling `frame.insert` many times, which has poor performance.  Consider joining all columns at once using pd.concat(axis=1) instead. To get a de-fragmented frame, use `newframe = frame.copy()`\n",
      "  data[data_quartile] = np.where(data[col] > upper_limit, upper_limit, data[col])\n",
      "C:\\Users\\Admin\\AppData\\Local\\Temp\\ipykernel_40652\\3486996870.py:9: PerformanceWarning: DataFrame is highly fragmented.  This is usually the result of calling `frame.insert` many times, which has poor performance.  Consider joining all columns at once using pd.concat(axis=1) instead. To get a de-fragmented frame, use `newframe = frame.copy()`\n",
      "  data[data_quartile] = np.where(data[col] > upper_limit, upper_limit, data[col])\n",
      "C:\\Users\\Admin\\AppData\\Local\\Temp\\ipykernel_40652\\3486996870.py:9: PerformanceWarning: DataFrame is highly fragmented.  This is usually the result of calling `frame.insert` many times, which has poor performance.  Consider joining all columns at once using pd.concat(axis=1) instead. To get a de-fragmented frame, use `newframe = frame.copy()`\n",
      "  data[data_quartile] = np.where(data[col] > upper_limit, upper_limit, data[col])\n",
      "C:\\Users\\Admin\\AppData\\Local\\Temp\\ipykernel_40652\\3486996870.py:9: PerformanceWarning: DataFrame is highly fragmented.  This is usually the result of calling `frame.insert` many times, which has poor performance.  Consider joining all columns at once using pd.concat(axis=1) instead. To get a de-fragmented frame, use `newframe = frame.copy()`\n",
      "  data[data_quartile] = np.where(data[col] > upper_limit, upper_limit, data[col])\n",
      "C:\\Users\\Admin\\AppData\\Local\\Temp\\ipykernel_40652\\3486996870.py:9: PerformanceWarning: DataFrame is highly fragmented.  This is usually the result of calling `frame.insert` many times, which has poor performance.  Consider joining all columns at once using pd.concat(axis=1) instead. To get a de-fragmented frame, use `newframe = frame.copy()`\n",
      "  data[data_quartile] = np.where(data[col] > upper_limit, upper_limit, data[col])\n",
      "C:\\Users\\Admin\\AppData\\Local\\Temp\\ipykernel_40652\\3486996870.py:9: PerformanceWarning: DataFrame is highly fragmented.  This is usually the result of calling `frame.insert` many times, which has poor performance.  Consider joining all columns at once using pd.concat(axis=1) instead. To get a de-fragmented frame, use `newframe = frame.copy()`\n",
      "  data[data_quartile] = np.where(data[col] > upper_limit, upper_limit, data[col])\n",
      "C:\\Users\\Admin\\AppData\\Local\\Temp\\ipykernel_40652\\3486996870.py:9: PerformanceWarning: DataFrame is highly fragmented.  This is usually the result of calling `frame.insert` many times, which has poor performance.  Consider joining all columns at once using pd.concat(axis=1) instead. To get a de-fragmented frame, use `newframe = frame.copy()`\n",
      "  data[data_quartile] = np.where(data[col] > upper_limit, upper_limit, data[col])\n",
      "C:\\Users\\Admin\\AppData\\Local\\Temp\\ipykernel_40652\\3486996870.py:9: PerformanceWarning: DataFrame is highly fragmented.  This is usually the result of calling `frame.insert` many times, which has poor performance.  Consider joining all columns at once using pd.concat(axis=1) instead. To get a de-fragmented frame, use `newframe = frame.copy()`\n",
      "  data[data_quartile] = np.where(data[col] > upper_limit, upper_limit, data[col])\n",
      "C:\\Users\\Admin\\AppData\\Local\\Temp\\ipykernel_40652\\3486996870.py:9: PerformanceWarning: DataFrame is highly fragmented.  This is usually the result of calling `frame.insert` many times, which has poor performance.  Consider joining all columns at once using pd.concat(axis=1) instead. To get a de-fragmented frame, use `newframe = frame.copy()`\n",
      "  data[data_quartile] = np.where(data[col] > upper_limit, upper_limit, data[col])\n",
      "C:\\Users\\Admin\\AppData\\Local\\Temp\\ipykernel_40652\\3486996870.py:9: PerformanceWarning: DataFrame is highly fragmented.  This is usually the result of calling `frame.insert` many times, which has poor performance.  Consider joining all columns at once using pd.concat(axis=1) instead. To get a de-fragmented frame, use `newframe = frame.copy()`\n",
      "  data[data_quartile] = np.where(data[col] > upper_limit, upper_limit, data[col])\n",
      "C:\\Users\\Admin\\AppData\\Local\\Temp\\ipykernel_40652\\3486996870.py:9: PerformanceWarning: DataFrame is highly fragmented.  This is usually the result of calling `frame.insert` many times, which has poor performance.  Consider joining all columns at once using pd.concat(axis=1) instead. To get a de-fragmented frame, use `newframe = frame.copy()`\n",
      "  data[data_quartile] = np.where(data[col] > upper_limit, upper_limit, data[col])\n",
      "C:\\Users\\Admin\\AppData\\Local\\Temp\\ipykernel_40652\\3486996870.py:9: PerformanceWarning: DataFrame is highly fragmented.  This is usually the result of calling `frame.insert` many times, which has poor performance.  Consider joining all columns at once using pd.concat(axis=1) instead. To get a de-fragmented frame, use `newframe = frame.copy()`\n",
      "  data[data_quartile] = np.where(data[col] > upper_limit, upper_limit, data[col])\n",
      "C:\\Users\\Admin\\AppData\\Local\\Temp\\ipykernel_40652\\3486996870.py:9: PerformanceWarning: DataFrame is highly fragmented.  This is usually the result of calling `frame.insert` many times, which has poor performance.  Consider joining all columns at once using pd.concat(axis=1) instead. To get a de-fragmented frame, use `newframe = frame.copy()`\n",
      "  data[data_quartile] = np.where(data[col] > upper_limit, upper_limit, data[col])\n",
      "C:\\Users\\Admin\\AppData\\Local\\Temp\\ipykernel_40652\\3486996870.py:9: PerformanceWarning: DataFrame is highly fragmented.  This is usually the result of calling `frame.insert` many times, which has poor performance.  Consider joining all columns at once using pd.concat(axis=1) instead. To get a de-fragmented frame, use `newframe = frame.copy()`\n",
      "  data[data_quartile] = np.where(data[col] > upper_limit, upper_limit, data[col])\n",
      "C:\\Users\\Admin\\AppData\\Local\\Temp\\ipykernel_40652\\3486996870.py:9: PerformanceWarning: DataFrame is highly fragmented.  This is usually the result of calling `frame.insert` many times, which has poor performance.  Consider joining all columns at once using pd.concat(axis=1) instead. To get a de-fragmented frame, use `newframe = frame.copy()`\n",
      "  data[data_quartile] = np.where(data[col] > upper_limit, upper_limit, data[col])\n",
      "C:\\Users\\Admin\\AppData\\Local\\Temp\\ipykernel_40652\\3486996870.py:9: PerformanceWarning: DataFrame is highly fragmented.  This is usually the result of calling `frame.insert` many times, which has poor performance.  Consider joining all columns at once using pd.concat(axis=1) instead. To get a de-fragmented frame, use `newframe = frame.copy()`\n",
      "  data[data_quartile] = np.where(data[col] > upper_limit, upper_limit, data[col])\n",
      "C:\\Users\\Admin\\AppData\\Local\\Temp\\ipykernel_40652\\3486996870.py:9: PerformanceWarning: DataFrame is highly fragmented.  This is usually the result of calling `frame.insert` many times, which has poor performance.  Consider joining all columns at once using pd.concat(axis=1) instead. To get a de-fragmented frame, use `newframe = frame.copy()`\n",
      "  data[data_quartile] = np.where(data[col] > upper_limit, upper_limit, data[col])\n",
      "C:\\Users\\Admin\\AppData\\Local\\Temp\\ipykernel_40652\\3486996870.py:9: PerformanceWarning: DataFrame is highly fragmented.  This is usually the result of calling `frame.insert` many times, which has poor performance.  Consider joining all columns at once using pd.concat(axis=1) instead. To get a de-fragmented frame, use `newframe = frame.copy()`\n",
      "  data[data_quartile] = np.where(data[col] > upper_limit, upper_limit, data[col])\n",
      "C:\\Users\\Admin\\AppData\\Local\\Temp\\ipykernel_40652\\3486996870.py:9: PerformanceWarning: DataFrame is highly fragmented.  This is usually the result of calling `frame.insert` many times, which has poor performance.  Consider joining all columns at once using pd.concat(axis=1) instead. To get a de-fragmented frame, use `newframe = frame.copy()`\n",
      "  data[data_quartile] = np.where(data[col] > upper_limit, upper_limit, data[col])\n",
      "C:\\Users\\Admin\\AppData\\Local\\Temp\\ipykernel_40652\\3486996870.py:9: PerformanceWarning: DataFrame is highly fragmented.  This is usually the result of calling `frame.insert` many times, which has poor performance.  Consider joining all columns at once using pd.concat(axis=1) instead. To get a de-fragmented frame, use `newframe = frame.copy()`\n",
      "  data[data_quartile] = np.where(data[col] > upper_limit, upper_limit, data[col])\n",
      "C:\\Users\\Admin\\AppData\\Local\\Temp\\ipykernel_40652\\3486996870.py:9: PerformanceWarning: DataFrame is highly fragmented.  This is usually the result of calling `frame.insert` many times, which has poor performance.  Consider joining all columns at once using pd.concat(axis=1) instead. To get a de-fragmented frame, use `newframe = frame.copy()`\n",
      "  data[data_quartile] = np.where(data[col] > upper_limit, upper_limit, data[col])\n",
      "C:\\Users\\Admin\\AppData\\Local\\Temp\\ipykernel_40652\\3486996870.py:9: PerformanceWarning: DataFrame is highly fragmented.  This is usually the result of calling `frame.insert` many times, which has poor performance.  Consider joining all columns at once using pd.concat(axis=1) instead. To get a de-fragmented frame, use `newframe = frame.copy()`\n",
      "  data[data_quartile] = np.where(data[col] > upper_limit, upper_limit, data[col])\n",
      "C:\\Users\\Admin\\AppData\\Local\\Temp\\ipykernel_40652\\3486996870.py:9: PerformanceWarning: DataFrame is highly fragmented.  This is usually the result of calling `frame.insert` many times, which has poor performance.  Consider joining all columns at once using pd.concat(axis=1) instead. To get a de-fragmented frame, use `newframe = frame.copy()`\n",
      "  data[data_quartile] = np.where(data[col] > upper_limit, upper_limit, data[col])\n",
      "C:\\Users\\Admin\\AppData\\Local\\Temp\\ipykernel_40652\\3486996870.py:9: PerformanceWarning: DataFrame is highly fragmented.  This is usually the result of calling `frame.insert` many times, which has poor performance.  Consider joining all columns at once using pd.concat(axis=1) instead. To get a de-fragmented frame, use `newframe = frame.copy()`\n",
      "  data[data_quartile] = np.where(data[col] > upper_limit, upper_limit, data[col])\n",
      "C:\\Users\\Admin\\AppData\\Local\\Temp\\ipykernel_40652\\3486996870.py:9: PerformanceWarning: DataFrame is highly fragmented.  This is usually the result of calling `frame.insert` many times, which has poor performance.  Consider joining all columns at once using pd.concat(axis=1) instead. To get a de-fragmented frame, use `newframe = frame.copy()`\n",
      "  data[data_quartile] = np.where(data[col] > upper_limit, upper_limit, data[col])\n",
      "C:\\Users\\Admin\\AppData\\Local\\Temp\\ipykernel_40652\\3486996870.py:9: PerformanceWarning: DataFrame is highly fragmented.  This is usually the result of calling `frame.insert` many times, which has poor performance.  Consider joining all columns at once using pd.concat(axis=1) instead. To get a de-fragmented frame, use `newframe = frame.copy()`\n",
      "  data[data_quartile] = np.where(data[col] > upper_limit, upper_limit, data[col])\n",
      "C:\\Users\\Admin\\AppData\\Local\\Temp\\ipykernel_40652\\3486996870.py:9: PerformanceWarning: DataFrame is highly fragmented.  This is usually the result of calling `frame.insert` many times, which has poor performance.  Consider joining all columns at once using pd.concat(axis=1) instead. To get a de-fragmented frame, use `newframe = frame.copy()`\n",
      "  data[data_quartile] = np.where(data[col] > upper_limit, upper_limit, data[col])\n",
      "C:\\Users\\Admin\\AppData\\Local\\Temp\\ipykernel_40652\\3486996870.py:9: PerformanceWarning: DataFrame is highly fragmented.  This is usually the result of calling `frame.insert` many times, which has poor performance.  Consider joining all columns at once using pd.concat(axis=1) instead. To get a de-fragmented frame, use `newframe = frame.copy()`\n",
      "  data[data_quartile] = np.where(data[col] > upper_limit, upper_limit, data[col])\n",
      "C:\\Users\\Admin\\AppData\\Local\\Temp\\ipykernel_40652\\3486996870.py:9: PerformanceWarning: DataFrame is highly fragmented.  This is usually the result of calling `frame.insert` many times, which has poor performance.  Consider joining all columns at once using pd.concat(axis=1) instead. To get a de-fragmented frame, use `newframe = frame.copy()`\n",
      "  data[data_quartile] = np.where(data[col] > upper_limit, upper_limit, data[col])\n",
      "C:\\Users\\Admin\\AppData\\Local\\Temp\\ipykernel_40652\\3486996870.py:9: PerformanceWarning: DataFrame is highly fragmented.  This is usually the result of calling `frame.insert` many times, which has poor performance.  Consider joining all columns at once using pd.concat(axis=1) instead. To get a de-fragmented frame, use `newframe = frame.copy()`\n",
      "  data[data_quartile] = np.where(data[col] > upper_limit, upper_limit, data[col])\n",
      "C:\\Users\\Admin\\AppData\\Local\\Temp\\ipykernel_40652\\3486996870.py:9: PerformanceWarning: DataFrame is highly fragmented.  This is usually the result of calling `frame.insert` many times, which has poor performance.  Consider joining all columns at once using pd.concat(axis=1) instead. To get a de-fragmented frame, use `newframe = frame.copy()`\n",
      "  data[data_quartile] = np.where(data[col] > upper_limit, upper_limit, data[col])\n",
      "C:\\Users\\Admin\\AppData\\Local\\Temp\\ipykernel_40652\\3486996870.py:9: PerformanceWarning: DataFrame is highly fragmented.  This is usually the result of calling `frame.insert` many times, which has poor performance.  Consider joining all columns at once using pd.concat(axis=1) instead. To get a de-fragmented frame, use `newframe = frame.copy()`\n",
      "  data[data_quartile] = np.where(data[col] > upper_limit, upper_limit, data[col])\n",
      "C:\\Users\\Admin\\AppData\\Local\\Temp\\ipykernel_40652\\3486996870.py:9: PerformanceWarning: DataFrame is highly fragmented.  This is usually the result of calling `frame.insert` many times, which has poor performance.  Consider joining all columns at once using pd.concat(axis=1) instead. To get a de-fragmented frame, use `newframe = frame.copy()`\n",
      "  data[data_quartile] = np.where(data[col] > upper_limit, upper_limit, data[col])\n",
      "C:\\Users\\Admin\\AppData\\Local\\Temp\\ipykernel_40652\\3486996870.py:9: PerformanceWarning: DataFrame is highly fragmented.  This is usually the result of calling `frame.insert` many times, which has poor performance.  Consider joining all columns at once using pd.concat(axis=1) instead. To get a de-fragmented frame, use `newframe = frame.copy()`\n",
      "  data[data_quartile] = np.where(data[col] > upper_limit, upper_limit, data[col])\n",
      "C:\\Users\\Admin\\AppData\\Local\\Temp\\ipykernel_40652\\3486996870.py:9: PerformanceWarning: DataFrame is highly fragmented.  This is usually the result of calling `frame.insert` many times, which has poor performance.  Consider joining all columns at once using pd.concat(axis=1) instead. To get a de-fragmented frame, use `newframe = frame.copy()`\n",
      "  data[data_quartile] = np.where(data[col] > upper_limit, upper_limit, data[col])\n",
      "C:\\Users\\Admin\\AppData\\Local\\Temp\\ipykernel_40652\\3486996870.py:9: PerformanceWarning: DataFrame is highly fragmented.  This is usually the result of calling `frame.insert` many times, which has poor performance.  Consider joining all columns at once using pd.concat(axis=1) instead. To get a de-fragmented frame, use `newframe = frame.copy()`\n",
      "  data[data_quartile] = np.where(data[col] > upper_limit, upper_limit, data[col])\n",
      "C:\\Users\\Admin\\AppData\\Local\\Temp\\ipykernel_40652\\3486996870.py:9: PerformanceWarning: DataFrame is highly fragmented.  This is usually the result of calling `frame.insert` many times, which has poor performance.  Consider joining all columns at once using pd.concat(axis=1) instead. To get a de-fragmented frame, use `newframe = frame.copy()`\n",
      "  data[data_quartile] = np.where(data[col] > upper_limit, upper_limit, data[col])\n",
      "C:\\Users\\Admin\\AppData\\Local\\Temp\\ipykernel_40652\\3486996870.py:9: PerformanceWarning: DataFrame is highly fragmented.  This is usually the result of calling `frame.insert` many times, which has poor performance.  Consider joining all columns at once using pd.concat(axis=1) instead. To get a de-fragmented frame, use `newframe = frame.copy()`\n",
      "  data[data_quartile] = np.where(data[col] > upper_limit, upper_limit, data[col])\n",
      "C:\\Users\\Admin\\AppData\\Local\\Temp\\ipykernel_40652\\3486996870.py:9: PerformanceWarning: DataFrame is highly fragmented.  This is usually the result of calling `frame.insert` many times, which has poor performance.  Consider joining all columns at once using pd.concat(axis=1) instead. To get a de-fragmented frame, use `newframe = frame.copy()`\n",
      "  data[data_quartile] = np.where(data[col] > upper_limit, upper_limit, data[col])\n",
      "C:\\Users\\Admin\\AppData\\Local\\Temp\\ipykernel_40652\\3486996870.py:9: PerformanceWarning: DataFrame is highly fragmented.  This is usually the result of calling `frame.insert` many times, which has poor performance.  Consider joining all columns at once using pd.concat(axis=1) instead. To get a de-fragmented frame, use `newframe = frame.copy()`\n",
      "  data[data_quartile] = np.where(data[col] > upper_limit, upper_limit, data[col])\n",
      "C:\\Users\\Admin\\AppData\\Local\\Temp\\ipykernel_40652\\3486996870.py:9: PerformanceWarning: DataFrame is highly fragmented.  This is usually the result of calling `frame.insert` many times, which has poor performance.  Consider joining all columns at once using pd.concat(axis=1) instead. To get a de-fragmented frame, use `newframe = frame.copy()`\n",
      "  data[data_quartile] = np.where(data[col] > upper_limit, upper_limit, data[col])\n",
      "C:\\Users\\Admin\\AppData\\Local\\Temp\\ipykernel_40652\\3486996870.py:9: PerformanceWarning: DataFrame is highly fragmented.  This is usually the result of calling `frame.insert` many times, which has poor performance.  Consider joining all columns at once using pd.concat(axis=1) instead. To get a de-fragmented frame, use `newframe = frame.copy()`\n",
      "  data[data_quartile] = np.where(data[col] > upper_limit, upper_limit, data[col])\n",
      "C:\\Users\\Admin\\AppData\\Local\\Temp\\ipykernel_40652\\3486996870.py:9: PerformanceWarning: DataFrame is highly fragmented.  This is usually the result of calling `frame.insert` many times, which has poor performance.  Consider joining all columns at once using pd.concat(axis=1) instead. To get a de-fragmented frame, use `newframe = frame.copy()`\n",
      "  data[data_quartile] = np.where(data[col] > upper_limit, upper_limit, data[col])\n",
      "C:\\Users\\Admin\\AppData\\Local\\Temp\\ipykernel_40652\\3486996870.py:9: PerformanceWarning: DataFrame is highly fragmented.  This is usually the result of calling `frame.insert` many times, which has poor performance.  Consider joining all columns at once using pd.concat(axis=1) instead. To get a de-fragmented frame, use `newframe = frame.copy()`\n",
      "  data[data_quartile] = np.where(data[col] > upper_limit, upper_limit, data[col])\n",
      "C:\\Users\\Admin\\AppData\\Local\\Temp\\ipykernel_40652\\3486996870.py:9: PerformanceWarning: DataFrame is highly fragmented.  This is usually the result of calling `frame.insert` many times, which has poor performance.  Consider joining all columns at once using pd.concat(axis=1) instead. To get a de-fragmented frame, use `newframe = frame.copy()`\n",
      "  data[data_quartile] = np.where(data[col] > upper_limit, upper_limit, data[col])\n",
      "C:\\Users\\Admin\\AppData\\Local\\Temp\\ipykernel_40652\\3486996870.py:9: PerformanceWarning: DataFrame is highly fragmented.  This is usually the result of calling `frame.insert` many times, which has poor performance.  Consider joining all columns at once using pd.concat(axis=1) instead. To get a de-fragmented frame, use `newframe = frame.copy()`\n",
      "  data[data_quartile] = np.where(data[col] > upper_limit, upper_limit, data[col])\n",
      "C:\\Users\\Admin\\AppData\\Local\\Temp\\ipykernel_40652\\3486996870.py:9: PerformanceWarning: DataFrame is highly fragmented.  This is usually the result of calling `frame.insert` many times, which has poor performance.  Consider joining all columns at once using pd.concat(axis=1) instead. To get a de-fragmented frame, use `newframe = frame.copy()`\n",
      "  data[data_quartile] = np.where(data[col] > upper_limit, upper_limit, data[col])\n",
      "C:\\Users\\Admin\\AppData\\Local\\Temp\\ipykernel_40652\\3486996870.py:9: PerformanceWarning: DataFrame is highly fragmented.  This is usually the result of calling `frame.insert` many times, which has poor performance.  Consider joining all columns at once using pd.concat(axis=1) instead. To get a de-fragmented frame, use `newframe = frame.copy()`\n",
      "  data[data_quartile] = np.where(data[col] > upper_limit, upper_limit, data[col])\n",
      "C:\\Users\\Admin\\AppData\\Local\\Temp\\ipykernel_40652\\3486996870.py:9: PerformanceWarning: DataFrame is highly fragmented.  This is usually the result of calling `frame.insert` many times, which has poor performance.  Consider joining all columns at once using pd.concat(axis=1) instead. To get a de-fragmented frame, use `newframe = frame.copy()`\n",
      "  data[data_quartile] = np.where(data[col] > upper_limit, upper_limit, data[col])\n",
      "C:\\Users\\Admin\\AppData\\Local\\Temp\\ipykernel_40652\\3486996870.py:9: PerformanceWarning: DataFrame is highly fragmented.  This is usually the result of calling `frame.insert` many times, which has poor performance.  Consider joining all columns at once using pd.concat(axis=1) instead. To get a de-fragmented frame, use `newframe = frame.copy()`\n",
      "  data[data_quartile] = np.where(data[col] > upper_limit, upper_limit, data[col])\n",
      "C:\\Users\\Admin\\AppData\\Local\\Temp\\ipykernel_40652\\3486996870.py:9: PerformanceWarning: DataFrame is highly fragmented.  This is usually the result of calling `frame.insert` many times, which has poor performance.  Consider joining all columns at once using pd.concat(axis=1) instead. To get a de-fragmented frame, use `newframe = frame.copy()`\n",
      "  data[data_quartile] = np.where(data[col] > upper_limit, upper_limit, data[col])\n",
      "C:\\Users\\Admin\\AppData\\Local\\Temp\\ipykernel_40652\\3486996870.py:9: PerformanceWarning: DataFrame is highly fragmented.  This is usually the result of calling `frame.insert` many times, which has poor performance.  Consider joining all columns at once using pd.concat(axis=1) instead. To get a de-fragmented frame, use `newframe = frame.copy()`\n",
      "  data[data_quartile] = np.where(data[col] > upper_limit, upper_limit, data[col])\n",
      "C:\\Users\\Admin\\AppData\\Local\\Temp\\ipykernel_40652\\3486996870.py:9: PerformanceWarning: DataFrame is highly fragmented.  This is usually the result of calling `frame.insert` many times, which has poor performance.  Consider joining all columns at once using pd.concat(axis=1) instead. To get a de-fragmented frame, use `newframe = frame.copy()`\n",
      "  data[data_quartile] = np.where(data[col] > upper_limit, upper_limit, data[col])\n",
      "C:\\Users\\Admin\\AppData\\Local\\Temp\\ipykernel_40652\\3486996870.py:9: PerformanceWarning: DataFrame is highly fragmented.  This is usually the result of calling `frame.insert` many times, which has poor performance.  Consider joining all columns at once using pd.concat(axis=1) instead. To get a de-fragmented frame, use `newframe = frame.copy()`\n",
      "  data[data_quartile] = np.where(data[col] > upper_limit, upper_limit, data[col])\n",
      "C:\\Users\\Admin\\AppData\\Local\\Temp\\ipykernel_40652\\3486996870.py:9: PerformanceWarning: DataFrame is highly fragmented.  This is usually the result of calling `frame.insert` many times, which has poor performance.  Consider joining all columns at once using pd.concat(axis=1) instead. To get a de-fragmented frame, use `newframe = frame.copy()`\n",
      "  data[data_quartile] = np.where(data[col] > upper_limit, upper_limit, data[col])\n",
      "C:\\Users\\Admin\\AppData\\Local\\Temp\\ipykernel_40652\\3486996870.py:9: PerformanceWarning: DataFrame is highly fragmented.  This is usually the result of calling `frame.insert` many times, which has poor performance.  Consider joining all columns at once using pd.concat(axis=1) instead. To get a de-fragmented frame, use `newframe = frame.copy()`\n",
      "  data[data_quartile] = np.where(data[col] > upper_limit, upper_limit, data[col])\n",
      "C:\\Users\\Admin\\AppData\\Local\\Temp\\ipykernel_40652\\3486996870.py:9: PerformanceWarning: DataFrame is highly fragmented.  This is usually the result of calling `frame.insert` many times, which has poor performance.  Consider joining all columns at once using pd.concat(axis=1) instead. To get a de-fragmented frame, use `newframe = frame.copy()`\n",
      "  data[data_quartile] = np.where(data[col] > upper_limit, upper_limit, data[col])\n",
      "C:\\Users\\Admin\\AppData\\Local\\Temp\\ipykernel_40652\\3486996870.py:9: PerformanceWarning: DataFrame is highly fragmented.  This is usually the result of calling `frame.insert` many times, which has poor performance.  Consider joining all columns at once using pd.concat(axis=1) instead. To get a de-fragmented frame, use `newframe = frame.copy()`\n",
      "  data[data_quartile] = np.where(data[col] > upper_limit, upper_limit, data[col])\n",
      "C:\\Users\\Admin\\AppData\\Local\\Temp\\ipykernel_40652\\3486996870.py:9: PerformanceWarning: DataFrame is highly fragmented.  This is usually the result of calling `frame.insert` many times, which has poor performance.  Consider joining all columns at once using pd.concat(axis=1) instead. To get a de-fragmented frame, use `newframe = frame.copy()`\n",
      "  data[data_quartile] = np.where(data[col] > upper_limit, upper_limit, data[col])\n",
      "C:\\Users\\Admin\\AppData\\Local\\Temp\\ipykernel_40652\\3486996870.py:9: PerformanceWarning: DataFrame is highly fragmented.  This is usually the result of calling `frame.insert` many times, which has poor performance.  Consider joining all columns at once using pd.concat(axis=1) instead. To get a de-fragmented frame, use `newframe = frame.copy()`\n",
      "  data[data_quartile] = np.where(data[col] > upper_limit, upper_limit, data[col])\n",
      "C:\\Users\\Admin\\AppData\\Local\\Temp\\ipykernel_40652\\3486996870.py:9: PerformanceWarning: DataFrame is highly fragmented.  This is usually the result of calling `frame.insert` many times, which has poor performance.  Consider joining all columns at once using pd.concat(axis=1) instead. To get a de-fragmented frame, use `newframe = frame.copy()`\n",
      "  data[data_quartile] = np.where(data[col] > upper_limit, upper_limit, data[col])\n",
      "C:\\Users\\Admin\\AppData\\Local\\Temp\\ipykernel_40652\\3486996870.py:9: PerformanceWarning: DataFrame is highly fragmented.  This is usually the result of calling `frame.insert` many times, which has poor performance.  Consider joining all columns at once using pd.concat(axis=1) instead. To get a de-fragmented frame, use `newframe = frame.copy()`\n",
      "  data[data_quartile] = np.where(data[col] > upper_limit, upper_limit, data[col])\n",
      "C:\\Users\\Admin\\AppData\\Local\\Temp\\ipykernel_40652\\3486996870.py:9: PerformanceWarning: DataFrame is highly fragmented.  This is usually the result of calling `frame.insert` many times, which has poor performance.  Consider joining all columns at once using pd.concat(axis=1) instead. To get a de-fragmented frame, use `newframe = frame.copy()`\n",
      "  data[data_quartile] = np.where(data[col] > upper_limit, upper_limit, data[col])\n",
      "C:\\Users\\Admin\\AppData\\Local\\Temp\\ipykernel_40652\\3486996870.py:9: PerformanceWarning: DataFrame is highly fragmented.  This is usually the result of calling `frame.insert` many times, which has poor performance.  Consider joining all columns at once using pd.concat(axis=1) instead. To get a de-fragmented frame, use `newframe = frame.copy()`\n",
      "  data[data_quartile] = np.where(data[col] > upper_limit, upper_limit, data[col])\n",
      "C:\\Users\\Admin\\AppData\\Local\\Temp\\ipykernel_40652\\3486996870.py:9: PerformanceWarning: DataFrame is highly fragmented.  This is usually the result of calling `frame.insert` many times, which has poor performance.  Consider joining all columns at once using pd.concat(axis=1) instead. To get a de-fragmented frame, use `newframe = frame.copy()`\n",
      "  data[data_quartile] = np.where(data[col] > upper_limit, upper_limit, data[col])\n",
      "C:\\Users\\Admin\\AppData\\Local\\Temp\\ipykernel_40652\\3486996870.py:9: PerformanceWarning: DataFrame is highly fragmented.  This is usually the result of calling `frame.insert` many times, which has poor performance.  Consider joining all columns at once using pd.concat(axis=1) instead. To get a de-fragmented frame, use `newframe = frame.copy()`\n",
      "  data[data_quartile] = np.where(data[col] > upper_limit, upper_limit, data[col])\n",
      "C:\\Users\\Admin\\AppData\\Local\\Temp\\ipykernel_40652\\3486996870.py:9: PerformanceWarning: DataFrame is highly fragmented.  This is usually the result of calling `frame.insert` many times, which has poor performance.  Consider joining all columns at once using pd.concat(axis=1) instead. To get a de-fragmented frame, use `newframe = frame.copy()`\n",
      "  data[data_quartile] = np.where(data[col] > upper_limit, upper_limit, data[col])\n",
      "C:\\Users\\Admin\\AppData\\Local\\Temp\\ipykernel_40652\\3486996870.py:9: PerformanceWarning: DataFrame is highly fragmented.  This is usually the result of calling `frame.insert` many times, which has poor performance.  Consider joining all columns at once using pd.concat(axis=1) instead. To get a de-fragmented frame, use `newframe = frame.copy()`\n",
      "  data[data_quartile] = np.where(data[col] > upper_limit, upper_limit, data[col])\n",
      "C:\\Users\\Admin\\AppData\\Local\\Temp\\ipykernel_40652\\3486996870.py:9: PerformanceWarning: DataFrame is highly fragmented.  This is usually the result of calling `frame.insert` many times, which has poor performance.  Consider joining all columns at once using pd.concat(axis=1) instead. To get a de-fragmented frame, use `newframe = frame.copy()`\n",
      "  data[data_quartile] = np.where(data[col] > upper_limit, upper_limit, data[col])\n",
      "C:\\Users\\Admin\\AppData\\Local\\Temp\\ipykernel_40652\\3486996870.py:9: PerformanceWarning: DataFrame is highly fragmented.  This is usually the result of calling `frame.insert` many times, which has poor performance.  Consider joining all columns at once using pd.concat(axis=1) instead. To get a de-fragmented frame, use `newframe = frame.copy()`\n",
      "  data[data_quartile] = np.where(data[col] > upper_limit, upper_limit, data[col])\n",
      "C:\\Users\\Admin\\AppData\\Local\\Temp\\ipykernel_40652\\3486996870.py:9: PerformanceWarning: DataFrame is highly fragmented.  This is usually the result of calling `frame.insert` many times, which has poor performance.  Consider joining all columns at once using pd.concat(axis=1) instead. To get a de-fragmented frame, use `newframe = frame.copy()`\n",
      "  data[data_quartile] = np.where(data[col] > upper_limit, upper_limit, data[col])\n",
      "C:\\Users\\Admin\\AppData\\Local\\Temp\\ipykernel_40652\\3486996870.py:9: PerformanceWarning: DataFrame is highly fragmented.  This is usually the result of calling `frame.insert` many times, which has poor performance.  Consider joining all columns at once using pd.concat(axis=1) instead. To get a de-fragmented frame, use `newframe = frame.copy()`\n",
      "  data[data_quartile] = np.where(data[col] > upper_limit, upper_limit, data[col])\n",
      "C:\\Users\\Admin\\AppData\\Local\\Temp\\ipykernel_40652\\3486996870.py:9: PerformanceWarning: DataFrame is highly fragmented.  This is usually the result of calling `frame.insert` many times, which has poor performance.  Consider joining all columns at once using pd.concat(axis=1) instead. To get a de-fragmented frame, use `newframe = frame.copy()`\n",
      "  data[data_quartile] = np.where(data[col] > upper_limit, upper_limit, data[col])\n",
      "C:\\Users\\Admin\\AppData\\Local\\Temp\\ipykernel_40652\\3486996870.py:9: PerformanceWarning: DataFrame is highly fragmented.  This is usually the result of calling `frame.insert` many times, which has poor performance.  Consider joining all columns at once using pd.concat(axis=1) instead. To get a de-fragmented frame, use `newframe = frame.copy()`\n",
      "  data[data_quartile] = np.where(data[col] > upper_limit, upper_limit, data[col])\n",
      "C:\\Users\\Admin\\AppData\\Local\\Temp\\ipykernel_40652\\3486996870.py:9: PerformanceWarning: DataFrame is highly fragmented.  This is usually the result of calling `frame.insert` many times, which has poor performance.  Consider joining all columns at once using pd.concat(axis=1) instead. To get a de-fragmented frame, use `newframe = frame.copy()`\n",
      "  data[data_quartile] = np.where(data[col] > upper_limit, upper_limit, data[col])\n",
      "C:\\Users\\Admin\\AppData\\Local\\Temp\\ipykernel_40652\\3486996870.py:9: PerformanceWarning: DataFrame is highly fragmented.  This is usually the result of calling `frame.insert` many times, which has poor performance.  Consider joining all columns at once using pd.concat(axis=1) instead. To get a de-fragmented frame, use `newframe = frame.copy()`\n",
      "  data[data_quartile] = np.where(data[col] > upper_limit, upper_limit, data[col])\n",
      "C:\\Users\\Admin\\AppData\\Local\\Temp\\ipykernel_40652\\3486996870.py:9: PerformanceWarning: DataFrame is highly fragmented.  This is usually the result of calling `frame.insert` many times, which has poor performance.  Consider joining all columns at once using pd.concat(axis=1) instead. To get a de-fragmented frame, use `newframe = frame.copy()`\n",
      "  data[data_quartile] = np.where(data[col] > upper_limit, upper_limit, data[col])\n",
      "C:\\Users\\Admin\\AppData\\Local\\Temp\\ipykernel_40652\\3486996870.py:9: PerformanceWarning: DataFrame is highly fragmented.  This is usually the result of calling `frame.insert` many times, which has poor performance.  Consider joining all columns at once using pd.concat(axis=1) instead. To get a de-fragmented frame, use `newframe = frame.copy()`\n",
      "  data[data_quartile] = np.where(data[col] > upper_limit, upper_limit, data[col])\n",
      "C:\\Users\\Admin\\AppData\\Local\\Temp\\ipykernel_40652\\3486996870.py:9: PerformanceWarning: DataFrame is highly fragmented.  This is usually the result of calling `frame.insert` many times, which has poor performance.  Consider joining all columns at once using pd.concat(axis=1) instead. To get a de-fragmented frame, use `newframe = frame.copy()`\n",
      "  data[data_quartile] = np.where(data[col] > upper_limit, upper_limit, data[col])\n",
      "C:\\Users\\Admin\\AppData\\Local\\Temp\\ipykernel_40652\\3486996870.py:9: PerformanceWarning: DataFrame is highly fragmented.  This is usually the result of calling `frame.insert` many times, which has poor performance.  Consider joining all columns at once using pd.concat(axis=1) instead. To get a de-fragmented frame, use `newframe = frame.copy()`\n",
      "  data[data_quartile] = np.where(data[col] > upper_limit, upper_limit, data[col])\n",
      "C:\\Users\\Admin\\AppData\\Local\\Temp\\ipykernel_40652\\3486996870.py:9: PerformanceWarning: DataFrame is highly fragmented.  This is usually the result of calling `frame.insert` many times, which has poor performance.  Consider joining all columns at once using pd.concat(axis=1) instead. To get a de-fragmented frame, use `newframe = frame.copy()`\n",
      "  data[data_quartile] = np.where(data[col] > upper_limit, upper_limit, data[col])\n",
      "C:\\Users\\Admin\\AppData\\Local\\Temp\\ipykernel_40652\\3486996870.py:9: PerformanceWarning: DataFrame is highly fragmented.  This is usually the result of calling `frame.insert` many times, which has poor performance.  Consider joining all columns at once using pd.concat(axis=1) instead. To get a de-fragmented frame, use `newframe = frame.copy()`\n",
      "  data[data_quartile] = np.where(data[col] > upper_limit, upper_limit, data[col])\n",
      "C:\\Users\\Admin\\AppData\\Local\\Temp\\ipykernel_40652\\3486996870.py:9: PerformanceWarning: DataFrame is highly fragmented.  This is usually the result of calling `frame.insert` many times, which has poor performance.  Consider joining all columns at once using pd.concat(axis=1) instead. To get a de-fragmented frame, use `newframe = frame.copy()`\n",
      "  data[data_quartile] = np.where(data[col] > upper_limit, upper_limit, data[col])\n",
      "C:\\Users\\Admin\\AppData\\Local\\Temp\\ipykernel_40652\\3486996870.py:9: PerformanceWarning: DataFrame is highly fragmented.  This is usually the result of calling `frame.insert` many times, which has poor performance.  Consider joining all columns at once using pd.concat(axis=1) instead. To get a de-fragmented frame, use `newframe = frame.copy()`\n",
      "  data[data_quartile] = np.where(data[col] > upper_limit, upper_limit, data[col])\n",
      "C:\\Users\\Admin\\AppData\\Local\\Temp\\ipykernel_40652\\3486996870.py:9: PerformanceWarning: DataFrame is highly fragmented.  This is usually the result of calling `frame.insert` many times, which has poor performance.  Consider joining all columns at once using pd.concat(axis=1) instead. To get a de-fragmented frame, use `newframe = frame.copy()`\n",
      "  data[data_quartile] = np.where(data[col] > upper_limit, upper_limit, data[col])\n",
      "C:\\Users\\Admin\\AppData\\Local\\Temp\\ipykernel_40652\\3486996870.py:9: PerformanceWarning: DataFrame is highly fragmented.  This is usually the result of calling `frame.insert` many times, which has poor performance.  Consider joining all columns at once using pd.concat(axis=1) instead. To get a de-fragmented frame, use `newframe = frame.copy()`\n",
      "  data[data_quartile] = np.where(data[col] > upper_limit, upper_limit, data[col])\n",
      "C:\\Users\\Admin\\AppData\\Local\\Temp\\ipykernel_40652\\3486996870.py:9: PerformanceWarning: DataFrame is highly fragmented.  This is usually the result of calling `frame.insert` many times, which has poor performance.  Consider joining all columns at once using pd.concat(axis=1) instead. To get a de-fragmented frame, use `newframe = frame.copy()`\n",
      "  data[data_quartile] = np.where(data[col] > upper_limit, upper_limit, data[col])\n",
      "C:\\Users\\Admin\\AppData\\Local\\Temp\\ipykernel_40652\\3486996870.py:9: PerformanceWarning: DataFrame is highly fragmented.  This is usually the result of calling `frame.insert` many times, which has poor performance.  Consider joining all columns at once using pd.concat(axis=1) instead. To get a de-fragmented frame, use `newframe = frame.copy()`\n",
      "  data[data_quartile] = np.where(data[col] > upper_limit, upper_limit, data[col])\n",
      "C:\\Users\\Admin\\AppData\\Local\\Temp\\ipykernel_40652\\3486996870.py:9: PerformanceWarning: DataFrame is highly fragmented.  This is usually the result of calling `frame.insert` many times, which has poor performance.  Consider joining all columns at once using pd.concat(axis=1) instead. To get a de-fragmented frame, use `newframe = frame.copy()`\n",
      "  data[data_quartile] = np.where(data[col] > upper_limit, upper_limit, data[col])\n",
      "C:\\Users\\Admin\\AppData\\Local\\Temp\\ipykernel_40652\\3486996870.py:9: PerformanceWarning: DataFrame is highly fragmented.  This is usually the result of calling `frame.insert` many times, which has poor performance.  Consider joining all columns at once using pd.concat(axis=1) instead. To get a de-fragmented frame, use `newframe = frame.copy()`\n",
      "  data[data_quartile] = np.where(data[col] > upper_limit, upper_limit, data[col])\n",
      "C:\\Users\\Admin\\AppData\\Local\\Temp\\ipykernel_40652\\3486996870.py:9: PerformanceWarning: DataFrame is highly fragmented.  This is usually the result of calling `frame.insert` many times, which has poor performance.  Consider joining all columns at once using pd.concat(axis=1) instead. To get a de-fragmented frame, use `newframe = frame.copy()`\n",
      "  data[data_quartile] = np.where(data[col] > upper_limit, upper_limit, data[col])\n",
      "C:\\Users\\Admin\\AppData\\Local\\Temp\\ipykernel_40652\\3486996870.py:9: PerformanceWarning: DataFrame is highly fragmented.  This is usually the result of calling `frame.insert` many times, which has poor performance.  Consider joining all columns at once using pd.concat(axis=1) instead. To get a de-fragmented frame, use `newframe = frame.copy()`\n",
      "  data[data_quartile] = np.where(data[col] > upper_limit, upper_limit, data[col])\n",
      "C:\\Users\\Admin\\AppData\\Local\\Temp\\ipykernel_40652\\3486996870.py:9: PerformanceWarning: DataFrame is highly fragmented.  This is usually the result of calling `frame.insert` many times, which has poor performance.  Consider joining all columns at once using pd.concat(axis=1) instead. To get a de-fragmented frame, use `newframe = frame.copy()`\n",
      "  data[data_quartile] = np.where(data[col] > upper_limit, upper_limit, data[col])\n",
      "C:\\Users\\Admin\\AppData\\Local\\Temp\\ipykernel_40652\\3486996870.py:9: PerformanceWarning: DataFrame is highly fragmented.  This is usually the result of calling `frame.insert` many times, which has poor performance.  Consider joining all columns at once using pd.concat(axis=1) instead. To get a de-fragmented frame, use `newframe = frame.copy()`\n",
      "  data[data_quartile] = np.where(data[col] > upper_limit, upper_limit, data[col])\n",
      "C:\\Users\\Admin\\AppData\\Local\\Temp\\ipykernel_40652\\3486996870.py:9: PerformanceWarning: DataFrame is highly fragmented.  This is usually the result of calling `frame.insert` many times, which has poor performance.  Consider joining all columns at once using pd.concat(axis=1) instead. To get a de-fragmented frame, use `newframe = frame.copy()`\n",
      "  data[data_quartile] = np.where(data[col] > upper_limit, upper_limit, data[col])\n",
      "C:\\Users\\Admin\\AppData\\Local\\Temp\\ipykernel_40652\\3486996870.py:9: PerformanceWarning: DataFrame is highly fragmented.  This is usually the result of calling `frame.insert` many times, which has poor performance.  Consider joining all columns at once using pd.concat(axis=1) instead. To get a de-fragmented frame, use `newframe = frame.copy()`\n",
      "  data[data_quartile] = np.where(data[col] > upper_limit, upper_limit, data[col])\n",
      "C:\\Users\\Admin\\AppData\\Local\\Temp\\ipykernel_40652\\3486996870.py:9: PerformanceWarning: DataFrame is highly fragmented.  This is usually the result of calling `frame.insert` many times, which has poor performance.  Consider joining all columns at once using pd.concat(axis=1) instead. To get a de-fragmented frame, use `newframe = frame.copy()`\n",
      "  data[data_quartile] = np.where(data[col] > upper_limit, upper_limit, data[col])\n",
      "C:\\Users\\Admin\\AppData\\Local\\Temp\\ipykernel_40652\\3486996870.py:9: PerformanceWarning: DataFrame is highly fragmented.  This is usually the result of calling `frame.insert` many times, which has poor performance.  Consider joining all columns at once using pd.concat(axis=1) instead. To get a de-fragmented frame, use `newframe = frame.copy()`\n",
      "  data[data_quartile] = np.where(data[col] > upper_limit, upper_limit, data[col])\n",
      "C:\\Users\\Admin\\AppData\\Local\\Temp\\ipykernel_40652\\3486996870.py:9: PerformanceWarning: DataFrame is highly fragmented.  This is usually the result of calling `frame.insert` many times, which has poor performance.  Consider joining all columns at once using pd.concat(axis=1) instead. To get a de-fragmented frame, use `newframe = frame.copy()`\n",
      "  data[data_quartile] = np.where(data[col] > upper_limit, upper_limit, data[col])\n",
      "C:\\Users\\Admin\\AppData\\Local\\Temp\\ipykernel_40652\\3486996870.py:9: PerformanceWarning: DataFrame is highly fragmented.  This is usually the result of calling `frame.insert` many times, which has poor performance.  Consider joining all columns at once using pd.concat(axis=1) instead. To get a de-fragmented frame, use `newframe = frame.copy()`\n",
      "  data[data_quartile] = np.where(data[col] > upper_limit, upper_limit, data[col])\n",
      "C:\\Users\\Admin\\AppData\\Local\\Temp\\ipykernel_40652\\3486996870.py:9: PerformanceWarning: DataFrame is highly fragmented.  This is usually the result of calling `frame.insert` many times, which has poor performance.  Consider joining all columns at once using pd.concat(axis=1) instead. To get a de-fragmented frame, use `newframe = frame.copy()`\n",
      "  data[data_quartile] = np.where(data[col] > upper_limit, upper_limit, data[col])\n",
      "C:\\Users\\Admin\\AppData\\Local\\Temp\\ipykernel_40652\\3486996870.py:9: PerformanceWarning: DataFrame is highly fragmented.  This is usually the result of calling `frame.insert` many times, which has poor performance.  Consider joining all columns at once using pd.concat(axis=1) instead. To get a de-fragmented frame, use `newframe = frame.copy()`\n",
      "  data[data_quartile] = np.where(data[col] > upper_limit, upper_limit, data[col])\n",
      "C:\\Users\\Admin\\AppData\\Local\\Temp\\ipykernel_40652\\3486996870.py:9: PerformanceWarning: DataFrame is highly fragmented.  This is usually the result of calling `frame.insert` many times, which has poor performance.  Consider joining all columns at once using pd.concat(axis=1) instead. To get a de-fragmented frame, use `newframe = frame.copy()`\n",
      "  data[data_quartile] = np.where(data[col] > upper_limit, upper_limit, data[col])\n",
      "C:\\Users\\Admin\\AppData\\Local\\Temp\\ipykernel_40652\\3486996870.py:9: PerformanceWarning: DataFrame is highly fragmented.  This is usually the result of calling `frame.insert` many times, which has poor performance.  Consider joining all columns at once using pd.concat(axis=1) instead. To get a de-fragmented frame, use `newframe = frame.copy()`\n",
      "  data[data_quartile] = np.where(data[col] > upper_limit, upper_limit, data[col])\n",
      "C:\\Users\\Admin\\AppData\\Local\\Temp\\ipykernel_40652\\3486996870.py:9: PerformanceWarning: DataFrame is highly fragmented.  This is usually the result of calling `frame.insert` many times, which has poor performance.  Consider joining all columns at once using pd.concat(axis=1) instead. To get a de-fragmented frame, use `newframe = frame.copy()`\n",
      "  data[data_quartile] = np.where(data[col] > upper_limit, upper_limit, data[col])\n",
      "C:\\Users\\Admin\\AppData\\Local\\Temp\\ipykernel_40652\\3486996870.py:9: PerformanceWarning: DataFrame is highly fragmented.  This is usually the result of calling `frame.insert` many times, which has poor performance.  Consider joining all columns at once using pd.concat(axis=1) instead. To get a de-fragmented frame, use `newframe = frame.copy()`\n",
      "  data[data_quartile] = np.where(data[col] > upper_limit, upper_limit, data[col])\n",
      "C:\\Users\\Admin\\AppData\\Local\\Temp\\ipykernel_40652\\3486996870.py:9: PerformanceWarning: DataFrame is highly fragmented.  This is usually the result of calling `frame.insert` many times, which has poor performance.  Consider joining all columns at once using pd.concat(axis=1) instead. To get a de-fragmented frame, use `newframe = frame.copy()`\n",
      "  data[data_quartile] = np.where(data[col] > upper_limit, upper_limit, data[col])\n",
      "C:\\Users\\Admin\\AppData\\Local\\Temp\\ipykernel_40652\\3486996870.py:9: PerformanceWarning: DataFrame is highly fragmented.  This is usually the result of calling `frame.insert` many times, which has poor performance.  Consider joining all columns at once using pd.concat(axis=1) instead. To get a de-fragmented frame, use `newframe = frame.copy()`\n",
      "  data[data_quartile] = np.where(data[col] > upper_limit, upper_limit, data[col])\n",
      "C:\\Users\\Admin\\AppData\\Local\\Temp\\ipykernel_40652\\3486996870.py:9: PerformanceWarning: DataFrame is highly fragmented.  This is usually the result of calling `frame.insert` many times, which has poor performance.  Consider joining all columns at once using pd.concat(axis=1) instead. To get a de-fragmented frame, use `newframe = frame.copy()`\n",
      "  data[data_quartile] = np.where(data[col] > upper_limit, upper_limit, data[col])\n",
      "C:\\Users\\Admin\\AppData\\Local\\Temp\\ipykernel_40652\\3486996870.py:9: PerformanceWarning: DataFrame is highly fragmented.  This is usually the result of calling `frame.insert` many times, which has poor performance.  Consider joining all columns at once using pd.concat(axis=1) instead. To get a de-fragmented frame, use `newframe = frame.copy()`\n",
      "  data[data_quartile] = np.where(data[col] > upper_limit, upper_limit, data[col])\n",
      "C:\\Users\\Admin\\AppData\\Local\\Temp\\ipykernel_40652\\3486996870.py:9: PerformanceWarning: DataFrame is highly fragmented.  This is usually the result of calling `frame.insert` many times, which has poor performance.  Consider joining all columns at once using pd.concat(axis=1) instead. To get a de-fragmented frame, use `newframe = frame.copy()`\n",
      "  data[data_quartile] = np.where(data[col] > upper_limit, upper_limit, data[col])\n",
      "C:\\Users\\Admin\\AppData\\Local\\Temp\\ipykernel_40652\\3486996870.py:9: PerformanceWarning: DataFrame is highly fragmented.  This is usually the result of calling `frame.insert` many times, which has poor performance.  Consider joining all columns at once using pd.concat(axis=1) instead. To get a de-fragmented frame, use `newframe = frame.copy()`\n",
      "  data[data_quartile] = np.where(data[col] > upper_limit, upper_limit, data[col])\n",
      "C:\\Users\\Admin\\AppData\\Local\\Temp\\ipykernel_40652\\3486996870.py:9: PerformanceWarning: DataFrame is highly fragmented.  This is usually the result of calling `frame.insert` many times, which has poor performance.  Consider joining all columns at once using pd.concat(axis=1) instead. To get a de-fragmented frame, use `newframe = frame.copy()`\n",
      "  data[data_quartile] = np.where(data[col] > upper_limit, upper_limit, data[col])\n",
      "C:\\Users\\Admin\\AppData\\Local\\Temp\\ipykernel_40652\\3486996870.py:9: PerformanceWarning: DataFrame is highly fragmented.  This is usually the result of calling `frame.insert` many times, which has poor performance.  Consider joining all columns at once using pd.concat(axis=1) instead. To get a de-fragmented frame, use `newframe = frame.copy()`\n",
      "  data[data_quartile] = np.where(data[col] > upper_limit, upper_limit, data[col])\n",
      "C:\\Users\\Admin\\AppData\\Local\\Temp\\ipykernel_40652\\3486996870.py:9: PerformanceWarning: DataFrame is highly fragmented.  This is usually the result of calling `frame.insert` many times, which has poor performance.  Consider joining all columns at once using pd.concat(axis=1) instead. To get a de-fragmented frame, use `newframe = frame.copy()`\n",
      "  data[data_quartile] = np.where(data[col] > upper_limit, upper_limit, data[col])\n",
      "C:\\Users\\Admin\\AppData\\Local\\Temp\\ipykernel_40652\\3486996870.py:9: PerformanceWarning: DataFrame is highly fragmented.  This is usually the result of calling `frame.insert` many times, which has poor performance.  Consider joining all columns at once using pd.concat(axis=1) instead. To get a de-fragmented frame, use `newframe = frame.copy()`\n",
      "  data[data_quartile] = np.where(data[col] > upper_limit, upper_limit, data[col])\n",
      "C:\\Users\\Admin\\AppData\\Local\\Temp\\ipykernel_40652\\3486996870.py:9: PerformanceWarning: DataFrame is highly fragmented.  This is usually the result of calling `frame.insert` many times, which has poor performance.  Consider joining all columns at once using pd.concat(axis=1) instead. To get a de-fragmented frame, use `newframe = frame.copy()`\n",
      "  data[data_quartile] = np.where(data[col] > upper_limit, upper_limit, data[col])\n",
      "C:\\Users\\Admin\\AppData\\Local\\Temp\\ipykernel_40652\\3486996870.py:9: PerformanceWarning: DataFrame is highly fragmented.  This is usually the result of calling `frame.insert` many times, which has poor performance.  Consider joining all columns at once using pd.concat(axis=1) instead. To get a de-fragmented frame, use `newframe = frame.copy()`\n",
      "  data[data_quartile] = np.where(data[col] > upper_limit, upper_limit, data[col])\n",
      "C:\\Users\\Admin\\AppData\\Local\\Temp\\ipykernel_40652\\3486996870.py:9: PerformanceWarning: DataFrame is highly fragmented.  This is usually the result of calling `frame.insert` many times, which has poor performance.  Consider joining all columns at once using pd.concat(axis=1) instead. To get a de-fragmented frame, use `newframe = frame.copy()`\n",
      "  data[data_quartile] = np.where(data[col] > upper_limit, upper_limit, data[col])\n",
      "C:\\Users\\Admin\\AppData\\Local\\Temp\\ipykernel_40652\\3486996870.py:9: PerformanceWarning: DataFrame is highly fragmented.  This is usually the result of calling `frame.insert` many times, which has poor performance.  Consider joining all columns at once using pd.concat(axis=1) instead. To get a de-fragmented frame, use `newframe = frame.copy()`\n",
      "  data[data_quartile] = np.where(data[col] > upper_limit, upper_limit, data[col])\n",
      "C:\\Users\\Admin\\AppData\\Local\\Temp\\ipykernel_40652\\3486996870.py:9: PerformanceWarning: DataFrame is highly fragmented.  This is usually the result of calling `frame.insert` many times, which has poor performance.  Consider joining all columns at once using pd.concat(axis=1) instead. To get a de-fragmented frame, use `newframe = frame.copy()`\n",
      "  data[data_quartile] = np.where(data[col] > upper_limit, upper_limit, data[col])\n",
      "C:\\Users\\Admin\\AppData\\Local\\Temp\\ipykernel_40652\\3486996870.py:9: PerformanceWarning: DataFrame is highly fragmented.  This is usually the result of calling `frame.insert` many times, which has poor performance.  Consider joining all columns at once using pd.concat(axis=1) instead. To get a de-fragmented frame, use `newframe = frame.copy()`\n",
      "  data[data_quartile] = np.where(data[col] > upper_limit, upper_limit, data[col])\n",
      "C:\\Users\\Admin\\AppData\\Local\\Temp\\ipykernel_40652\\3486996870.py:9: PerformanceWarning: DataFrame is highly fragmented.  This is usually the result of calling `frame.insert` many times, which has poor performance.  Consider joining all columns at once using pd.concat(axis=1) instead. To get a de-fragmented frame, use `newframe = frame.copy()`\n",
      "  data[data_quartile] = np.where(data[col] > upper_limit, upper_limit, data[col])\n",
      "C:\\Users\\Admin\\AppData\\Local\\Temp\\ipykernel_40652\\3486996870.py:9: PerformanceWarning: DataFrame is highly fragmented.  This is usually the result of calling `frame.insert` many times, which has poor performance.  Consider joining all columns at once using pd.concat(axis=1) instead. To get a de-fragmented frame, use `newframe = frame.copy()`\n",
      "  data[data_quartile] = np.where(data[col] > upper_limit, upper_limit, data[col])\n",
      "C:\\Users\\Admin\\AppData\\Local\\Temp\\ipykernel_40652\\3486996870.py:9: PerformanceWarning: DataFrame is highly fragmented.  This is usually the result of calling `frame.insert` many times, which has poor performance.  Consider joining all columns at once using pd.concat(axis=1) instead. To get a de-fragmented frame, use `newframe = frame.copy()`\n",
      "  data[data_quartile] = np.where(data[col] > upper_limit, upper_limit, data[col])\n",
      "C:\\Users\\Admin\\AppData\\Local\\Temp\\ipykernel_40652\\3486996870.py:9: PerformanceWarning: DataFrame is highly fragmented.  This is usually the result of calling `frame.insert` many times, which has poor performance.  Consider joining all columns at once using pd.concat(axis=1) instead. To get a de-fragmented frame, use `newframe = frame.copy()`\n",
      "  data[data_quartile] = np.where(data[col] > upper_limit, upper_limit, data[col])\n",
      "C:\\Users\\Admin\\AppData\\Local\\Temp\\ipykernel_40652\\3486996870.py:9: PerformanceWarning: DataFrame is highly fragmented.  This is usually the result of calling `frame.insert` many times, which has poor performance.  Consider joining all columns at once using pd.concat(axis=1) instead. To get a de-fragmented frame, use `newframe = frame.copy()`\n",
      "  data[data_quartile] = np.where(data[col] > upper_limit, upper_limit, data[col])\n",
      "C:\\Users\\Admin\\AppData\\Local\\Temp\\ipykernel_40652\\3486996870.py:9: PerformanceWarning: DataFrame is highly fragmented.  This is usually the result of calling `frame.insert` many times, which has poor performance.  Consider joining all columns at once using pd.concat(axis=1) instead. To get a de-fragmented frame, use `newframe = frame.copy()`\n",
      "  data[data_quartile] = np.where(data[col] > upper_limit, upper_limit, data[col])\n",
      "C:\\Users\\Admin\\AppData\\Local\\Temp\\ipykernel_40652\\3486996870.py:9: PerformanceWarning: DataFrame is highly fragmented.  This is usually the result of calling `frame.insert` many times, which has poor performance.  Consider joining all columns at once using pd.concat(axis=1) instead. To get a de-fragmented frame, use `newframe = frame.copy()`\n",
      "  data[data_quartile] = np.where(data[col] > upper_limit, upper_limit, data[col])\n",
      "C:\\Users\\Admin\\AppData\\Local\\Temp\\ipykernel_40652\\3486996870.py:9: PerformanceWarning: DataFrame is highly fragmented.  This is usually the result of calling `frame.insert` many times, which has poor performance.  Consider joining all columns at once using pd.concat(axis=1) instead. To get a de-fragmented frame, use `newframe = frame.copy()`\n",
      "  data[data_quartile] = np.where(data[col] > upper_limit, upper_limit, data[col])\n",
      "C:\\Users\\Admin\\AppData\\Local\\Temp\\ipykernel_40652\\3486996870.py:9: PerformanceWarning: DataFrame is highly fragmented.  This is usually the result of calling `frame.insert` many times, which has poor performance.  Consider joining all columns at once using pd.concat(axis=1) instead. To get a de-fragmented frame, use `newframe = frame.copy()`\n",
      "  data[data_quartile] = np.where(data[col] > upper_limit, upper_limit, data[col])\n",
      "C:\\Users\\Admin\\AppData\\Local\\Temp\\ipykernel_40652\\3486996870.py:9: PerformanceWarning: DataFrame is highly fragmented.  This is usually the result of calling `frame.insert` many times, which has poor performance.  Consider joining all columns at once using pd.concat(axis=1) instead. To get a de-fragmented frame, use `newframe = frame.copy()`\n",
      "  data[data_quartile] = np.where(data[col] > upper_limit, upper_limit, data[col])\n",
      "C:\\Users\\Admin\\AppData\\Local\\Temp\\ipykernel_40652\\3486996870.py:9: PerformanceWarning: DataFrame is highly fragmented.  This is usually the result of calling `frame.insert` many times, which has poor performance.  Consider joining all columns at once using pd.concat(axis=1) instead. To get a de-fragmented frame, use `newframe = frame.copy()`\n",
      "  data[data_quartile] = np.where(data[col] > upper_limit, upper_limit, data[col])\n",
      "C:\\Users\\Admin\\AppData\\Local\\Temp\\ipykernel_40652\\3486996870.py:9: PerformanceWarning: DataFrame is highly fragmented.  This is usually the result of calling `frame.insert` many times, which has poor performance.  Consider joining all columns at once using pd.concat(axis=1) instead. To get a de-fragmented frame, use `newframe = frame.copy()`\n",
      "  data[data_quartile] = np.where(data[col] > upper_limit, upper_limit, data[col])\n",
      "C:\\Users\\Admin\\AppData\\Local\\Temp\\ipykernel_40652\\3486996870.py:9: PerformanceWarning: DataFrame is highly fragmented.  This is usually the result of calling `frame.insert` many times, which has poor performance.  Consider joining all columns at once using pd.concat(axis=1) instead. To get a de-fragmented frame, use `newframe = frame.copy()`\n",
      "  data[data_quartile] = np.where(data[col] > upper_limit, upper_limit, data[col])\n",
      "C:\\Users\\Admin\\AppData\\Local\\Temp\\ipykernel_40652\\3486996870.py:9: PerformanceWarning: DataFrame is highly fragmented.  This is usually the result of calling `frame.insert` many times, which has poor performance.  Consider joining all columns at once using pd.concat(axis=1) instead. To get a de-fragmented frame, use `newframe = frame.copy()`\n",
      "  data[data_quartile] = np.where(data[col] > upper_limit, upper_limit, data[col])\n",
      "C:\\Users\\Admin\\AppData\\Local\\Temp\\ipykernel_40652\\3486996870.py:9: PerformanceWarning: DataFrame is highly fragmented.  This is usually the result of calling `frame.insert` many times, which has poor performance.  Consider joining all columns at once using pd.concat(axis=1) instead. To get a de-fragmented frame, use `newframe = frame.copy()`\n",
      "  data[data_quartile] = np.where(data[col] > upper_limit, upper_limit, data[col])\n",
      "C:\\Users\\Admin\\AppData\\Local\\Temp\\ipykernel_40652\\3486996870.py:9: PerformanceWarning: DataFrame is highly fragmented.  This is usually the result of calling `frame.insert` many times, which has poor performance.  Consider joining all columns at once using pd.concat(axis=1) instead. To get a de-fragmented frame, use `newframe = frame.copy()`\n",
      "  data[data_quartile] = np.where(data[col] > upper_limit, upper_limit, data[col])\n",
      "C:\\Users\\Admin\\AppData\\Local\\Temp\\ipykernel_40652\\3486996870.py:9: PerformanceWarning: DataFrame is highly fragmented.  This is usually the result of calling `frame.insert` many times, which has poor performance.  Consider joining all columns at once using pd.concat(axis=1) instead. To get a de-fragmented frame, use `newframe = frame.copy()`\n",
      "  data[data_quartile] = np.where(data[col] > upper_limit, upper_limit, data[col])\n",
      "C:\\Users\\Admin\\AppData\\Local\\Temp\\ipykernel_40652\\3486996870.py:9: PerformanceWarning: DataFrame is highly fragmented.  This is usually the result of calling `frame.insert` many times, which has poor performance.  Consider joining all columns at once using pd.concat(axis=1) instead. To get a de-fragmented frame, use `newframe = frame.copy()`\n",
      "  data[data_quartile] = np.where(data[col] > upper_limit, upper_limit, data[col])\n",
      "C:\\Users\\Admin\\AppData\\Local\\Temp\\ipykernel_40652\\3486996870.py:9: PerformanceWarning: DataFrame is highly fragmented.  This is usually the result of calling `frame.insert` many times, which has poor performance.  Consider joining all columns at once using pd.concat(axis=1) instead. To get a de-fragmented frame, use `newframe = frame.copy()`\n",
      "  data[data_quartile] = np.where(data[col] > upper_limit, upper_limit, data[col])\n",
      "C:\\Users\\Admin\\AppData\\Local\\Temp\\ipykernel_40652\\3486996870.py:9: PerformanceWarning: DataFrame is highly fragmented.  This is usually the result of calling `frame.insert` many times, which has poor performance.  Consider joining all columns at once using pd.concat(axis=1) instead. To get a de-fragmented frame, use `newframe = frame.copy()`\n",
      "  data[data_quartile] = np.where(data[col] > upper_limit, upper_limit, data[col])\n",
      "C:\\Users\\Admin\\AppData\\Local\\Temp\\ipykernel_40652\\3486996870.py:9: PerformanceWarning: DataFrame is highly fragmented.  This is usually the result of calling `frame.insert` many times, which has poor performance.  Consider joining all columns at once using pd.concat(axis=1) instead. To get a de-fragmented frame, use `newframe = frame.copy()`\n",
      "  data[data_quartile] = np.where(data[col] > upper_limit, upper_limit, data[col])\n",
      "C:\\Users\\Admin\\AppData\\Local\\Temp\\ipykernel_40652\\3486996870.py:9: PerformanceWarning: DataFrame is highly fragmented.  This is usually the result of calling `frame.insert` many times, which has poor performance.  Consider joining all columns at once using pd.concat(axis=1) instead. To get a de-fragmented frame, use `newframe = frame.copy()`\n",
      "  data[data_quartile] = np.where(data[col] > upper_limit, upper_limit, data[col])\n",
      "C:\\Users\\Admin\\AppData\\Local\\Temp\\ipykernel_40652\\3486996870.py:9: PerformanceWarning: DataFrame is highly fragmented.  This is usually the result of calling `frame.insert` many times, which has poor performance.  Consider joining all columns at once using pd.concat(axis=1) instead. To get a de-fragmented frame, use `newframe = frame.copy()`\n",
      "  data[data_quartile] = np.where(data[col] > upper_limit, upper_limit, data[col])\n",
      "C:\\Users\\Admin\\AppData\\Local\\Temp\\ipykernel_40652\\3486996870.py:9: PerformanceWarning: DataFrame is highly fragmented.  This is usually the result of calling `frame.insert` many times, which has poor performance.  Consider joining all columns at once using pd.concat(axis=1) instead. To get a de-fragmented frame, use `newframe = frame.copy()`\n",
      "  data[data_quartile] = np.where(data[col] > upper_limit, upper_limit, data[col])\n",
      "C:\\Users\\Admin\\AppData\\Local\\Temp\\ipykernel_40652\\3486996870.py:9: PerformanceWarning: DataFrame is highly fragmented.  This is usually the result of calling `frame.insert` many times, which has poor performance.  Consider joining all columns at once using pd.concat(axis=1) instead. To get a de-fragmented frame, use `newframe = frame.copy()`\n",
      "  data[data_quartile] = np.where(data[col] > upper_limit, upper_limit, data[col])\n",
      "C:\\Users\\Admin\\AppData\\Local\\Temp\\ipykernel_40652\\3486996870.py:9: PerformanceWarning: DataFrame is highly fragmented.  This is usually the result of calling `frame.insert` many times, which has poor performance.  Consider joining all columns at once using pd.concat(axis=1) instead. To get a de-fragmented frame, use `newframe = frame.copy()`\n",
      "  data[data_quartile] = np.where(data[col] > upper_limit, upper_limit, data[col])\n",
      "C:\\Users\\Admin\\AppData\\Local\\Temp\\ipykernel_40652\\3486996870.py:9: PerformanceWarning: DataFrame is highly fragmented.  This is usually the result of calling `frame.insert` many times, which has poor performance.  Consider joining all columns at once using pd.concat(axis=1) instead. To get a de-fragmented frame, use `newframe = frame.copy()`\n",
      "  data[data_quartile] = np.where(data[col] > upper_limit, upper_limit, data[col])\n",
      "C:\\Users\\Admin\\AppData\\Local\\Temp\\ipykernel_40652\\3486996870.py:9: PerformanceWarning: DataFrame is highly fragmented.  This is usually the result of calling `frame.insert` many times, which has poor performance.  Consider joining all columns at once using pd.concat(axis=1) instead. To get a de-fragmented frame, use `newframe = frame.copy()`\n",
      "  data[data_quartile] = np.where(data[col] > upper_limit, upper_limit, data[col])\n",
      "C:\\Users\\Admin\\AppData\\Local\\Temp\\ipykernel_40652\\3486996870.py:9: PerformanceWarning: DataFrame is highly fragmented.  This is usually the result of calling `frame.insert` many times, which has poor performance.  Consider joining all columns at once using pd.concat(axis=1) instead. To get a de-fragmented frame, use `newframe = frame.copy()`\n",
      "  data[data_quartile] = np.where(data[col] > upper_limit, upper_limit, data[col])\n",
      "C:\\Users\\Admin\\AppData\\Local\\Temp\\ipykernel_40652\\3486996870.py:9: PerformanceWarning: DataFrame is highly fragmented.  This is usually the result of calling `frame.insert` many times, which has poor performance.  Consider joining all columns at once using pd.concat(axis=1) instead. To get a de-fragmented frame, use `newframe = frame.copy()`\n",
      "  data[data_quartile] = np.where(data[col] > upper_limit, upper_limit, data[col])\n",
      "C:\\Users\\Admin\\AppData\\Local\\Temp\\ipykernel_40652\\3486996870.py:9: PerformanceWarning: DataFrame is highly fragmented.  This is usually the result of calling `frame.insert` many times, which has poor performance.  Consider joining all columns at once using pd.concat(axis=1) instead. To get a de-fragmented frame, use `newframe = frame.copy()`\n",
      "  data[data_quartile] = np.where(data[col] > upper_limit, upper_limit, data[col])\n",
      "C:\\Users\\Admin\\AppData\\Local\\Temp\\ipykernel_40652\\3486996870.py:9: PerformanceWarning: DataFrame is highly fragmented.  This is usually the result of calling `frame.insert` many times, which has poor performance.  Consider joining all columns at once using pd.concat(axis=1) instead. To get a de-fragmented frame, use `newframe = frame.copy()`\n",
      "  data[data_quartile] = np.where(data[col] > upper_limit, upper_limit, data[col])\n",
      "C:\\Users\\Admin\\AppData\\Local\\Temp\\ipykernel_40652\\3486996870.py:9: PerformanceWarning: DataFrame is highly fragmented.  This is usually the result of calling `frame.insert` many times, which has poor performance.  Consider joining all columns at once using pd.concat(axis=1) instead. To get a de-fragmented frame, use `newframe = frame.copy()`\n",
      "  data[data_quartile] = np.where(data[col] > upper_limit, upper_limit, data[col])\n",
      "C:\\Users\\Admin\\AppData\\Local\\Temp\\ipykernel_40652\\3486996870.py:9: PerformanceWarning: DataFrame is highly fragmented.  This is usually the result of calling `frame.insert` many times, which has poor performance.  Consider joining all columns at once using pd.concat(axis=1) instead. To get a de-fragmented frame, use `newframe = frame.copy()`\n",
      "  data[data_quartile] = np.where(data[col] > upper_limit, upper_limit, data[col])\n",
      "C:\\Users\\Admin\\AppData\\Local\\Temp\\ipykernel_40652\\3486996870.py:9: PerformanceWarning: DataFrame is highly fragmented.  This is usually the result of calling `frame.insert` many times, which has poor performance.  Consider joining all columns at once using pd.concat(axis=1) instead. To get a de-fragmented frame, use `newframe = frame.copy()`\n",
      "  data[data_quartile] = np.where(data[col] > upper_limit, upper_limit, data[col])\n",
      "C:\\Users\\Admin\\AppData\\Local\\Temp\\ipykernel_40652\\3486996870.py:9: PerformanceWarning: DataFrame is highly fragmented.  This is usually the result of calling `frame.insert` many times, which has poor performance.  Consider joining all columns at once using pd.concat(axis=1) instead. To get a de-fragmented frame, use `newframe = frame.copy()`\n",
      "  data[data_quartile] = np.where(data[col] > upper_limit, upper_limit, data[col])\n",
      "C:\\Users\\Admin\\AppData\\Local\\Temp\\ipykernel_40652\\3486996870.py:9: PerformanceWarning: DataFrame is highly fragmented.  This is usually the result of calling `frame.insert` many times, which has poor performance.  Consider joining all columns at once using pd.concat(axis=1) instead. To get a de-fragmented frame, use `newframe = frame.copy()`\n",
      "  data[data_quartile] = np.where(data[col] > upper_limit, upper_limit, data[col])\n",
      "C:\\Users\\Admin\\AppData\\Local\\Temp\\ipykernel_40652\\3486996870.py:9: PerformanceWarning: DataFrame is highly fragmented.  This is usually the result of calling `frame.insert` many times, which has poor performance.  Consider joining all columns at once using pd.concat(axis=1) instead. To get a de-fragmented frame, use `newframe = frame.copy()`\n",
      "  data[data_quartile] = np.where(data[col] > upper_limit, upper_limit, data[col])\n",
      "C:\\Users\\Admin\\AppData\\Local\\Temp\\ipykernel_40652\\3486996870.py:9: PerformanceWarning: DataFrame is highly fragmented.  This is usually the result of calling `frame.insert` many times, which has poor performance.  Consider joining all columns at once using pd.concat(axis=1) instead. To get a de-fragmented frame, use `newframe = frame.copy()`\n",
      "  data[data_quartile] = np.where(data[col] > upper_limit, upper_limit, data[col])\n",
      "C:\\Users\\Admin\\AppData\\Local\\Temp\\ipykernel_40652\\3486996870.py:9: PerformanceWarning: DataFrame is highly fragmented.  This is usually the result of calling `frame.insert` many times, which has poor performance.  Consider joining all columns at once using pd.concat(axis=1) instead. To get a de-fragmented frame, use `newframe = frame.copy()`\n",
      "  data[data_quartile] = np.where(data[col] > upper_limit, upper_limit, data[col])\n",
      "C:\\Users\\Admin\\AppData\\Local\\Temp\\ipykernel_40652\\3486996870.py:9: PerformanceWarning: DataFrame is highly fragmented.  This is usually the result of calling `frame.insert` many times, which has poor performance.  Consider joining all columns at once using pd.concat(axis=1) instead. To get a de-fragmented frame, use `newframe = frame.copy()`\n",
      "  data[data_quartile] = np.where(data[col] > upper_limit, upper_limit, data[col])\n",
      "C:\\Users\\Admin\\AppData\\Local\\Temp\\ipykernel_40652\\3486996870.py:9: PerformanceWarning: DataFrame is highly fragmented.  This is usually the result of calling `frame.insert` many times, which has poor performance.  Consider joining all columns at once using pd.concat(axis=1) instead. To get a de-fragmented frame, use `newframe = frame.copy()`\n",
      "  data[data_quartile] = np.where(data[col] > upper_limit, upper_limit, data[col])\n",
      "C:\\Users\\Admin\\AppData\\Local\\Temp\\ipykernel_40652\\3486996870.py:9: PerformanceWarning: DataFrame is highly fragmented.  This is usually the result of calling `frame.insert` many times, which has poor performance.  Consider joining all columns at once using pd.concat(axis=1) instead. To get a de-fragmented frame, use `newframe = frame.copy()`\n",
      "  data[data_quartile] = np.where(data[col] > upper_limit, upper_limit, data[col])\n",
      "C:\\Users\\Admin\\AppData\\Local\\Temp\\ipykernel_40652\\3486996870.py:9: PerformanceWarning: DataFrame is highly fragmented.  This is usually the result of calling `frame.insert` many times, which has poor performance.  Consider joining all columns at once using pd.concat(axis=1) instead. To get a de-fragmented frame, use `newframe = frame.copy()`\n",
      "  data[data_quartile] = np.where(data[col] > upper_limit, upper_limit, data[col])\n",
      "C:\\Users\\Admin\\AppData\\Local\\Temp\\ipykernel_40652\\3486996870.py:9: PerformanceWarning: DataFrame is highly fragmented.  This is usually the result of calling `frame.insert` many times, which has poor performance.  Consider joining all columns at once using pd.concat(axis=1) instead. To get a de-fragmented frame, use `newframe = frame.copy()`\n",
      "  data[data_quartile] = np.where(data[col] > upper_limit, upper_limit, data[col])\n",
      "C:\\Users\\Admin\\AppData\\Local\\Temp\\ipykernel_40652\\3486996870.py:9: PerformanceWarning: DataFrame is highly fragmented.  This is usually the result of calling `frame.insert` many times, which has poor performance.  Consider joining all columns at once using pd.concat(axis=1) instead. To get a de-fragmented frame, use `newframe = frame.copy()`\n",
      "  data[data_quartile] = np.where(data[col] > upper_limit, upper_limit, data[col])\n",
      "C:\\Users\\Admin\\AppData\\Local\\Temp\\ipykernel_40652\\3486996870.py:9: PerformanceWarning: DataFrame is highly fragmented.  This is usually the result of calling `frame.insert` many times, which has poor performance.  Consider joining all columns at once using pd.concat(axis=1) instead. To get a de-fragmented frame, use `newframe = frame.copy()`\n",
      "  data[data_quartile] = np.where(data[col] > upper_limit, upper_limit, data[col])\n",
      "C:\\Users\\Admin\\AppData\\Local\\Temp\\ipykernel_40652\\3486996870.py:9: PerformanceWarning: DataFrame is highly fragmented.  This is usually the result of calling `frame.insert` many times, which has poor performance.  Consider joining all columns at once using pd.concat(axis=1) instead. To get a de-fragmented frame, use `newframe = frame.copy()`\n",
      "  data[data_quartile] = np.where(data[col] > upper_limit, upper_limit, data[col])\n",
      "C:\\Users\\Admin\\AppData\\Local\\Temp\\ipykernel_40652\\3486996870.py:9: PerformanceWarning: DataFrame is highly fragmented.  This is usually the result of calling `frame.insert` many times, which has poor performance.  Consider joining all columns at once using pd.concat(axis=1) instead. To get a de-fragmented frame, use `newframe = frame.copy()`\n",
      "  data[data_quartile] = np.where(data[col] > upper_limit, upper_limit, data[col])\n",
      "C:\\Users\\Admin\\AppData\\Local\\Temp\\ipykernel_40652\\3486996870.py:9: PerformanceWarning: DataFrame is highly fragmented.  This is usually the result of calling `frame.insert` many times, which has poor performance.  Consider joining all columns at once using pd.concat(axis=1) instead. To get a de-fragmented frame, use `newframe = frame.copy()`\n",
      "  data[data_quartile] = np.where(data[col] > upper_limit, upper_limit, data[col])\n",
      "C:\\Users\\Admin\\AppData\\Local\\Temp\\ipykernel_40652\\3486996870.py:9: PerformanceWarning: DataFrame is highly fragmented.  This is usually the result of calling `frame.insert` many times, which has poor performance.  Consider joining all columns at once using pd.concat(axis=1) instead. To get a de-fragmented frame, use `newframe = frame.copy()`\n",
      "  data[data_quartile] = np.where(data[col] > upper_limit, upper_limit, data[col])\n",
      "C:\\Users\\Admin\\AppData\\Local\\Temp\\ipykernel_40652\\3486996870.py:9: PerformanceWarning: DataFrame is highly fragmented.  This is usually the result of calling `frame.insert` many times, which has poor performance.  Consider joining all columns at once using pd.concat(axis=1) instead. To get a de-fragmented frame, use `newframe = frame.copy()`\n",
      "  data[data_quartile] = np.where(data[col] > upper_limit, upper_limit, data[col])\n",
      "C:\\Users\\Admin\\AppData\\Local\\Temp\\ipykernel_40652\\3486996870.py:9: PerformanceWarning: DataFrame is highly fragmented.  This is usually the result of calling `frame.insert` many times, which has poor performance.  Consider joining all columns at once using pd.concat(axis=1) instead. To get a de-fragmented frame, use `newframe = frame.copy()`\n",
      "  data[data_quartile] = np.where(data[col] > upper_limit, upper_limit, data[col])\n",
      "C:\\Users\\Admin\\AppData\\Local\\Temp\\ipykernel_40652\\3486996870.py:9: PerformanceWarning: DataFrame is highly fragmented.  This is usually the result of calling `frame.insert` many times, which has poor performance.  Consider joining all columns at once using pd.concat(axis=1) instead. To get a de-fragmented frame, use `newframe = frame.copy()`\n",
      "  data[data_quartile] = np.where(data[col] > upper_limit, upper_limit, data[col])\n",
      "C:\\Users\\Admin\\AppData\\Local\\Temp\\ipykernel_40652\\3486996870.py:9: PerformanceWarning: DataFrame is highly fragmented.  This is usually the result of calling `frame.insert` many times, which has poor performance.  Consider joining all columns at once using pd.concat(axis=1) instead. To get a de-fragmented frame, use `newframe = frame.copy()`\n",
      "  data[data_quartile] = np.where(data[col] > upper_limit, upper_limit, data[col])\n",
      "C:\\Users\\Admin\\AppData\\Local\\Temp\\ipykernel_40652\\3486996870.py:9: PerformanceWarning: DataFrame is highly fragmented.  This is usually the result of calling `frame.insert` many times, which has poor performance.  Consider joining all columns at once using pd.concat(axis=1) instead. To get a de-fragmented frame, use `newframe = frame.copy()`\n",
      "  data[data_quartile] = np.where(data[col] > upper_limit, upper_limit, data[col])\n",
      "C:\\Users\\Admin\\AppData\\Local\\Temp\\ipykernel_40652\\3486996870.py:9: PerformanceWarning: DataFrame is highly fragmented.  This is usually the result of calling `frame.insert` many times, which has poor performance.  Consider joining all columns at once using pd.concat(axis=1) instead. To get a de-fragmented frame, use `newframe = frame.copy()`\n",
      "  data[data_quartile] = np.where(data[col] > upper_limit, upper_limit, data[col])\n",
      "C:\\Users\\Admin\\AppData\\Local\\Temp\\ipykernel_40652\\3486996870.py:9: PerformanceWarning: DataFrame is highly fragmented.  This is usually the result of calling `frame.insert` many times, which has poor performance.  Consider joining all columns at once using pd.concat(axis=1) instead. To get a de-fragmented frame, use `newframe = frame.copy()`\n",
      "  data[data_quartile] = np.where(data[col] > upper_limit, upper_limit, data[col])\n",
      "C:\\Users\\Admin\\AppData\\Local\\Temp\\ipykernel_40652\\3486996870.py:9: PerformanceWarning: DataFrame is highly fragmented.  This is usually the result of calling `frame.insert` many times, which has poor performance.  Consider joining all columns at once using pd.concat(axis=1) instead. To get a de-fragmented frame, use `newframe = frame.copy()`\n",
      "  data[data_quartile] = np.where(data[col] > upper_limit, upper_limit, data[col])\n",
      "C:\\Users\\Admin\\AppData\\Local\\Temp\\ipykernel_40652\\3486996870.py:9: PerformanceWarning: DataFrame is highly fragmented.  This is usually the result of calling `frame.insert` many times, which has poor performance.  Consider joining all columns at once using pd.concat(axis=1) instead. To get a de-fragmented frame, use `newframe = frame.copy()`\n",
      "  data[data_quartile] = np.where(data[col] > upper_limit, upper_limit, data[col])\n",
      "C:\\Users\\Admin\\AppData\\Local\\Temp\\ipykernel_40652\\3486996870.py:9: PerformanceWarning: DataFrame is highly fragmented.  This is usually the result of calling `frame.insert` many times, which has poor performance.  Consider joining all columns at once using pd.concat(axis=1) instead. To get a de-fragmented frame, use `newframe = frame.copy()`\n",
      "  data[data_quartile] = np.where(data[col] > upper_limit, upper_limit, data[col])\n",
      "C:\\Users\\Admin\\AppData\\Local\\Temp\\ipykernel_40652\\3486996870.py:9: PerformanceWarning: DataFrame is highly fragmented.  This is usually the result of calling `frame.insert` many times, which has poor performance.  Consider joining all columns at once using pd.concat(axis=1) instead. To get a de-fragmented frame, use `newframe = frame.copy()`\n",
      "  data[data_quartile] = np.where(data[col] > upper_limit, upper_limit, data[col])\n",
      "C:\\Users\\Admin\\AppData\\Local\\Temp\\ipykernel_40652\\3486996870.py:9: PerformanceWarning: DataFrame is highly fragmented.  This is usually the result of calling `frame.insert` many times, which has poor performance.  Consider joining all columns at once using pd.concat(axis=1) instead. To get a de-fragmented frame, use `newframe = frame.copy()`\n",
      "  data[data_quartile] = np.where(data[col] > upper_limit, upper_limit, data[col])\n",
      "C:\\Users\\Admin\\AppData\\Local\\Temp\\ipykernel_40652\\3486996870.py:9: PerformanceWarning: DataFrame is highly fragmented.  This is usually the result of calling `frame.insert` many times, which has poor performance.  Consider joining all columns at once using pd.concat(axis=1) instead. To get a de-fragmented frame, use `newframe = frame.copy()`\n",
      "  data[data_quartile] = np.where(data[col] > upper_limit, upper_limit, data[col])\n",
      "C:\\Users\\Admin\\AppData\\Local\\Temp\\ipykernel_40652\\3486996870.py:9: PerformanceWarning: DataFrame is highly fragmented.  This is usually the result of calling `frame.insert` many times, which has poor performance.  Consider joining all columns at once using pd.concat(axis=1) instead. To get a de-fragmented frame, use `newframe = frame.copy()`\n",
      "  data[data_quartile] = np.where(data[col] > upper_limit, upper_limit, data[col])\n",
      "C:\\Users\\Admin\\AppData\\Local\\Temp\\ipykernel_40652\\3486996870.py:9: PerformanceWarning: DataFrame is highly fragmented.  This is usually the result of calling `frame.insert` many times, which has poor performance.  Consider joining all columns at once using pd.concat(axis=1) instead. To get a de-fragmented frame, use `newframe = frame.copy()`\n",
      "  data[data_quartile] = np.where(data[col] > upper_limit, upper_limit, data[col])\n",
      "C:\\Users\\Admin\\AppData\\Local\\Temp\\ipykernel_40652\\3486996870.py:9: PerformanceWarning: DataFrame is highly fragmented.  This is usually the result of calling `frame.insert` many times, which has poor performance.  Consider joining all columns at once using pd.concat(axis=1) instead. To get a de-fragmented frame, use `newframe = frame.copy()`\n",
      "  data[data_quartile] = np.where(data[col] > upper_limit, upper_limit, data[col])\n",
      "C:\\Users\\Admin\\AppData\\Local\\Temp\\ipykernel_40652\\3486996870.py:9: PerformanceWarning: DataFrame is highly fragmented.  This is usually the result of calling `frame.insert` many times, which has poor performance.  Consider joining all columns at once using pd.concat(axis=1) instead. To get a de-fragmented frame, use `newframe = frame.copy()`\n",
      "  data[data_quartile] = np.where(data[col] > upper_limit, upper_limit, data[col])\n",
      "C:\\Users\\Admin\\AppData\\Local\\Temp\\ipykernel_40652\\3486996870.py:9: PerformanceWarning: DataFrame is highly fragmented.  This is usually the result of calling `frame.insert` many times, which has poor performance.  Consider joining all columns at once using pd.concat(axis=1) instead. To get a de-fragmented frame, use `newframe = frame.copy()`\n",
      "  data[data_quartile] = np.where(data[col] > upper_limit, upper_limit, data[col])\n",
      "C:\\Users\\Admin\\AppData\\Local\\Temp\\ipykernel_40652\\3486996870.py:9: PerformanceWarning: DataFrame is highly fragmented.  This is usually the result of calling `frame.insert` many times, which has poor performance.  Consider joining all columns at once using pd.concat(axis=1) instead. To get a de-fragmented frame, use `newframe = frame.copy()`\n",
      "  data[data_quartile] = np.where(data[col] > upper_limit, upper_limit, data[col])\n",
      "C:\\Users\\Admin\\AppData\\Local\\Temp\\ipykernel_40652\\3486996870.py:9: PerformanceWarning: DataFrame is highly fragmented.  This is usually the result of calling `frame.insert` many times, which has poor performance.  Consider joining all columns at once using pd.concat(axis=1) instead. To get a de-fragmented frame, use `newframe = frame.copy()`\n",
      "  data[data_quartile] = np.where(data[col] > upper_limit, upper_limit, data[col])\n",
      "C:\\Users\\Admin\\AppData\\Local\\Temp\\ipykernel_40652\\3486996870.py:9: PerformanceWarning: DataFrame is highly fragmented.  This is usually the result of calling `frame.insert` many times, which has poor performance.  Consider joining all columns at once using pd.concat(axis=1) instead. To get a de-fragmented frame, use `newframe = frame.copy()`\n",
      "  data[data_quartile] = np.where(data[col] > upper_limit, upper_limit, data[col])\n",
      "C:\\Users\\Admin\\AppData\\Local\\Temp\\ipykernel_40652\\3486996870.py:9: PerformanceWarning: DataFrame is highly fragmented.  This is usually the result of calling `frame.insert` many times, which has poor performance.  Consider joining all columns at once using pd.concat(axis=1) instead. To get a de-fragmented frame, use `newframe = frame.copy()`\n",
      "  data[data_quartile] = np.where(data[col] > upper_limit, upper_limit, data[col])\n",
      "C:\\Users\\Admin\\AppData\\Local\\Temp\\ipykernel_40652\\3486996870.py:9: PerformanceWarning: DataFrame is highly fragmented.  This is usually the result of calling `frame.insert` many times, which has poor performance.  Consider joining all columns at once using pd.concat(axis=1) instead. To get a de-fragmented frame, use `newframe = frame.copy()`\n",
      "  data[data_quartile] = np.where(data[col] > upper_limit, upper_limit, data[col])\n",
      "C:\\Users\\Admin\\AppData\\Local\\Temp\\ipykernel_40652\\3486996870.py:9: PerformanceWarning: DataFrame is highly fragmented.  This is usually the result of calling `frame.insert` many times, which has poor performance.  Consider joining all columns at once using pd.concat(axis=1) instead. To get a de-fragmented frame, use `newframe = frame.copy()`\n",
      "  data[data_quartile] = np.where(data[col] > upper_limit, upper_limit, data[col])\n",
      "C:\\Users\\Admin\\AppData\\Local\\Temp\\ipykernel_40652\\3486996870.py:9: PerformanceWarning: DataFrame is highly fragmented.  This is usually the result of calling `frame.insert` many times, which has poor performance.  Consider joining all columns at once using pd.concat(axis=1) instead. To get a de-fragmented frame, use `newframe = frame.copy()`\n",
      "  data[data_quartile] = np.where(data[col] > upper_limit, upper_limit, data[col])\n",
      "C:\\Users\\Admin\\AppData\\Local\\Temp\\ipykernel_40652\\3486996870.py:9: PerformanceWarning: DataFrame is highly fragmented.  This is usually the result of calling `frame.insert` many times, which has poor performance.  Consider joining all columns at once using pd.concat(axis=1) instead. To get a de-fragmented frame, use `newframe = frame.copy()`\n",
      "  data[data_quartile] = np.where(data[col] > upper_limit, upper_limit, data[col])\n",
      "C:\\Users\\Admin\\AppData\\Local\\Temp\\ipykernel_40652\\3486996870.py:9: PerformanceWarning: DataFrame is highly fragmented.  This is usually the result of calling `frame.insert` many times, which has poor performance.  Consider joining all columns at once using pd.concat(axis=1) instead. To get a de-fragmented frame, use `newframe = frame.copy()`\n",
      "  data[data_quartile] = np.where(data[col] > upper_limit, upper_limit, data[col])\n",
      "C:\\Users\\Admin\\AppData\\Local\\Temp\\ipykernel_40652\\3486996870.py:9: PerformanceWarning: DataFrame is highly fragmented.  This is usually the result of calling `frame.insert` many times, which has poor performance.  Consider joining all columns at once using pd.concat(axis=1) instead. To get a de-fragmented frame, use `newframe = frame.copy()`\n",
      "  data[data_quartile] = np.where(data[col] > upper_limit, upper_limit, data[col])\n",
      "C:\\Users\\Admin\\AppData\\Local\\Temp\\ipykernel_40652\\3486996870.py:9: PerformanceWarning: DataFrame is highly fragmented.  This is usually the result of calling `frame.insert` many times, which has poor performance.  Consider joining all columns at once using pd.concat(axis=1) instead. To get a de-fragmented frame, use `newframe = frame.copy()`\n",
      "  data[data_quartile] = np.where(data[col] > upper_limit, upper_limit, data[col])\n",
      "C:\\Users\\Admin\\AppData\\Local\\Temp\\ipykernel_40652\\3486996870.py:9: PerformanceWarning: DataFrame is highly fragmented.  This is usually the result of calling `frame.insert` many times, which has poor performance.  Consider joining all columns at once using pd.concat(axis=1) instead. To get a de-fragmented frame, use `newframe = frame.copy()`\n",
      "  data[data_quartile] = np.where(data[col] > upper_limit, upper_limit, data[col])\n",
      "C:\\Users\\Admin\\AppData\\Local\\Temp\\ipykernel_40652\\3486996870.py:9: PerformanceWarning: DataFrame is highly fragmented.  This is usually the result of calling `frame.insert` many times, which has poor performance.  Consider joining all columns at once using pd.concat(axis=1) instead. To get a de-fragmented frame, use `newframe = frame.copy()`\n",
      "  data[data_quartile] = np.where(data[col] > upper_limit, upper_limit, data[col])\n",
      "C:\\Users\\Admin\\AppData\\Local\\Temp\\ipykernel_40652\\3486996870.py:9: PerformanceWarning: DataFrame is highly fragmented.  This is usually the result of calling `frame.insert` many times, which has poor performance.  Consider joining all columns at once using pd.concat(axis=1) instead. To get a de-fragmented frame, use `newframe = frame.copy()`\n",
      "  data[data_quartile] = np.where(data[col] > upper_limit, upper_limit, data[col])\n",
      "C:\\Users\\Admin\\AppData\\Local\\Temp\\ipykernel_40652\\3486996870.py:9: PerformanceWarning: DataFrame is highly fragmented.  This is usually the result of calling `frame.insert` many times, which has poor performance.  Consider joining all columns at once using pd.concat(axis=1) instead. To get a de-fragmented frame, use `newframe = frame.copy()`\n",
      "  data[data_quartile] = np.where(data[col] > upper_limit, upper_limit, data[col])\n",
      "C:\\Users\\Admin\\AppData\\Local\\Temp\\ipykernel_40652\\3486996870.py:9: PerformanceWarning: DataFrame is highly fragmented.  This is usually the result of calling `frame.insert` many times, which has poor performance.  Consider joining all columns at once using pd.concat(axis=1) instead. To get a de-fragmented frame, use `newframe = frame.copy()`\n",
      "  data[data_quartile] = np.where(data[col] > upper_limit, upper_limit, data[col])\n",
      "C:\\Users\\Admin\\AppData\\Local\\Temp\\ipykernel_40652\\3486996870.py:9: PerformanceWarning: DataFrame is highly fragmented.  This is usually the result of calling `frame.insert` many times, which has poor performance.  Consider joining all columns at once using pd.concat(axis=1) instead. To get a de-fragmented frame, use `newframe = frame.copy()`\n",
      "  data[data_quartile] = np.where(data[col] > upper_limit, upper_limit, data[col])\n",
      "C:\\Users\\Admin\\AppData\\Local\\Temp\\ipykernel_40652\\3486996870.py:9: PerformanceWarning: DataFrame is highly fragmented.  This is usually the result of calling `frame.insert` many times, which has poor performance.  Consider joining all columns at once using pd.concat(axis=1) instead. To get a de-fragmented frame, use `newframe = frame.copy()`\n",
      "  data[data_quartile] = np.where(data[col] > upper_limit, upper_limit, data[col])\n",
      "C:\\Users\\Admin\\AppData\\Local\\Temp\\ipykernel_40652\\3486996870.py:9: PerformanceWarning: DataFrame is highly fragmented.  This is usually the result of calling `frame.insert` many times, which has poor performance.  Consider joining all columns at once using pd.concat(axis=1) instead. To get a de-fragmented frame, use `newframe = frame.copy()`\n",
      "  data[data_quartile] = np.where(data[col] > upper_limit, upper_limit, data[col])\n",
      "C:\\Users\\Admin\\AppData\\Local\\Temp\\ipykernel_40652\\3486996870.py:9: PerformanceWarning: DataFrame is highly fragmented.  This is usually the result of calling `frame.insert` many times, which has poor performance.  Consider joining all columns at once using pd.concat(axis=1) instead. To get a de-fragmented frame, use `newframe = frame.copy()`\n",
      "  data[data_quartile] = np.where(data[col] > upper_limit, upper_limit, data[col])\n",
      "C:\\Users\\Admin\\AppData\\Local\\Temp\\ipykernel_40652\\3486996870.py:9: PerformanceWarning: DataFrame is highly fragmented.  This is usually the result of calling `frame.insert` many times, which has poor performance.  Consider joining all columns at once using pd.concat(axis=1) instead. To get a de-fragmented frame, use `newframe = frame.copy()`\n",
      "  data[data_quartile] = np.where(data[col] > upper_limit, upper_limit, data[col])\n",
      "C:\\Users\\Admin\\AppData\\Local\\Temp\\ipykernel_40652\\3486996870.py:9: PerformanceWarning: DataFrame is highly fragmented.  This is usually the result of calling `frame.insert` many times, which has poor performance.  Consider joining all columns at once using pd.concat(axis=1) instead. To get a de-fragmented frame, use `newframe = frame.copy()`\n",
      "  data[data_quartile] = np.where(data[col] > upper_limit, upper_limit, data[col])\n",
      "C:\\Users\\Admin\\AppData\\Local\\Temp\\ipykernel_40652\\3486996870.py:9: PerformanceWarning: DataFrame is highly fragmented.  This is usually the result of calling `frame.insert` many times, which has poor performance.  Consider joining all columns at once using pd.concat(axis=1) instead. To get a de-fragmented frame, use `newframe = frame.copy()`\n",
      "  data[data_quartile] = np.where(data[col] > upper_limit, upper_limit, data[col])\n",
      "C:\\Users\\Admin\\AppData\\Local\\Temp\\ipykernel_40652\\3486996870.py:9: PerformanceWarning: DataFrame is highly fragmented.  This is usually the result of calling `frame.insert` many times, which has poor performance.  Consider joining all columns at once using pd.concat(axis=1) instead. To get a de-fragmented frame, use `newframe = frame.copy()`\n",
      "  data[data_quartile] = np.where(data[col] > upper_limit, upper_limit, data[col])\n",
      "C:\\Users\\Admin\\AppData\\Local\\Temp\\ipykernel_40652\\3486996870.py:9: PerformanceWarning: DataFrame is highly fragmented.  This is usually the result of calling `frame.insert` many times, which has poor performance.  Consider joining all columns at once using pd.concat(axis=1) instead. To get a de-fragmented frame, use `newframe = frame.copy()`\n",
      "  data[data_quartile] = np.where(data[col] > upper_limit, upper_limit, data[col])\n",
      "C:\\Users\\Admin\\AppData\\Local\\Temp\\ipykernel_40652\\3486996870.py:9: PerformanceWarning: DataFrame is highly fragmented.  This is usually the result of calling `frame.insert` many times, which has poor performance.  Consider joining all columns at once using pd.concat(axis=1) instead. To get a de-fragmented frame, use `newframe = frame.copy()`\n",
      "  data[data_quartile] = np.where(data[col] > upper_limit, upper_limit, data[col])\n",
      "C:\\Users\\Admin\\AppData\\Local\\Temp\\ipykernel_40652\\3486996870.py:9: PerformanceWarning: DataFrame is highly fragmented.  This is usually the result of calling `frame.insert` many times, which has poor performance.  Consider joining all columns at once using pd.concat(axis=1) instead. To get a de-fragmented frame, use `newframe = frame.copy()`\n",
      "  data[data_quartile] = np.where(data[col] > upper_limit, upper_limit, data[col])\n",
      "C:\\Users\\Admin\\AppData\\Local\\Temp\\ipykernel_40652\\3486996870.py:9: PerformanceWarning: DataFrame is highly fragmented.  This is usually the result of calling `frame.insert` many times, which has poor performance.  Consider joining all columns at once using pd.concat(axis=1) instead. To get a de-fragmented frame, use `newframe = frame.copy()`\n",
      "  data[data_quartile] = np.where(data[col] > upper_limit, upper_limit, data[col])\n",
      "C:\\Users\\Admin\\AppData\\Local\\Temp\\ipykernel_40652\\3486996870.py:9: PerformanceWarning: DataFrame is highly fragmented.  This is usually the result of calling `frame.insert` many times, which has poor performance.  Consider joining all columns at once using pd.concat(axis=1) instead. To get a de-fragmented frame, use `newframe = frame.copy()`\n",
      "  data[data_quartile] = np.where(data[col] > upper_limit, upper_limit, data[col])\n",
      "C:\\Users\\Admin\\AppData\\Local\\Temp\\ipykernel_40652\\3486996870.py:9: PerformanceWarning: DataFrame is highly fragmented.  This is usually the result of calling `frame.insert` many times, which has poor performance.  Consider joining all columns at once using pd.concat(axis=1) instead. To get a de-fragmented frame, use `newframe = frame.copy()`\n",
      "  data[data_quartile] = np.where(data[col] > upper_limit, upper_limit, data[col])\n",
      "C:\\Users\\Admin\\AppData\\Local\\Temp\\ipykernel_40652\\3486996870.py:9: PerformanceWarning: DataFrame is highly fragmented.  This is usually the result of calling `frame.insert` many times, which has poor performance.  Consider joining all columns at once using pd.concat(axis=1) instead. To get a de-fragmented frame, use `newframe = frame.copy()`\n",
      "  data[data_quartile] = np.where(data[col] > upper_limit, upper_limit, data[col])\n",
      "C:\\Users\\Admin\\AppData\\Local\\Temp\\ipykernel_40652\\3486996870.py:9: PerformanceWarning: DataFrame is highly fragmented.  This is usually the result of calling `frame.insert` many times, which has poor performance.  Consider joining all columns at once using pd.concat(axis=1) instead. To get a de-fragmented frame, use `newframe = frame.copy()`\n",
      "  data[data_quartile] = np.where(data[col] > upper_limit, upper_limit, data[col])\n",
      "C:\\Users\\Admin\\AppData\\Local\\Temp\\ipykernel_40652\\3486996870.py:9: PerformanceWarning: DataFrame is highly fragmented.  This is usually the result of calling `frame.insert` many times, which has poor performance.  Consider joining all columns at once using pd.concat(axis=1) instead. To get a de-fragmented frame, use `newframe = frame.copy()`\n",
      "  data[data_quartile] = np.where(data[col] > upper_limit, upper_limit, data[col])\n",
      "C:\\Users\\Admin\\AppData\\Local\\Temp\\ipykernel_40652\\3486996870.py:9: PerformanceWarning: DataFrame is highly fragmented.  This is usually the result of calling `frame.insert` many times, which has poor performance.  Consider joining all columns at once using pd.concat(axis=1) instead. To get a de-fragmented frame, use `newframe = frame.copy()`\n",
      "  data[data_quartile] = np.where(data[col] > upper_limit, upper_limit, data[col])\n",
      "C:\\Users\\Admin\\AppData\\Local\\Temp\\ipykernel_40652\\3486996870.py:9: PerformanceWarning: DataFrame is highly fragmented.  This is usually the result of calling `frame.insert` many times, which has poor performance.  Consider joining all columns at once using pd.concat(axis=1) instead. To get a de-fragmented frame, use `newframe = frame.copy()`\n",
      "  data[data_quartile] = np.where(data[col] > upper_limit, upper_limit, data[col])\n",
      "C:\\Users\\Admin\\AppData\\Local\\Temp\\ipykernel_40652\\3486996870.py:9: PerformanceWarning: DataFrame is highly fragmented.  This is usually the result of calling `frame.insert` many times, which has poor performance.  Consider joining all columns at once using pd.concat(axis=1) instead. To get a de-fragmented frame, use `newframe = frame.copy()`\n",
      "  data[data_quartile] = np.where(data[col] > upper_limit, upper_limit, data[col])\n",
      "C:\\Users\\Admin\\AppData\\Local\\Temp\\ipykernel_40652\\3486996870.py:9: PerformanceWarning: DataFrame is highly fragmented.  This is usually the result of calling `frame.insert` many times, which has poor performance.  Consider joining all columns at once using pd.concat(axis=1) instead. To get a de-fragmented frame, use `newframe = frame.copy()`\n",
      "  data[data_quartile] = np.where(data[col] > upper_limit, upper_limit, data[col])\n",
      "C:\\Users\\Admin\\AppData\\Local\\Temp\\ipykernel_40652\\3486996870.py:9: PerformanceWarning: DataFrame is highly fragmented.  This is usually the result of calling `frame.insert` many times, which has poor performance.  Consider joining all columns at once using pd.concat(axis=1) instead. To get a de-fragmented frame, use `newframe = frame.copy()`\n",
      "  data[data_quartile] = np.where(data[col] > upper_limit, upper_limit, data[col])\n",
      "C:\\Users\\Admin\\AppData\\Local\\Temp\\ipykernel_40652\\3486996870.py:9: PerformanceWarning: DataFrame is highly fragmented.  This is usually the result of calling `frame.insert` many times, which has poor performance.  Consider joining all columns at once using pd.concat(axis=1) instead. To get a de-fragmented frame, use `newframe = frame.copy()`\n",
      "  data[data_quartile] = np.where(data[col] > upper_limit, upper_limit, data[col])\n",
      "C:\\Users\\Admin\\AppData\\Local\\Temp\\ipykernel_40652\\3486996870.py:9: PerformanceWarning: DataFrame is highly fragmented.  This is usually the result of calling `frame.insert` many times, which has poor performance.  Consider joining all columns at once using pd.concat(axis=1) instead. To get a de-fragmented frame, use `newframe = frame.copy()`\n",
      "  data[data_quartile] = np.where(data[col] > upper_limit, upper_limit, data[col])\n",
      "C:\\Users\\Admin\\AppData\\Local\\Temp\\ipykernel_40652\\3486996870.py:9: PerformanceWarning: DataFrame is highly fragmented.  This is usually the result of calling `frame.insert` many times, which has poor performance.  Consider joining all columns at once using pd.concat(axis=1) instead. To get a de-fragmented frame, use `newframe = frame.copy()`\n",
      "  data[data_quartile] = np.where(data[col] > upper_limit, upper_limit, data[col])\n",
      "C:\\Users\\Admin\\AppData\\Local\\Temp\\ipykernel_40652\\3486996870.py:9: PerformanceWarning: DataFrame is highly fragmented.  This is usually the result of calling `frame.insert` many times, which has poor performance.  Consider joining all columns at once using pd.concat(axis=1) instead. To get a de-fragmented frame, use `newframe = frame.copy()`\n",
      "  data[data_quartile] = np.where(data[col] > upper_limit, upper_limit, data[col])\n",
      "C:\\Users\\Admin\\AppData\\Local\\Temp\\ipykernel_40652\\3486996870.py:9: PerformanceWarning: DataFrame is highly fragmented.  This is usually the result of calling `frame.insert` many times, which has poor performance.  Consider joining all columns at once using pd.concat(axis=1) instead. To get a de-fragmented frame, use `newframe = frame.copy()`\n",
      "  data[data_quartile] = np.where(data[col] > upper_limit, upper_limit, data[col])\n",
      "C:\\Users\\Admin\\AppData\\Local\\Temp\\ipykernel_40652\\3486996870.py:9: PerformanceWarning: DataFrame is highly fragmented.  This is usually the result of calling `frame.insert` many times, which has poor performance.  Consider joining all columns at once using pd.concat(axis=1) instead. To get a de-fragmented frame, use `newframe = frame.copy()`\n",
      "  data[data_quartile] = np.where(data[col] > upper_limit, upper_limit, data[col])\n",
      "C:\\Users\\Admin\\AppData\\Local\\Temp\\ipykernel_40652\\3486996870.py:9: PerformanceWarning: DataFrame is highly fragmented.  This is usually the result of calling `frame.insert` many times, which has poor performance.  Consider joining all columns at once using pd.concat(axis=1) instead. To get a de-fragmented frame, use `newframe = frame.copy()`\n",
      "  data[data_quartile] = np.where(data[col] > upper_limit, upper_limit, data[col])\n",
      "C:\\Users\\Admin\\AppData\\Local\\Temp\\ipykernel_40652\\3486996870.py:9: PerformanceWarning: DataFrame is highly fragmented.  This is usually the result of calling `frame.insert` many times, which has poor performance.  Consider joining all columns at once using pd.concat(axis=1) instead. To get a de-fragmented frame, use `newframe = frame.copy()`\n",
      "  data[data_quartile] = np.where(data[col] > upper_limit, upper_limit, data[col])\n",
      "C:\\Users\\Admin\\AppData\\Local\\Temp\\ipykernel_40652\\3486996870.py:9: PerformanceWarning: DataFrame is highly fragmented.  This is usually the result of calling `frame.insert` many times, which has poor performance.  Consider joining all columns at once using pd.concat(axis=1) instead. To get a de-fragmented frame, use `newframe = frame.copy()`\n",
      "  data[data_quartile] = np.where(data[col] > upper_limit, upper_limit, data[col])\n",
      "C:\\Users\\Admin\\AppData\\Local\\Temp\\ipykernel_40652\\3486996870.py:9: PerformanceWarning: DataFrame is highly fragmented.  This is usually the result of calling `frame.insert` many times, which has poor performance.  Consider joining all columns at once using pd.concat(axis=1) instead. To get a de-fragmented frame, use `newframe = frame.copy()`\n",
      "  data[data_quartile] = np.where(data[col] > upper_limit, upper_limit, data[col])\n",
      "C:\\Users\\Admin\\AppData\\Local\\Temp\\ipykernel_40652\\3486996870.py:9: PerformanceWarning: DataFrame is highly fragmented.  This is usually the result of calling `frame.insert` many times, which has poor performance.  Consider joining all columns at once using pd.concat(axis=1) instead. To get a de-fragmented frame, use `newframe = frame.copy()`\n",
      "  data[data_quartile] = np.where(data[col] > upper_limit, upper_limit, data[col])\n",
      "C:\\Users\\Admin\\AppData\\Local\\Temp\\ipykernel_40652\\3486996870.py:9: PerformanceWarning: DataFrame is highly fragmented.  This is usually the result of calling `frame.insert` many times, which has poor performance.  Consider joining all columns at once using pd.concat(axis=1) instead. To get a de-fragmented frame, use `newframe = frame.copy()`\n",
      "  data[data_quartile] = np.where(data[col] > upper_limit, upper_limit, data[col])\n",
      "C:\\Users\\Admin\\AppData\\Local\\Temp\\ipykernel_40652\\3486996870.py:9: PerformanceWarning: DataFrame is highly fragmented.  This is usually the result of calling `frame.insert` many times, which has poor performance.  Consider joining all columns at once using pd.concat(axis=1) instead. To get a de-fragmented frame, use `newframe = frame.copy()`\n",
      "  data[data_quartile] = np.where(data[col] > upper_limit, upper_limit, data[col])\n",
      "C:\\Users\\Admin\\AppData\\Local\\Temp\\ipykernel_40652\\3486996870.py:9: PerformanceWarning: DataFrame is highly fragmented.  This is usually the result of calling `frame.insert` many times, which has poor performance.  Consider joining all columns at once using pd.concat(axis=1) instead. To get a de-fragmented frame, use `newframe = frame.copy()`\n",
      "  data[data_quartile] = np.where(data[col] > upper_limit, upper_limit, data[col])\n",
      "C:\\Users\\Admin\\AppData\\Local\\Temp\\ipykernel_40652\\3486996870.py:9: PerformanceWarning: DataFrame is highly fragmented.  This is usually the result of calling `frame.insert` many times, which has poor performance.  Consider joining all columns at once using pd.concat(axis=1) instead. To get a de-fragmented frame, use `newframe = frame.copy()`\n",
      "  data[data_quartile] = np.where(data[col] > upper_limit, upper_limit, data[col])\n",
      "C:\\Users\\Admin\\AppData\\Local\\Temp\\ipykernel_40652\\3486996870.py:9: PerformanceWarning: DataFrame is highly fragmented.  This is usually the result of calling `frame.insert` many times, which has poor performance.  Consider joining all columns at once using pd.concat(axis=1) instead. To get a de-fragmented frame, use `newframe = frame.copy()`\n",
      "  data[data_quartile] = np.where(data[col] > upper_limit, upper_limit, data[col])\n",
      "C:\\Users\\Admin\\AppData\\Local\\Temp\\ipykernel_40652\\3486996870.py:9: PerformanceWarning: DataFrame is highly fragmented.  This is usually the result of calling `frame.insert` many times, which has poor performance.  Consider joining all columns at once using pd.concat(axis=1) instead. To get a de-fragmented frame, use `newframe = frame.copy()`\n",
      "  data[data_quartile] = np.where(data[col] > upper_limit, upper_limit, data[col])\n",
      "C:\\Users\\Admin\\AppData\\Local\\Temp\\ipykernel_40652\\3486996870.py:9: PerformanceWarning: DataFrame is highly fragmented.  This is usually the result of calling `frame.insert` many times, which has poor performance.  Consider joining all columns at once using pd.concat(axis=1) instead. To get a de-fragmented frame, use `newframe = frame.copy()`\n",
      "  data[data_quartile] = np.where(data[col] > upper_limit, upper_limit, data[col])\n",
      "C:\\Users\\Admin\\AppData\\Local\\Temp\\ipykernel_40652\\3486996870.py:9: PerformanceWarning: DataFrame is highly fragmented.  This is usually the result of calling `frame.insert` many times, which has poor performance.  Consider joining all columns at once using pd.concat(axis=1) instead. To get a de-fragmented frame, use `newframe = frame.copy()`\n",
      "  data[data_quartile] = np.where(data[col] > upper_limit, upper_limit, data[col])\n",
      "C:\\Users\\Admin\\AppData\\Local\\Temp\\ipykernel_40652\\3486996870.py:9: PerformanceWarning: DataFrame is highly fragmented.  This is usually the result of calling `frame.insert` many times, which has poor performance.  Consider joining all columns at once using pd.concat(axis=1) instead. To get a de-fragmented frame, use `newframe = frame.copy()`\n",
      "  data[data_quartile] = np.where(data[col] > upper_limit, upper_limit, data[col])\n",
      "C:\\Users\\Admin\\AppData\\Local\\Temp\\ipykernel_40652\\3486996870.py:9: PerformanceWarning: DataFrame is highly fragmented.  This is usually the result of calling `frame.insert` many times, which has poor performance.  Consider joining all columns at once using pd.concat(axis=1) instead. To get a de-fragmented frame, use `newframe = frame.copy()`\n",
      "  data[data_quartile] = np.where(data[col] > upper_limit, upper_limit, data[col])\n",
      "C:\\Users\\Admin\\AppData\\Local\\Temp\\ipykernel_40652\\3486996870.py:9: PerformanceWarning: DataFrame is highly fragmented.  This is usually the result of calling `frame.insert` many times, which has poor performance.  Consider joining all columns at once using pd.concat(axis=1) instead. To get a de-fragmented frame, use `newframe = frame.copy()`\n",
      "  data[data_quartile] = np.where(data[col] > upper_limit, upper_limit, data[col])\n",
      "C:\\Users\\Admin\\AppData\\Local\\Temp\\ipykernel_40652\\3486996870.py:9: PerformanceWarning: DataFrame is highly fragmented.  This is usually the result of calling `frame.insert` many times, which has poor performance.  Consider joining all columns at once using pd.concat(axis=1) instead. To get a de-fragmented frame, use `newframe = frame.copy()`\n",
      "  data[data_quartile] = np.where(data[col] > upper_limit, upper_limit, data[col])\n",
      "C:\\Users\\Admin\\AppData\\Local\\Temp\\ipykernel_40652\\3486996870.py:9: PerformanceWarning: DataFrame is highly fragmented.  This is usually the result of calling `frame.insert` many times, which has poor performance.  Consider joining all columns at once using pd.concat(axis=1) instead. To get a de-fragmented frame, use `newframe = frame.copy()`\n",
      "  data[data_quartile] = np.where(data[col] > upper_limit, upper_limit, data[col])\n",
      "C:\\Users\\Admin\\AppData\\Local\\Temp\\ipykernel_40652\\3486996870.py:9: PerformanceWarning: DataFrame is highly fragmented.  This is usually the result of calling `frame.insert` many times, which has poor performance.  Consider joining all columns at once using pd.concat(axis=1) instead. To get a de-fragmented frame, use `newframe = frame.copy()`\n",
      "  data[data_quartile] = np.where(data[col] > upper_limit, upper_limit, data[col])\n",
      "C:\\Users\\Admin\\AppData\\Local\\Temp\\ipykernel_40652\\3486996870.py:9: PerformanceWarning: DataFrame is highly fragmented.  This is usually the result of calling `frame.insert` many times, which has poor performance.  Consider joining all columns at once using pd.concat(axis=1) instead. To get a de-fragmented frame, use `newframe = frame.copy()`\n",
      "  data[data_quartile] = np.where(data[col] > upper_limit, upper_limit, data[col])\n",
      "C:\\Users\\Admin\\AppData\\Local\\Temp\\ipykernel_40652\\3486996870.py:9: PerformanceWarning: DataFrame is highly fragmented.  This is usually the result of calling `frame.insert` many times, which has poor performance.  Consider joining all columns at once using pd.concat(axis=1) instead. To get a de-fragmented frame, use `newframe = frame.copy()`\n",
      "  data[data_quartile] = np.where(data[col] > upper_limit, upper_limit, data[col])\n",
      "C:\\Users\\Admin\\AppData\\Local\\Temp\\ipykernel_40652\\3486996870.py:9: PerformanceWarning: DataFrame is highly fragmented.  This is usually the result of calling `frame.insert` many times, which has poor performance.  Consider joining all columns at once using pd.concat(axis=1) instead. To get a de-fragmented frame, use `newframe = frame.copy()`\n",
      "  data[data_quartile] = np.where(data[col] > upper_limit, upper_limit, data[col])\n",
      "C:\\Users\\Admin\\AppData\\Local\\Temp\\ipykernel_40652\\3486996870.py:9: PerformanceWarning: DataFrame is highly fragmented.  This is usually the result of calling `frame.insert` many times, which has poor performance.  Consider joining all columns at once using pd.concat(axis=1) instead. To get a de-fragmented frame, use `newframe = frame.copy()`\n",
      "  data[data_quartile] = np.where(data[col] > upper_limit, upper_limit, data[col])\n",
      "C:\\Users\\Admin\\AppData\\Local\\Temp\\ipykernel_40652\\3486996870.py:9: PerformanceWarning: DataFrame is highly fragmented.  This is usually the result of calling `frame.insert` many times, which has poor performance.  Consider joining all columns at once using pd.concat(axis=1) instead. To get a de-fragmented frame, use `newframe = frame.copy()`\n",
      "  data[data_quartile] = np.where(data[col] > upper_limit, upper_limit, data[col])\n",
      "C:\\Users\\Admin\\AppData\\Local\\Temp\\ipykernel_40652\\3486996870.py:9: PerformanceWarning: DataFrame is highly fragmented.  This is usually the result of calling `frame.insert` many times, which has poor performance.  Consider joining all columns at once using pd.concat(axis=1) instead. To get a de-fragmented frame, use `newframe = frame.copy()`\n",
      "  data[data_quartile] = np.where(data[col] > upper_limit, upper_limit, data[col])\n",
      "C:\\Users\\Admin\\AppData\\Local\\Temp\\ipykernel_40652\\3486996870.py:9: PerformanceWarning: DataFrame is highly fragmented.  This is usually the result of calling `frame.insert` many times, which has poor performance.  Consider joining all columns at once using pd.concat(axis=1) instead. To get a de-fragmented frame, use `newframe = frame.copy()`\n",
      "  data[data_quartile] = np.where(data[col] > upper_limit, upper_limit, data[col])\n",
      "C:\\Users\\Admin\\AppData\\Local\\Temp\\ipykernel_40652\\3486996870.py:9: PerformanceWarning: DataFrame is highly fragmented.  This is usually the result of calling `frame.insert` many times, which has poor performance.  Consider joining all columns at once using pd.concat(axis=1) instead. To get a de-fragmented frame, use `newframe = frame.copy()`\n",
      "  data[data_quartile] = np.where(data[col] > upper_limit, upper_limit, data[col])\n",
      "C:\\Users\\Admin\\AppData\\Local\\Temp\\ipykernel_40652\\3486996870.py:9: PerformanceWarning: DataFrame is highly fragmented.  This is usually the result of calling `frame.insert` many times, which has poor performance.  Consider joining all columns at once using pd.concat(axis=1) instead. To get a de-fragmented frame, use `newframe = frame.copy()`\n",
      "  data[data_quartile] = np.where(data[col] > upper_limit, upper_limit, data[col])\n",
      "C:\\Users\\Admin\\AppData\\Local\\Temp\\ipykernel_40652\\3486996870.py:9: PerformanceWarning: DataFrame is highly fragmented.  This is usually the result of calling `frame.insert` many times, which has poor performance.  Consider joining all columns at once using pd.concat(axis=1) instead. To get a de-fragmented frame, use `newframe = frame.copy()`\n",
      "  data[data_quartile] = np.where(data[col] > upper_limit, upper_limit, data[col])\n",
      "C:\\Users\\Admin\\AppData\\Local\\Temp\\ipykernel_40652\\3486996870.py:9: PerformanceWarning: DataFrame is highly fragmented.  This is usually the result of calling `frame.insert` many times, which has poor performance.  Consider joining all columns at once using pd.concat(axis=1) instead. To get a de-fragmented frame, use `newframe = frame.copy()`\n",
      "  data[data_quartile] = np.where(data[col] > upper_limit, upper_limit, data[col])\n",
      "C:\\Users\\Admin\\AppData\\Local\\Temp\\ipykernel_40652\\3486996870.py:9: PerformanceWarning: DataFrame is highly fragmented.  This is usually the result of calling `frame.insert` many times, which has poor performance.  Consider joining all columns at once using pd.concat(axis=1) instead. To get a de-fragmented frame, use `newframe = frame.copy()`\n",
      "  data[data_quartile] = np.where(data[col] > upper_limit, upper_limit, data[col])\n",
      "C:\\Users\\Admin\\AppData\\Local\\Temp\\ipykernel_40652\\3486996870.py:9: PerformanceWarning: DataFrame is highly fragmented.  This is usually the result of calling `frame.insert` many times, which has poor performance.  Consider joining all columns at once using pd.concat(axis=1) instead. To get a de-fragmented frame, use `newframe = frame.copy()`\n",
      "  data[data_quartile] = np.where(data[col] > upper_limit, upper_limit, data[col])\n",
      "C:\\Users\\Admin\\AppData\\Local\\Temp\\ipykernel_40652\\3486996870.py:9: PerformanceWarning: DataFrame is highly fragmented.  This is usually the result of calling `frame.insert` many times, which has poor performance.  Consider joining all columns at once using pd.concat(axis=1) instead. To get a de-fragmented frame, use `newframe = frame.copy()`\n",
      "  data[data_quartile] = np.where(data[col] > upper_limit, upper_limit, data[col])\n",
      "C:\\Users\\Admin\\AppData\\Local\\Temp\\ipykernel_40652\\3486996870.py:9: PerformanceWarning: DataFrame is highly fragmented.  This is usually the result of calling `frame.insert` many times, which has poor performance.  Consider joining all columns at once using pd.concat(axis=1) instead. To get a de-fragmented frame, use `newframe = frame.copy()`\n",
      "  data[data_quartile] = np.where(data[col] > upper_limit, upper_limit, data[col])\n",
      "C:\\Users\\Admin\\AppData\\Local\\Temp\\ipykernel_40652\\3486996870.py:9: PerformanceWarning: DataFrame is highly fragmented.  This is usually the result of calling `frame.insert` many times, which has poor performance.  Consider joining all columns at once using pd.concat(axis=1) instead. To get a de-fragmented frame, use `newframe = frame.copy()`\n",
      "  data[data_quartile] = np.where(data[col] > upper_limit, upper_limit, data[col])\n",
      "C:\\Users\\Admin\\AppData\\Local\\Temp\\ipykernel_40652\\3486996870.py:9: PerformanceWarning: DataFrame is highly fragmented.  This is usually the result of calling `frame.insert` many times, which has poor performance.  Consider joining all columns at once using pd.concat(axis=1) instead. To get a de-fragmented frame, use `newframe = frame.copy()`\n",
      "  data[data_quartile] = np.where(data[col] > upper_limit, upper_limit, data[col])\n",
      "C:\\Users\\Admin\\AppData\\Local\\Temp\\ipykernel_40652\\3486996870.py:9: PerformanceWarning: DataFrame is highly fragmented.  This is usually the result of calling `frame.insert` many times, which has poor performance.  Consider joining all columns at once using pd.concat(axis=1) instead. To get a de-fragmented frame, use `newframe = frame.copy()`\n",
      "  data[data_quartile] = np.where(data[col] > upper_limit, upper_limit, data[col])\n",
      "C:\\Users\\Admin\\AppData\\Local\\Temp\\ipykernel_40652\\3486996870.py:9: PerformanceWarning: DataFrame is highly fragmented.  This is usually the result of calling `frame.insert` many times, which has poor performance.  Consider joining all columns at once using pd.concat(axis=1) instead. To get a de-fragmented frame, use `newframe = frame.copy()`\n",
      "  data[data_quartile] = np.where(data[col] > upper_limit, upper_limit, data[col])\n",
      "C:\\Users\\Admin\\AppData\\Local\\Temp\\ipykernel_40652\\3486996870.py:9: PerformanceWarning: DataFrame is highly fragmented.  This is usually the result of calling `frame.insert` many times, which has poor performance.  Consider joining all columns at once using pd.concat(axis=1) instead. To get a de-fragmented frame, use `newframe = frame.copy()`\n",
      "  data[data_quartile] = np.where(data[col] > upper_limit, upper_limit, data[col])\n",
      "C:\\Users\\Admin\\AppData\\Local\\Temp\\ipykernel_40652\\3486996870.py:9: PerformanceWarning: DataFrame is highly fragmented.  This is usually the result of calling `frame.insert` many times, which has poor performance.  Consider joining all columns at once using pd.concat(axis=1) instead. To get a de-fragmented frame, use `newframe = frame.copy()`\n",
      "  data[data_quartile] = np.where(data[col] > upper_limit, upper_limit, data[col])\n",
      "C:\\Users\\Admin\\AppData\\Local\\Temp\\ipykernel_40652\\3486996870.py:9: PerformanceWarning: DataFrame is highly fragmented.  This is usually the result of calling `frame.insert` many times, which has poor performance.  Consider joining all columns at once using pd.concat(axis=1) instead. To get a de-fragmented frame, use `newframe = frame.copy()`\n",
      "  data[data_quartile] = np.where(data[col] > upper_limit, upper_limit, data[col])\n",
      "C:\\Users\\Admin\\AppData\\Local\\Temp\\ipykernel_40652\\3486996870.py:9: PerformanceWarning: DataFrame is highly fragmented.  This is usually the result of calling `frame.insert` many times, which has poor performance.  Consider joining all columns at once using pd.concat(axis=1) instead. To get a de-fragmented frame, use `newframe = frame.copy()`\n",
      "  data[data_quartile] = np.where(data[col] > upper_limit, upper_limit, data[col])\n",
      "C:\\Users\\Admin\\AppData\\Local\\Temp\\ipykernel_40652\\3486996870.py:9: PerformanceWarning: DataFrame is highly fragmented.  This is usually the result of calling `frame.insert` many times, which has poor performance.  Consider joining all columns at once using pd.concat(axis=1) instead. To get a de-fragmented frame, use `newframe = frame.copy()`\n",
      "  data[data_quartile] = np.where(data[col] > upper_limit, upper_limit, data[col])\n",
      "C:\\Users\\Admin\\AppData\\Local\\Temp\\ipykernel_40652\\3486996870.py:9: PerformanceWarning: DataFrame is highly fragmented.  This is usually the result of calling `frame.insert` many times, which has poor performance.  Consider joining all columns at once using pd.concat(axis=1) instead. To get a de-fragmented frame, use `newframe = frame.copy()`\n",
      "  data[data_quartile] = np.where(data[col] > upper_limit, upper_limit, data[col])\n",
      "C:\\Users\\Admin\\AppData\\Local\\Temp\\ipykernel_40652\\3486996870.py:9: PerformanceWarning: DataFrame is highly fragmented.  This is usually the result of calling `frame.insert` many times, which has poor performance.  Consider joining all columns at once using pd.concat(axis=1) instead. To get a de-fragmented frame, use `newframe = frame.copy()`\n",
      "  data[data_quartile] = np.where(data[col] > upper_limit, upper_limit, data[col])\n",
      "C:\\Users\\Admin\\AppData\\Local\\Temp\\ipykernel_40652\\3486996870.py:9: PerformanceWarning: DataFrame is highly fragmented.  This is usually the result of calling `frame.insert` many times, which has poor performance.  Consider joining all columns at once using pd.concat(axis=1) instead. To get a de-fragmented frame, use `newframe = frame.copy()`\n",
      "  data[data_quartile] = np.where(data[col] > upper_limit, upper_limit, data[col])\n",
      "C:\\Users\\Admin\\AppData\\Local\\Temp\\ipykernel_40652\\3486996870.py:9: PerformanceWarning: DataFrame is highly fragmented.  This is usually the result of calling `frame.insert` many times, which has poor performance.  Consider joining all columns at once using pd.concat(axis=1) instead. To get a de-fragmented frame, use `newframe = frame.copy()`\n",
      "  data[data_quartile] = np.where(data[col] > upper_limit, upper_limit, data[col])\n",
      "C:\\Users\\Admin\\AppData\\Local\\Temp\\ipykernel_40652\\3486996870.py:9: PerformanceWarning: DataFrame is highly fragmented.  This is usually the result of calling `frame.insert` many times, which has poor performance.  Consider joining all columns at once using pd.concat(axis=1) instead. To get a de-fragmented frame, use `newframe = frame.copy()`\n",
      "  data[data_quartile] = np.where(data[col] > upper_limit, upper_limit, data[col])\n",
      "C:\\Users\\Admin\\AppData\\Local\\Temp\\ipykernel_40652\\3486996870.py:9: PerformanceWarning: DataFrame is highly fragmented.  This is usually the result of calling `frame.insert` many times, which has poor performance.  Consider joining all columns at once using pd.concat(axis=1) instead. To get a de-fragmented frame, use `newframe = frame.copy()`\n",
      "  data[data_quartile] = np.where(data[col] > upper_limit, upper_limit, data[col])\n",
      "C:\\Users\\Admin\\AppData\\Local\\Temp\\ipykernel_40652\\3486996870.py:9: PerformanceWarning: DataFrame is highly fragmented.  This is usually the result of calling `frame.insert` many times, which has poor performance.  Consider joining all columns at once using pd.concat(axis=1) instead. To get a de-fragmented frame, use `newframe = frame.copy()`\n",
      "  data[data_quartile] = np.where(data[col] > upper_limit, upper_limit, data[col])\n",
      "C:\\Users\\Admin\\AppData\\Local\\Temp\\ipykernel_40652\\3486996870.py:9: PerformanceWarning: DataFrame is highly fragmented.  This is usually the result of calling `frame.insert` many times, which has poor performance.  Consider joining all columns at once using pd.concat(axis=1) instead. To get a de-fragmented frame, use `newframe = frame.copy()`\n",
      "  data[data_quartile] = np.where(data[col] > upper_limit, upper_limit, data[col])\n",
      "C:\\Users\\Admin\\AppData\\Local\\Temp\\ipykernel_40652\\3486996870.py:9: PerformanceWarning: DataFrame is highly fragmented.  This is usually the result of calling `frame.insert` many times, which has poor performance.  Consider joining all columns at once using pd.concat(axis=1) instead. To get a de-fragmented frame, use `newframe = frame.copy()`\n",
      "  data[data_quartile] = np.where(data[col] > upper_limit, upper_limit, data[col])\n",
      "C:\\Users\\Admin\\AppData\\Local\\Temp\\ipykernel_40652\\3486996870.py:9: PerformanceWarning: DataFrame is highly fragmented.  This is usually the result of calling `frame.insert` many times, which has poor performance.  Consider joining all columns at once using pd.concat(axis=1) instead. To get a de-fragmented frame, use `newframe = frame.copy()`\n",
      "  data[data_quartile] = np.where(data[col] > upper_limit, upper_limit, data[col])\n",
      "C:\\Users\\Admin\\AppData\\Local\\Temp\\ipykernel_40652\\3486996870.py:9: PerformanceWarning: DataFrame is highly fragmented.  This is usually the result of calling `frame.insert` many times, which has poor performance.  Consider joining all columns at once using pd.concat(axis=1) instead. To get a de-fragmented frame, use `newframe = frame.copy()`\n",
      "  data[data_quartile] = np.where(data[col] > upper_limit, upper_limit, data[col])\n",
      "C:\\Users\\Admin\\AppData\\Local\\Temp\\ipykernel_40652\\3486996870.py:9: PerformanceWarning: DataFrame is highly fragmented.  This is usually the result of calling `frame.insert` many times, which has poor performance.  Consider joining all columns at once using pd.concat(axis=1) instead. To get a de-fragmented frame, use `newframe = frame.copy()`\n",
      "  data[data_quartile] = np.where(data[col] > upper_limit, upper_limit, data[col])\n",
      "C:\\Users\\Admin\\AppData\\Local\\Temp\\ipykernel_40652\\3486996870.py:9: PerformanceWarning: DataFrame is highly fragmented.  This is usually the result of calling `frame.insert` many times, which has poor performance.  Consider joining all columns at once using pd.concat(axis=1) instead. To get a de-fragmented frame, use `newframe = frame.copy()`\n",
      "  data[data_quartile] = np.where(data[col] > upper_limit, upper_limit, data[col])\n"
     ]
    }
   ],
   "source": [
    "# The maximum and minimum of 'Quantity' and 'UnitPrice' are too far\n",
    "# Replace with quartile method\n",
    "for col in ['Quantity', 'UnitPrice']:\n",
    "    data_quartile = sorted(data[col])\n",
    "    Q1, Q3 = np.percentile(data_quartile, [0.01, 0.99])\n",
    "    IQR = Q3 - Q1\n",
    "    lower_limit = Q1 - (1.5 * IQR)\n",
    "    upper_limit = Q3 + (1.5 * IQR)\n",
    "    data[data_quartile] = np.where(data[col] > upper_limit, upper_limit, data[col])\n",
    "    data[data_quartile] = np.where(data[col] < lower_limit, lower_limit, data[col])\n"
   ]
  },
  {
   "cell_type": "code",
   "execution_count": 25,
   "metadata": {},
   "outputs": [
    {
     "data": {
      "application/vnd.microsoft.datawrangler.viewer.v0+json": {
       "columns": [
        {
         "name": "index",
         "rawType": "object",
         "type": "string"
        },
        {
         "name": "Quantity",
         "rawType": "float64",
         "type": "float"
        },
        {
         "name": "InvoiceDate",
         "rawType": "object",
         "type": "unknown"
        },
        {
         "name": "UnitPrice",
         "rawType": "float64",
         "type": "float"
        },
        {
         "name": "CustomerID",
         "rawType": "float64",
         "type": "float"
        },
        {
         "name": "TotalAmount",
         "rawType": "Float64",
         "type": "float"
        },
        {
         "name": "1",
         "rawType": "float64",
         "type": "float"
        },
        {
         "name": "2",
         "rawType": "float64",
         "type": "float"
        },
        {
         "name": "3",
         "rawType": "float64",
         "type": "float"
        },
        {
         "name": "4",
         "rawType": "float64",
         "type": "float"
        },
        {
         "name": "5",
         "rawType": "float64",
         "type": "float"
        },
        {
         "name": "6",
         "rawType": "float64",
         "type": "float"
        },
        {
         "name": "7",
         "rawType": "float64",
         "type": "float"
        },
        {
         "name": "8",
         "rawType": "float64",
         "type": "float"
        },
        {
         "name": "9",
         "rawType": "float64",
         "type": "float"
        },
        {
         "name": "10",
         "rawType": "float64",
         "type": "float"
        },
        {
         "name": "11",
         "rawType": "float64",
         "type": "float"
        },
        {
         "name": "12",
         "rawType": "float64",
         "type": "float"
        },
        {
         "name": "13",
         "rawType": "float64",
         "type": "float"
        },
        {
         "name": "14",
         "rawType": "float64",
         "type": "float"
        },
        {
         "name": "15",
         "rawType": "float64",
         "type": "float"
        },
        {
         "name": "16",
         "rawType": "float64",
         "type": "float"
        },
        {
         "name": "17",
         "rawType": "float64",
         "type": "float"
        },
        {
         "name": "18",
         "rawType": "float64",
         "type": "float"
        },
        {
         "name": "19",
         "rawType": "float64",
         "type": "float"
        },
        {
         "name": "20",
         "rawType": "float64",
         "type": "float"
        },
        {
         "name": "21",
         "rawType": "float64",
         "type": "float"
        },
        {
         "name": "22",
         "rawType": "float64",
         "type": "float"
        },
        {
         "name": "23",
         "rawType": "float64",
         "type": "float"
        },
        {
         "name": "24",
         "rawType": "float64",
         "type": "float"
        },
        {
         "name": "25",
         "rawType": "float64",
         "type": "float"
        },
        {
         "name": "26",
         "rawType": "float64",
         "type": "float"
        },
        {
         "name": "27",
         "rawType": "float64",
         "type": "float"
        },
        {
         "name": "28",
         "rawType": "float64",
         "type": "float"
        },
        {
         "name": "29",
         "rawType": "float64",
         "type": "float"
        },
        {
         "name": "30",
         "rawType": "float64",
         "type": "float"
        },
        {
         "name": "31",
         "rawType": "float64",
         "type": "float"
        },
        {
         "name": "32",
         "rawType": "float64",
         "type": "float"
        },
        {
         "name": "33",
         "rawType": "float64",
         "type": "float"
        },
        {
         "name": "34",
         "rawType": "float64",
         "type": "float"
        },
        {
         "name": "35",
         "rawType": "float64",
         "type": "float"
        },
        {
         "name": "36",
         "rawType": "float64",
         "type": "float"
        },
        {
         "name": "37",
         "rawType": "float64",
         "type": "float"
        },
        {
         "name": "38",
         "rawType": "float64",
         "type": "float"
        },
        {
         "name": "39",
         "rawType": "float64",
         "type": "float"
        },
        {
         "name": "40",
         "rawType": "float64",
         "type": "float"
        },
        {
         "name": "41",
         "rawType": "float64",
         "type": "float"
        },
        {
         "name": "42",
         "rawType": "float64",
         "type": "float"
        },
        {
         "name": "43",
         "rawType": "float64",
         "type": "float"
        },
        {
         "name": "44",
         "rawType": "float64",
         "type": "float"
        },
        {
         "name": "45",
         "rawType": "float64",
         "type": "float"
        },
        {
         "name": "46",
         "rawType": "float64",
         "type": "float"
        },
        {
         "name": "47",
         "rawType": "float64",
         "type": "float"
        },
        {
         "name": "48",
         "rawType": "float64",
         "type": "float"
        },
        {
         "name": "49",
         "rawType": "float64",
         "type": "float"
        },
        {
         "name": "50",
         "rawType": "float64",
         "type": "float"
        },
        {
         "name": "51",
         "rawType": "float64",
         "type": "float"
        },
        {
         "name": "52",
         "rawType": "float64",
         "type": "float"
        },
        {
         "name": "53",
         "rawType": "float64",
         "type": "float"
        },
        {
         "name": "54",
         "rawType": "float64",
         "type": "float"
        },
        {
         "name": "55",
         "rawType": "float64",
         "type": "float"
        },
        {
         "name": "56",
         "rawType": "float64",
         "type": "float"
        },
        {
         "name": "57",
         "rawType": "float64",
         "type": "float"
        },
        {
         "name": "58",
         "rawType": "float64",
         "type": "float"
        },
        {
         "name": "59",
         "rawType": "float64",
         "type": "float"
        },
        {
         "name": "60",
         "rawType": "float64",
         "type": "float"
        },
        {
         "name": "62",
         "rawType": "float64",
         "type": "float"
        },
        {
         "name": "63",
         "rawType": "float64",
         "type": "float"
        },
        {
         "name": "64",
         "rawType": "float64",
         "type": "float"
        },
        {
         "name": "65",
         "rawType": "float64",
         "type": "float"
        },
        {
         "name": "66",
         "rawType": "float64",
         "type": "float"
        },
        {
         "name": "67",
         "rawType": "float64",
         "type": "float"
        },
        {
         "name": "69",
         "rawType": "float64",
         "type": "float"
        },
        {
         "name": "70",
         "rawType": "float64",
         "type": "float"
        },
        {
         "name": "72",
         "rawType": "float64",
         "type": "float"
        },
        {
         "name": "74",
         "rawType": "float64",
         "type": "float"
        },
        {
         "name": "75",
         "rawType": "float64",
         "type": "float"
        },
        {
         "name": "76",
         "rawType": "float64",
         "type": "float"
        },
        {
         "name": "78",
         "rawType": "float64",
         "type": "float"
        },
        {
         "name": "79",
         "rawType": "float64",
         "type": "float"
        },
        {
         "name": "80",
         "rawType": "float64",
         "type": "float"
        },
        {
         "name": "81",
         "rawType": "float64",
         "type": "float"
        },
        {
         "name": "83",
         "rawType": "float64",
         "type": "float"
        },
        {
         "name": "84",
         "rawType": "float64",
         "type": "float"
        },
        {
         "name": "85",
         "rawType": "float64",
         "type": "float"
        },
        {
         "name": "86",
         "rawType": "float64",
         "type": "float"
        },
        {
         "name": "87",
         "rawType": "float64",
         "type": "float"
        },
        {
         "name": "88",
         "rawType": "float64",
         "type": "float"
        },
        {
         "name": "89",
         "rawType": "float64",
         "type": "float"
        },
        {
         "name": "90",
         "rawType": "float64",
         "type": "float"
        },
        {
         "name": "92",
         "rawType": "float64",
         "type": "float"
        },
        {
         "name": "93",
         "rawType": "float64",
         "type": "float"
        },
        {
         "name": "94",
         "rawType": "float64",
         "type": "float"
        },
        {
         "name": "95",
         "rawType": "float64",
         "type": "float"
        },
        {
         "name": "96",
         "rawType": "float64",
         "type": "float"
        },
        {
         "name": "98",
         "rawType": "float64",
         "type": "float"
        },
        {
         "name": "100",
         "rawType": "float64",
         "type": "float"
        },
        {
         "name": "101",
         "rawType": "float64",
         "type": "float"
        },
        {
         "name": "102",
         "rawType": "float64",
         "type": "float"
        },
        {
         "name": "104",
         "rawType": "float64",
         "type": "float"
        },
        {
         "name": "108",
         "rawType": "float64",
         "type": "float"
        },
        {
         "name": "109",
         "rawType": "float64",
         "type": "float"
        },
        {
         "name": "110",
         "rawType": "float64",
         "type": "float"
        },
        {
         "name": "112",
         "rawType": "float64",
         "type": "float"
        },
        {
         "name": "114",
         "rawType": "float64",
         "type": "float"
        },
        {
         "name": "115",
         "rawType": "float64",
         "type": "float"
        },
        {
         "name": "116",
         "rawType": "float64",
         "type": "float"
        },
        {
         "name": "117",
         "rawType": "float64",
         "type": "float"
        },
        {
         "name": "120",
         "rawType": "float64",
         "type": "float"
        },
        {
         "name": "121",
         "rawType": "float64",
         "type": "float"
        },
        {
         "name": "124",
         "rawType": "float64",
         "type": "float"
        },
        {
         "name": "125",
         "rawType": "float64",
         "type": "float"
        },
        {
         "name": "126",
         "rawType": "float64",
         "type": "float"
        },
        {
         "name": "128",
         "rawType": "float64",
         "type": "float"
        },
        {
         "name": "129",
         "rawType": "float64",
         "type": "float"
        },
        {
         "name": "130",
         "rawType": "float64",
         "type": "float"
        },
        {
         "name": "132",
         "rawType": "float64",
         "type": "float"
        },
        {
         "name": "136",
         "rawType": "float64",
         "type": "float"
        },
        {
         "name": "139",
         "rawType": "float64",
         "type": "float"
        },
        {
         "name": "140",
         "rawType": "float64",
         "type": "float"
        },
        {
         "name": "141",
         "rawType": "float64",
         "type": "float"
        },
        {
         "name": "144",
         "rawType": "float64",
         "type": "float"
        },
        {
         "name": "147",
         "rawType": "float64",
         "type": "float"
        },
        {
         "name": "150",
         "rawType": "float64",
         "type": "float"
        },
        {
         "name": "151",
         "rawType": "float64",
         "type": "float"
        },
        {
         "name": "152",
         "rawType": "float64",
         "type": "float"
        },
        {
         "name": "156",
         "rawType": "float64",
         "type": "float"
        },
        {
         "name": "157",
         "rawType": "float64",
         "type": "float"
        },
        {
         "name": "160",
         "rawType": "float64",
         "type": "float"
        },
        {
         "name": "162",
         "rawType": "float64",
         "type": "float"
        },
        {
         "name": "168",
         "rawType": "float64",
         "type": "float"
        },
        {
         "name": "176",
         "rawType": "float64",
         "type": "float"
        },
        {
         "name": "180",
         "rawType": "float64",
         "type": "float"
        },
        {
         "name": "183",
         "rawType": "float64",
         "type": "float"
        },
        {
         "name": "186",
         "rawType": "float64",
         "type": "float"
        },
        {
         "name": "188",
         "rawType": "float64",
         "type": "float"
        },
        {
         "name": "192",
         "rawType": "float64",
         "type": "float"
        },
        {
         "name": "196",
         "rawType": "float64",
         "type": "float"
        },
        {
         "name": "198",
         "rawType": "float64",
         "type": "float"
        },
        {
         "name": "200",
         "rawType": "float64",
         "type": "float"
        },
        {
         "name": "204",
         "rawType": "float64",
         "type": "float"
        },
        {
         "name": "208",
         "rawType": "float64",
         "type": "float"
        },
        {
         "name": "210",
         "rawType": "float64",
         "type": "float"
        },
        {
         "name": "216",
         "rawType": "float64",
         "type": "float"
        },
        {
         "name": "220",
         "rawType": "float64",
         "type": "float"
        },
        {
         "name": "222",
         "rawType": "float64",
         "type": "float"
        },
        {
         "name": "224",
         "rawType": "float64",
         "type": "float"
        },
        {
         "name": "227",
         "rawType": "float64",
         "type": "float"
        },
        {
         "name": "228",
         "rawType": "float64",
         "type": "float"
        },
        {
         "name": "230",
         "rawType": "float64",
         "type": "float"
        },
        {
         "name": "232",
         "rawType": "float64",
         "type": "float"
        },
        {
         "name": "234",
         "rawType": "float64",
         "type": "float"
        },
        {
         "name": "236",
         "rawType": "float64",
         "type": "float"
        },
        {
         "name": "240",
         "rawType": "float64",
         "type": "float"
        },
        {
         "name": "244",
         "rawType": "float64",
         "type": "float"
        },
        {
         "name": "246",
         "rawType": "float64",
         "type": "float"
        },
        {
         "name": "248",
         "rawType": "float64",
         "type": "float"
        },
        {
         "name": "250",
         "rawType": "float64",
         "type": "float"
        },
        {
         "name": "252",
         "rawType": "float64",
         "type": "float"
        },
        {
         "name": "255",
         "rawType": "float64",
         "type": "float"
        },
        {
         "name": "256",
         "rawType": "float64",
         "type": "float"
        },
        {
         "name": "261",
         "rawType": "float64",
         "type": "float"
        },
        {
         "name": "264",
         "rawType": "float64",
         "type": "float"
        },
        {
         "name": "270",
         "rawType": "float64",
         "type": "float"
        },
        {
         "name": "272",
         "rawType": "float64",
         "type": "float"
        },
        {
         "name": "273",
         "rawType": "float64",
         "type": "float"
        },
        {
         "name": "276",
         "rawType": "float64",
         "type": "float"
        },
        {
         "name": "280",
         "rawType": "float64",
         "type": "float"
        },
        {
         "name": "288",
         "rawType": "float64",
         "type": "float"
        },
        {
         "name": "291",
         "rawType": "float64",
         "type": "float"
        },
        {
         "name": "300",
         "rawType": "float64",
         "type": "float"
        },
        {
         "name": "304",
         "rawType": "float64",
         "type": "float"
        },
        {
         "name": "306",
         "rawType": "float64",
         "type": "float"
        },
        {
         "name": "312",
         "rawType": "float64",
         "type": "float"
        },
        {
         "name": "320",
         "rawType": "float64",
         "type": "float"
        },
        {
         "name": "323",
         "rawType": "float64",
         "type": "float"
        },
        {
         "name": "324",
         "rawType": "float64",
         "type": "float"
        },
        {
         "name": "330",
         "rawType": "float64",
         "type": "float"
        },
        {
         "name": "336",
         "rawType": "float64",
         "type": "float"
        },
        {
         "name": "342",
         "rawType": "float64",
         "type": "float"
        },
        {
         "name": "348",
         "rawType": "float64",
         "type": "float"
        },
        {
         "name": "350",
         "rawType": "float64",
         "type": "float"
        },
        {
         "name": "352",
         "rawType": "float64",
         "type": "float"
        },
        {
         "name": "360",
         "rawType": "float64",
         "type": "float"
        },
        {
         "name": "378",
         "rawType": "float64",
         "type": "float"
        },
        {
         "name": "384",
         "rawType": "float64",
         "type": "float"
        },
        {
         "name": "388",
         "rawType": "float64",
         "type": "float"
        },
        {
         "name": "392",
         "rawType": "float64",
         "type": "float"
        },
        {
         "name": "396",
         "rawType": "float64",
         "type": "float"
        },
        {
         "name": "400",
         "rawType": "float64",
         "type": "float"
        },
        {
         "name": "402",
         "rawType": "float64",
         "type": "float"
        },
        {
         "name": "407",
         "rawType": "float64",
         "type": "float"
        },
        {
         "name": "408",
         "rawType": "float64",
         "type": "float"
        },
        {
         "name": "410",
         "rawType": "float64",
         "type": "float"
        },
        {
         "name": "416",
         "rawType": "float64",
         "type": "float"
        },
        {
         "name": "420",
         "rawType": "float64",
         "type": "float"
        },
        {
         "name": "428",
         "rawType": "float64",
         "type": "float"
        },
        {
         "name": "430",
         "rawType": "float64",
         "type": "float"
        },
        {
         "name": "432",
         "rawType": "float64",
         "type": "float"
        },
        {
         "name": "448",
         "rawType": "float64",
         "type": "float"
        },
        {
         "name": "450",
         "rawType": "float64",
         "type": "float"
        },
        {
         "name": "456",
         "rawType": "float64",
         "type": "float"
        },
        {
         "name": "462",
         "rawType": "float64",
         "type": "float"
        },
        {
         "name": "468",
         "rawType": "float64",
         "type": "float"
        },
        {
         "name": "480",
         "rawType": "float64",
         "type": "float"
        },
        {
         "name": "490",
         "rawType": "float64",
         "type": "float"
        },
        {
         "name": "492",
         "rawType": "float64",
         "type": "float"
        },
        {
         "name": "494",
         "rawType": "float64",
         "type": "float"
        },
        {
         "name": "496",
         "rawType": "float64",
         "type": "float"
        },
        {
         "name": "500",
         "rawType": "float64",
         "type": "float"
        },
        {
         "name": "504",
         "rawType": "float64",
         "type": "float"
        },
        {
         "name": "512",
         "rawType": "float64",
         "type": "float"
        },
        {
         "name": "528",
         "rawType": "float64",
         "type": "float"
        },
        {
         "name": "540",
         "rawType": "float64",
         "type": "float"
        },
        {
         "name": "552",
         "rawType": "float64",
         "type": "float"
        },
        {
         "name": "560",
         "rawType": "float64",
         "type": "float"
        },
        {
         "name": "576",
         "rawType": "float64",
         "type": "float"
        },
        {
         "name": "588",
         "rawType": "float64",
         "type": "float"
        },
        {
         "name": "600",
         "rawType": "float64",
         "type": "float"
        },
        {
         "name": "608",
         "rawType": "float64",
         "type": "float"
        },
        {
         "name": "612",
         "rawType": "float64",
         "type": "float"
        },
        {
         "name": "620",
         "rawType": "float64",
         "type": "float"
        },
        {
         "name": "624",
         "rawType": "float64",
         "type": "float"
        },
        {
         "name": "630",
         "rawType": "float64",
         "type": "float"
        },
        {
         "name": "640",
         "rawType": "float64",
         "type": "float"
        },
        {
         "name": "648",
         "rawType": "float64",
         "type": "float"
        },
        {
         "name": "660",
         "rawType": "float64",
         "type": "float"
        },
        {
         "name": "666",
         "rawType": "float64",
         "type": "float"
        },
        {
         "name": "670",
         "rawType": "float64",
         "type": "float"
        },
        {
         "name": "672",
         "rawType": "float64",
         "type": "float"
        },
        {
         "name": "684",
         "rawType": "float64",
         "type": "float"
        },
        {
         "name": "696",
         "rawType": "float64",
         "type": "float"
        },
        {
         "name": "698",
         "rawType": "float64",
         "type": "float"
        },
        {
         "name": "700",
         "rawType": "float64",
         "type": "float"
        },
        {
         "name": "701",
         "rawType": "float64",
         "type": "float"
        },
        {
         "name": "708",
         "rawType": "float64",
         "type": "float"
        },
        {
         "name": "720",
         "rawType": "float64",
         "type": "float"
        },
        {
         "name": "738",
         "rawType": "float64",
         "type": "float"
        },
        {
         "name": "744",
         "rawType": "float64",
         "type": "float"
        },
        {
         "name": "756",
         "rawType": "float64",
         "type": "float"
        },
        {
         "name": "760",
         "rawType": "float64",
         "type": "float"
        },
        {
         "name": "768",
         "rawType": "float64",
         "type": "float"
        },
        {
         "name": "774",
         "rawType": "float64",
         "type": "float"
        },
        {
         "name": "800",
         "rawType": "float64",
         "type": "float"
        },
        {
         "name": "824",
         "rawType": "float64",
         "type": "float"
        },
        {
         "name": "828",
         "rawType": "float64",
         "type": "float"
        },
        {
         "name": "832",
         "rawType": "float64",
         "type": "float"
        },
        {
         "name": "840",
         "rawType": "float64",
         "type": "float"
        },
        {
         "name": "852",
         "rawType": "float64",
         "type": "float"
        },
        {
         "name": "860",
         "rawType": "float64",
         "type": "float"
        },
        {
         "name": "864",
         "rawType": "float64",
         "type": "float"
        },
        {
         "name": "888",
         "rawType": "float64",
         "type": "float"
        },
        {
         "name": "900",
         "rawType": "float64",
         "type": "float"
        },
        {
         "name": "906",
         "rawType": "float64",
         "type": "float"
        },
        {
         "name": "912",
         "rawType": "float64",
         "type": "float"
        },
        {
         "name": "960",
         "rawType": "float64",
         "type": "float"
        },
        {
         "name": "968",
         "rawType": "float64",
         "type": "float"
        },
        {
         "name": "972",
         "rawType": "float64",
         "type": "float"
        },
        {
         "name": "992",
         "rawType": "float64",
         "type": "float"
        },
        {
         "name": "1000",
         "rawType": "float64",
         "type": "float"
        },
        {
         "name": "1008",
         "rawType": "float64",
         "type": "float"
        },
        {
         "name": "1010",
         "rawType": "float64",
         "type": "float"
        },
        {
         "name": "1020",
         "rawType": "float64",
         "type": "float"
        },
        {
         "name": "1056",
         "rawType": "float64",
         "type": "float"
        },
        {
         "name": "1120",
         "rawType": "float64",
         "type": "float"
        },
        {
         "name": "1152",
         "rawType": "float64",
         "type": "float"
        },
        {
         "name": "1200",
         "rawType": "float64",
         "type": "float"
        },
        {
         "name": "1284",
         "rawType": "float64",
         "type": "float"
        },
        {
         "name": "1296",
         "rawType": "float64",
         "type": "float"
        },
        {
         "name": "1300",
         "rawType": "float64",
         "type": "float"
        },
        {
         "name": "1350",
         "rawType": "float64",
         "type": "float"
        },
        {
         "name": "1356",
         "rawType": "float64",
         "type": "float"
        },
        {
         "name": "1394",
         "rawType": "float64",
         "type": "float"
        },
        {
         "name": "1400",
         "rawType": "float64",
         "type": "float"
        },
        {
         "name": "1404",
         "rawType": "float64",
         "type": "float"
        },
        {
         "name": "1412",
         "rawType": "float64",
         "type": "float"
        },
        {
         "name": "1428",
         "rawType": "float64",
         "type": "float"
        },
        {
         "name": "1440",
         "rawType": "float64",
         "type": "float"
        },
        {
         "name": "1488",
         "rawType": "float64",
         "type": "float"
        },
        {
         "name": "1500",
         "rawType": "float64",
         "type": "float"
        },
        {
         "name": "1515",
         "rawType": "float64",
         "type": "float"
        },
        {
         "name": "1540",
         "rawType": "float64",
         "type": "float"
        },
        {
         "name": "1600",
         "rawType": "float64",
         "type": "float"
        },
        {
         "name": "1728",
         "rawType": "float64",
         "type": "float"
        },
        {
         "name": "1788",
         "rawType": "float64",
         "type": "float"
        },
        {
         "name": "1824",
         "rawType": "float64",
         "type": "float"
        },
        {
         "name": "1878",
         "rawType": "float64",
         "type": "float"
        },
        {
         "name": "1900",
         "rawType": "float64",
         "type": "float"
        },
        {
         "name": "1930",
         "rawType": "float64",
         "type": "float"
        },
        {
         "name": "1944",
         "rawType": "float64",
         "type": "float"
        },
        {
         "name": "1992",
         "rawType": "float64",
         "type": "float"
        },
        {
         "name": "2000",
         "rawType": "float64",
         "type": "float"
        },
        {
         "name": "2040",
         "rawType": "float64",
         "type": "float"
        },
        {
         "name": "2100",
         "rawType": "float64",
         "type": "float"
        },
        {
         "name": "2160",
         "rawType": "float64",
         "type": "float"
        },
        {
         "name": "2400",
         "rawType": "float64",
         "type": "float"
        },
        {
         "name": "2592",
         "rawType": "float64",
         "type": "float"
        },
        {
         "name": "2700",
         "rawType": "float64",
         "type": "float"
        },
        {
         "name": "2880",
         "rawType": "float64",
         "type": "float"
        },
        {
         "name": "3000",
         "rawType": "float64",
         "type": "float"
        },
        {
         "name": "3114",
         "rawType": "float64",
         "type": "float"
        },
        {
         "name": "3186",
         "rawType": "float64",
         "type": "float"
        },
        {
         "name": "3906",
         "rawType": "float64",
         "type": "float"
        },
        {
         "name": "4300",
         "rawType": "float64",
         "type": "float"
        },
        {
         "name": "4800",
         "rawType": "float64",
         "type": "float"
        },
        {
         "name": "12540",
         "rawType": "float64",
         "type": "float"
        },
        {
         "name": "74215",
         "rawType": "float64",
         "type": "float"
        },
        {
         "name": "80995",
         "rawType": "float64",
         "type": "float"
        },
        {
         "name": "0.0",
         "rawType": "float64",
         "type": "float"
        },
        {
         "name": "0.001",
         "rawType": "float64",
         "type": "float"
        },
        {
         "name": "0.04",
         "rawType": "float64",
         "type": "float"
        },
        {
         "name": "0.06",
         "rawType": "float64",
         "type": "float"
        },
        {
         "name": "0.07",
         "rawType": "float64",
         "type": "float"
        },
        {
         "name": "0.08",
         "rawType": "float64",
         "type": "float"
        },
        {
         "name": "0.09",
         "rawType": "float64",
         "type": "float"
        },
        {
         "name": "0.1",
         "rawType": "float64",
         "type": "float"
        },
        {
         "name": "0.12",
         "rawType": "float64",
         "type": "float"
        },
        {
         "name": "0.14",
         "rawType": "float64",
         "type": "float"
        },
        {
         "name": "0.16",
         "rawType": "float64",
         "type": "float"
        },
        {
         "name": "0.17",
         "rawType": "float64",
         "type": "float"
        },
        {
         "name": "0.18",
         "rawType": "float64",
         "type": "float"
        },
        {
         "name": "0.19",
         "rawType": "float64",
         "type": "float"
        },
        {
         "name": "0.2",
         "rawType": "float64",
         "type": "float"
        },
        {
         "name": "0.21",
         "rawType": "float64",
         "type": "float"
        },
        {
         "name": "0.22",
         "rawType": "float64",
         "type": "float"
        },
        {
         "name": "0.24",
         "rawType": "float64",
         "type": "float"
        },
        {
         "name": "0.25",
         "rawType": "float64",
         "type": "float"
        },
        {
         "name": "0.27",
         "rawType": "float64",
         "type": "float"
        },
        {
         "name": "0.28",
         "rawType": "float64",
         "type": "float"
        },
        {
         "name": "0.29",
         "rawType": "float64",
         "type": "float"
        },
        {
         "name": "0.3",
         "rawType": "float64",
         "type": "float"
        },
        {
         "name": "0.32",
         "rawType": "float64",
         "type": "float"
        },
        {
         "name": "0.34",
         "rawType": "float64",
         "type": "float"
        },
        {
         "name": "0.35",
         "rawType": "float64",
         "type": "float"
        },
        {
         "name": "0.36",
         "rawType": "float64",
         "type": "float"
        },
        {
         "name": "0.37",
         "rawType": "float64",
         "type": "float"
        },
        {
         "name": "0.38",
         "rawType": "float64",
         "type": "float"
        },
        {
         "name": "0.39",
         "rawType": "float64",
         "type": "float"
        },
        {
         "name": "0.4",
         "rawType": "float64",
         "type": "float"
        },
        {
         "name": "0.42",
         "rawType": "float64",
         "type": "float"
        },
        {
         "name": "0.5",
         "rawType": "float64",
         "type": "float"
        },
        {
         "name": "0.52",
         "rawType": "float64",
         "type": "float"
        },
        {
         "name": "0.53",
         "rawType": "float64",
         "type": "float"
        },
        {
         "name": "0.55",
         "rawType": "float64",
         "type": "float"
        },
        {
         "name": "0.58",
         "rawType": "float64",
         "type": "float"
        },
        {
         "name": "0.59",
         "rawType": "float64",
         "type": "float"
        },
        {
         "name": "0.62",
         "rawType": "float64",
         "type": "float"
        },
        {
         "name": "0.63",
         "rawType": "float64",
         "type": "float"
        },
        {
         "name": "0.64",
         "rawType": "float64",
         "type": "float"
        },
        {
         "name": "0.65",
         "rawType": "float64",
         "type": "float"
        },
        {
         "name": "0.68",
         "rawType": "float64",
         "type": "float"
        },
        {
         "name": "0.69",
         "rawType": "float64",
         "type": "float"
        },
        {
         "name": "0.72",
         "rawType": "float64",
         "type": "float"
        },
        {
         "name": "0.73",
         "rawType": "float64",
         "type": "float"
        },
        {
         "name": "0.74",
         "rawType": "float64",
         "type": "float"
        },
        {
         "name": "0.75",
         "rawType": "float64",
         "type": "float"
        },
        {
         "name": "0.76",
         "rawType": "float64",
         "type": "float"
        },
        {
         "name": "0.79",
         "rawType": "float64",
         "type": "float"
        },
        {
         "name": "0.8",
         "rawType": "float64",
         "type": "float"
        },
        {
         "name": "0.82",
         "rawType": "float64",
         "type": "float"
        },
        {
         "name": "0.83",
         "rawType": "float64",
         "type": "float"
        },
        {
         "name": "0.85",
         "rawType": "float64",
         "type": "float"
        },
        {
         "name": "0.86",
         "rawType": "float64",
         "type": "float"
        },
        {
         "name": "0.9",
         "rawType": "float64",
         "type": "float"
        },
        {
         "name": "0.92",
         "rawType": "float64",
         "type": "float"
        },
        {
         "name": "0.94",
         "rawType": "float64",
         "type": "float"
        },
        {
         "name": "0.95",
         "rawType": "float64",
         "type": "float"
        },
        {
         "name": "0.98",
         "rawType": "float64",
         "type": "float"
        },
        {
         "name": "1.01",
         "rawType": "float64",
         "type": "float"
        },
        {
         "name": "1.02",
         "rawType": "float64",
         "type": "float"
        },
        {
         "name": "1.04",
         "rawType": "float64",
         "type": "float"
        },
        {
         "name": "1.05",
         "rawType": "float64",
         "type": "float"
        },
        {
         "name": "1.06",
         "rawType": "float64",
         "type": "float"
        },
        {
         "name": "1.08",
         "rawType": "float64",
         "type": "float"
        },
        {
         "name": "1.1",
         "rawType": "float64",
         "type": "float"
        },
        {
         "name": "1.11",
         "rawType": "float64",
         "type": "float"
        },
        {
         "name": "1.12",
         "rawType": "float64",
         "type": "float"
        },
        {
         "name": "1.18",
         "rawType": "float64",
         "type": "float"
        },
        {
         "name": "1.19",
         "rawType": "float64",
         "type": "float"
        },
        {
         "name": "1.23",
         "rawType": "float64",
         "type": "float"
        },
        {
         "name": "1.24",
         "rawType": "float64",
         "type": "float"
        },
        {
         "name": "1.25",
         "rawType": "float64",
         "type": "float"
        },
        {
         "name": "1.27",
         "rawType": "float64",
         "type": "float"
        },
        {
         "name": "1.38",
         "rawType": "float64",
         "type": "float"
        },
        {
         "name": "1.4",
         "rawType": "float64",
         "type": "float"
        },
        {
         "name": "1.43",
         "rawType": "float64",
         "type": "float"
        },
        {
         "name": "1.45",
         "rawType": "float64",
         "type": "float"
        },
        {
         "name": "1.46",
         "rawType": "float64",
         "type": "float"
        },
        {
         "name": "1.48",
         "rawType": "float64",
         "type": "float"
        },
        {
         "name": "1.49",
         "rawType": "float64",
         "type": "float"
        },
        {
         "name": "1.5",
         "rawType": "float64",
         "type": "float"
        },
        {
         "name": "1.53",
         "rawType": "float64",
         "type": "float"
        },
        {
         "name": "1.55",
         "rawType": "float64",
         "type": "float"
        },
        {
         "name": "1.6",
         "rawType": "float64",
         "type": "float"
        },
        {
         "name": "1.63",
         "rawType": "float64",
         "type": "float"
        },
        {
         "name": "1.64",
         "rawType": "float64",
         "type": "float"
        },
        {
         "name": "1.65",
         "rawType": "float64",
         "type": "float"
        },
        {
         "name": "1.66",
         "rawType": "float64",
         "type": "float"
        },
        {
         "name": "1.67",
         "rawType": "float64",
         "type": "float"
        },
        {
         "name": "1.68",
         "rawType": "float64",
         "type": "float"
        },
        {
         "name": "1.69",
         "rawType": "float64",
         "type": "float"
        },
        {
         "name": "1.7",
         "rawType": "float64",
         "type": "float"
        },
        {
         "name": "1.71",
         "rawType": "float64",
         "type": "float"
        },
        {
         "name": "1.74",
         "rawType": "float64",
         "type": "float"
        },
        {
         "name": "1.75",
         "rawType": "float64",
         "type": "float"
        },
        {
         "name": "1.79",
         "rawType": "float64",
         "type": "float"
        },
        {
         "name": "1.8",
         "rawType": "float64",
         "type": "float"
        },
        {
         "name": "1.85",
         "rawType": "float64",
         "type": "float"
        },
        {
         "name": "1.86",
         "rawType": "float64",
         "type": "float"
        },
        {
         "name": "1.88",
         "rawType": "float64",
         "type": "float"
        },
        {
         "name": "1.9",
         "rawType": "float64",
         "type": "float"
        },
        {
         "name": "1.92",
         "rawType": "float64",
         "type": "float"
        },
        {
         "name": "1.93",
         "rawType": "float64",
         "type": "float"
        },
        {
         "name": "1.95",
         "rawType": "float64",
         "type": "float"
        },
        {
         "name": "1.96",
         "rawType": "float64",
         "type": "float"
        },
        {
         "name": "1.97",
         "rawType": "float64",
         "type": "float"
        },
        {
         "name": "1.98",
         "rawType": "float64",
         "type": "float"
        },
        {
         "name": "2.02",
         "rawType": "float64",
         "type": "float"
        },
        {
         "name": "2.04",
         "rawType": "float64",
         "type": "float"
        },
        {
         "name": "2.08",
         "rawType": "float64",
         "type": "float"
        },
        {
         "name": "2.1",
         "rawType": "float64",
         "type": "float"
        },
        {
         "name": "2.12",
         "rawType": "float64",
         "type": "float"
        },
        {
         "name": "2.16",
         "rawType": "float64",
         "type": "float"
        },
        {
         "name": "2.17",
         "rawType": "float64",
         "type": "float"
        },
        {
         "name": "2.21",
         "rawType": "float64",
         "type": "float"
        },
        {
         "name": "2.22",
         "rawType": "float64",
         "type": "float"
        },
        {
         "name": "2.25",
         "rawType": "float64",
         "type": "float"
        },
        {
         "name": "2.26",
         "rawType": "float64",
         "type": "float"
        },
        {
         "name": "2.3",
         "rawType": "float64",
         "type": "float"
        },
        {
         "name": "2.31",
         "rawType": "float64",
         "type": "float"
        },
        {
         "name": "2.32",
         "rawType": "float64",
         "type": "float"
        },
        {
         "name": "2.33",
         "rawType": "float64",
         "type": "float"
        },
        {
         "name": "2.35",
         "rawType": "float64",
         "type": "float"
        },
        {
         "name": "2.39",
         "rawType": "float64",
         "type": "float"
        },
        {
         "name": "2.4",
         "rawType": "float64",
         "type": "float"
        },
        {
         "name": "2.41",
         "rawType": "float64",
         "type": "float"
        },
        {
         "name": "2.42",
         "rawType": "float64",
         "type": "float"
        },
        {
         "name": "2.46",
         "rawType": "float64",
         "type": "float"
        },
        {
         "name": "2.48",
         "rawType": "float64",
         "type": "float"
        },
        {
         "name": "2.49",
         "rawType": "float64",
         "type": "float"
        },
        {
         "name": "2.5",
         "rawType": "float64",
         "type": "float"
        },
        {
         "name": "2.55",
         "rawType": "float64",
         "type": "float"
        },
        {
         "name": "2.6",
         "rawType": "float64",
         "type": "float"
        },
        {
         "name": "2.62",
         "rawType": "float64",
         "type": "float"
        },
        {
         "name": "2.65",
         "rawType": "float64",
         "type": "float"
        },
        {
         "name": "2.66",
         "rawType": "float64",
         "type": "float"
        },
        {
         "name": "2.67",
         "rawType": "float64",
         "type": "float"
        },
        {
         "name": "2.69",
         "rawType": "float64",
         "type": "float"
        },
        {
         "name": "2.75",
         "rawType": "float64",
         "type": "float"
        },
        {
         "name": "2.85",
         "rawType": "float64",
         "type": "float"
        },
        {
         "name": "2.89",
         "rawType": "float64",
         "type": "float"
        },
        {
         "name": "2.9",
         "rawType": "float64",
         "type": "float"
        },
        {
         "name": "2.92",
         "rawType": "float64",
         "type": "float"
        },
        {
         "name": "2.95",
         "rawType": "float64",
         "type": "float"
        },
        {
         "name": "2.96",
         "rawType": "float64",
         "type": "float"
        },
        {
         "name": "2.99",
         "rawType": "float64",
         "type": "float"
        },
        {
         "name": "3.12",
         "rawType": "float64",
         "type": "float"
        },
        {
         "name": "3.13",
         "rawType": "float64",
         "type": "float"
        },
        {
         "name": "3.15",
         "rawType": "float64",
         "type": "float"
        },
        {
         "name": "3.16",
         "rawType": "float64",
         "type": "float"
        },
        {
         "name": "3.2",
         "rawType": "float64",
         "type": "float"
        },
        {
         "name": "3.21",
         "rawType": "float64",
         "type": "float"
        },
        {
         "name": "3.24",
         "rawType": "float64",
         "type": "float"
        },
        {
         "name": "3.25",
         "rawType": "float64",
         "type": "float"
        },
        {
         "name": "3.26",
         "rawType": "float64",
         "type": "float"
        },
        {
         "name": "3.28",
         "rawType": "float64",
         "type": "float"
        },
        {
         "name": "3.29",
         "rawType": "float64",
         "type": "float"
        },
        {
         "name": "3.3",
         "rawType": "float64",
         "type": "float"
        },
        {
         "name": "3.32",
         "rawType": "float64",
         "type": "float"
        },
        {
         "name": "3.35",
         "rawType": "float64",
         "type": "float"
        },
        {
         "name": "3.37",
         "rawType": "float64",
         "type": "float"
        },
        {
         "name": "3.39",
         "rawType": "float64",
         "type": "float"
        },
        {
         "name": "3.4",
         "rawType": "float64",
         "type": "float"
        },
        {
         "name": "3.44",
         "rawType": "float64",
         "type": "float"
        },
        {
         "name": "3.45",
         "rawType": "float64",
         "type": "float"
        },
        {
         "name": "3.49",
         "rawType": "float64",
         "type": "float"
        },
        {
         "name": "3.5",
         "rawType": "float64",
         "type": "float"
        },
        {
         "name": "3.57",
         "rawType": "float64",
         "type": "float"
        },
        {
         "name": "3.58",
         "rawType": "float64",
         "type": "float"
        },
        {
         "name": "3.75",
         "rawType": "float64",
         "type": "float"
        },
        {
         "name": "3.81",
         "rawType": "float64",
         "type": "float"
        },
        {
         "name": "3.82",
         "rawType": "float64",
         "type": "float"
        },
        {
         "name": "3.85",
         "rawType": "float64",
         "type": "float"
        },
        {
         "name": "3.86",
         "rawType": "float64",
         "type": "float"
        },
        {
         "name": "3.88",
         "rawType": "float64",
         "type": "float"
        },
        {
         "name": "3.89",
         "rawType": "float64",
         "type": "float"
        },
        {
         "name": "3.9",
         "rawType": "float64",
         "type": "float"
        },
        {
         "name": "3.91",
         "rawType": "float64",
         "type": "float"
        },
        {
         "name": "3.92",
         "rawType": "float64",
         "type": "float"
        },
        {
         "name": "3.95",
         "rawType": "float64",
         "type": "float"
        },
        {
         "name": "3.97",
         "rawType": "float64",
         "type": "float"
        },
        {
         "name": "3.98",
         "rawType": "float64",
         "type": "float"
        },
        {
         "name": "4.02",
         "rawType": "float64",
         "type": "float"
        },
        {
         "name": "4.08",
         "rawType": "float64",
         "type": "float"
        },
        {
         "name": "4.13",
         "rawType": "float64",
         "type": "float"
        },
        {
         "name": "4.14",
         "rawType": "float64",
         "type": "float"
        },
        {
         "name": "4.15",
         "rawType": "float64",
         "type": "float"
        },
        {
         "name": "4.18",
         "rawType": "float64",
         "type": "float"
        },
        {
         "name": "4.25",
         "rawType": "float64",
         "type": "float"
        },
        {
         "name": "4.27",
         "rawType": "float64",
         "type": "float"
        },
        {
         "name": "4.3",
         "rawType": "float64",
         "type": "float"
        },
        {
         "name": "4.5",
         "rawType": "float64",
         "type": "float"
        },
        {
         "name": "4.58",
         "rawType": "float64",
         "type": "float"
        },
        {
         "name": "4.6",
         "rawType": "float64",
         "type": "float"
        },
        {
         "name": "4.62",
         "rawType": "float64",
         "type": "float"
        },
        {
         "name": "4.65",
         "rawType": "float64",
         "type": "float"
        },
        {
         "name": "4.67",
         "rawType": "float64",
         "type": "float"
        },
        {
         "name": "4.68",
         "rawType": "float64",
         "type": "float"
        },
        {
         "name": "4.7",
         "rawType": "float64",
         "type": "float"
        },
        {
         "name": "4.76",
         "rawType": "float64",
         "type": "float"
        },
        {
         "name": "4.77",
         "rawType": "float64",
         "type": "float"
        },
        {
         "name": "4.78",
         "rawType": "float64",
         "type": "float"
        },
        {
         "name": "4.8",
         "rawType": "float64",
         "type": "float"
        },
        {
         "name": "4.86",
         "rawType": "float64",
         "type": "float"
        },
        {
         "name": "4.95",
         "rawType": "float64",
         "type": "float"
        },
        {
         "name": "4.96",
         "rawType": "float64",
         "type": "float"
        },
        {
         "name": "4.98",
         "rawType": "float64",
         "type": "float"
        },
        {
         "name": "5.06",
         "rawType": "float64",
         "type": "float"
        },
        {
         "name": "5.08",
         "rawType": "float64",
         "type": "float"
        },
        {
         "name": "5.1",
         "rawType": "float64",
         "type": "float"
        },
        {
         "name": "5.13",
         "rawType": "float64",
         "type": "float"
        },
        {
         "name": "5.14",
         "rawType": "float64",
         "type": "float"
        },
        {
         "name": "5.15",
         "rawType": "float64",
         "type": "float"
        },
        {
         "name": "5.17",
         "rawType": "float64",
         "type": "float"
        },
        {
         "name": "5.18",
         "rawType": "float64",
         "type": "float"
        },
        {
         "name": "5.32",
         "rawType": "float64",
         "type": "float"
        },
        {
         "name": "5.35",
         "rawType": "float64",
         "type": "float"
        },
        {
         "name": "5.39",
         "rawType": "float64",
         "type": "float"
        },
        {
         "name": "5.45",
         "rawType": "float64",
         "type": "float"
        },
        {
         "name": "5.49",
         "rawType": "float64",
         "type": "float"
        },
        {
         "name": "5.55",
         "rawType": "float64",
         "type": "float"
        },
        {
         "name": "5.64",
         "rawType": "float64",
         "type": "float"
        },
        {
         "name": "5.66",
         "rawType": "float64",
         "type": "float"
        },
        {
         "name": "5.68",
         "rawType": "float64",
         "type": "float"
        },
        {
         "name": "5.75",
         "rawType": "float64",
         "type": "float"
        },
        {
         "name": "5.79",
         "rawType": "float64",
         "type": "float"
        },
        {
         "name": "5.88",
         "rawType": "float64",
         "type": "float"
        },
        {
         "name": "5.95",
         "rawType": "float64",
         "type": "float"
        },
        {
         "name": "6.25",
         "rawType": "float64",
         "type": "float"
        },
        {
         "name": "6.35",
         "rawType": "float64",
         "type": "float"
        },
        {
         "name": "6.36",
         "rawType": "float64",
         "type": "float"
        },
        {
         "name": "6.38",
         "rawType": "float64",
         "type": "float"
        },
        {
         "name": "6.4",
         "rawType": "float64",
         "type": "float"
        },
        {
         "name": "6.42",
         "rawType": "float64",
         "type": "float"
        },
        {
         "name": "6.45",
         "rawType": "float64",
         "type": "float"
        },
        {
         "name": "6.5",
         "rawType": "float64",
         "type": "float"
        },
        {
         "name": "6.6",
         "rawType": "float64",
         "type": "float"
        },
        {
         "name": "6.63",
         "rawType": "float64",
         "type": "float"
        },
        {
         "name": "6.65",
         "rawType": "float64",
         "type": "float"
        },
        {
         "name": "6.67",
         "rawType": "float64",
         "type": "float"
        },
        {
         "name": "6.7",
         "rawType": "float64",
         "type": "float"
        },
        {
         "name": "6.71",
         "rawType": "float64",
         "type": "float"
        },
        {
         "name": "6.72",
         "rawType": "float64",
         "type": "float"
        },
        {
         "name": "6.75",
         "rawType": "float64",
         "type": "float"
        },
        {
         "name": "6.78",
         "rawType": "float64",
         "type": "float"
        },
        {
         "name": "6.79",
         "rawType": "float64",
         "type": "float"
        },
        {
         "name": "6.89",
         "rawType": "float64",
         "type": "float"
        },
        {
         "name": "6.91",
         "rawType": "float64",
         "type": "float"
        },
        {
         "name": "6.95",
         "rawType": "float64",
         "type": "float"
        },
        {
         "name": "6.98",
         "rawType": "float64",
         "type": "float"
        },
        {
         "name": "7.05",
         "rawType": "float64",
         "type": "float"
        },
        {
         "name": "7.08",
         "rawType": "float64",
         "type": "float"
        },
        {
         "name": "7.13",
         "rawType": "float64",
         "type": "float"
        },
        {
         "name": "7.25",
         "rawType": "float64",
         "type": "float"
        },
        {
         "name": "7.45",
         "rawType": "float64",
         "type": "float"
        },
        {
         "name": "7.46",
         "rawType": "float64",
         "type": "float"
        },
        {
         "name": "7.5",
         "rawType": "float64",
         "type": "float"
        },
        {
         "name": "7.62",
         "rawType": "float64",
         "type": "float"
        },
        {
         "name": "7.65",
         "rawType": "float64",
         "type": "float"
        },
        {
         "name": "7.84",
         "rawType": "float64",
         "type": "float"
        },
        {
         "name": "7.85",
         "rawType": "float64",
         "type": "float"
        },
        {
         "name": "7.9",
         "rawType": "float64",
         "type": "float"
        },
        {
         "name": "7.95",
         "rawType": "float64",
         "type": "float"
        },
        {
         "name": "8.12",
         "rawType": "float64",
         "type": "float"
        },
        {
         "name": "8.15",
         "rawType": "float64",
         "type": "float"
        },
        {
         "name": "8.25",
         "rawType": "float64",
         "type": "float"
        },
        {
         "name": "8.29",
         "rawType": "float64",
         "type": "float"
        },
        {
         "name": "8.49",
         "rawType": "float64",
         "type": "float"
        },
        {
         "name": "8.5",
         "rawType": "float64",
         "type": "float"
        },
        {
         "name": "8.87",
         "rawType": "float64",
         "type": "float"
        },
        {
         "name": "8.95",
         "rawType": "float64",
         "type": "float"
        },
        {
         "name": "9.13",
         "rawType": "float64",
         "type": "float"
        },
        {
         "name": "9.15",
         "rawType": "float64",
         "type": "float"
        },
        {
         "name": "9.16",
         "rawType": "float64",
         "type": "float"
        },
        {
         "name": "9.42",
         "rawType": "float64",
         "type": "float"
        },
        {
         "name": "9.89",
         "rawType": "float64",
         "type": "float"
        },
        {
         "name": "9.95",
         "rawType": "float64",
         "type": "float"
        },
        {
         "name": "9.96",
         "rawType": "float64",
         "type": "float"
        },
        {
         "name": "9.98",
         "rawType": "float64",
         "type": "float"
        },
        {
         "name": "10.13",
         "rawType": "float64",
         "type": "float"
        },
        {
         "name": "10.39",
         "rawType": "float64",
         "type": "float"
        },
        {
         "name": "10.4",
         "rawType": "float64",
         "type": "float"
        },
        {
         "name": "10.65",
         "rawType": "float64",
         "type": "float"
        },
        {
         "name": "10.75",
         "rawType": "float64",
         "type": "float"
        },
        {
         "name": "10.79",
         "rawType": "float64",
         "type": "float"
        },
        {
         "name": "10.95",
         "rawType": "float64",
         "type": "float"
        },
        {
         "name": "11.15",
         "rawType": "float64",
         "type": "float"
        },
        {
         "name": "11.17",
         "rawType": "float64",
         "type": "float"
        },
        {
         "name": "11.63",
         "rawType": "float64",
         "type": "float"
        },
        {
         "name": "11.67",
         "rawType": "float64",
         "type": "float"
        },
        {
         "name": "11.95",
         "rawType": "float64",
         "type": "float"
        },
        {
         "name": "12.46",
         "rawType": "float64",
         "type": "float"
        },
        {
         "name": "12.48",
         "rawType": "float64",
         "type": "float"
        },
        {
         "name": "12.5",
         "rawType": "float64",
         "type": "float"
        },
        {
         "name": "12.75",
         "rawType": "float64",
         "type": "float"
        },
        {
         "name": "12.95",
         "rawType": "float64",
         "type": "float"
        },
        {
         "name": "12.98",
         "rawType": "float64",
         "type": "float"
        },
        {
         "name": "13.16",
         "rawType": "float64",
         "type": "float"
        },
        {
         "name": "13.29",
         "rawType": "float64",
         "type": "float"
        },
        {
         "name": "13.35",
         "rawType": "float64",
         "type": "float"
        },
        {
         "name": "14.13",
         "rawType": "float64",
         "type": "float"
        },
        {
         "name": "14.55",
         "rawType": "float64",
         "type": "float"
        },
        {
         "name": "14.95",
         "rawType": "float64",
         "type": "float"
        },
        {
         "name": "14.96",
         "rawType": "float64",
         "type": "float"
        },
        {
         "name": "15.79",
         "rawType": "float64",
         "type": "float"
        },
        {
         "name": "15.95",
         "rawType": "float64",
         "type": "float"
        },
        {
         "name": "16.46",
         "rawType": "float64",
         "type": "float"
        },
        {
         "name": "16.63",
         "rawType": "float64",
         "type": "float"
        },
        {
         "name": "16.65",
         "rawType": "float64",
         "type": "float"
        },
        {
         "name": "16.95",
         "rawType": "float64",
         "type": "float"
        },
        {
         "name": "18.95",
         "rawType": "float64",
         "type": "float"
        },
        {
         "name": "19.84",
         "rawType": "float64",
         "type": "float"
        },
        {
         "name": "19.94",
         "rawType": "float64",
         "type": "float"
        },
        {
         "name": "19.95",
         "rawType": "float64",
         "type": "float"
        },
        {
         "name": "19.96",
         "rawType": "float64",
         "type": "float"
        },
        {
         "name": "20.8",
         "rawType": "float64",
         "type": "float"
        },
        {
         "name": "21.95",
         "rawType": "float64",
         "type": "float"
        },
        {
         "name": "24.95",
         "rawType": "float64",
         "type": "float"
        },
        {
         "name": "24.96",
         "rawType": "float64",
         "type": "float"
        },
        {
         "name": "25.95",
         "rawType": "float64",
         "type": "float"
        },
        {
         "name": "26.95",
         "rawType": "float64",
         "type": "float"
        },
        {
         "name": "29.13",
         "rawType": "float64",
         "type": "float"
        },
        {
         "name": "29.95",
         "rawType": "float64",
         "type": "float"
        },
        {
         "name": "32.22",
         "rawType": "float64",
         "type": "float"
        },
        {
         "name": "32.69",
         "rawType": "float64",
         "type": "float"
        },
        {
         "name": "32.95",
         "rawType": "float64",
         "type": "float"
        },
        {
         "name": "33.29",
         "rawType": "float64",
         "type": "float"
        },
        {
         "name": "34.95",
         "rawType": "float64",
         "type": "float"
        },
        {
         "name": "35.75",
         "rawType": "float64",
         "type": "float"
        },
        {
         "name": "35.95",
         "rawType": "float64",
         "type": "float"
        },
        {
         "name": "36.5",
         "rawType": "float64",
         "type": "float"
        },
        {
         "name": "37.5",
         "rawType": "float64",
         "type": "float"
        },
        {
         "name": "39.95",
         "rawType": "float64",
         "type": "float"
        },
        {
         "name": "40.46",
         "rawType": "float64",
         "type": "float"
        },
        {
         "name": "41.75",
         "rawType": "float64",
         "type": "float"
        },
        {
         "name": "42.95",
         "rawType": "float64",
         "type": "float"
        },
        {
         "name": "49.95",
         "rawType": "float64",
         "type": "float"
        },
        {
         "name": "52.77",
         "rawType": "float64",
         "type": "float"
        },
        {
         "name": "57.95",
         "rawType": "float64",
         "type": "float"
        },
        {
         "name": "59.95",
         "rawType": "float64",
         "type": "float"
        },
        {
         "name": "79.95",
         "rawType": "float64",
         "type": "float"
        },
        {
         "name": "85.58",
         "rawType": "float64",
         "type": "float"
        },
        {
         "name": "129.38",
         "rawType": "float64",
         "type": "float"
        },
        {
         "name": "134.0",
         "rawType": "float64",
         "type": "float"
        },
        {
         "name": "145.0",
         "rawType": "float64",
         "type": "float"
        },
        {
         "name": "152.78",
         "rawType": "float64",
         "type": "float"
        },
        {
         "name": "162.6",
         "rawType": "float64",
         "type": "float"
        },
        {
         "name": "165.0",
         "rawType": "float64",
         "type": "float"
        },
        {
         "name": "175.0",
         "rawType": "float64",
         "type": "float"
        },
        {
         "name": "183.75",
         "rawType": "float64",
         "type": "float"
        },
        {
         "name": "195.0",
         "rawType": "float64",
         "type": "float"
        },
        {
         "name": "208.34",
         "rawType": "float64",
         "type": "float"
        },
        {
         "name": "219.5",
         "rawType": "float64",
         "type": "float"
        },
        {
         "name": "222.75",
         "rawType": "float64",
         "type": "float"
        },
        {
         "name": "239.3",
         "rawType": "float64",
         "type": "float"
        },
        {
         "name": "275.6",
         "rawType": "float64",
         "type": "float"
        },
        {
         "name": "280.05",
         "rawType": "float64",
         "type": "float"
        },
        {
         "name": "283.02",
         "rawType": "float64",
         "type": "float"
        },
        {
         "name": "293.0",
         "rawType": "float64",
         "type": "float"
        },
        {
         "name": "295.0",
         "rawType": "float64",
         "type": "float"
        },
        {
         "name": "308.82",
         "rawType": "float64",
         "type": "float"
        },
        {
         "name": "320.69",
         "rawType": "float64",
         "type": "float"
        },
        {
         "name": "334.71",
         "rawType": "float64",
         "type": "float"
        },
        {
         "name": "339.02",
         "rawType": "float64",
         "type": "float"
        },
        {
         "name": "376.5",
         "rawType": "float64",
         "type": "float"
        },
        {
         "name": "389.68",
         "rawType": "float64",
         "type": "float"
        },
        {
         "name": "424.06",
         "rawType": "float64",
         "type": "float"
        },
        {
         "name": "451.42",
         "rawType": "float64",
         "type": "float"
        },
        {
         "name": "464.9",
         "rawType": "float64",
         "type": "float"
        },
        {
         "name": "490.25",
         "rawType": "float64",
         "type": "float"
        },
        {
         "name": "523.0",
         "rawType": "float64",
         "type": "float"
        },
        {
         "name": "549.34",
         "rawType": "float64",
         "type": "float"
        },
        {
         "name": "550.64",
         "rawType": "float64",
         "type": "float"
        },
        {
         "name": "550.94",
         "rawType": "float64",
         "type": "float"
        },
        {
         "name": "557.72",
         "rawType": "float64",
         "type": "float"
        },
        {
         "name": "599.5",
         "rawType": "float64",
         "type": "float"
        },
        {
         "name": "635.01",
         "rawType": "float64",
         "type": "float"
        },
        {
         "name": "638.3",
         "rawType": "float64",
         "type": "float"
        },
        {
         "name": "649.5",
         "rawType": "float64",
         "type": "float"
        },
        {
         "name": "688.08",
         "rawType": "float64",
         "type": "float"
        },
        {
         "name": "743.62",
         "rawType": "float64",
         "type": "float"
        },
        {
         "name": "850.5",
         "rawType": "float64",
         "type": "float"
        },
        {
         "name": "852.8",
         "rawType": "float64",
         "type": "float"
        },
        {
         "name": "878.55",
         "rawType": "float64",
         "type": "float"
        },
        {
         "name": "901.58",
         "rawType": "float64",
         "type": "float"
        },
        {
         "name": "908.16",
         "rawType": "float64",
         "type": "float"
        },
        {
         "name": "1136.3",
         "rawType": "float64",
         "type": "float"
        },
        {
         "name": "1241.98",
         "rawType": "float64",
         "type": "float"
        },
        {
         "name": "1252.95",
         "rawType": "float64",
         "type": "float"
        },
        {
         "name": "1270.06",
         "rawType": "float64",
         "type": "float"
        },
        {
         "name": "1500.36",
         "rawType": "float64",
         "type": "float"
        },
        {
         "name": "1526.76",
         "rawType": "float64",
         "type": "float"
        },
        {
         "name": "1599.26",
         "rawType": "float64",
         "type": "float"
        },
        {
         "name": "1687.17",
         "rawType": "float64",
         "type": "float"
        },
        {
         "name": "1867.86",
         "rawType": "float64",
         "type": "float"
        },
        {
         "name": "2033.1",
         "rawType": "float64",
         "type": "float"
        },
        {
         "name": "2053.07",
         "rawType": "float64",
         "type": "float"
        },
        {
         "name": "2118.74",
         "rawType": "float64",
         "type": "float"
        },
        {
         "name": "2382.92",
         "rawType": "float64",
         "type": "float"
        },
        {
         "name": "2500.0",
         "rawType": "float64",
         "type": "float"
        },
        {
         "name": "3155.95",
         "rawType": "float64",
         "type": "float"
        },
        {
         "name": "3949.32",
         "rawType": "float64",
         "type": "float"
        },
        {
         "name": "4161.06",
         "rawType": "float64",
         "type": "float"
        },
        {
         "name": "8142.75",
         "rawType": "float64",
         "type": "float"
        }
       ],
       "conversionMethod": "pd.DataFrame",
       "ref": "e760cfde-578b-4530-8de6-c0a2b68d5387",
       "rows": [
        [
         "count",
         "397924.0",
         "397924",
         "397924.0",
         "397924.0",
         "397924.0",
         "397924.0",
         "397924.0",
         "397924.0",
         "397924.0",
         "397924.0",
         "397924.0",
         "397924.0",
         "397924.0",
         "397924.0",
         "397924.0",
         "397924.0",
         "397924.0",
         "397924.0",
         "397924.0",
         "397924.0",
         "397924.0",
         "397924.0",
         "397924.0",
         "397924.0",
         "397924.0",
         "397924.0",
         "397924.0",
         "397924.0",
         "397924.0",
         "397924.0",
         "397924.0",
         "397924.0",
         "397924.0",
         "397924.0",
         "397924.0",
         "397924.0",
         "397924.0",
         "397924.0",
         "397924.0",
         "397924.0",
         "397924.0",
         "397924.0",
         "397924.0",
         "397924.0",
         "397924.0",
         "397924.0",
         "397924.0",
         "397924.0",
         "397924.0",
         "397924.0",
         "397924.0",
         "397924.0",
         "397924.0",
         "397924.0",
         "397924.0",
         "397924.0",
         "397924.0",
         "397924.0",
         "397924.0",
         "397924.0",
         "397924.0",
         "397924.0",
         "397924.0",
         "397924.0",
         "397924.0",
         "397924.0",
         "397924.0",
         "397924.0",
         "397924.0",
         "397924.0",
         "397924.0",
         "397924.0",
         "397924.0",
         "397924.0",
         "397924.0",
         "397924.0",
         "397924.0",
         "397924.0",
         "397924.0",
         "397924.0",
         "397924.0",
         "397924.0",
         "397924.0",
         "397924.0",
         "397924.0",
         "397924.0",
         "397924.0",
         "397924.0",
         "397924.0",
         "397924.0",
         "397924.0",
         "397924.0",
         "397924.0",
         "397924.0",
         "397924.0",
         "397924.0",
         "397924.0",
         "397924.0",
         "397924.0",
         "397924.0",
         "397924.0",
         "397924.0",
         "397924.0",
         "397924.0",
         "397924.0",
         "397924.0",
         "397924.0",
         "397924.0",
         "397924.0",
         "397924.0",
         "397924.0",
         "397924.0",
         "397924.0",
         "397924.0",
         "397924.0",
         "397924.0",
         "397924.0",
         "397924.0",
         "397924.0",
         "397924.0",
         "397924.0",
         "397924.0",
         "397924.0",
         "397924.0",
         "397924.0",
         "397924.0",
         "397924.0",
         "397924.0",
         "397924.0",
         "397924.0",
         "397924.0",
         "397924.0",
         "397924.0",
         "397924.0",
         "397924.0",
         "397924.0",
         "397924.0",
         "397924.0",
         "397924.0",
         "397924.0",
         "397924.0",
         "397924.0",
         "397924.0",
         "397924.0",
         "397924.0",
         "397924.0",
         "397924.0",
         "397924.0",
         "397924.0",
         "397924.0",
         "397924.0",
         "397924.0",
         "397924.0",
         "397924.0",
         "397924.0",
         "397924.0",
         "397924.0",
         "397924.0",
         "397924.0",
         "397924.0",
         "397924.0",
         "397924.0",
         "397924.0",
         "397924.0",
         "397924.0",
         "397924.0",
         "397924.0",
         "397924.0",
         "397924.0",
         "397924.0",
         "397924.0",
         "397924.0",
         "397924.0",
         "397924.0",
         "397924.0",
         "397924.0",
         "397924.0",
         "397924.0",
         "397924.0",
         "397924.0",
         "397924.0",
         "397924.0",
         "397924.0",
         "397924.0",
         "397924.0",
         "397924.0",
         "397924.0",
         "397924.0",
         "397924.0",
         "397924.0",
         "397924.0",
         "397924.0",
         "397924.0",
         "397924.0",
         "397924.0",
         "397924.0",
         "397924.0",
         "397924.0",
         "397924.0",
         "397924.0",
         "397924.0",
         "397924.0",
         "397924.0",
         "397924.0",
         "397924.0",
         "397924.0",
         "397924.0",
         "397924.0",
         "397924.0",
         "397924.0",
         "397924.0",
         "397924.0",
         "397924.0",
         "397924.0",
         "397924.0",
         "397924.0",
         "397924.0",
         "397924.0",
         "397924.0",
         "397924.0",
         "397924.0",
         "397924.0",
         "397924.0",
         "397924.0",
         "397924.0",
         "397924.0",
         "397924.0",
         "397924.0",
         "397924.0",
         "397924.0",
         "397924.0",
         "397924.0",
         "397924.0",
         "397924.0",
         "397924.0",
         "397924.0",
         "397924.0",
         "397924.0",
         "397924.0",
         "397924.0",
         "397924.0",
         "397924.0",
         "397924.0",
         "397924.0",
         "397924.0",
         "397924.0",
         "397924.0",
         "397924.0",
         "397924.0",
         "397924.0",
         "397924.0",
         "397924.0",
         "397924.0",
         "397924.0",
         "397924.0",
         "397924.0",
         "397924.0",
         "397924.0",
         "397924.0",
         "397924.0",
         "397924.0",
         "397924.0",
         "397924.0",
         "397924.0",
         "397924.0",
         "397924.0",
         "397924.0",
         "397924.0",
         "397924.0",
         "397924.0",
         "397924.0",
         "397924.0",
         "397924.0",
         "397924.0",
         "397924.0",
         "397924.0",
         "397924.0",
         "397924.0",
         "397924.0",
         "397924.0",
         "397924.0",
         "397924.0",
         "397924.0",
         "397924.0",
         "397924.0",
         "397924.0",
         "397924.0",
         "397924.0",
         "397924.0",
         "397924.0",
         "397924.0",
         "397924.0",
         "397924.0",
         "397924.0",
         "397924.0",
         "397924.0",
         "397924.0",
         "397924.0",
         "397924.0",
         "397924.0",
         "397924.0",
         "397924.0",
         "397924.0",
         "397924.0",
         "397924.0",
         "397924.0",
         "397924.0",
         "397924.0",
         "397924.0",
         "397924.0",
         "397924.0",
         "397924.0",
         "397924.0",
         "397924.0",
         "397924.0",
         "397924.0",
         "397924.0",
         "397924.0",
         "397924.0",
         "397924.0",
         "397924.0",
         "397924.0",
         "397924.0",
         "397924.0",
         "397924.0",
         "397924.0",
         "397924.0",
         "397924.0",
         "397924.0",
         "397924.0",
         "397924.0",
         "397924.0",
         "397924.0",
         "397924.0",
         "397924.0",
         "397924.0",
         "397924.0",
         "397924.0",
         "397924.0",
         "397924.0",
         "397924.0",
         "397924.0",
         "397924.0",
         "397924.0",
         "397924.0",
         "397924.0",
         "397924.0",
         "397924.0",
         "397924.0",
         "397924.0",
         "397924.0",
         "397924.0",
         "397924.0",
         "397924.0",
         "397924.0",
         "397924.0",
         "397924.0",
         "397924.0",
         "397924.0",
         "397924.0",
         "397924.0",
         "397924.0",
         "397924.0",
         "397924.0",
         "397924.0",
         "397924.0",
         "397924.0",
         "397924.0",
         "397924.0",
         "397924.0",
         "397924.0",
         "397924.0",
         "397924.0",
         "397924.0",
         "397924.0",
         "397924.0",
         "397924.0",
         "397924.0",
         "397924.0",
         "397924.0",
         "397924.0",
         "397924.0",
         "397924.0",
         "397924.0",
         "397924.0",
         "397924.0",
         "397924.0",
         "397924.0",
         "397924.0",
         "397924.0",
         "397924.0",
         "397924.0",
         "397924.0",
         "397924.0",
         "397924.0",
         "397924.0",
         "397924.0",
         "397924.0",
         "397924.0",
         "397924.0",
         "397924.0",
         "397924.0",
         "397924.0",
         "397924.0",
         "397924.0",
         "397924.0",
         "397924.0",
         "397924.0",
         "397924.0",
         "397924.0",
         "397924.0",
         "397924.0",
         "397924.0",
         "397924.0",
         "397924.0",
         "397924.0",
         "397924.0",
         "397924.0",
         "397924.0",
         "397924.0",
         "397924.0",
         "397924.0",
         "397924.0",
         "397924.0",
         "397924.0",
         "397924.0",
         "397924.0",
         "397924.0",
         "397924.0",
         "397924.0",
         "397924.0",
         "397924.0",
         "397924.0",
         "397924.0",
         "397924.0",
         "397924.0",
         "397924.0",
         "397924.0",
         "397924.0",
         "397924.0",
         "397924.0",
         "397924.0",
         "397924.0",
         "397924.0",
         "397924.0",
         "397924.0",
         "397924.0",
         "397924.0",
         "397924.0",
         "397924.0",
         "397924.0",
         "397924.0",
         "397924.0",
         "397924.0",
         "397924.0",
         "397924.0",
         "397924.0",
         "397924.0",
         "397924.0",
         "397924.0",
         "397924.0",
         "397924.0",
         "397924.0",
         "397924.0",
         "397924.0",
         "397924.0",
         "397924.0",
         "397924.0",
         "397924.0",
         "397924.0",
         "397924.0",
         "397924.0",
         "397924.0",
         "397924.0",
         "397924.0",
         "397924.0",
         "397924.0",
         "397924.0",
         "397924.0",
         "397924.0",
         "397924.0",
         "397924.0",
         "397924.0",
         "397924.0",
         "397924.0",
         "397924.0",
         "397924.0",
         "397924.0",
         "397924.0",
         "397924.0",
         "397924.0",
         "397924.0",
         "397924.0",
         "397924.0",
         "397924.0",
         "397924.0",
         "397924.0",
         "397924.0",
         "397924.0",
         "397924.0",
         "397924.0",
         "397924.0",
         "397924.0",
         "397924.0",
         "397924.0",
         "397924.0",
         "397924.0",
         "397924.0",
         "397924.0",
         "397924.0",
         "397924.0",
         "397924.0",
         "397924.0",
         "397924.0",
         "397924.0",
         "397924.0",
         "397924.0",
         "397924.0",
         "397924.0",
         "397924.0",
         "397924.0",
         "397924.0",
         "397924.0",
         "397924.0",
         "397924.0",
         "397924.0",
         "397924.0",
         "397924.0",
         "397924.0",
         "397924.0",
         "397924.0",
         "397924.0",
         "397924.0",
         "397924.0",
         "397924.0",
         "397924.0",
         "397924.0",
         "397924.0",
         "397924.0",
         "397924.0",
         "397924.0",
         "397924.0",
         "397924.0",
         "397924.0",
         "397924.0",
         "397924.0",
         "397924.0",
         "397924.0",
         "397924.0",
         "397924.0",
         "397924.0",
         "397924.0",
         "397924.0",
         "397924.0",
         "397924.0",
         "397924.0",
         "397924.0",
         "397924.0",
         "397924.0",
         "397924.0",
         "397924.0",
         "397924.0",
         "397924.0",
         "397924.0",
         "397924.0",
         "397924.0",
         "397924.0",
         "397924.0",
         "397924.0",
         "397924.0",
         "397924.0",
         "397924.0",
         "397924.0",
         "397924.0",
         "397924.0",
         "397924.0",
         "397924.0",
         "397924.0",
         "397924.0",
         "397924.0",
         "397924.0",
         "397924.0",
         "397924.0",
         "397924.0",
         "397924.0",
         "397924.0",
         "397924.0",
         "397924.0",
         "397924.0",
         "397924.0",
         "397924.0",
         "397924.0",
         "397924.0",
         "397924.0",
         "397924.0",
         "397924.0",
         "397924.0",
         "397924.0",
         "397924.0",
         "397924.0",
         "397924.0",
         "397924.0",
         "397924.0",
         "397924.0",
         "397924.0",
         "397924.0",
         "397924.0",
         "397924.0",
         "397924.0",
         "397924.0",
         "397924.0",
         "397924.0",
         "397924.0",
         "397924.0",
         "397924.0",
         "397924.0",
         "397924.0",
         "397924.0",
         "397924.0",
         "397924.0",
         "397924.0",
         "397924.0",
         "397924.0",
         "397924.0",
         "397924.0",
         "397924.0",
         "397924.0",
         "397924.0",
         "397924.0",
         "397924.0",
         "397924.0",
         "397924.0",
         "397924.0",
         "397924.0",
         "397924.0",
         "397924.0",
         "397924.0",
         "397924.0",
         "397924.0",
         "397924.0",
         "397924.0",
         "397924.0",
         "397924.0",
         "397924.0",
         "397924.0",
         "397924.0",
         "397924.0",
         "397924.0",
         "397924.0",
         "397924.0",
         "397924.0",
         "397924.0",
         "397924.0",
         "397924.0",
         "397924.0",
         "397924.0",
         "397924.0",
         "397924.0",
         "397924.0",
         "397924.0",
         "397924.0",
         "397924.0",
         "397924.0",
         "397924.0",
         "397924.0",
         "397924.0",
         "397924.0",
         "397924.0",
         "397924.0",
         "397924.0",
         "397924.0",
         "397924.0",
         "397924.0",
         "397924.0",
         "397924.0",
         "397924.0",
         "397924.0",
         "397924.0",
         "397924.0",
         "397924.0",
         "397924.0",
         "397924.0",
         "397924.0",
         "397924.0",
         "397924.0",
         "397924.0",
         "397924.0",
         "397924.0",
         "397924.0",
         "397924.0",
         "397924.0",
         "397924.0",
         "397924.0",
         "397924.0",
         "397924.0",
         "397924.0",
         "397924.0",
         "397924.0",
         "397924.0",
         "397924.0",
         "397924.0",
         "397924.0",
         "397924.0",
         "397924.0",
         "397924.0",
         "397924.0",
         "397924.0",
         "397924.0",
         "397924.0",
         "397924.0",
         "397924.0",
         "397924.0",
         "397924.0"
        ],
        [
         "mean",
         "13.021823262733587",
         "2011-07-10 23:43:36.912475648",
         "3.1161744805540756",
         "15294.315170736121",
         "22.39474849468743",
         "1.9500000000000015",
         "2.0999999999999988",
         "2.0799999999999987",
         "1.25",
         "1.25",
         "1.6899999999999993",
         "1.0",
         "0.39000000000000024",
         "36.0",
         "0.75",
         "24.0",
         "0.7899999999999995",
         "6.0",
         "3.0",
         "0.7199999999999996",
         "12.0",
         "2.549999999999998",
         "0.5500000000000004",
         "8.0",
         "1.25",
         "1.25",
         "72.0",
         "3.0",
         "10.0",
         "8.5",
         "3.0",
         "0.39000000000000024",
         "0.7199999999999996",
         "1.0",
         "7.949999999999994",
         "1.0",
         "1.0",
         "2.0",
         "4.0",
         "8.25",
         "1.0",
         "1.0",
         "5.0",
         "2.0",
         "5.949999999999995",
         "2.0",
         "1.0",
         "1.0",
         "1.0",
         "0.7899999999999995",
         "2.0",
         "12.0",
         "2.0",
         "2.0",
         "3.75",
         "2.0",
         "3.0",
         "2.0",
         "25.0",
         "20.0",
         "3.0",
         "12.0",
         "4.0",
         "12.0",
         "24.0",
         "4.0",
         "12.0",
         "12.0",
         "0.6499999999999995",
         "2.0",
         "1.0",
         "1.0",
         "10.0",
         "2.0",
         "12.0",
         "6.0",
         "1.0",
         "4.0",
         "4.0",
         "1.0",
         "3.0",
         "5.0",
         "11.0",
         "2.0999999999999988",
         "2.0",
         "18.0",
         "5.0",
         "2.0",
         "1.0",
         "3.0",
         "5.0",
         "5.0",
         "1.0",
         "1.0",
         "1.0",
         "1.0",
         "1.0",
         "1.0",
         "16.0",
         "1.0",
         "1.0",
         "1.25",
         "2.0",
         "2.0",
         "1.0",
         "1.0",
         "4.0",
         "4.949999999999996",
         "2.0",
         "36.0",
         "1.25",
         "1.0",
         "2.0",
         "1.0",
         "1.0",
         "1.0",
         "1.0",
         "2.0",
         "10.0",
         "20.0",
         "4.0",
         "1.0",
         "1.65",
         "1.0",
         "1.0",
         "2.0",
         "2.0",
         "1.0",
         "4.0",
         "12.0",
         "2.0",
         "2.0",
         "1.0",
         "24.0",
         "3.0",
         "1.0",
         "1.0",
         "6.0",
         "2.0",
         "1.0",
         "4.0",
         "1.0",
         "1.0",
         "12.0",
         "12.0",
         "10.0",
         "10.0",
         "1.0",
         "1.0",
         "5.0",
         "4.0",
         "1.0",
         "0.42000000000000026",
         "4.0",
         "4.0",
         "4.0",
         "0.6499999999999995",
         "12.0",
         "1.0",
         "2.0",
         "2.0",
         "1.0",
         "1.0",
         "2.0",
         "2.0",
         "1.0",
         "20.0",
         "2.0",
         "2.0",
         "6.75",
         "18.0",
         "6.0",
         "2.0",
         "3.0",
         "4.0",
         "120.0",
         "126.0",
         "12.0",
         "12.0",
         "2.0",
         "2.8899999999999997",
         "2.0",
         "1.0",
         "4.0",
         "12.0",
         "12.0",
         "12.0",
         "4.0",
         "2.0799999999999987",
         "1.0",
         "1.0",
         "1.0",
         "1.0",
         "6.0",
         "12.0",
         "12.0",
         "24.0",
         "12.0",
         "12.0",
         "12.0",
         "4.0",
         "4.0",
         "4.0",
         "10.0",
         "12.0",
         "12.0",
         "12.0",
         "10.0",
         "12.0",
         "12.0",
         "10.0",
         "24.0",
         "3.0",
         "6.0",
         "25.0",
         "6.0",
         "6.0",
         "1.6899999999999993",
         "1.0",
         "1.0",
         "3.0",
         "1.0",
         "4.0",
         "1.0",
         "1.0",
         "1.0",
         "1.0",
         "1.0",
         "2.0",
         "1.0",
         "4.0",
         "1.0",
         "0.8500000000000006",
         "1.0",
         "1.0",
         "1.0",
         "6.0",
         "1.0",
         "2.0",
         "10.0",
         "1.0",
         "2.0",
         "48.0",
         "24.0",
         "1.0",
         "24.0",
         "4.0",
         "4.0",
         "6.0",
         "3.0",
         "24.0",
         "12.0",
         "12.0",
         "12.0",
         "12.0",
         "12.0",
         "25.0",
         "25.0",
         "12.0",
         "10.0",
         "10.0",
         "10.0",
         "10.0",
         "10.0",
         "12.0",
         "4.0",
         "1.0",
         "1.0",
         "1.0",
         "2.0",
         "2.0",
         "25.0",
         "1.0",
         "24.0",
         "2.0",
         "2.0",
         "6.0",
         "12.0",
         "72.0",
         "48.0",
         "12.0",
         "12.0",
         "12.0",
         "16.0",
         "24.0",
         "4.0",
         "3.0",
         "4.0",
         "24.0",
         "25.0",
         "4.0",
         "12.0",
         "12.0",
         "8.0",
         "12.0",
         "12.0",
         "12.0",
         "4.0",
         "4.0",
         "8.0",
         "12.0",
         "4.0",
         "12.0",
         "6.0",
         "4.0",
         "4.0",
         "3.0",
         "1.65",
         "0.42000000000000026",
         "2.0999999999999988",
         "4.25",
         "3.3899999999999975",
         "3.3899999999999975",
         "35.75",
         "1.25",
         "0.42000000000000026",
         "4.949999999999996",
         "1.9500000000000015",
         "0.42000000000000026",
         "2.950000000000001",
         "35.75",
         "1.65",
         "5.949999999999995",
         "3.75",
         "1.25",
         "1.65",
         "1.6899999999999993",
         "1.65",
         "2.950000000000001",
         "3.75",
         "1.25",
         "2.25",
         "8.5",
         "2.950000000000001",
         "1.25",
         "0.42000000000000026",
         "3.75",
         "0.8500000000000006",
         "9.949999999999992",
         "3.3899999999999975",
         "2.0999999999999988",
         "0.8500000000000006",
         "1.65",
         "1.25",
         "0.6499999999999995",
         "5.949999999999995",
         "0.8500000000000006",
         "1.65",
         "2.0999999999999988",
         "3.75",
         "0.5500000000000004",
         "0.8500000000000006",
         "1.65",
         "18.0",
         "1.65",
         "2.950000000000001",
         "4.25",
         "2.0999999999999988",
         "2.0999999999999988",
         "1.450000000000001",
         "1.25",
         "6.949999999999995",
         "1.0600000000000005",
         "2.950000000000001",
         "1.9500000000000015",
         "3.75",
         "0.42000000000000026",
         "1.9500000000000015",
         "0.42000000000000026",
         "1.25",
         "4.25",
         "1.65",
         "0.8500000000000006",
         "1.450000000000001",
         "1.450000000000001",
         "2.549999999999998",
         "1.25",
         "1.65",
         "1.65",
         "2.0799999999999987",
         "4.25",
         "1.65",
         "1.450000000000001",
         "8.5",
         "3.75",
         "4.949999999999996",
         "1.25",
         "4.25",
         "0.8500000000000006",
         "2.950000000000001",
         "3.75",
         "0.42000000000000026",
         "2.0999999999999988",
         "0.5500000000000004",
         "0.5500000000000004",
         "2.950000000000001",
         "2.0999999999999988",
         "2.950000000000001",
         "3.75",
         "0.5500000000000004",
         "0.8500000000000006",
         "1.6899999999999993",
         "0.5500000000000004",
         "4.949999999999996",
         "0.42000000000000026",
         "0.5500000000000004",
         "1.25",
         "1.6899999999999993",
         "2.0799999999999987",
         "2.0799999999999987",
         "2.950000000000001",
         "1.6899999999999993",
         "1.6899999999999993",
         "1.25",
         "2.950000000000001",
         "1.25",
         "1.6899999999999993",
         "1.6899999999999993",
         "1.25",
         "1.9500000000000015",
         "14.950000000000005",
         "8.5",
         "1.25",
         "2.0799999999999987",
         "2.8899999999999997",
         "4.150000000000003",
         "6.949999999999995",
         "1.9500000000000015",
         "1.25",
         "1.450000000000001",
         "1.25",
         "0.8500000000000006",
         "3.75",
         "1.65",
         "1.25",
         "2.950000000000001",
         "4.150000000000003",
         "0.7899999999999995",
         "0.5500000000000004",
         "4.150000000000003",
         "1.65",
         "2.950000000000001",
         "3.75",
         "2.950000000000001",
         "4.949999999999996",
         "3.3899999999999975",
         "3.4499999999999997",
         "2.8899999999999997",
         "2.0799999999999987",
         "2.0799999999999987",
         "1.450000000000001",
         "9.949999999999992",
         "3.75",
         "0.8500000000000006",
         "2.950000000000001",
         "1.65",
         "2.0799999999999987",
         "0.8299999999999991",
         "0.8500000000000006",
         "0.5500000000000004",
         "1.25",
         "4.949999999999996",
         "1.25",
         "4.949999999999996",
         "3.75",
         "1.9500000000000015",
         "2.549999999999998",
         "2.950000000000001",
         "1.25",
         "1.450000000000001",
         "2.0799999999999987",
         "5.949999999999995",
         "0.42000000000000026",
         "0.8500000000000006",
         "0.42000000000000026",
         "4.949999999999996",
         "2.0799999999999987",
         "2.0999999999999988",
         "4.25",
         "4.949999999999996",
         "2.0799999999999987",
         "2.0799999999999987",
         "2.0799999999999987",
         "0.39000000000000024",
         "2.950000000000001",
         "2.950000000000001",
         "9.949999999999992",
         "8.5",
         "2.8899999999999997",
         "2.4899999999999984",
         "2.0799999999999987",
         "0.8500000000000006",
         "1.25",
         "1.7900000000000011",
         "1.25",
         "0.39000000000000024",
         "9.949999999999992",
         "3.3899999999999975",
         "4.150000000000003",
         "2.950000000000001",
         "0.28999999999999965",
         "1.65",
         "1.25",
         "1.25",
         "1.25",
         "1.25",
         "1.450000000000001",
         "0.42000000000000026",
         "2.0799999999999987",
         "4.949999999999996",
         "4.25",
         "0.39000000000000024",
         "0.39000000000000024",
         "0.8500000000000006",
         "9.949999999999992",
         "1.450000000000001",
         "1.65",
         "2.0999999999999988",
         "3.75",
         "2.950000000000001",
         "2.950000000000001",
         "1.25",
         "1.25",
         "1.25",
         "1.25",
         "0.39000000000000024",
         "2.0999999999999988",
         "4.25",
         "2.0799999999999987",
         "4.949999999999996",
         "2.950000000000001",
         "1.25",
         "1.450000000000001",
         "1.7900000000000011",
         "4.949999999999996",
         "1.25",
         "1.25",
         "1.450000000000001",
         "0.5500000000000004",
         "0.6499999999999995",
         "0.8500000000000006",
         "0.8500000000000006",
         "0.6499999999999995",
         "16.95000000000001",
         "2.950000000000001",
         "4.150000000000003",
         "5.949999999999995",
         "0.8299999999999991",
         "1.9500000000000015",
         "1.6899999999999993",
         "1.6899999999999993",
         "1.450000000000001",
         "5.75",
         "1.25",
         "3.75",
         "0.6499999999999995",
         "1.25",
         "1.25",
         "0.6499999999999995",
         "0.8299999999999991",
         "2.8899999999999997",
         "9.949999999999992",
         "1.25",
         "0.8500000000000006",
         "2.950000000000001",
         "3.25",
         "2.549999999999998",
         "0.7899999999999995",
         "0.8500000000000006",
         "8.949999999999994",
         "0.28999999999999965",
         "1.9500000000000015",
         "1.25",
         "2.0799999999999987",
         "2.950000000000001",
         "0.8299999999999991",
         "7.4599999999999955",
         "1.65",
         "1.65",
         "1.25",
         "0.39000000000000024",
         "0.39000000000000024",
         "0.39000000000000024",
         "0.39000000000000024",
         "4.949999999999996",
         "1.25",
         "1.450000000000001",
         "3.9499999999999984",
         "1.25",
         "0.7899999999999995",
         "0.8500000000000006",
         "2.0999999999999988",
         "3.25",
         "2.8899999999999997",
         "8.25",
         "2.549999999999998",
         "2.549999999999998",
         "1.7900000000000011",
         "2.549999999999998",
         "2.0999999999999988",
         "1.65",
         "0.8500000000000006",
         "1.63",
         "4.150000000000003",
         "4.150000000000003",
         "4.150000000000003",
         "4.949999999999996",
         "1.25",
         "0.39000000000000024",
         "3.75",
         "2.950000000000001",
         "8.949999999999994",
         "3.9499999999999984",
         "1.9500000000000015",
         "1.450000000000001",
         "1.9500000000000015",
         "1.25",
         "8.25",
         "2.549999999999998",
         "0.1900000000000001",
         "0.28999999999999965",
         "0.28999999999999965",
         "0.39000000000000024",
         "0.7899999999999995",
         "0.7899999999999995",
         "5.949999999999995",
         "3.9499999999999984",
         "1.25",
         "8.5",
         "0.39000000000000024",
         "0.8299999999999991",
         "0.75",
         "0.39000000000000024",
         "0.8500000000000006",
         "1.25",
         "0.39000000000000024",
         "8.25",
         "4.949999999999996",
         "0.42000000000000026",
         "1.9500000000000015",
         "3.25",
         "7.080000000000001",
         "7.080000000000001",
         "2.950000000000001",
         "9.949999999999992",
         "1.25",
         "1.450000000000001",
         "0.8299999999999991",
         "1.25",
         "0.39000000000000024",
         "2.950000000000001",
         "1.450000000000001",
         "0.42000000000000026",
         "2.0799999999999987",
         "4.949999999999996",
         "1.25",
         "1.25",
         "3.75",
         "1.7900000000000011",
         "1.7900000000000011",
         "1.7900000000000011",
         "0.6299999999999998",
         "0.8500000000000006",
         "0.42000000000000026",
         "2.0799999999999987",
         "1.25",
         "4.949999999999996",
         "0.59",
         "0.39000000000000024",
         "2.950000000000001",
         "1.450000000000001",
         "5.75",
         "4.949999999999996",
         "2.8899999999999997",
         "1.65",
         "1.450000000000001",
         "1.450000000000001",
         "1.8499999999999994",
         "0.7199999999999996",
         "1.8499999999999994",
         "0.39000000000000024",
         "0.1900000000000001",
         "1.9500000000000015",
         "0.8500000000000006",
         "2.0799999999999987",
         "0.8500000000000006",
         "4.25",
         "3.75",
         "3.75",
         "0.42000000000000026",
         "0.42000000000000026",
         "1.25",
         "0.8500000000000006",
         "0.39000000000000024",
         "3.75",
         "0.9500000000000004",
         "2.950000000000001",
         "1.25",
         "8.949999999999994",
         "7.080000000000001",
         "1.9500000000000015",
         "1.65",
         "3.75",
         "3.75",
         "3.75",
         "3.75",
         "1.9500000000000015",
         "1.9500000000000015",
         "4.150000000000003",
         "0.8500000000000006",
         "2.0999999999999988",
         "4.150000000000003",
         "4.949999999999996"
        ],
        [
         "min",
         "1.0",
         "2010-12-01 08:26:00",
         "0.0",
         "12346.0",
         "0.0",
         "1.95",
         "2.1",
         "2.08",
         "1.25",
         "1.25",
         "1.69",
         "1.0",
         "0.39",
         "36.0",
         "0.75",
         "24.0",
         "0.79",
         "6.0",
         "3.0",
         "0.72",
         "12.0",
         "2.55",
         "0.55",
         "8.0",
         "1.25",
         "1.25",
         "72.0",
         "3.0",
         "10.0",
         "8.5",
         "3.0",
         "0.39",
         "0.72",
         "1.0",
         "7.95",
         "1.0",
         "1.0",
         "2.0",
         "4.0",
         "8.25",
         "1.0",
         "1.0",
         "5.0",
         "2.0",
         "5.95",
         "2.0",
         "1.0",
         "1.0",
         "1.0",
         "0.79",
         "2.0",
         "12.0",
         "2.0",
         "2.0",
         "3.75",
         "2.0",
         "3.0",
         "2.0",
         "25.0",
         "20.0",
         "3.0",
         "12.0",
         "4.0",
         "12.0",
         "24.0",
         "4.0",
         "12.0",
         "12.0",
         "0.65",
         "2.0",
         "1.0",
         "1.0",
         "10.0",
         "2.0",
         "12.0",
         "6.0",
         "1.0",
         "4.0",
         "4.0",
         "1.0",
         "3.0",
         "5.0",
         "11.0",
         "2.1",
         "2.0",
         "18.0",
         "5.0",
         "2.0",
         "1.0",
         "3.0",
         "5.0",
         "5.0",
         "1.0",
         "1.0",
         "1.0",
         "1.0",
         "1.0",
         "1.0",
         "16.0",
         "1.0",
         "1.0",
         "1.25",
         "2.0",
         "2.0",
         "1.0",
         "1.0",
         "4.0",
         "4.95",
         "2.0",
         "36.0",
         "1.25",
         "1.0",
         "2.0",
         "1.0",
         "1.0",
         "1.0",
         "1.0",
         "2.0",
         "10.0",
         "20.0",
         "4.0",
         "1.0",
         "1.65",
         "1.0",
         "1.0",
         "2.0",
         "2.0",
         "1.0",
         "4.0",
         "12.0",
         "2.0",
         "2.0",
         "1.0",
         "24.0",
         "3.0",
         "1.0",
         "1.0",
         "6.0",
         "2.0",
         "1.0",
         "4.0",
         "1.0",
         "1.0",
         "12.0",
         "12.0",
         "10.0",
         "10.0",
         "1.0",
         "1.0",
         "5.0",
         "4.0",
         "1.0",
         "0.42",
         "4.0",
         "4.0",
         "4.0",
         "0.65",
         "12.0",
         "1.0",
         "2.0",
         "2.0",
         "1.0",
         "1.0",
         "2.0",
         "2.0",
         "1.0",
         "20.0",
         "2.0",
         "2.0",
         "6.75",
         "18.0",
         "6.0",
         "2.0",
         "3.0",
         "4.0",
         "120.0",
         "126.0",
         "12.0",
         "12.0",
         "2.0",
         "2.89",
         "2.0",
         "1.0",
         "4.0",
         "12.0",
         "12.0",
         "12.0",
         "4.0",
         "2.08",
         "1.0",
         "1.0",
         "1.0",
         "1.0",
         "6.0",
         "12.0",
         "12.0",
         "24.0",
         "12.0",
         "12.0",
         "12.0",
         "4.0",
         "4.0",
         "4.0",
         "10.0",
         "12.0",
         "12.0",
         "12.0",
         "10.0",
         "12.0",
         "12.0",
         "10.0",
         "24.0",
         "3.0",
         "6.0",
         "25.0",
         "6.0",
         "6.0",
         "1.69",
         "1.0",
         "1.0",
         "3.0",
         "1.0",
         "4.0",
         "1.0",
         "1.0",
         "1.0",
         "1.0",
         "1.0",
         "2.0",
         "1.0",
         "4.0",
         "1.0",
         "0.85",
         "1.0",
         "1.0",
         "1.0",
         "6.0",
         "1.0",
         "2.0",
         "10.0",
         "1.0",
         "2.0",
         "48.0",
         "24.0",
         "1.0",
         "24.0",
         "4.0",
         "4.0",
         "6.0",
         "3.0",
         "24.0",
         "12.0",
         "12.0",
         "12.0",
         "12.0",
         "12.0",
         "25.0",
         "25.0",
         "12.0",
         "10.0",
         "10.0",
         "10.0",
         "10.0",
         "10.0",
         "12.0",
         "4.0",
         "1.0",
         "1.0",
         "1.0",
         "2.0",
         "2.0",
         "25.0",
         "1.0",
         "24.0",
         "2.0",
         "2.0",
         "6.0",
         "12.0",
         "72.0",
         "48.0",
         "12.0",
         "12.0",
         "12.0",
         "16.0",
         "24.0",
         "4.0",
         "3.0",
         "4.0",
         "24.0",
         "25.0",
         "4.0",
         "12.0",
         "12.0",
         "8.0",
         "12.0",
         "12.0",
         "12.0",
         "4.0",
         "4.0",
         "8.0",
         "12.0",
         "4.0",
         "12.0",
         "6.0",
         "4.0",
         "4.0",
         "3.0",
         "1.65",
         "0.42",
         "2.1",
         "4.25",
         "3.39",
         "3.39",
         "35.75",
         "1.25",
         "0.42",
         "4.95",
         "1.95",
         "0.42",
         "2.95",
         "35.75",
         "1.65",
         "5.95",
         "3.75",
         "1.25",
         "1.65",
         "1.69",
         "1.65",
         "2.95",
         "3.75",
         "1.25",
         "2.25",
         "8.5",
         "2.95",
         "1.25",
         "0.42",
         "3.75",
         "0.85",
         "9.95",
         "3.39",
         "2.1",
         "0.85",
         "1.65",
         "1.25",
         "0.65",
         "5.95",
         "0.85",
         "1.65",
         "2.1",
         "3.75",
         "0.55",
         "0.85",
         "1.65",
         "18.0",
         "1.65",
         "2.95",
         "4.25",
         "2.1",
         "2.1",
         "1.45",
         "1.25",
         "6.95",
         "1.06",
         "2.95",
         "1.95",
         "3.75",
         "0.42",
         "1.95",
         "0.42",
         "1.25",
         "4.25",
         "1.65",
         "0.85",
         "1.45",
         "1.45",
         "2.55",
         "1.25",
         "1.65",
         "1.65",
         "2.08",
         "4.25",
         "1.65",
         "1.45",
         "8.5",
         "3.75",
         "4.95",
         "1.25",
         "4.25",
         "0.85",
         "2.95",
         "3.75",
         "0.42",
         "2.1",
         "0.55",
         "0.55",
         "2.95",
         "2.1",
         "2.95",
         "3.75",
         "0.55",
         "0.85",
         "1.69",
         "0.55",
         "4.95",
         "0.42",
         "0.55",
         "1.25",
         "1.69",
         "2.08",
         "2.08",
         "2.95",
         "1.69",
         "1.69",
         "1.25",
         "2.95",
         "1.25",
         "1.69",
         "1.69",
         "1.25",
         "1.95",
         "14.95",
         "8.5",
         "1.25",
         "2.08",
         "2.89",
         "4.15",
         "6.95",
         "1.95",
         "1.25",
         "1.45",
         "1.25",
         "0.85",
         "3.75",
         "1.65",
         "1.25",
         "2.95",
         "4.15",
         "0.79",
         "0.55",
         "4.15",
         "1.65",
         "2.95",
         "3.75",
         "2.95",
         "4.95",
         "3.39",
         "3.45",
         "2.89",
         "2.08",
         "2.08",
         "1.45",
         "9.95",
         "3.75",
         "0.85",
         "2.95",
         "1.65",
         "2.08",
         "0.83",
         "0.85",
         "0.55",
         "1.25",
         "4.95",
         "1.25",
         "4.95",
         "3.75",
         "1.95",
         "2.55",
         "2.95",
         "1.25",
         "1.45",
         "2.08",
         "5.95",
         "0.42",
         "0.85",
         "0.42",
         "4.95",
         "2.08",
         "2.1",
         "4.25",
         "4.95",
         "2.08",
         "2.08",
         "2.08",
         "0.39",
         "2.95",
         "2.95",
         "9.95",
         "8.5",
         "2.89",
         "2.49",
         "2.08",
         "0.85",
         "1.25",
         "1.79",
         "1.25",
         "0.39",
         "9.95",
         "3.39",
         "4.15",
         "2.95",
         "0.29",
         "1.65",
         "1.25",
         "1.25",
         "1.25",
         "1.25",
         "1.45",
         "0.42",
         "2.08",
         "4.95",
         "4.25",
         "0.39",
         "0.39",
         "0.85",
         "9.95",
         "1.45",
         "1.65",
         "2.1",
         "3.75",
         "2.95",
         "2.95",
         "1.25",
         "1.25",
         "1.25",
         "1.25",
         "0.39",
         "2.1",
         "4.25",
         "2.08",
         "4.95",
         "2.95",
         "1.25",
         "1.45",
         "1.79",
         "4.95",
         "1.25",
         "1.25",
         "1.45",
         "0.55",
         "0.65",
         "0.85",
         "0.85",
         "0.65",
         "16.95",
         "2.95",
         "4.15",
         "5.95",
         "0.83",
         "1.95",
         "1.69",
         "1.69",
         "1.45",
         "5.75",
         "1.25",
         "3.75",
         "0.65",
         "1.25",
         "1.25",
         "0.65",
         "0.83",
         "2.89",
         "9.95",
         "1.25",
         "0.85",
         "2.95",
         "3.25",
         "2.55",
         "0.79",
         "0.85",
         "8.95",
         "0.29",
         "1.95",
         "1.25",
         "2.08",
         "2.95",
         "0.83",
         "7.46",
         "1.65",
         "1.65",
         "1.25",
         "0.39",
         "0.39",
         "0.39",
         "0.39",
         "4.95",
         "1.25",
         "1.45",
         "3.95",
         "1.25",
         "0.79",
         "0.85",
         "2.1",
         "3.25",
         "2.89",
         "8.25",
         "2.55",
         "2.55",
         "1.79",
         "2.55",
         "2.1",
         "1.65",
         "0.85",
         "1.63",
         "4.15",
         "4.15",
         "4.15",
         "4.95",
         "1.25",
         "0.39",
         "3.75",
         "2.95",
         "8.95",
         "3.95",
         "1.95",
         "1.45",
         "1.95",
         "1.25",
         "8.25",
         "2.55",
         "0.19",
         "0.29",
         "0.29",
         "0.39",
         "0.79",
         "0.79",
         "5.95",
         "3.95",
         "1.25",
         "8.5",
         "0.39",
         "0.83",
         "0.75",
         "0.39",
         "0.85",
         "1.25",
         "0.39",
         "8.25",
         "4.95",
         "0.42",
         "1.95",
         "3.25",
         "7.08",
         "7.08",
         "2.95",
         "9.95",
         "1.25",
         "1.45",
         "0.83",
         "1.25",
         "0.39",
         "2.95",
         "1.45",
         "0.42",
         "2.08",
         "4.95",
         "1.25",
         "1.25",
         "3.75",
         "1.79",
         "1.79",
         "1.79",
         "0.63",
         "0.85",
         "0.42",
         "2.08",
         "1.25",
         "4.95",
         "0.59",
         "0.39",
         "2.95",
         "1.45",
         "5.75",
         "4.95",
         "2.89",
         "1.65",
         "1.45",
         "1.45",
         "1.85",
         "0.72",
         "1.85",
         "0.39",
         "0.19",
         "1.95",
         "0.85",
         "2.08",
         "0.85",
         "4.25",
         "3.75",
         "3.75",
         "0.42",
         "0.42",
         "1.25",
         "0.85",
         "0.39",
         "3.75",
         "0.95",
         "2.95",
         "1.25",
         "8.95",
         "7.08",
         "1.95",
         "1.65",
         "3.75",
         "3.75",
         "3.75",
         "3.75",
         "1.95",
         "1.95",
         "4.15",
         "0.85",
         "2.1",
         "4.15",
         "4.95"
        ],
        [
         "25%",
         "2.0",
         "2011-04-07 11:12:00",
         "1.25",
         "13969.0",
         "4.68",
         "1.95",
         "2.1",
         "2.08",
         "1.25",
         "1.25",
         "1.69",
         "1.0",
         "0.39",
         "36.0",
         "0.75",
         "24.0",
         "0.79",
         "6.0",
         "3.0",
         "0.72",
         "12.0",
         "2.55",
         "0.55",
         "8.0",
         "1.25",
         "1.25",
         "72.0",
         "3.0",
         "10.0",
         "8.5",
         "3.0",
         "0.39",
         "0.72",
         "1.0",
         "7.95",
         "1.0",
         "1.0",
         "2.0",
         "4.0",
         "8.25",
         "1.0",
         "1.0",
         "5.0",
         "2.0",
         "5.95",
         "2.0",
         "1.0",
         "1.0",
         "1.0",
         "0.79",
         "2.0",
         "12.0",
         "2.0",
         "2.0",
         "3.75",
         "2.0",
         "3.0",
         "2.0",
         "25.0",
         "20.0",
         "3.0",
         "12.0",
         "4.0",
         "12.0",
         "24.0",
         "4.0",
         "12.0",
         "12.0",
         "0.65",
         "2.0",
         "1.0",
         "1.0",
         "10.0",
         "2.0",
         "12.0",
         "6.0",
         "1.0",
         "4.0",
         "4.0",
         "1.0",
         "3.0",
         "5.0",
         "11.0",
         "2.1",
         "2.0",
         "18.0",
         "5.0",
         "2.0",
         "1.0",
         "3.0",
         "5.0",
         "5.0",
         "1.0",
         "1.0",
         "1.0",
         "1.0",
         "1.0",
         "1.0",
         "16.0",
         "1.0",
         "1.0",
         "1.25",
         "2.0",
         "2.0",
         "1.0",
         "1.0",
         "4.0",
         "4.95",
         "2.0",
         "36.0",
         "1.25",
         "1.0",
         "2.0",
         "1.0",
         "1.0",
         "1.0",
         "1.0",
         "2.0",
         "10.0",
         "20.0",
         "4.0",
         "1.0",
         "1.65",
         "1.0",
         "1.0",
         "2.0",
         "2.0",
         "1.0",
         "4.0",
         "12.0",
         "2.0",
         "2.0",
         "1.0",
         "24.0",
         "3.0",
         "1.0",
         "1.0",
         "6.0",
         "2.0",
         "1.0",
         "4.0",
         "1.0",
         "1.0",
         "12.0",
         "12.0",
         "10.0",
         "10.0",
         "1.0",
         "1.0",
         "5.0",
         "4.0",
         "1.0",
         "0.42",
         "4.0",
         "4.0",
         "4.0",
         "0.65",
         "12.0",
         "1.0",
         "2.0",
         "2.0",
         "1.0",
         "1.0",
         "2.0",
         "2.0",
         "1.0",
         "20.0",
         "2.0",
         "2.0",
         "6.75",
         "18.0",
         "6.0",
         "2.0",
         "3.0",
         "4.0",
         "120.0",
         "126.0",
         "12.0",
         "12.0",
         "2.0",
         "2.89",
         "2.0",
         "1.0",
         "4.0",
         "12.0",
         "12.0",
         "12.0",
         "4.0",
         "2.08",
         "1.0",
         "1.0",
         "1.0",
         "1.0",
         "6.0",
         "12.0",
         "12.0",
         "24.0",
         "12.0",
         "12.0",
         "12.0",
         "4.0",
         "4.0",
         "4.0",
         "10.0",
         "12.0",
         "12.0",
         "12.0",
         "10.0",
         "12.0",
         "12.0",
         "10.0",
         "24.0",
         "3.0",
         "6.0",
         "25.0",
         "6.0",
         "6.0",
         "1.69",
         "1.0",
         "1.0",
         "3.0",
         "1.0",
         "4.0",
         "1.0",
         "1.0",
         "1.0",
         "1.0",
         "1.0",
         "2.0",
         "1.0",
         "4.0",
         "1.0",
         "0.85",
         "1.0",
         "1.0",
         "1.0",
         "6.0",
         "1.0",
         "2.0",
         "10.0",
         "1.0",
         "2.0",
         "48.0",
         "24.0",
         "1.0",
         "24.0",
         "4.0",
         "4.0",
         "6.0",
         "3.0",
         "24.0",
         "12.0",
         "12.0",
         "12.0",
         "12.0",
         "12.0",
         "25.0",
         "25.0",
         "12.0",
         "10.0",
         "10.0",
         "10.0",
         "10.0",
         "10.0",
         "12.0",
         "4.0",
         "1.0",
         "1.0",
         "1.0",
         "2.0",
         "2.0",
         "25.0",
         "1.0",
         "24.0",
         "2.0",
         "2.0",
         "6.0",
         "12.0",
         "72.0",
         "48.0",
         "12.0",
         "12.0",
         "12.0",
         "16.0",
         "24.0",
         "4.0",
         "3.0",
         "4.0",
         "24.0",
         "25.0",
         "4.0",
         "12.0",
         "12.0",
         "8.0",
         "12.0",
         "12.0",
         "12.0",
         "4.0",
         "4.0",
         "8.0",
         "12.0",
         "4.0",
         "12.0",
         "6.0",
         "4.0",
         "4.0",
         "3.0",
         "1.65",
         "0.42",
         "2.1",
         "4.25",
         "3.39",
         "3.39",
         "35.75",
         "1.25",
         "0.42",
         "4.95",
         "1.95",
         "0.42",
         "2.95",
         "35.75",
         "1.65",
         "5.95",
         "3.75",
         "1.25",
         "1.65",
         "1.69",
         "1.65",
         "2.95",
         "3.75",
         "1.25",
         "2.25",
         "8.5",
         "2.95",
         "1.25",
         "0.42",
         "3.75",
         "0.85",
         "9.95",
         "3.39",
         "2.1",
         "0.85",
         "1.65",
         "1.25",
         "0.65",
         "5.95",
         "0.85",
         "1.65",
         "2.1",
         "3.75",
         "0.55",
         "0.85",
         "1.65",
         "18.0",
         "1.65",
         "2.95",
         "4.25",
         "2.1",
         "2.1",
         "1.45",
         "1.25",
         "6.95",
         "1.06",
         "2.95",
         "1.95",
         "3.75",
         "0.42",
         "1.95",
         "0.42",
         "1.25",
         "4.25",
         "1.65",
         "0.85",
         "1.45",
         "1.45",
         "2.55",
         "1.25",
         "1.65",
         "1.65",
         "2.08",
         "4.25",
         "1.65",
         "1.45",
         "8.5",
         "3.75",
         "4.95",
         "1.25",
         "4.25",
         "0.85",
         "2.95",
         "3.75",
         "0.42",
         "2.1",
         "0.55",
         "0.55",
         "2.95",
         "2.1",
         "2.95",
         "3.75",
         "0.55",
         "0.85",
         "1.69",
         "0.55",
         "4.95",
         "0.42",
         "0.55",
         "1.25",
         "1.69",
         "2.08",
         "2.08",
         "2.95",
         "1.69",
         "1.69",
         "1.25",
         "2.95",
         "1.25",
         "1.69",
         "1.69",
         "1.25",
         "1.95",
         "14.95",
         "8.5",
         "1.25",
         "2.08",
         "2.89",
         "4.15",
         "6.95",
         "1.95",
         "1.25",
         "1.45",
         "1.25",
         "0.85",
         "3.75",
         "1.65",
         "1.25",
         "2.95",
         "4.15",
         "0.79",
         "0.55",
         "4.15",
         "1.65",
         "2.95",
         "3.75",
         "2.95",
         "4.95",
         "3.39",
         "3.45",
         "2.89",
         "2.08",
         "2.08",
         "1.45",
         "9.95",
         "3.75",
         "0.85",
         "2.95",
         "1.65",
         "2.08",
         "0.83",
         "0.85",
         "0.55",
         "1.25",
         "4.95",
         "1.25",
         "4.95",
         "3.75",
         "1.95",
         "2.55",
         "2.95",
         "1.25",
         "1.45",
         "2.08",
         "5.95",
         "0.42",
         "0.85",
         "0.42",
         "4.95",
         "2.08",
         "2.1",
         "4.25",
         "4.95",
         "2.08",
         "2.08",
         "2.08",
         "0.39",
         "2.95",
         "2.95",
         "9.95",
         "8.5",
         "2.89",
         "2.49",
         "2.08",
         "0.85",
         "1.25",
         "1.79",
         "1.25",
         "0.39",
         "9.95",
         "3.39",
         "4.15",
         "2.95",
         "0.29",
         "1.65",
         "1.25",
         "1.25",
         "1.25",
         "1.25",
         "1.45",
         "0.42",
         "2.08",
         "4.95",
         "4.25",
         "0.39",
         "0.39",
         "0.85",
         "9.95",
         "1.45",
         "1.65",
         "2.1",
         "3.75",
         "2.95",
         "2.95",
         "1.25",
         "1.25",
         "1.25",
         "1.25",
         "0.39",
         "2.1",
         "4.25",
         "2.08",
         "4.95",
         "2.95",
         "1.25",
         "1.45",
         "1.79",
         "4.95",
         "1.25",
         "1.25",
         "1.45",
         "0.55",
         "0.65",
         "0.85",
         "0.85",
         "0.65",
         "16.95",
         "2.95",
         "4.15",
         "5.95",
         "0.83",
         "1.95",
         "1.69",
         "1.69",
         "1.45",
         "5.75",
         "1.25",
         "3.75",
         "0.65",
         "1.25",
         "1.25",
         "0.65",
         "0.83",
         "2.89",
         "9.95",
         "1.25",
         "0.85",
         "2.95",
         "3.25",
         "2.55",
         "0.79",
         "0.85",
         "8.95",
         "0.29",
         "1.95",
         "1.25",
         "2.08",
         "2.95",
         "0.83",
         "7.46",
         "1.65",
         "1.65",
         "1.25",
         "0.39",
         "0.39",
         "0.39",
         "0.39",
         "4.95",
         "1.25",
         "1.45",
         "3.95",
         "1.25",
         "0.79",
         "0.85",
         "2.1",
         "3.25",
         "2.89",
         "8.25",
         "2.55",
         "2.55",
         "1.79",
         "2.55",
         "2.1",
         "1.65",
         "0.85",
         "1.63",
         "4.15",
         "4.15",
         "4.15",
         "4.95",
         "1.25",
         "0.39",
         "3.75",
         "2.95",
         "8.95",
         "3.95",
         "1.95",
         "1.45",
         "1.95",
         "1.25",
         "8.25",
         "2.55",
         "0.19",
         "0.29",
         "0.29",
         "0.39",
         "0.79",
         "0.79",
         "5.95",
         "3.95",
         "1.25",
         "8.5",
         "0.39",
         "0.83",
         "0.75",
         "0.39",
         "0.85",
         "1.25",
         "0.39",
         "8.25",
         "4.95",
         "0.42",
         "1.95",
         "3.25",
         "7.08",
         "7.08",
         "2.95",
         "9.95",
         "1.25",
         "1.45",
         "0.83",
         "1.25",
         "0.39",
         "2.95",
         "1.45",
         "0.42",
         "2.08",
         "4.95",
         "1.25",
         "1.25",
         "3.75",
         "1.79",
         "1.79",
         "1.79",
         "0.63",
         "0.85",
         "0.42",
         "2.08",
         "1.25",
         "4.95",
         "0.59",
         "0.39",
         "2.95",
         "1.45",
         "5.75",
         "4.95",
         "2.89",
         "1.65",
         "1.45",
         "1.45",
         "1.85",
         "0.72",
         "1.85",
         "0.39",
         "0.19",
         "1.95",
         "0.85",
         "2.08",
         "0.85",
         "4.25",
         "3.75",
         "3.75",
         "0.42",
         "0.42",
         "1.25",
         "0.85",
         "0.39",
         "3.75",
         "0.95",
         "2.95",
         "1.25",
         "8.95",
         "7.08",
         "1.95",
         "1.65",
         "3.75",
         "3.75",
         "3.75",
         "3.75",
         "1.95",
         "1.95",
         "4.15",
         "0.85",
         "2.1",
         "4.15",
         "4.95"
        ],
        [
         "50%",
         "6.0",
         "2011-07-31 14:39:00",
         "1.95",
         "15159.0",
         "11.8",
         "1.95",
         "2.1",
         "2.08",
         "1.25",
         "1.25",
         "1.69",
         "1.0",
         "0.39",
         "36.0",
         "0.75",
         "24.0",
         "0.79",
         "6.0",
         "3.0",
         "0.72",
         "12.0",
         "2.55",
         "0.55",
         "8.0",
         "1.25",
         "1.25",
         "72.0",
         "3.0",
         "10.0",
         "8.5",
         "3.0",
         "0.39",
         "0.72",
         "1.0",
         "7.95",
         "1.0",
         "1.0",
         "2.0",
         "4.0",
         "8.25",
         "1.0",
         "1.0",
         "5.0",
         "2.0",
         "5.95",
         "2.0",
         "1.0",
         "1.0",
         "1.0",
         "0.79",
         "2.0",
         "12.0",
         "2.0",
         "2.0",
         "3.75",
         "2.0",
         "3.0",
         "2.0",
         "25.0",
         "20.0",
         "3.0",
         "12.0",
         "4.0",
         "12.0",
         "24.0",
         "4.0",
         "12.0",
         "12.0",
         "0.65",
         "2.0",
         "1.0",
         "1.0",
         "10.0",
         "2.0",
         "12.0",
         "6.0",
         "1.0",
         "4.0",
         "4.0",
         "1.0",
         "3.0",
         "5.0",
         "11.0",
         "2.1",
         "2.0",
         "18.0",
         "5.0",
         "2.0",
         "1.0",
         "3.0",
         "5.0",
         "5.0",
         "1.0",
         "1.0",
         "1.0",
         "1.0",
         "1.0",
         "1.0",
         "16.0",
         "1.0",
         "1.0",
         "1.25",
         "2.0",
         "2.0",
         "1.0",
         "1.0",
         "4.0",
         "4.95",
         "2.0",
         "36.0",
         "1.25",
         "1.0",
         "2.0",
         "1.0",
         "1.0",
         "1.0",
         "1.0",
         "2.0",
         "10.0",
         "20.0",
         "4.0",
         "1.0",
         "1.65",
         "1.0",
         "1.0",
         "2.0",
         "2.0",
         "1.0",
         "4.0",
         "12.0",
         "2.0",
         "2.0",
         "1.0",
         "24.0",
         "3.0",
         "1.0",
         "1.0",
         "6.0",
         "2.0",
         "1.0",
         "4.0",
         "1.0",
         "1.0",
         "12.0",
         "12.0",
         "10.0",
         "10.0",
         "1.0",
         "1.0",
         "5.0",
         "4.0",
         "1.0",
         "0.42",
         "4.0",
         "4.0",
         "4.0",
         "0.65",
         "12.0",
         "1.0",
         "2.0",
         "2.0",
         "1.0",
         "1.0",
         "2.0",
         "2.0",
         "1.0",
         "20.0",
         "2.0",
         "2.0",
         "6.75",
         "18.0",
         "6.0",
         "2.0",
         "3.0",
         "4.0",
         "120.0",
         "126.0",
         "12.0",
         "12.0",
         "2.0",
         "2.89",
         "2.0",
         "1.0",
         "4.0",
         "12.0",
         "12.0",
         "12.0",
         "4.0",
         "2.08",
         "1.0",
         "1.0",
         "1.0",
         "1.0",
         "6.0",
         "12.0",
         "12.0",
         "24.0",
         "12.0",
         "12.0",
         "12.0",
         "4.0",
         "4.0",
         "4.0",
         "10.0",
         "12.0",
         "12.0",
         "12.0",
         "10.0",
         "12.0",
         "12.0",
         "10.0",
         "24.0",
         "3.0",
         "6.0",
         "25.0",
         "6.0",
         "6.0",
         "1.69",
         "1.0",
         "1.0",
         "3.0",
         "1.0",
         "4.0",
         "1.0",
         "1.0",
         "1.0",
         "1.0",
         "1.0",
         "2.0",
         "1.0",
         "4.0",
         "1.0",
         "0.85",
         "1.0",
         "1.0",
         "1.0",
         "6.0",
         "1.0",
         "2.0",
         "10.0",
         "1.0",
         "2.0",
         "48.0",
         "24.0",
         "1.0",
         "24.0",
         "4.0",
         "4.0",
         "6.0",
         "3.0",
         "24.0",
         "12.0",
         "12.0",
         "12.0",
         "12.0",
         "12.0",
         "25.0",
         "25.0",
         "12.0",
         "10.0",
         "10.0",
         "10.0",
         "10.0",
         "10.0",
         "12.0",
         "4.0",
         "1.0",
         "1.0",
         "1.0",
         "2.0",
         "2.0",
         "25.0",
         "1.0",
         "24.0",
         "2.0",
         "2.0",
         "6.0",
         "12.0",
         "72.0",
         "48.0",
         "12.0",
         "12.0",
         "12.0",
         "16.0",
         "24.0",
         "4.0",
         "3.0",
         "4.0",
         "24.0",
         "25.0",
         "4.0",
         "12.0",
         "12.0",
         "8.0",
         "12.0",
         "12.0",
         "12.0",
         "4.0",
         "4.0",
         "8.0",
         "12.0",
         "4.0",
         "12.0",
         "6.0",
         "4.0",
         "4.0",
         "3.0",
         "1.65",
         "0.42",
         "2.1",
         "4.25",
         "3.39",
         "3.39",
         "35.75",
         "1.25",
         "0.42",
         "4.95",
         "1.95",
         "0.42",
         "2.95",
         "35.75",
         "1.65",
         "5.95",
         "3.75",
         "1.25",
         "1.65",
         "1.69",
         "1.65",
         "2.95",
         "3.75",
         "1.25",
         "2.25",
         "8.5",
         "2.95",
         "1.25",
         "0.42",
         "3.75",
         "0.85",
         "9.95",
         "3.39",
         "2.1",
         "0.85",
         "1.65",
         "1.25",
         "0.65",
         "5.95",
         "0.85",
         "1.65",
         "2.1",
         "3.75",
         "0.55",
         "0.85",
         "1.65",
         "18.0",
         "1.65",
         "2.95",
         "4.25",
         "2.1",
         "2.1",
         "1.45",
         "1.25",
         "6.95",
         "1.06",
         "2.95",
         "1.95",
         "3.75",
         "0.42",
         "1.95",
         "0.42",
         "1.25",
         "4.25",
         "1.65",
         "0.85",
         "1.45",
         "1.45",
         "2.55",
         "1.25",
         "1.65",
         "1.65",
         "2.08",
         "4.25",
         "1.65",
         "1.45",
         "8.5",
         "3.75",
         "4.95",
         "1.25",
         "4.25",
         "0.85",
         "2.95",
         "3.75",
         "0.42",
         "2.1",
         "0.55",
         "0.55",
         "2.95",
         "2.1",
         "2.95",
         "3.75",
         "0.55",
         "0.85",
         "1.69",
         "0.55",
         "4.95",
         "0.42",
         "0.55",
         "1.25",
         "1.69",
         "2.08",
         "2.08",
         "2.95",
         "1.69",
         "1.69",
         "1.25",
         "2.95",
         "1.25",
         "1.69",
         "1.69",
         "1.25",
         "1.95",
         "14.95",
         "8.5",
         "1.25",
         "2.08",
         "2.89",
         "4.15",
         "6.95",
         "1.95",
         "1.25",
         "1.45",
         "1.25",
         "0.85",
         "3.75",
         "1.65",
         "1.25",
         "2.95",
         "4.15",
         "0.79",
         "0.55",
         "4.15",
         "1.65",
         "2.95",
         "3.75",
         "2.95",
         "4.95",
         "3.39",
         "3.45",
         "2.89",
         "2.08",
         "2.08",
         "1.45",
         "9.95",
         "3.75",
         "0.85",
         "2.95",
         "1.65",
         "2.08",
         "0.83",
         "0.85",
         "0.55",
         "1.25",
         "4.95",
         "1.25",
         "4.95",
         "3.75",
         "1.95",
         "2.55",
         "2.95",
         "1.25",
         "1.45",
         "2.08",
         "5.95",
         "0.42",
         "0.85",
         "0.42",
         "4.95",
         "2.08",
         "2.1",
         "4.25",
         "4.95",
         "2.08",
         "2.08",
         "2.08",
         "0.39",
         "2.95",
         "2.95",
         "9.95",
         "8.5",
         "2.89",
         "2.49",
         "2.08",
         "0.85",
         "1.25",
         "1.79",
         "1.25",
         "0.39",
         "9.95",
         "3.39",
         "4.15",
         "2.95",
         "0.29",
         "1.65",
         "1.25",
         "1.25",
         "1.25",
         "1.25",
         "1.45",
         "0.42",
         "2.08",
         "4.95",
         "4.25",
         "0.39",
         "0.39",
         "0.85",
         "9.95",
         "1.45",
         "1.65",
         "2.1",
         "3.75",
         "2.95",
         "2.95",
         "1.25",
         "1.25",
         "1.25",
         "1.25",
         "0.39",
         "2.1",
         "4.25",
         "2.08",
         "4.95",
         "2.95",
         "1.25",
         "1.45",
         "1.79",
         "4.95",
         "1.25",
         "1.25",
         "1.45",
         "0.55",
         "0.65",
         "0.85",
         "0.85",
         "0.65",
         "16.95",
         "2.95",
         "4.15",
         "5.95",
         "0.83",
         "1.95",
         "1.69",
         "1.69",
         "1.45",
         "5.75",
         "1.25",
         "3.75",
         "0.65",
         "1.25",
         "1.25",
         "0.65",
         "0.83",
         "2.89",
         "9.95",
         "1.25",
         "0.85",
         "2.95",
         "3.25",
         "2.55",
         "0.79",
         "0.85",
         "8.95",
         "0.29",
         "1.95",
         "1.25",
         "2.08",
         "2.95",
         "0.83",
         "7.46",
         "1.65",
         "1.65",
         "1.25",
         "0.39",
         "0.39",
         "0.39",
         "0.39",
         "4.95",
         "1.25",
         "1.45",
         "3.95",
         "1.25",
         "0.79",
         "0.85",
         "2.1",
         "3.25",
         "2.89",
         "8.25",
         "2.55",
         "2.55",
         "1.79",
         "2.55",
         "2.1",
         "1.65",
         "0.85",
         "1.63",
         "4.15",
         "4.15",
         "4.15",
         "4.95",
         "1.25",
         "0.39",
         "3.75",
         "2.95",
         "8.95",
         "3.95",
         "1.95",
         "1.45",
         "1.95",
         "1.25",
         "8.25",
         "2.55",
         "0.19",
         "0.29",
         "0.29",
         "0.39",
         "0.79",
         "0.79",
         "5.95",
         "3.95",
         "1.25",
         "8.5",
         "0.39",
         "0.83",
         "0.75",
         "0.39",
         "0.85",
         "1.25",
         "0.39",
         "8.25",
         "4.95",
         "0.42",
         "1.95",
         "3.25",
         "7.08",
         "7.08",
         "2.95",
         "9.95",
         "1.25",
         "1.45",
         "0.83",
         "1.25",
         "0.39",
         "2.95",
         "1.45",
         "0.42",
         "2.08",
         "4.95",
         "1.25",
         "1.25",
         "3.75",
         "1.79",
         "1.79",
         "1.79",
         "0.63",
         "0.85",
         "0.42",
         "2.08",
         "1.25",
         "4.95",
         "0.59",
         "0.39",
         "2.95",
         "1.45",
         "5.75",
         "4.95",
         "2.89",
         "1.65",
         "1.45",
         "1.45",
         "1.85",
         "0.72",
         "1.85",
         "0.39",
         "0.19",
         "1.95",
         "0.85",
         "2.08",
         "0.85",
         "4.25",
         "3.75",
         "3.75",
         "0.42",
         "0.42",
         "1.25",
         "0.85",
         "0.39",
         "3.75",
         "0.95",
         "2.95",
         "1.25",
         "8.95",
         "7.08",
         "1.95",
         "1.65",
         "3.75",
         "3.75",
         "3.75",
         "3.75",
         "1.95",
         "1.95",
         "4.15",
         "0.85",
         "2.1",
         "4.15",
         "4.95"
        ],
        [
         "75%",
         "12.0",
         "2011-10-20 14:33:00",
         "3.75",
         "16795.0",
         "19.8",
         "1.95",
         "2.1",
         "2.08",
         "1.25",
         "1.25",
         "1.69",
         "1.0",
         "0.39",
         "36.0",
         "0.75",
         "24.0",
         "0.79",
         "6.0",
         "3.0",
         "0.72",
         "12.0",
         "2.55",
         "0.55",
         "8.0",
         "1.25",
         "1.25",
         "72.0",
         "3.0",
         "10.0",
         "8.5",
         "3.0",
         "0.39",
         "0.72",
         "1.0",
         "7.95",
         "1.0",
         "1.0",
         "2.0",
         "4.0",
         "8.25",
         "1.0",
         "1.0",
         "5.0",
         "2.0",
         "5.95",
         "2.0",
         "1.0",
         "1.0",
         "1.0",
         "0.79",
         "2.0",
         "12.0",
         "2.0",
         "2.0",
         "3.75",
         "2.0",
         "3.0",
         "2.0",
         "25.0",
         "20.0",
         "3.0",
         "12.0",
         "4.0",
         "12.0",
         "24.0",
         "4.0",
         "12.0",
         "12.0",
         "0.65",
         "2.0",
         "1.0",
         "1.0",
         "10.0",
         "2.0",
         "12.0",
         "6.0",
         "1.0",
         "4.0",
         "4.0",
         "1.0",
         "3.0",
         "5.0",
         "11.0",
         "2.1",
         "2.0",
         "18.0",
         "5.0",
         "2.0",
         "1.0",
         "3.0",
         "5.0",
         "5.0",
         "1.0",
         "1.0",
         "1.0",
         "1.0",
         "1.0",
         "1.0",
         "16.0",
         "1.0",
         "1.0",
         "1.25",
         "2.0",
         "2.0",
         "1.0",
         "1.0",
         "4.0",
         "4.95",
         "2.0",
         "36.0",
         "1.25",
         "1.0",
         "2.0",
         "1.0",
         "1.0",
         "1.0",
         "1.0",
         "2.0",
         "10.0",
         "20.0",
         "4.0",
         "1.0",
         "1.65",
         "1.0",
         "1.0",
         "2.0",
         "2.0",
         "1.0",
         "4.0",
         "12.0",
         "2.0",
         "2.0",
         "1.0",
         "24.0",
         "3.0",
         "1.0",
         "1.0",
         "6.0",
         "2.0",
         "1.0",
         "4.0",
         "1.0",
         "1.0",
         "12.0",
         "12.0",
         "10.0",
         "10.0",
         "1.0",
         "1.0",
         "5.0",
         "4.0",
         "1.0",
         "0.42",
         "4.0",
         "4.0",
         "4.0",
         "0.65",
         "12.0",
         "1.0",
         "2.0",
         "2.0",
         "1.0",
         "1.0",
         "2.0",
         "2.0",
         "1.0",
         "20.0",
         "2.0",
         "2.0",
         "6.75",
         "18.0",
         "6.0",
         "2.0",
         "3.0",
         "4.0",
         "120.0",
         "126.0",
         "12.0",
         "12.0",
         "2.0",
         "2.89",
         "2.0",
         "1.0",
         "4.0",
         "12.0",
         "12.0",
         "12.0",
         "4.0",
         "2.08",
         "1.0",
         "1.0",
         "1.0",
         "1.0",
         "6.0",
         "12.0",
         "12.0",
         "24.0",
         "12.0",
         "12.0",
         "12.0",
         "4.0",
         "4.0",
         "4.0",
         "10.0",
         "12.0",
         "12.0",
         "12.0",
         "10.0",
         "12.0",
         "12.0",
         "10.0",
         "24.0",
         "3.0",
         "6.0",
         "25.0",
         "6.0",
         "6.0",
         "1.69",
         "1.0",
         "1.0",
         "3.0",
         "1.0",
         "4.0",
         "1.0",
         "1.0",
         "1.0",
         "1.0",
         "1.0",
         "2.0",
         "1.0",
         "4.0",
         "1.0",
         "0.85",
         "1.0",
         "1.0",
         "1.0",
         "6.0",
         "1.0",
         "2.0",
         "10.0",
         "1.0",
         "2.0",
         "48.0",
         "24.0",
         "1.0",
         "24.0",
         "4.0",
         "4.0",
         "6.0",
         "3.0",
         "24.0",
         "12.0",
         "12.0",
         "12.0",
         "12.0",
         "12.0",
         "25.0",
         "25.0",
         "12.0",
         "10.0",
         "10.0",
         "10.0",
         "10.0",
         "10.0",
         "12.0",
         "4.0",
         "1.0",
         "1.0",
         "1.0",
         "2.0",
         "2.0",
         "25.0",
         "1.0",
         "24.0",
         "2.0",
         "2.0",
         "6.0",
         "12.0",
         "72.0",
         "48.0",
         "12.0",
         "12.0",
         "12.0",
         "16.0",
         "24.0",
         "4.0",
         "3.0",
         "4.0",
         "24.0",
         "25.0",
         "4.0",
         "12.0",
         "12.0",
         "8.0",
         "12.0",
         "12.0",
         "12.0",
         "4.0",
         "4.0",
         "8.0",
         "12.0",
         "4.0",
         "12.0",
         "6.0",
         "4.0",
         "4.0",
         "3.0",
         "1.65",
         "0.42",
         "2.1",
         "4.25",
         "3.39",
         "3.39",
         "35.75",
         "1.25",
         "0.42",
         "4.95",
         "1.95",
         "0.42",
         "2.95",
         "35.75",
         "1.65",
         "5.95",
         "3.75",
         "1.25",
         "1.65",
         "1.69",
         "1.65",
         "2.95",
         "3.75",
         "1.25",
         "2.25",
         "8.5",
         "2.95",
         "1.25",
         "0.42",
         "3.75",
         "0.85",
         "9.95",
         "3.39",
         "2.1",
         "0.85",
         "1.65",
         "1.25",
         "0.65",
         "5.95",
         "0.85",
         "1.65",
         "2.1",
         "3.75",
         "0.55",
         "0.85",
         "1.65",
         "18.0",
         "1.65",
         "2.95",
         "4.25",
         "2.1",
         "2.1",
         "1.45",
         "1.25",
         "6.95",
         "1.06",
         "2.95",
         "1.95",
         "3.75",
         "0.42",
         "1.95",
         "0.42",
         "1.25",
         "4.25",
         "1.65",
         "0.85",
         "1.45",
         "1.45",
         "2.55",
         "1.25",
         "1.65",
         "1.65",
         "2.08",
         "4.25",
         "1.65",
         "1.45",
         "8.5",
         "3.75",
         "4.95",
         "1.25",
         "4.25",
         "0.85",
         "2.95",
         "3.75",
         "0.42",
         "2.1",
         "0.55",
         "0.55",
         "2.95",
         "2.1",
         "2.95",
         "3.75",
         "0.55",
         "0.85",
         "1.69",
         "0.55",
         "4.95",
         "0.42",
         "0.55",
         "1.25",
         "1.69",
         "2.08",
         "2.08",
         "2.95",
         "1.69",
         "1.69",
         "1.25",
         "2.95",
         "1.25",
         "1.69",
         "1.69",
         "1.25",
         "1.95",
         "14.95",
         "8.5",
         "1.25",
         "2.08",
         "2.89",
         "4.15",
         "6.95",
         "1.95",
         "1.25",
         "1.45",
         "1.25",
         "0.85",
         "3.75",
         "1.65",
         "1.25",
         "2.95",
         "4.15",
         "0.79",
         "0.55",
         "4.15",
         "1.65",
         "2.95",
         "3.75",
         "2.95",
         "4.95",
         "3.39",
         "3.45",
         "2.89",
         "2.08",
         "2.08",
         "1.45",
         "9.95",
         "3.75",
         "0.85",
         "2.95",
         "1.65",
         "2.08",
         "0.83",
         "0.85",
         "0.55",
         "1.25",
         "4.95",
         "1.25",
         "4.95",
         "3.75",
         "1.95",
         "2.55",
         "2.95",
         "1.25",
         "1.45",
         "2.08",
         "5.95",
         "0.42",
         "0.85",
         "0.42",
         "4.95",
         "2.08",
         "2.1",
         "4.25",
         "4.95",
         "2.08",
         "2.08",
         "2.08",
         "0.39",
         "2.95",
         "2.95",
         "9.95",
         "8.5",
         "2.89",
         "2.49",
         "2.08",
         "0.85",
         "1.25",
         "1.79",
         "1.25",
         "0.39",
         "9.95",
         "3.39",
         "4.15",
         "2.95",
         "0.29",
         "1.65",
         "1.25",
         "1.25",
         "1.25",
         "1.25",
         "1.45",
         "0.42",
         "2.08",
         "4.95",
         "4.25",
         "0.39",
         "0.39",
         "0.85",
         "9.95",
         "1.45",
         "1.65",
         "2.1",
         "3.75",
         "2.95",
         "2.95",
         "1.25",
         "1.25",
         "1.25",
         "1.25",
         "0.39",
         "2.1",
         "4.25",
         "2.08",
         "4.95",
         "2.95",
         "1.25",
         "1.45",
         "1.79",
         "4.95",
         "1.25",
         "1.25",
         "1.45",
         "0.55",
         "0.65",
         "0.85",
         "0.85",
         "0.65",
         "16.95",
         "2.95",
         "4.15",
         "5.95",
         "0.83",
         "1.95",
         "1.69",
         "1.69",
         "1.45",
         "5.75",
         "1.25",
         "3.75",
         "0.65",
         "1.25",
         "1.25",
         "0.65",
         "0.83",
         "2.89",
         "9.95",
         "1.25",
         "0.85",
         "2.95",
         "3.25",
         "2.55",
         "0.79",
         "0.85",
         "8.95",
         "0.29",
         "1.95",
         "1.25",
         "2.08",
         "2.95",
         "0.83",
         "7.46",
         "1.65",
         "1.65",
         "1.25",
         "0.39",
         "0.39",
         "0.39",
         "0.39",
         "4.95",
         "1.25",
         "1.45",
         "3.95",
         "1.25",
         "0.79",
         "0.85",
         "2.1",
         "3.25",
         "2.89",
         "8.25",
         "2.55",
         "2.55",
         "1.79",
         "2.55",
         "2.1",
         "1.65",
         "0.85",
         "1.63",
         "4.15",
         "4.15",
         "4.15",
         "4.95",
         "1.25",
         "0.39",
         "3.75",
         "2.95",
         "8.95",
         "3.95",
         "1.95",
         "1.45",
         "1.95",
         "1.25",
         "8.25",
         "2.55",
         "0.19",
         "0.29",
         "0.29",
         "0.39",
         "0.79",
         "0.79",
         "5.95",
         "3.95",
         "1.25",
         "8.5",
         "0.39",
         "0.83",
         "0.75",
         "0.39",
         "0.85",
         "1.25",
         "0.39",
         "8.25",
         "4.95",
         "0.42",
         "1.95",
         "3.25",
         "7.08",
         "7.08",
         "2.95",
         "9.95",
         "1.25",
         "1.45",
         "0.83",
         "1.25",
         "0.39",
         "2.95",
         "1.45",
         "0.42",
         "2.08",
         "4.95",
         "1.25",
         "1.25",
         "3.75",
         "1.79",
         "1.79",
         "1.79",
         "0.63",
         "0.85",
         "0.42",
         "2.08",
         "1.25",
         "4.95",
         "0.59",
         "0.39",
         "2.95",
         "1.45",
         "5.75",
         "4.95",
         "2.89",
         "1.65",
         "1.45",
         "1.45",
         "1.85",
         "0.72",
         "1.85",
         "0.39",
         "0.19",
         "1.95",
         "0.85",
         "2.08",
         "0.85",
         "4.25",
         "3.75",
         "3.75",
         "0.42",
         "0.42",
         "1.25",
         "0.85",
         "0.39",
         "3.75",
         "0.95",
         "2.95",
         "1.25",
         "8.95",
         "7.08",
         "1.95",
         "1.65",
         "3.75",
         "3.75",
         "3.75",
         "3.75",
         "1.95",
         "1.95",
         "4.15",
         "0.85",
         "2.1",
         "4.15",
         "4.95"
        ],
        [
         "max",
         "80995.0",
         "2011-12-09 12:50:00",
         "8142.75",
         "18287.0",
         "168469.6",
         "1.95",
         "2.1",
         "2.08",
         "1.25",
         "1.25",
         "1.69",
         "1.0",
         "0.39",
         "36.0",
         "0.75",
         "24.0",
         "0.79",
         "6.0",
         "3.0",
         "0.72",
         "12.0",
         "2.55",
         "0.55",
         "8.0",
         "1.25",
         "1.25",
         "72.0",
         "3.0",
         "10.0",
         "8.5",
         "3.0",
         "0.39",
         "0.72",
         "1.0",
         "7.95",
         "1.0",
         "1.0",
         "2.0",
         "4.0",
         "8.25",
         "1.0",
         "1.0",
         "5.0",
         "2.0",
         "5.95",
         "2.0",
         "1.0",
         "1.0",
         "1.0",
         "0.79",
         "2.0",
         "12.0",
         "2.0",
         "2.0",
         "3.75",
         "2.0",
         "3.0",
         "2.0",
         "25.0",
         "20.0",
         "3.0",
         "12.0",
         "4.0",
         "12.0",
         "24.0",
         "4.0",
         "12.0",
         "12.0",
         "0.65",
         "2.0",
         "1.0",
         "1.0",
         "10.0",
         "2.0",
         "12.0",
         "6.0",
         "1.0",
         "4.0",
         "4.0",
         "1.0",
         "3.0",
         "5.0",
         "11.0",
         "2.1",
         "2.0",
         "18.0",
         "5.0",
         "2.0",
         "1.0",
         "3.0",
         "5.0",
         "5.0",
         "1.0",
         "1.0",
         "1.0",
         "1.0",
         "1.0",
         "1.0",
         "16.0",
         "1.0",
         "1.0",
         "1.25",
         "2.0",
         "2.0",
         "1.0",
         "1.0",
         "4.0",
         "4.95",
         "2.0",
         "36.0",
         "1.25",
         "1.0",
         "2.0",
         "1.0",
         "1.0",
         "1.0",
         "1.0",
         "2.0",
         "10.0",
         "20.0",
         "4.0",
         "1.0",
         "1.65",
         "1.0",
         "1.0",
         "2.0",
         "2.0",
         "1.0",
         "4.0",
         "12.0",
         "2.0",
         "2.0",
         "1.0",
         "24.0",
         "3.0",
         "1.0",
         "1.0",
         "6.0",
         "2.0",
         "1.0",
         "4.0",
         "1.0",
         "1.0",
         "12.0",
         "12.0",
         "10.0",
         "10.0",
         "1.0",
         "1.0",
         "5.0",
         "4.0",
         "1.0",
         "0.42",
         "4.0",
         "4.0",
         "4.0",
         "0.65",
         "12.0",
         "1.0",
         "2.0",
         "2.0",
         "1.0",
         "1.0",
         "2.0",
         "2.0",
         "1.0",
         "20.0",
         "2.0",
         "2.0",
         "6.75",
         "18.0",
         "6.0",
         "2.0",
         "3.0",
         "4.0",
         "120.0",
         "126.0",
         "12.0",
         "12.0",
         "2.0",
         "2.89",
         "2.0",
         "1.0",
         "4.0",
         "12.0",
         "12.0",
         "12.0",
         "4.0",
         "2.08",
         "1.0",
         "1.0",
         "1.0",
         "1.0",
         "6.0",
         "12.0",
         "12.0",
         "24.0",
         "12.0",
         "12.0",
         "12.0",
         "4.0",
         "4.0",
         "4.0",
         "10.0",
         "12.0",
         "12.0",
         "12.0",
         "10.0",
         "12.0",
         "12.0",
         "10.0",
         "24.0",
         "3.0",
         "6.0",
         "25.0",
         "6.0",
         "6.0",
         "1.69",
         "1.0",
         "1.0",
         "3.0",
         "1.0",
         "4.0",
         "1.0",
         "1.0",
         "1.0",
         "1.0",
         "1.0",
         "2.0",
         "1.0",
         "4.0",
         "1.0",
         "0.85",
         "1.0",
         "1.0",
         "1.0",
         "6.0",
         "1.0",
         "2.0",
         "10.0",
         "1.0",
         "2.0",
         "48.0",
         "24.0",
         "1.0",
         "24.0",
         "4.0",
         "4.0",
         "6.0",
         "3.0",
         "24.0",
         "12.0",
         "12.0",
         "12.0",
         "12.0",
         "12.0",
         "25.0",
         "25.0",
         "12.0",
         "10.0",
         "10.0",
         "10.0",
         "10.0",
         "10.0",
         "12.0",
         "4.0",
         "1.0",
         "1.0",
         "1.0",
         "2.0",
         "2.0",
         "25.0",
         "1.0",
         "24.0",
         "2.0",
         "2.0",
         "6.0",
         "12.0",
         "72.0",
         "48.0",
         "12.0",
         "12.0",
         "12.0",
         "16.0",
         "24.0",
         "4.0",
         "3.0",
         "4.0",
         "24.0",
         "25.0",
         "4.0",
         "12.0",
         "12.0",
         "8.0",
         "12.0",
         "12.0",
         "12.0",
         "4.0",
         "4.0",
         "8.0",
         "12.0",
         "4.0",
         "12.0",
         "6.0",
         "4.0",
         "4.0",
         "3.0",
         "1.65",
         "0.42",
         "2.1",
         "4.25",
         "3.39",
         "3.39",
         "35.75",
         "1.25",
         "0.42",
         "4.95",
         "1.95",
         "0.42",
         "2.95",
         "35.75",
         "1.65",
         "5.95",
         "3.75",
         "1.25",
         "1.65",
         "1.69",
         "1.65",
         "2.95",
         "3.75",
         "1.25",
         "2.25",
         "8.5",
         "2.95",
         "1.25",
         "0.42",
         "3.75",
         "0.85",
         "9.95",
         "3.39",
         "2.1",
         "0.85",
         "1.65",
         "1.25",
         "0.65",
         "5.95",
         "0.85",
         "1.65",
         "2.1",
         "3.75",
         "0.55",
         "0.85",
         "1.65",
         "18.0",
         "1.65",
         "2.95",
         "4.25",
         "2.1",
         "2.1",
         "1.45",
         "1.25",
         "6.95",
         "1.06",
         "2.95",
         "1.95",
         "3.75",
         "0.42",
         "1.95",
         "0.42",
         "1.25",
         "4.25",
         "1.65",
         "0.85",
         "1.45",
         "1.45",
         "2.55",
         "1.25",
         "1.65",
         "1.65",
         "2.08",
         "4.25",
         "1.65",
         "1.45",
         "8.5",
         "3.75",
         "4.95",
         "1.25",
         "4.25",
         "0.85",
         "2.95",
         "3.75",
         "0.42",
         "2.1",
         "0.55",
         "0.55",
         "2.95",
         "2.1",
         "2.95",
         "3.75",
         "0.55",
         "0.85",
         "1.69",
         "0.55",
         "4.95",
         "0.42",
         "0.55",
         "1.25",
         "1.69",
         "2.08",
         "2.08",
         "2.95",
         "1.69",
         "1.69",
         "1.25",
         "2.95",
         "1.25",
         "1.69",
         "1.69",
         "1.25",
         "1.95",
         "14.95",
         "8.5",
         "1.25",
         "2.08",
         "2.89",
         "4.15",
         "6.95",
         "1.95",
         "1.25",
         "1.45",
         "1.25",
         "0.85",
         "3.75",
         "1.65",
         "1.25",
         "2.95",
         "4.15",
         "0.79",
         "0.55",
         "4.15",
         "1.65",
         "2.95",
         "3.75",
         "2.95",
         "4.95",
         "3.39",
         "3.45",
         "2.89",
         "2.08",
         "2.08",
         "1.45",
         "9.95",
         "3.75",
         "0.85",
         "2.95",
         "1.65",
         "2.08",
         "0.83",
         "0.85",
         "0.55",
         "1.25",
         "4.95",
         "1.25",
         "4.95",
         "3.75",
         "1.95",
         "2.55",
         "2.95",
         "1.25",
         "1.45",
         "2.08",
         "5.95",
         "0.42",
         "0.85",
         "0.42",
         "4.95",
         "2.08",
         "2.1",
         "4.25",
         "4.95",
         "2.08",
         "2.08",
         "2.08",
         "0.39",
         "2.95",
         "2.95",
         "9.95",
         "8.5",
         "2.89",
         "2.49",
         "2.08",
         "0.85",
         "1.25",
         "1.79",
         "1.25",
         "0.39",
         "9.95",
         "3.39",
         "4.15",
         "2.95",
         "0.29",
         "1.65",
         "1.25",
         "1.25",
         "1.25",
         "1.25",
         "1.45",
         "0.42",
         "2.08",
         "4.95",
         "4.25",
         "0.39",
         "0.39",
         "0.85",
         "9.95",
         "1.45",
         "1.65",
         "2.1",
         "3.75",
         "2.95",
         "2.95",
         "1.25",
         "1.25",
         "1.25",
         "1.25",
         "0.39",
         "2.1",
         "4.25",
         "2.08",
         "4.95",
         "2.95",
         "1.25",
         "1.45",
         "1.79",
         "4.95",
         "1.25",
         "1.25",
         "1.45",
         "0.55",
         "0.65",
         "0.85",
         "0.85",
         "0.65",
         "16.95",
         "2.95",
         "4.15",
         "5.95",
         "0.83",
         "1.95",
         "1.69",
         "1.69",
         "1.45",
         "5.75",
         "1.25",
         "3.75",
         "0.65",
         "1.25",
         "1.25",
         "0.65",
         "0.83",
         "2.89",
         "9.95",
         "1.25",
         "0.85",
         "2.95",
         "3.25",
         "2.55",
         "0.79",
         "0.85",
         "8.95",
         "0.29",
         "1.95",
         "1.25",
         "2.08",
         "2.95",
         "0.83",
         "7.46",
         "1.65",
         "1.65",
         "1.25",
         "0.39",
         "0.39",
         "0.39",
         "0.39",
         "4.95",
         "1.25",
         "1.45",
         "3.95",
         "1.25",
         "0.79",
         "0.85",
         "2.1",
         "3.25",
         "2.89",
         "8.25",
         "2.55",
         "2.55",
         "1.79",
         "2.55",
         "2.1",
         "1.65",
         "0.85",
         "1.63",
         "4.15",
         "4.15",
         "4.15",
         "4.95",
         "1.25",
         "0.39",
         "3.75",
         "2.95",
         "8.95",
         "3.95",
         "1.95",
         "1.45",
         "1.95",
         "1.25",
         "8.25",
         "2.55",
         "0.19",
         "0.29",
         "0.29",
         "0.39",
         "0.79",
         "0.79",
         "5.95",
         "3.95",
         "1.25",
         "8.5",
         "0.39",
         "0.83",
         "0.75",
         "0.39",
         "0.85",
         "1.25",
         "0.39",
         "8.25",
         "4.95",
         "0.42",
         "1.95",
         "3.25",
         "7.08",
         "7.08",
         "2.95",
         "9.95",
         "1.25",
         "1.45",
         "0.83",
         "1.25",
         "0.39",
         "2.95",
         "1.45",
         "0.42",
         "2.08",
         "4.95",
         "1.25",
         "1.25",
         "3.75",
         "1.79",
         "1.79",
         "1.79",
         "0.63",
         "0.85",
         "0.42",
         "2.08",
         "1.25",
         "4.95",
         "0.59",
         "0.39",
         "2.95",
         "1.45",
         "5.75",
         "4.95",
         "2.89",
         "1.65",
         "1.45",
         "1.45",
         "1.85",
         "0.72",
         "1.85",
         "0.39",
         "0.19",
         "1.95",
         "0.85",
         "2.08",
         "0.85",
         "4.25",
         "3.75",
         "3.75",
         "0.42",
         "0.42",
         "1.25",
         "0.85",
         "0.39",
         "3.75",
         "0.95",
         "2.95",
         "1.25",
         "8.95",
         "7.08",
         "1.95",
         "1.65",
         "3.75",
         "3.75",
         "3.75",
         "3.75",
         "1.95",
         "1.95",
         "4.15",
         "0.85",
         "2.1",
         "4.15",
         "4.95"
        ],
        [
         "std",
         "180.4202099169813",
         null,
         "22.09678803168584",
         "1713.1698773382186",
         "309.05558838086813",
         "1.5543141875054008e-15",
         "1.332269303576058e-15",
         "1.332269303576058e-15",
         "0.0",
         "0.0",
         "6.66134651788029e-16",
         "0.0",
         "2.2204488392934295e-16",
         "0.0",
         "0.0",
         "0.0",
         "5.551122098233574e-16",
         "0.0",
         "0.0",
         "3.330673258940145e-16",
         "0.0",
         "1.7763590714347436e-15",
         "3.330673258940145e-16",
         "0.0",
         "0.0",
         "0.0",
         "0.0",
         "0.0",
         "0.0",
         "0.0",
         "0.0",
         "2.2204488392934295e-16",
         "3.330673258940145e-16",
         "0.0",
         "6.217256750021603e-15",
         "0.0",
         "0.0",
         "0.0",
         "0.0",
         "0.0",
         "0.0",
         "0.0",
         "0.0",
         "0.0",
         "5.329077214304232e-15",
         "0.0",
         "0.0",
         "0.0",
         "0.0",
         "5.551122098233574e-16",
         "0.0",
         "0.0",
         "0.0",
         "0.0",
         "0.0",
         "0.0",
         "0.0",
         "0.0",
         "0.0",
         "0.0",
         "0.0",
         "0.0",
         "0.0",
         "0.0",
         "0.0",
         "0.0",
         "0.0",
         "0.0",
         "5.551122098233574e-16",
         "0.0",
         "0.0",
         "0.0",
         "0.0",
         "0.0",
         "0.0",
         "0.0",
         "0.0",
         "0.0",
         "0.0",
         "0.0",
         "0.0",
         "0.0",
         "0.0",
         "1.332269303576058e-15",
         "0.0",
         "0.0",
         "0.0",
         "0.0",
         "0.0",
         "0.0",
         "0.0",
         "0.0",
         "0.0",
         "0.0",
         "0.0",
         "0.0",
         "0.0",
         "0.0",
         "0.0",
         "0.0",
         "0.0",
         "0.0",
         "0.0",
         "0.0",
         "0.0",
         "0.0",
         "0.0",
         "4.4408976785868595e-15",
         "0.0",
         "0.0",
         "0.0",
         "0.0",
         "0.0",
         "0.0",
         "0.0",
         "0.0",
         "0.0",
         "0.0",
         "0.0",
         "0.0",
         "0.0",
         "0.0",
         "0.0",
         "0.0",
         "0.0",
         "0.0",
         "0.0",
         "0.0",
         "0.0",
         "0.0",
         "0.0",
         "0.0",
         "0.0",
         "0.0",
         "0.0",
         "0.0",
         "0.0",
         "0.0",
         "0.0",
         "0.0",
         "0.0",
         "0.0",
         "0.0",
         "0.0",
         "0.0",
         "0.0",
         "0.0",
         "0.0",
         "0.0",
         "0.0",
         "0.0",
         "0.0",
         "2.775561049116787e-16",
         "0.0",
         "0.0",
         "0.0",
         "5.551122098233574e-16",
         "0.0",
         "0.0",
         "0.0",
         "0.0",
         "0.0",
         "0.0",
         "0.0",
         "0.0",
         "0.0",
         "0.0",
         "0.0",
         "0.0",
         "0.0",
         "0.0",
         "0.0",
         "0.0",
         "0.0",
         "0.0",
         "0.0",
         "0.0",
         "0.0",
         "0.0",
         "0.0",
         "4.440897678586859e-16",
         "0.0",
         "0.0",
         "0.0",
         "0.0",
         "0.0",
         "0.0",
         "0.0",
         "1.332269303576058e-15",
         "0.0",
         "0.0",
         "0.0",
         "0.0",
         "0.0",
         "0.0",
         "0.0",
         "0.0",
         "0.0",
         "0.0",
         "0.0",
         "0.0",
         "0.0",
         "0.0",
         "0.0",
         "0.0",
         "0.0",
         "0.0",
         "0.0",
         "0.0",
         "0.0",
         "0.0",
         "0.0",
         "0.0",
         "0.0",
         "0.0",
         "0.0",
         "0.0",
         "6.66134651788029e-16",
         "0.0",
         "0.0",
         "0.0",
         "0.0",
         "0.0",
         "0.0",
         "0.0",
         "0.0",
         "0.0",
         "0.0",
         "0.0",
         "0.0",
         "0.0",
         "0.0",
         "6.66134651788029e-16",
         "0.0",
         "0.0",
         "0.0",
         "0.0",
         "0.0",
         "0.0",
         "0.0",
         "0.0",
         "0.0",
         "0.0",
         "0.0",
         "0.0",
         "0.0",
         "0.0",
         "0.0",
         "0.0",
         "0.0",
         "0.0",
         "0.0",
         "0.0",
         "0.0",
         "0.0",
         "0.0",
         "0.0",
         "0.0",
         "0.0",
         "0.0",
         "0.0",
         "0.0",
         "0.0",
         "0.0",
         "0.0",
         "0.0",
         "0.0",
         "0.0",
         "0.0",
         "0.0",
         "0.0",
         "0.0",
         "0.0",
         "0.0",
         "0.0",
         "0.0",
         "0.0",
         "0.0",
         "0.0",
         "0.0",
         "0.0",
         "0.0",
         "0.0",
         "0.0",
         "0.0",
         "0.0",
         "0.0",
         "0.0",
         "0.0",
         "0.0",
         "0.0",
         "0.0",
         "0.0",
         "0.0",
         "0.0",
         "0.0",
         "0.0",
         "0.0",
         "0.0",
         "0.0",
         "0.0",
         "0.0",
         "0.0",
         "0.0",
         "0.0",
         "0.0",
         "0.0",
         "0.0",
         "2.775561049116787e-16",
         "1.332269303576058e-15",
         "0.0",
         "2.664538607152116e-15",
         "2.664538607152116e-15",
         "0.0",
         "0.0",
         "2.775561049116787e-16",
         "4.4408976785868595e-15",
         "1.5543141875054008e-15",
         "2.775561049116787e-16",
         "8.881795357173718e-16",
         "0.0",
         "0.0",
         "5.329077214304232e-15",
         "0.0",
         "0.0",
         "0.0",
         "6.66134651788029e-16",
         "0.0",
         "8.881795357173718e-16",
         "0.0",
         "0.0",
         "0.0",
         "0.0",
         "8.881795357173718e-16",
         "0.0",
         "2.775561049116787e-16",
         "0.0",
         "6.66134651788029e-16",
         "7.105436285738975e-15",
         "2.664538607152116e-15",
         "1.332269303576058e-15",
         "6.66134651788029e-16",
         "0.0",
         "0.0",
         "5.551122098233574e-16",
         "5.329077214304232e-15",
         "6.66134651788029e-16",
         "0.0",
         "1.332269303576058e-15",
         "0.0",
         "3.330673258940145e-16",
         "6.66134651788029e-16",
         "0.0",
         "0.0",
         "0.0",
         "8.881795357173718e-16",
         "0.0",
         "1.332269303576058e-15",
         "1.332269303576058e-15",
         "1.1102244196467149e-15",
         "0.0",
         "5.329077214304232e-15",
         "4.440897678586859e-16",
         "8.881795357173718e-16",
         "1.5543141875054008e-15",
         "0.0",
         "2.775561049116787e-16",
         "1.5543141875054008e-15",
         "2.775561049116787e-16",
         "0.0",
         "0.0",
         "0.0",
         "6.66134651788029e-16",
         "1.1102244196467149e-15",
         "1.1102244196467149e-15",
         "1.7763590714347436e-15",
         "0.0",
         "0.0",
         "0.0",
         "1.332269303576058e-15",
         "0.0",
         "0.0",
         "1.1102244196467149e-15",
         "0.0",
         "0.0",
         "4.4408976785868595e-15",
         "0.0",
         "0.0",
         "6.66134651788029e-16",
         "8.881795357173718e-16",
         "0.0",
         "2.775561049116787e-16",
         "1.332269303576058e-15",
         "3.330673258940145e-16",
         "3.330673258940145e-16",
         "8.881795357173718e-16",
         "1.332269303576058e-15",
         "8.881795357173718e-16",
         "0.0",
         "3.330673258940145e-16",
         "6.66134651788029e-16",
         "6.66134651788029e-16",
         "3.330673258940145e-16",
         "4.4408976785868595e-15",
         "2.775561049116787e-16",
         "3.330673258940145e-16",
         "0.0",
         "6.66134651788029e-16",
         "1.332269303576058e-15",
         "1.332269303576058e-15",
         "8.881795357173718e-16",
         "6.66134651788029e-16",
         "6.66134651788029e-16",
         "0.0",
         "8.881795357173718e-16",
         "0.0",
         "6.66134651788029e-16",
         "6.66134651788029e-16",
         "0.0",
         "1.5543141875054008e-15",
         "5.329077214304232e-15",
         "0.0",
         "0.0",
         "1.332269303576058e-15",
         "4.440897678586859e-16",
         "2.664538607152116e-15",
         "5.329077214304232e-15",
         "1.5543141875054008e-15",
         "0.0",
         "1.1102244196467149e-15",
         "0.0",
         "6.66134651788029e-16",
         "0.0",
         "0.0",
         "0.0",
         "8.881795357173718e-16",
         "2.664538607152116e-15",
         "5.551122098233574e-16",
         "3.330673258940145e-16",
         "2.664538607152116e-15",
         "0.0",
         "8.881795357173718e-16",
         "0.0",
         "8.881795357173718e-16",
         "4.4408976785868595e-15",
         "2.664538607152116e-15",
         "4.440897678586859e-16",
         "4.440897678586859e-16",
         "1.332269303576058e-15",
         "1.332269303576058e-15",
         "1.1102244196467149e-15",
         "7.105436285738975e-15",
         "0.0",
         "6.66134651788029e-16",
         "8.881795357173718e-16",
         "0.0",
         "1.332269303576058e-15",
         "8.881795357173718e-16",
         "6.66134651788029e-16",
         "3.330673258940145e-16",
         "0.0",
         "4.4408976785868595e-15",
         "0.0",
         "4.4408976785868595e-15",
         "0.0",
         "1.5543141875054008e-15",
         "1.7763590714347436e-15",
         "8.881795357173718e-16",
         "0.0",
         "1.1102244196467149e-15",
         "1.332269303576058e-15",
         "5.329077214304232e-15",
         "2.775561049116787e-16",
         "6.66134651788029e-16",
         "2.775561049116787e-16",
         "4.4408976785868595e-15",
         "1.332269303576058e-15",
         "1.332269303576058e-15",
         "0.0",
         "4.4408976785868595e-15",
         "1.332269303576058e-15",
         "1.332269303576058e-15",
         "1.332269303576058e-15",
         "2.2204488392934295e-16",
         "8.881795357173718e-16",
         "8.881795357173718e-16",
         "7.105436285738975e-15",
         "0.0",
         "4.440897678586859e-16",
         "1.7763590714347436e-15",
         "1.332269303576058e-15",
         "6.66134651788029e-16",
         "0.0",
         "1.1102244196467149e-15",
         "0.0",
         "2.2204488392934295e-16",
         "7.105436285738975e-15",
         "2.664538607152116e-15",
         "2.664538607152116e-15",
         "8.881795357173718e-16",
         "3.330673258940145e-16",
         "0.0",
         "0.0",
         "0.0",
         "0.0",
         "0.0",
         "1.1102244196467149e-15",
         "2.775561049116787e-16",
         "1.332269303576058e-15",
         "4.4408976785868595e-15",
         "0.0",
         "2.2204488392934295e-16",
         "2.2204488392934295e-16",
         "6.66134651788029e-16",
         "7.105436285738975e-15",
         "1.1102244196467149e-15",
         "0.0",
         "1.332269303576058e-15",
         "0.0",
         "8.881795357173718e-16",
         "8.881795357173718e-16",
         "0.0",
         "0.0",
         "0.0",
         "0.0",
         "2.2204488392934295e-16",
         "1.332269303576058e-15",
         "0.0",
         "1.332269303576058e-15",
         "4.4408976785868595e-15",
         "8.881795357173718e-16",
         "0.0",
         "1.1102244196467149e-15",
         "1.1102244196467149e-15",
         "4.4408976785868595e-15",
         "0.0",
         "0.0",
         "1.1102244196467149e-15",
         "3.330673258940145e-16",
         "5.551122098233574e-16",
         "6.66134651788029e-16",
         "6.66134651788029e-16",
         "5.551122098233574e-16",
         "1.0658154428608463e-14",
         "8.881795357173718e-16",
         "2.664538607152116e-15",
         "5.329077214304232e-15",
         "8.881795357173718e-16",
         "1.5543141875054008e-15",
         "6.66134651788029e-16",
         "6.66134651788029e-16",
         "1.1102244196467149e-15",
         "0.0",
         "0.0",
         "0.0",
         "5.551122098233574e-16",
         "0.0",
         "0.0",
         "5.551122098233574e-16",
         "8.881795357173718e-16",
         "4.440897678586859e-16",
         "7.105436285738975e-15",
         "0.0",
         "6.66134651788029e-16",
         "8.881795357173718e-16",
         "0.0",
         "1.7763590714347436e-15",
         "5.551122098233574e-16",
         "6.66134651788029e-16",
         "5.329077214304232e-15",
         "3.330673258940145e-16",
         "1.5543141875054008e-15",
         "0.0",
         "1.332269303576058e-15",
         "8.881795357173718e-16",
         "8.881795357173718e-16",
         "4.4408976785868595e-15",
         "0.0",
         "0.0",
         "0.0",
         "2.2204488392934295e-16",
         "2.2204488392934295e-16",
         "2.2204488392934295e-16",
         "2.2204488392934295e-16",
         "4.4408976785868595e-15",
         "0.0",
         "1.1102244196467149e-15",
         "1.7763590714347436e-15",
         "0.0",
         "5.551122098233574e-16",
         "6.66134651788029e-16",
         "1.332269303576058e-15",
         "0.0",
         "4.440897678586859e-16",
         "0.0",
         "1.7763590714347436e-15",
         "1.7763590714347436e-15",
         "1.1102244196467149e-15",
         "1.7763590714347436e-15",
         "1.332269303576058e-15",
         "0.0",
         "6.66134651788029e-16",
         "0.0",
         "2.664538607152116e-15",
         "2.664538607152116e-15",
         "2.664538607152116e-15",
         "4.4408976785868595e-15",
         "0.0",
         "2.2204488392934295e-16",
         "0.0",
         "8.881795357173718e-16",
         "5.329077214304232e-15",
         "1.7763590714347436e-15",
         "1.5543141875054008e-15",
         "1.1102244196467149e-15",
         "1.5543141875054008e-15",
         "0.0",
         "0.0",
         "1.7763590714347436e-15",
         "1.1102244196467148e-16",
         "3.330673258940145e-16",
         "3.330673258940145e-16",
         "2.2204488392934295e-16",
         "5.551122098233574e-16",
         "5.551122098233574e-16",
         "5.329077214304232e-15",
         "1.7763590714347436e-15",
         "0.0",
         "0.0",
         "2.2204488392934295e-16",
         "8.881795357173718e-16",
         "0.0",
         "2.2204488392934295e-16",
         "6.66134651788029e-16",
         "0.0",
         "2.2204488392934295e-16",
         "0.0",
         "4.4408976785868595e-15",
         "2.775561049116787e-16",
         "1.5543141875054008e-15",
         "0.0",
         "8.881795357173718e-16",
         "8.881795357173718e-16",
         "8.881795357173718e-16",
         "7.105436285738975e-15",
         "0.0",
         "1.1102244196467149e-15",
         "8.881795357173718e-16",
         "0.0",
         "2.2204488392934295e-16",
         "8.881795357173718e-16",
         "1.1102244196467149e-15",
         "2.775561049116787e-16",
         "1.332269303576058e-15",
         "4.4408976785868595e-15",
         "0.0",
         "0.0",
         "0.0",
         "1.1102244196467149e-15",
         "1.1102244196467149e-15",
         "1.1102244196467149e-15",
         "2.2204488392934295e-16",
         "6.66134651788029e-16",
         "2.775561049116787e-16",
         "1.332269303576058e-15",
         "0.0",
         "4.4408976785868595e-15",
         "0.0",
         "2.2204488392934295e-16",
         "8.881795357173718e-16",
         "1.1102244196467149e-15",
         "0.0",
         "4.4408976785868595e-15",
         "4.440897678586859e-16",
         "0.0",
         "1.1102244196467149e-15",
         "1.1102244196467149e-15",
         "6.66134651788029e-16",
         "3.330673258940145e-16",
         "6.66134651788029e-16",
         "2.2204488392934295e-16",
         "1.1102244196467148e-16",
         "1.5543141875054008e-15",
         "6.66134651788029e-16",
         "1.332269303576058e-15",
         "6.66134651788029e-16",
         "0.0",
         "0.0",
         "0.0",
         "2.775561049116787e-16",
         "2.775561049116787e-16",
         "0.0",
         "6.66134651788029e-16",
         "2.2204488392934295e-16",
         "0.0",
         "4.440897678586859e-16",
         "8.881795357173718e-16",
         "0.0",
         "5.329077214304232e-15",
         "8.881795357173718e-16",
         "1.5543141875054008e-15",
         "0.0",
         "0.0",
         "0.0",
         "0.0",
         "0.0",
         "1.5543141875054008e-15",
         "1.5543141875054008e-15",
         "2.664538607152116e-15",
         "6.66134651788029e-16",
         "1.332269303576058e-15",
         "2.664538607152116e-15",
         "4.4408976785868595e-15"
        ]
       ],
       "shape": {
        "columns": 713,
        "rows": 8
       }
      },
      "text/html": [
       "<div>\n",
       "<style scoped>\n",
       "    .dataframe tbody tr th:only-of-type {\n",
       "        vertical-align: middle;\n",
       "    }\n",
       "\n",
       "    .dataframe tbody tr th {\n",
       "        vertical-align: top;\n",
       "    }\n",
       "\n",
       "    .dataframe thead th {\n",
       "        text-align: right;\n",
       "    }\n",
       "</style>\n",
       "<table border=\"1\" class=\"dataframe\">\n",
       "  <thead>\n",
       "    <tr style=\"text-align: right;\">\n",
       "      <th></th>\n",
       "      <th>Quantity</th>\n",
       "      <th>InvoiceDate</th>\n",
       "      <th>UnitPrice</th>\n",
       "      <th>CustomerID</th>\n",
       "      <th>TotalAmount</th>\n",
       "      <th>1</th>\n",
       "      <th>2</th>\n",
       "      <th>3</th>\n",
       "      <th>4</th>\n",
       "      <th>5</th>\n",
       "      <th>...</th>\n",
       "      <th>1867.86</th>\n",
       "      <th>2033.1</th>\n",
       "      <th>2053.07</th>\n",
       "      <th>2118.74</th>\n",
       "      <th>2382.92</th>\n",
       "      <th>2500.0</th>\n",
       "      <th>3155.95</th>\n",
       "      <th>3949.32</th>\n",
       "      <th>4161.06</th>\n",
       "      <th>8142.75</th>\n",
       "    </tr>\n",
       "  </thead>\n",
       "  <tbody>\n",
       "    <tr>\n",
       "      <th>count</th>\n",
       "      <td>397924.000000</td>\n",
       "      <td>397924</td>\n",
       "      <td>397924.000000</td>\n",
       "      <td>397924.000000</td>\n",
       "      <td>397924.0</td>\n",
       "      <td>3.979240e+05</td>\n",
       "      <td>3.979240e+05</td>\n",
       "      <td>3.979240e+05</td>\n",
       "      <td>397924.00</td>\n",
       "      <td>397924.00</td>\n",
       "      <td>...</td>\n",
       "      <td>397924.00</td>\n",
       "      <td>397924.00</td>\n",
       "      <td>397924.00</td>\n",
       "      <td>3.979240e+05</td>\n",
       "      <td>3.979240e+05</td>\n",
       "      <td>3.979240e+05</td>\n",
       "      <td>3.979240e+05</td>\n",
       "      <td>3.979240e+05</td>\n",
       "      <td>3.979240e+05</td>\n",
       "      <td>3.979240e+05</td>\n",
       "    </tr>\n",
       "    <tr>\n",
       "      <th>mean</th>\n",
       "      <td>13.021823</td>\n",
       "      <td>2011-07-10 23:43:36.912475648</td>\n",
       "      <td>3.116174</td>\n",
       "      <td>15294.315171</td>\n",
       "      <td>22.394748</td>\n",
       "      <td>1.950000e+00</td>\n",
       "      <td>2.100000e+00</td>\n",
       "      <td>2.080000e+00</td>\n",
       "      <td>1.25</td>\n",
       "      <td>1.25</td>\n",
       "      <td>...</td>\n",
       "      <td>3.75</td>\n",
       "      <td>3.75</td>\n",
       "      <td>3.75</td>\n",
       "      <td>1.950000e+00</td>\n",
       "      <td>1.950000e+00</td>\n",
       "      <td>4.150000e+00</td>\n",
       "      <td>8.500000e-01</td>\n",
       "      <td>2.100000e+00</td>\n",
       "      <td>4.150000e+00</td>\n",
       "      <td>4.950000e+00</td>\n",
       "    </tr>\n",
       "    <tr>\n",
       "      <th>min</th>\n",
       "      <td>1.000000</td>\n",
       "      <td>2010-12-01 08:26:00</td>\n",
       "      <td>0.000000</td>\n",
       "      <td>12346.000000</td>\n",
       "      <td>0.0</td>\n",
       "      <td>1.950000e+00</td>\n",
       "      <td>2.100000e+00</td>\n",
       "      <td>2.080000e+00</td>\n",
       "      <td>1.25</td>\n",
       "      <td>1.25</td>\n",
       "      <td>...</td>\n",
       "      <td>3.75</td>\n",
       "      <td>3.75</td>\n",
       "      <td>3.75</td>\n",
       "      <td>1.950000e+00</td>\n",
       "      <td>1.950000e+00</td>\n",
       "      <td>4.150000e+00</td>\n",
       "      <td>8.500000e-01</td>\n",
       "      <td>2.100000e+00</td>\n",
       "      <td>4.150000e+00</td>\n",
       "      <td>4.950000e+00</td>\n",
       "    </tr>\n",
       "    <tr>\n",
       "      <th>25%</th>\n",
       "      <td>2.000000</td>\n",
       "      <td>2011-04-07 11:12:00</td>\n",
       "      <td>1.250000</td>\n",
       "      <td>13969.000000</td>\n",
       "      <td>4.68</td>\n",
       "      <td>1.950000e+00</td>\n",
       "      <td>2.100000e+00</td>\n",
       "      <td>2.080000e+00</td>\n",
       "      <td>1.25</td>\n",
       "      <td>1.25</td>\n",
       "      <td>...</td>\n",
       "      <td>3.75</td>\n",
       "      <td>3.75</td>\n",
       "      <td>3.75</td>\n",
       "      <td>1.950000e+00</td>\n",
       "      <td>1.950000e+00</td>\n",
       "      <td>4.150000e+00</td>\n",
       "      <td>8.500000e-01</td>\n",
       "      <td>2.100000e+00</td>\n",
       "      <td>4.150000e+00</td>\n",
       "      <td>4.950000e+00</td>\n",
       "    </tr>\n",
       "    <tr>\n",
       "      <th>50%</th>\n",
       "      <td>6.000000</td>\n",
       "      <td>2011-07-31 14:39:00</td>\n",
       "      <td>1.950000</td>\n",
       "      <td>15159.000000</td>\n",
       "      <td>11.8</td>\n",
       "      <td>1.950000e+00</td>\n",
       "      <td>2.100000e+00</td>\n",
       "      <td>2.080000e+00</td>\n",
       "      <td>1.25</td>\n",
       "      <td>1.25</td>\n",
       "      <td>...</td>\n",
       "      <td>3.75</td>\n",
       "      <td>3.75</td>\n",
       "      <td>3.75</td>\n",
       "      <td>1.950000e+00</td>\n",
       "      <td>1.950000e+00</td>\n",
       "      <td>4.150000e+00</td>\n",
       "      <td>8.500000e-01</td>\n",
       "      <td>2.100000e+00</td>\n",
       "      <td>4.150000e+00</td>\n",
       "      <td>4.950000e+00</td>\n",
       "    </tr>\n",
       "    <tr>\n",
       "      <th>75%</th>\n",
       "      <td>12.000000</td>\n",
       "      <td>2011-10-20 14:33:00</td>\n",
       "      <td>3.750000</td>\n",
       "      <td>16795.000000</td>\n",
       "      <td>19.8</td>\n",
       "      <td>1.950000e+00</td>\n",
       "      <td>2.100000e+00</td>\n",
       "      <td>2.080000e+00</td>\n",
       "      <td>1.25</td>\n",
       "      <td>1.25</td>\n",
       "      <td>...</td>\n",
       "      <td>3.75</td>\n",
       "      <td>3.75</td>\n",
       "      <td>3.75</td>\n",
       "      <td>1.950000e+00</td>\n",
       "      <td>1.950000e+00</td>\n",
       "      <td>4.150000e+00</td>\n",
       "      <td>8.500000e-01</td>\n",
       "      <td>2.100000e+00</td>\n",
       "      <td>4.150000e+00</td>\n",
       "      <td>4.950000e+00</td>\n",
       "    </tr>\n",
       "    <tr>\n",
       "      <th>max</th>\n",
       "      <td>80995.000000</td>\n",
       "      <td>2011-12-09 12:50:00</td>\n",
       "      <td>8142.750000</td>\n",
       "      <td>18287.000000</td>\n",
       "      <td>168469.6</td>\n",
       "      <td>1.950000e+00</td>\n",
       "      <td>2.100000e+00</td>\n",
       "      <td>2.080000e+00</td>\n",
       "      <td>1.25</td>\n",
       "      <td>1.25</td>\n",
       "      <td>...</td>\n",
       "      <td>3.75</td>\n",
       "      <td>3.75</td>\n",
       "      <td>3.75</td>\n",
       "      <td>1.950000e+00</td>\n",
       "      <td>1.950000e+00</td>\n",
       "      <td>4.150000e+00</td>\n",
       "      <td>8.500000e-01</td>\n",
       "      <td>2.100000e+00</td>\n",
       "      <td>4.150000e+00</td>\n",
       "      <td>4.950000e+00</td>\n",
       "    </tr>\n",
       "    <tr>\n",
       "      <th>std</th>\n",
       "      <td>180.420210</td>\n",
       "      <td>NaN</td>\n",
       "      <td>22.096788</td>\n",
       "      <td>1713.169877</td>\n",
       "      <td>309.055588</td>\n",
       "      <td>1.554314e-15</td>\n",
       "      <td>1.332269e-15</td>\n",
       "      <td>1.332269e-15</td>\n",
       "      <td>0.00</td>\n",
       "      <td>0.00</td>\n",
       "      <td>...</td>\n",
       "      <td>0.00</td>\n",
       "      <td>0.00</td>\n",
       "      <td>0.00</td>\n",
       "      <td>1.554314e-15</td>\n",
       "      <td>1.554314e-15</td>\n",
       "      <td>2.664539e-15</td>\n",
       "      <td>6.661347e-16</td>\n",
       "      <td>1.332269e-15</td>\n",
       "      <td>2.664539e-15</td>\n",
       "      <td>4.440898e-15</td>\n",
       "    </tr>\n",
       "  </tbody>\n",
       "</table>\n",
       "<p>8 rows × 713 columns</p>\n",
       "</div>"
      ],
      "text/plain": [
       "            Quantity                    InvoiceDate      UnitPrice  \\\n",
       "count  397924.000000                         397924  397924.000000   \n",
       "mean       13.021823  2011-07-10 23:43:36.912475648       3.116174   \n",
       "min         1.000000            2010-12-01 08:26:00       0.000000   \n",
       "25%         2.000000            2011-04-07 11:12:00       1.250000   \n",
       "50%         6.000000            2011-07-31 14:39:00       1.950000   \n",
       "75%        12.000000            2011-10-20 14:33:00       3.750000   \n",
       "max     80995.000000            2011-12-09 12:50:00    8142.750000   \n",
       "std       180.420210                            NaN      22.096788   \n",
       "\n",
       "          CustomerID  TotalAmount             1             2             3  \\\n",
       "count  397924.000000     397924.0  3.979240e+05  3.979240e+05  3.979240e+05   \n",
       "mean    15294.315171    22.394748  1.950000e+00  2.100000e+00  2.080000e+00   \n",
       "min     12346.000000          0.0  1.950000e+00  2.100000e+00  2.080000e+00   \n",
       "25%     13969.000000         4.68  1.950000e+00  2.100000e+00  2.080000e+00   \n",
       "50%     15159.000000         11.8  1.950000e+00  2.100000e+00  2.080000e+00   \n",
       "75%     16795.000000         19.8  1.950000e+00  2.100000e+00  2.080000e+00   \n",
       "max     18287.000000     168469.6  1.950000e+00  2.100000e+00  2.080000e+00   \n",
       "std      1713.169877   309.055588  1.554314e-15  1.332269e-15  1.332269e-15   \n",
       "\n",
       "               4          5  ...    1867.86     2033.1    2053.07  \\\n",
       "count  397924.00  397924.00  ...  397924.00  397924.00  397924.00   \n",
       "mean        1.25       1.25  ...       3.75       3.75       3.75   \n",
       "min         1.25       1.25  ...       3.75       3.75       3.75   \n",
       "25%         1.25       1.25  ...       3.75       3.75       3.75   \n",
       "50%         1.25       1.25  ...       3.75       3.75       3.75   \n",
       "75%         1.25       1.25  ...       3.75       3.75       3.75   \n",
       "max         1.25       1.25  ...       3.75       3.75       3.75   \n",
       "std         0.00       0.00  ...       0.00       0.00       0.00   \n",
       "\n",
       "            2118.74       2382.92        2500.0       3155.95       3949.32  \\\n",
       "count  3.979240e+05  3.979240e+05  3.979240e+05  3.979240e+05  3.979240e+05   \n",
       "mean   1.950000e+00  1.950000e+00  4.150000e+00  8.500000e-01  2.100000e+00   \n",
       "min    1.950000e+00  1.950000e+00  4.150000e+00  8.500000e-01  2.100000e+00   \n",
       "25%    1.950000e+00  1.950000e+00  4.150000e+00  8.500000e-01  2.100000e+00   \n",
       "50%    1.950000e+00  1.950000e+00  4.150000e+00  8.500000e-01  2.100000e+00   \n",
       "75%    1.950000e+00  1.950000e+00  4.150000e+00  8.500000e-01  2.100000e+00   \n",
       "max    1.950000e+00  1.950000e+00  4.150000e+00  8.500000e-01  2.100000e+00   \n",
       "std    1.554314e-15  1.554314e-15  2.664539e-15  6.661347e-16  1.332269e-15   \n",
       "\n",
       "            4161.06       8142.75  \n",
       "count  3.979240e+05  3.979240e+05  \n",
       "mean   4.150000e+00  4.950000e+00  \n",
       "min    4.150000e+00  4.950000e+00  \n",
       "25%    4.150000e+00  4.950000e+00  \n",
       "50%    4.150000e+00  4.950000e+00  \n",
       "75%    4.150000e+00  4.950000e+00  \n",
       "max    4.150000e+00  4.950000e+00  \n",
       "std    2.664539e-15  4.440898e-15  \n",
       "\n",
       "[8 rows x 713 columns]"
      ]
     },
     "execution_count": 25,
     "metadata": {},
     "output_type": "execute_result"
    }
   ],
   "source": [
    "data.describe()"
   ]
  },
  {
   "cell_type": "markdown",
   "metadata": {},
   "source": [
    "# RFM Model \n",
    "'''\n",
    "Recency : ลูกค้าที่สั่งซื้อสินค้าล่าสุดวันนี้ จะได้ R Score > ลูกค้าที่สั่งซื้อสินค้าล่าสุดเมื่อ 3 ปีที่แล้ว\n",
    "Frequency : ลูกค้าที่สั่งซื้อสินค้าบ่อยที่สุดในร้าน จะได้ F Score > ลูกค้าmujสั่งซื้อสินค้าน้อยครั้งที่สุดในร้าน\n",
    "Monetary : ลูกค้าที่ช้จ่ายเยอะที่สุดในร้าน จะได้ M Score > ลูกค้าที่ใช้จ่ายน้อยที่สุดในร้าน\n",
    "'''"
   ]
  },
  {
   "cell_type": "code",
   "execution_count": 26,
   "metadata": {},
   "outputs": [],
   "source": [
    "#ทำRFM Analysis โดย group by Customer ID\n",
    "rfm = data.groupby('CustomerID').agg({\n",
    "    'InvoiceDate' : lambda x: (reference_date - x.max()).days,\n",
    "    'InvoiceNo' : 'count',\n",
    "    'TotalAmount' : 'sum'\n",
    "})"
   ]
  },
  {
   "cell_type": "code",
   "execution_count": 27,
   "metadata": {},
   "outputs": [
    {
     "data": {
      "application/vnd.microsoft.datawrangler.viewer.v0+json": {
       "columns": [
        {
         "name": "CustomerID",
         "rawType": "float64",
         "type": "float"
        },
        {
         "name": "Recency",
         "rawType": "int64",
         "type": "integer"
        },
        {
         "name": "Frequency",
         "rawType": "int64",
         "type": "integer"
        },
        {
         "name": "Monetary",
         "rawType": "Float64",
         "type": "float"
        }
       ],
       "conversionMethod": "pd.DataFrame",
       "ref": "d4c54970-5aa5-488a-ab41-9d503b7aa445",
       "rows": [
        [
         "12346.0",
         "326",
         "1",
         "77183.6"
        ],
        [
         "12347.0",
         "2",
         "182",
         "4310.0"
        ],
        [
         "12348.0",
         "75",
         "31",
         "1797.24"
        ],
        [
         "12349.0",
         "19",
         "73",
         "1757.55"
        ],
        [
         "12350.0",
         "310",
         "17",
         "334.4"
        ]
       ],
       "shape": {
        "columns": 3,
        "rows": 5
       }
      },
      "text/html": [
       "<div>\n",
       "<style scoped>\n",
       "    .dataframe tbody tr th:only-of-type {\n",
       "        vertical-align: middle;\n",
       "    }\n",
       "\n",
       "    .dataframe tbody tr th {\n",
       "        vertical-align: top;\n",
       "    }\n",
       "\n",
       "    .dataframe thead th {\n",
       "        text-align: right;\n",
       "    }\n",
       "</style>\n",
       "<table border=\"1\" class=\"dataframe\">\n",
       "  <thead>\n",
       "    <tr style=\"text-align: right;\">\n",
       "      <th></th>\n",
       "      <th>Recency</th>\n",
       "      <th>Frequency</th>\n",
       "      <th>Monetary</th>\n",
       "    </tr>\n",
       "    <tr>\n",
       "      <th>CustomerID</th>\n",
       "      <th></th>\n",
       "      <th></th>\n",
       "      <th></th>\n",
       "    </tr>\n",
       "  </thead>\n",
       "  <tbody>\n",
       "    <tr>\n",
       "      <th>12346.0</th>\n",
       "      <td>326</td>\n",
       "      <td>1</td>\n",
       "      <td>77183.6</td>\n",
       "    </tr>\n",
       "    <tr>\n",
       "      <th>12347.0</th>\n",
       "      <td>2</td>\n",
       "      <td>182</td>\n",
       "      <td>4310.0</td>\n",
       "    </tr>\n",
       "    <tr>\n",
       "      <th>12348.0</th>\n",
       "      <td>75</td>\n",
       "      <td>31</td>\n",
       "      <td>1797.24</td>\n",
       "    </tr>\n",
       "    <tr>\n",
       "      <th>12349.0</th>\n",
       "      <td>19</td>\n",
       "      <td>73</td>\n",
       "      <td>1757.55</td>\n",
       "    </tr>\n",
       "    <tr>\n",
       "      <th>12350.0</th>\n",
       "      <td>310</td>\n",
       "      <td>17</td>\n",
       "      <td>334.4</td>\n",
       "    </tr>\n",
       "  </tbody>\n",
       "</table>\n",
       "</div>"
      ],
      "text/plain": [
       "            Recency  Frequency  Monetary\n",
       "CustomerID                              \n",
       "12346.0         326          1   77183.6\n",
       "12347.0           2        182    4310.0\n",
       "12348.0          75         31   1797.24\n",
       "12349.0          19         73   1757.55\n",
       "12350.0         310         17     334.4"
      ]
     },
     "execution_count": 27,
     "metadata": {},
     "output_type": "execute_result"
    }
   ],
   "source": [
    "#ทำตารางRFM\n",
    "rfm.rename(columns = {'InvoiceDate': 'Recency', 'InvoiceNo' : 'Frequency',\n",
    "                      'TotalAmount' : 'Monetary'}, inplace = True)\n",
    "rfm.head()"
   ]
  },
  {
   "cell_type": "code",
   "execution_count": 28,
   "metadata": {},
   "outputs": [
    {
     "data": {
      "application/vnd.microsoft.datawrangler.viewer.v0+json": {
       "columns": [
        {
         "name": "CustomerID",
         "rawType": "float64",
         "type": "float"
        },
        {
         "name": "Recency",
         "rawType": "int64",
         "type": "integer"
        },
        {
         "name": "Frequency",
         "rawType": "int64",
         "type": "integer"
        },
        {
         "name": "Monetary",
         "rawType": "Float64",
         "type": "float"
        },
        {
         "name": "R",
         "rawType": "category",
         "type": "unknown"
        },
        {
         "name": "F",
         "rawType": "category",
         "type": "unknown"
        },
        {
         "name": "M",
         "rawType": "category",
         "type": "unknown"
        }
       ],
       "conversionMethod": "pd.DataFrame",
       "ref": "db62004f-e28f-4dfb-a142-52da2b2e0e47",
       "rows": [
        [
         "12346.0",
         "326",
         "1",
         "77183.6",
         "1",
         "1",
         "1"
        ],
        [
         "12347.0",
         "2",
         "182",
         "4310.0",
         "5",
         "5",
         "1"
        ],
        [
         "12348.0",
         "75",
         "31",
         "1797.24",
         "2",
         "3",
         "2"
        ],
        [
         "12349.0",
         "19",
         "73",
         "1757.55",
         "4",
         "4",
         "2"
        ],
        [
         "12350.0",
         "310",
         "17",
         "334.4",
         "1",
         "2",
         "4"
        ]
       ],
       "shape": {
        "columns": 6,
        "rows": 5
       }
      },
      "text/html": [
       "<div>\n",
       "<style scoped>\n",
       "    .dataframe tbody tr th:only-of-type {\n",
       "        vertical-align: middle;\n",
       "    }\n",
       "\n",
       "    .dataframe tbody tr th {\n",
       "        vertical-align: top;\n",
       "    }\n",
       "\n",
       "    .dataframe thead th {\n",
       "        text-align: right;\n",
       "    }\n",
       "</style>\n",
       "<table border=\"1\" class=\"dataframe\">\n",
       "  <thead>\n",
       "    <tr style=\"text-align: right;\">\n",
       "      <th></th>\n",
       "      <th>Recency</th>\n",
       "      <th>Frequency</th>\n",
       "      <th>Monetary</th>\n",
       "      <th>R</th>\n",
       "      <th>F</th>\n",
       "      <th>M</th>\n",
       "    </tr>\n",
       "    <tr>\n",
       "      <th>CustomerID</th>\n",
       "      <th></th>\n",
       "      <th></th>\n",
       "      <th></th>\n",
       "      <th></th>\n",
       "      <th></th>\n",
       "      <th></th>\n",
       "    </tr>\n",
       "  </thead>\n",
       "  <tbody>\n",
       "    <tr>\n",
       "      <th>12346.0</th>\n",
       "      <td>326</td>\n",
       "      <td>1</td>\n",
       "      <td>77183.6</td>\n",
       "      <td>1</td>\n",
       "      <td>1</td>\n",
       "      <td>1</td>\n",
       "    </tr>\n",
       "    <tr>\n",
       "      <th>12347.0</th>\n",
       "      <td>2</td>\n",
       "      <td>182</td>\n",
       "      <td>4310.0</td>\n",
       "      <td>5</td>\n",
       "      <td>5</td>\n",
       "      <td>1</td>\n",
       "    </tr>\n",
       "    <tr>\n",
       "      <th>12348.0</th>\n",
       "      <td>75</td>\n",
       "      <td>31</td>\n",
       "      <td>1797.24</td>\n",
       "      <td>2</td>\n",
       "      <td>3</td>\n",
       "      <td>2</td>\n",
       "    </tr>\n",
       "    <tr>\n",
       "      <th>12349.0</th>\n",
       "      <td>19</td>\n",
       "      <td>73</td>\n",
       "      <td>1757.55</td>\n",
       "      <td>4</td>\n",
       "      <td>4</td>\n",
       "      <td>2</td>\n",
       "    </tr>\n",
       "    <tr>\n",
       "      <th>12350.0</th>\n",
       "      <td>310</td>\n",
       "      <td>17</td>\n",
       "      <td>334.4</td>\n",
       "      <td>1</td>\n",
       "      <td>2</td>\n",
       "      <td>4</td>\n",
       "    </tr>\n",
       "  </tbody>\n",
       "</table>\n",
       "</div>"
      ],
      "text/plain": [
       "            Recency  Frequency  Monetary  R  F  M\n",
       "CustomerID                                       \n",
       "12346.0         326          1   77183.6  1  1  1\n",
       "12347.0           2        182    4310.0  5  5  1\n",
       "12348.0          75         31   1797.24  2  3  2\n",
       "12349.0          19         73   1757.55  4  4  2\n",
       "12350.0         310         17     334.4  1  2  4"
      ]
     },
     "execution_count": 28,
     "metadata": {},
     "output_type": "execute_result"
    }
   ],
   "source": [
    "# Create binning for 5 bins\n",
    "rfm['R'] = pd.qcut(rfm['Recency'], 5, labels = [5, 4, 3, 2, 1])\n",
    "rfm['F'] = pd.qcut(rfm['Frequency'].rank(method = 'first'),\n",
    "                                  5, labels = [1, 2, 3, 4, 5])\n",
    "rfm['M'] = pd.qcut(rfm['Monetary'], 5, labels = [5, 4, 3, 2, 1])\n",
    "rfm.head(5)"
   ]
  },
  {
   "cell_type": "code",
   "execution_count": null,
   "metadata": {},
   "outputs": [],
   "source": [
    "#ระบุ Quantiles\n",
    "'''\n",
    "quantiles = rfm.quantile(q = [0.25, 0.50, 0.75])\n",
    "\n",
    "#จัดคะแนนตามRFM\n",
    "# x คือ ค่าที่จะกลายเป็นscore ในRFM\n",
    "# p คือ column name ในRFM\n",
    "# d คือ data frame ที่เก็บquantiles\n",
    "def RScore(x, p, d):\n",
    "    #Recency\n",
    "    if (p == 'Recency'):\n",
    "        if (x <= d[p][0.25]):\n",
    "            return 4\n",
    "        elif (x <= d[p][0.50]):\n",
    "            return 3\n",
    "        elif (x <= d[p][0.75]):\n",
    "            return 2\n",
    "        else:\n",
    "            return 1\n",
    "    # Frequency, Monetery\n",
    "    else:\n",
    "        if (x <= d[p][0.25]):\n",
    "            return 1\n",
    "        elif (x <= d[p][0.50]):\n",
    "            return 2\n",
    "        elif (x <= d[p][0.75]):\n",
    "            return 3\n",
    "        else:\n",
    "            return 4\n",
    "\n",
    "\n",
    "rfm['R'] = rfm['Recency'].apply(RScore, args = ('Recency', quantiles, ))\n",
    "rfm['F'] = rfm['Frequency'].apply(RScore, args = ('Frequency', quantiles, ))\n",
    "rfm['M'] = rfm['Monetary'].apply(RScore, args = ('Monetary', quantiles, ))\n",
    "'''"
   ]
  },
  {
   "cell_type": "code",
   "execution_count": 31,
   "metadata": {},
   "outputs": [
    {
     "data": {
      "application/vnd.microsoft.datawrangler.viewer.v0+json": {
       "columns": [
        {
         "name": "CustomerID",
         "rawType": "float64",
         "type": "float"
        },
        {
         "name": "Recency",
         "rawType": "int64",
         "type": "integer"
        },
        {
         "name": "Frequency",
         "rawType": "int64",
         "type": "integer"
        },
        {
         "name": "Monetary",
         "rawType": "Float64",
         "type": "float"
        },
        {
         "name": "R",
         "rawType": "category",
         "type": "unknown"
        },
        {
         "name": "F",
         "rawType": "category",
         "type": "unknown"
        },
        {
         "name": "M",
         "rawType": "category",
         "type": "unknown"
        },
        {
         "name": "RFM_Segment",
         "rawType": "object",
         "type": "string"
        },
        {
         "name": "RFM_Score",
         "rawType": "int64",
         "type": "integer"
        }
       ],
       "conversionMethod": "pd.DataFrame",
       "ref": "53b767f0-3740-4ef9-afa7-371599d9da95",
       "rows": [
        [
         "12346.0",
         "326",
         "1",
         "77183.6",
         "1",
         "1",
         "1",
         "111",
         "3"
        ],
        [
         "12347.0",
         "2",
         "182",
         "4310.0",
         "5",
         "5",
         "1",
         "551",
         "11"
        ],
        [
         "12348.0",
         "75",
         "31",
         "1797.24",
         "2",
         "3",
         "2",
         "232",
         "7"
        ],
        [
         "12349.0",
         "19",
         "73",
         "1757.55",
         "4",
         "4",
         "2",
         "442",
         "10"
        ],
        [
         "12350.0",
         "310",
         "17",
         "334.4",
         "1",
         "2",
         "4",
         "124",
         "7"
        ]
       ],
       "shape": {
        "columns": 8,
        "rows": 5
       }
      },
      "text/html": [
       "<div>\n",
       "<style scoped>\n",
       "    .dataframe tbody tr th:only-of-type {\n",
       "        vertical-align: middle;\n",
       "    }\n",
       "\n",
       "    .dataframe tbody tr th {\n",
       "        vertical-align: top;\n",
       "    }\n",
       "\n",
       "    .dataframe thead th {\n",
       "        text-align: right;\n",
       "    }\n",
       "</style>\n",
       "<table border=\"1\" class=\"dataframe\">\n",
       "  <thead>\n",
       "    <tr style=\"text-align: right;\">\n",
       "      <th></th>\n",
       "      <th>Recency</th>\n",
       "      <th>Frequency</th>\n",
       "      <th>Monetary</th>\n",
       "      <th>R</th>\n",
       "      <th>F</th>\n",
       "      <th>M</th>\n",
       "      <th>RFM_Segment</th>\n",
       "      <th>RFM_Score</th>\n",
       "    </tr>\n",
       "    <tr>\n",
       "      <th>CustomerID</th>\n",
       "      <th></th>\n",
       "      <th></th>\n",
       "      <th></th>\n",
       "      <th></th>\n",
       "      <th></th>\n",
       "      <th></th>\n",
       "      <th></th>\n",
       "      <th></th>\n",
       "    </tr>\n",
       "  </thead>\n",
       "  <tbody>\n",
       "    <tr>\n",
       "      <th>12346.0</th>\n",
       "      <td>326</td>\n",
       "      <td>1</td>\n",
       "      <td>77183.6</td>\n",
       "      <td>1</td>\n",
       "      <td>1</td>\n",
       "      <td>1</td>\n",
       "      <td>111</td>\n",
       "      <td>3</td>\n",
       "    </tr>\n",
       "    <tr>\n",
       "      <th>12347.0</th>\n",
       "      <td>2</td>\n",
       "      <td>182</td>\n",
       "      <td>4310.0</td>\n",
       "      <td>5</td>\n",
       "      <td>5</td>\n",
       "      <td>1</td>\n",
       "      <td>551</td>\n",
       "      <td>11</td>\n",
       "    </tr>\n",
       "    <tr>\n",
       "      <th>12348.0</th>\n",
       "      <td>75</td>\n",
       "      <td>31</td>\n",
       "      <td>1797.24</td>\n",
       "      <td>2</td>\n",
       "      <td>3</td>\n",
       "      <td>2</td>\n",
       "      <td>232</td>\n",
       "      <td>7</td>\n",
       "    </tr>\n",
       "    <tr>\n",
       "      <th>12349.0</th>\n",
       "      <td>19</td>\n",
       "      <td>73</td>\n",
       "      <td>1757.55</td>\n",
       "      <td>4</td>\n",
       "      <td>4</td>\n",
       "      <td>2</td>\n",
       "      <td>442</td>\n",
       "      <td>10</td>\n",
       "    </tr>\n",
       "    <tr>\n",
       "      <th>12350.0</th>\n",
       "      <td>310</td>\n",
       "      <td>17</td>\n",
       "      <td>334.4</td>\n",
       "      <td>1</td>\n",
       "      <td>2</td>\n",
       "      <td>4</td>\n",
       "      <td>124</td>\n",
       "      <td>7</td>\n",
       "    </tr>\n",
       "  </tbody>\n",
       "</table>\n",
       "</div>"
      ],
      "text/plain": [
       "            Recency  Frequency  Monetary  R  F  M RFM_Segment  RFM_Score\n",
       "CustomerID                                                              \n",
       "12346.0         326          1   77183.6  1  1  1         111          3\n",
       "12347.0           2        182    4310.0  5  5  1         551         11\n",
       "12348.0          75         31   1797.24  2  3  2         232          7\n",
       "12349.0          19         73   1757.55  4  4  2         442         10\n",
       "12350.0         310         17     334.4  1  2  4         124          7"
      ]
     },
     "execution_count": 31,
     "metadata": {},
     "output_type": "execute_result"
    }
   ],
   "source": [
    "rfm.head()"
   ]
  },
  {
   "cell_type": "code",
   "execution_count": 30,
   "metadata": {},
   "outputs": [],
   "source": [
    "rfm['RFM_Segment'] = rfm['R'].astype(str) + rfm['F'].astype(str) + rfm['M'].astype(str)\n",
    "rfm['RFM_Score'] = rfm[['R', 'F', 'M']].sum(axis = 1)"
   ]
  },
  {
   "cell_type": "code",
   "execution_count": null,
   "metadata": {},
   "outputs": [
    {
     "data": {
      "application/vnd.microsoft.datawrangler.viewer.v0+json": {
       "columns": [
        {
         "name": "CustomerID",
         "rawType": "float64",
         "type": "float"
        },
        {
         "name": "Recency",
         "rawType": "int64",
         "type": "integer"
        },
        {
         "name": "Frequency",
         "rawType": "int64",
         "type": "integer"
        },
        {
         "name": "Monetary",
         "rawType": "Float64",
         "type": "float"
        },
        {
         "name": "R",
         "rawType": "category",
         "type": "unknown"
        },
        {
         "name": "F",
         "rawType": "category",
         "type": "unknown"
        },
        {
         "name": "M",
         "rawType": "category",
         "type": "unknown"
        },
        {
         "name": "RFM_Segment",
         "rawType": "object",
         "type": "string"
        },
        {
         "name": "RFM_Score",
         "rawType": "int64",
         "type": "integer"
        },
        {
         "name": "rfmSegment",
         "rawType": "object",
         "type": "string"
        }
       ],
       "conversionMethod": "pd.DataFrame",
       "ref": "50aa0396-a1cb-4355-be31-73ed50b2df99",
       "rows": [
        [
         "12346.0",
         "326",
         "1",
         "77183.6",
         "1",
         "1",
         "1",
         "111",
         "3",
         "11"
        ],
        [
         "12347.0",
         "2",
         "182",
         "4310.0",
         "5",
         "5",
         "1",
         "551",
         "11",
         "55"
        ],
        [
         "12348.0",
         "75",
         "31",
         "1797.24",
         "2",
         "3",
         "2",
         "232",
         "7",
         "23"
        ],
        [
         "12349.0",
         "19",
         "73",
         "1757.55",
         "4",
         "4",
         "2",
         "442",
         "10",
         "44"
        ],
        [
         "12350.0",
         "310",
         "17",
         "334.4",
         "1",
         "2",
         "4",
         "124",
         "7",
         "12"
        ]
       ],
       "shape": {
        "columns": 9,
        "rows": 5
       }
      },
      "text/html": [
       "<div>\n",
       "<style scoped>\n",
       "    .dataframe tbody tr th:only-of-type {\n",
       "        vertical-align: middle;\n",
       "    }\n",
       "\n",
       "    .dataframe tbody tr th {\n",
       "        vertical-align: top;\n",
       "    }\n",
       "\n",
       "    .dataframe thead th {\n",
       "        text-align: right;\n",
       "    }\n",
       "</style>\n",
       "<table border=\"1\" class=\"dataframe\">\n",
       "  <thead>\n",
       "    <tr style=\"text-align: right;\">\n",
       "      <th></th>\n",
       "      <th>Recency</th>\n",
       "      <th>Frequency</th>\n",
       "      <th>Monetary</th>\n",
       "      <th>R</th>\n",
       "      <th>F</th>\n",
       "      <th>M</th>\n",
       "      <th>RFM_Segment</th>\n",
       "      <th>RFM_Score</th>\n",
       "      <th>rfmSegment</th>\n",
       "    </tr>\n",
       "    <tr>\n",
       "      <th>CustomerID</th>\n",
       "      <th></th>\n",
       "      <th></th>\n",
       "      <th></th>\n",
       "      <th></th>\n",
       "      <th></th>\n",
       "      <th></th>\n",
       "      <th></th>\n",
       "      <th></th>\n",
       "      <th></th>\n",
       "    </tr>\n",
       "  </thead>\n",
       "  <tbody>\n",
       "    <tr>\n",
       "      <th>12346.0</th>\n",
       "      <td>326</td>\n",
       "      <td>1</td>\n",
       "      <td>77183.6</td>\n",
       "      <td>1</td>\n",
       "      <td>1</td>\n",
       "      <td>1</td>\n",
       "      <td>111</td>\n",
       "      <td>3</td>\n",
       "      <td>11</td>\n",
       "    </tr>\n",
       "    <tr>\n",
       "      <th>12347.0</th>\n",
       "      <td>2</td>\n",
       "      <td>182</td>\n",
       "      <td>4310.0</td>\n",
       "      <td>5</td>\n",
       "      <td>5</td>\n",
       "      <td>1</td>\n",
       "      <td>551</td>\n",
       "      <td>11</td>\n",
       "      <td>55</td>\n",
       "    </tr>\n",
       "    <tr>\n",
       "      <th>12348.0</th>\n",
       "      <td>75</td>\n",
       "      <td>31</td>\n",
       "      <td>1797.24</td>\n",
       "      <td>2</td>\n",
       "      <td>3</td>\n",
       "      <td>2</td>\n",
       "      <td>232</td>\n",
       "      <td>7</td>\n",
       "      <td>23</td>\n",
       "    </tr>\n",
       "    <tr>\n",
       "      <th>12349.0</th>\n",
       "      <td>19</td>\n",
       "      <td>73</td>\n",
       "      <td>1757.55</td>\n",
       "      <td>4</td>\n",
       "      <td>4</td>\n",
       "      <td>2</td>\n",
       "      <td>442</td>\n",
       "      <td>10</td>\n",
       "      <td>44</td>\n",
       "    </tr>\n",
       "    <tr>\n",
       "      <th>12350.0</th>\n",
       "      <td>310</td>\n",
       "      <td>17</td>\n",
       "      <td>334.4</td>\n",
       "      <td>1</td>\n",
       "      <td>2</td>\n",
       "      <td>4</td>\n",
       "      <td>124</td>\n",
       "      <td>7</td>\n",
       "      <td>12</td>\n",
       "    </tr>\n",
       "  </tbody>\n",
       "</table>\n",
       "</div>"
      ],
      "text/plain": [
       "            Recency  Frequency  Monetary  R  F  M RFM_Segment  RFM_Score  \\\n",
       "CustomerID                                                                 \n",
       "12346.0         326          1   77183.6  1  1  1         111          3   \n",
       "12347.0           2        182    4310.0  5  5  1         551         11   \n",
       "12348.0          75         31   1797.24  2  3  2         232          7   \n",
       "12349.0          19         73   1757.55  4  4  2         442         10   \n",
       "12350.0         310         17     334.4  1  2  4         124          7   \n",
       "\n",
       "           rfmSegment  \n",
       "CustomerID             \n",
       "12346.0            11  \n",
       "12347.0            55  \n",
       "12348.0            23  \n",
       "12349.0            44  \n",
       "12350.0            12  "
      ]
     },
     "execution_count": 37,
     "metadata": {},
     "output_type": "execute_result"
    }
   ],
   "source": [
    "\n",
    "# RFM Score\n",
    "rfm['rfmSegment'] = rfm['R'].astype(str) + rfm['F'].astype(str)\n",
    "#rfm.drop(columns=['RFMScore'], inplace=True)\n",
    "rfm.head(5)"
   ]
  },
  {
   "cell_type": "code",
   "execution_count": 41,
   "metadata": {},
   "outputs": [],
   "source": [
    "# Convert RFM Score to segment label\n",
    "rfmLabel = {\n",
    "    r'55': \"Champion\",\n",
    "    r'[3-5][4-5]': \"Loyal\",\n",
    "    r'[4-5][2-3]': \"Promising\",\n",
    "    r'51': \"New Customers\",\n",
    "    r'41': \"Warm Leads\",\n",
    "    r'31': \"Cold Leads\",\n",
    "    r'[2-3][2-3]': \"Need Attention\",\n",
    "    r'[1-2][5]': \"Shouldn't Lost\",\n",
    "    r'[1-2][3-4]': 'Sleepers',\n",
    "    r'[1-2][1-2]': \"Lost\"\n",
    "}\n",
    "\n",
    "rfm['Segment'] = rfm['rfmSegment'].replace(rfmLabel, regex = True)"
   ]
  },
  {
   "cell_type": "code",
   "execution_count": 39,
   "metadata": {},
   "outputs": [
    {
     "data": {
      "application/vnd.microsoft.datawrangler.viewer.v0+json": {
       "columns": [
        {
         "name": "CustomerID",
         "rawType": "float64",
         "type": "float"
        },
        {
         "name": "Recency",
         "rawType": "int64",
         "type": "integer"
        },
        {
         "name": "Frequency",
         "rawType": "int64",
         "type": "integer"
        },
        {
         "name": "Monetary",
         "rawType": "Float64",
         "type": "float"
        },
        {
         "name": "R",
         "rawType": "category",
         "type": "unknown"
        },
        {
         "name": "F",
         "rawType": "category",
         "type": "unknown"
        },
        {
         "name": "M",
         "rawType": "category",
         "type": "unknown"
        },
        {
         "name": "RFM_Segment",
         "rawType": "object",
         "type": "string"
        },
        {
         "name": "RFM_Score",
         "rawType": "int64",
         "type": "integer"
        },
        {
         "name": "rfmSegment",
         "rawType": "object",
         "type": "string"
        },
        {
         "name": "Segment",
         "rawType": "object",
         "type": "string"
        }
       ],
       "conversionMethod": "pd.DataFrame",
       "ref": "7cdb2d79-444a-4348-b630-d75d91a944b0",
       "rows": [
        [
         "12346.0",
         "326",
         "1",
         "77183.6",
         "1",
         "1",
         "1",
         "111",
         "3",
         "11",
         "Lost"
        ],
        [
         "12347.0",
         "2",
         "182",
         "4310.0",
         "5",
         "5",
         "1",
         "551",
         "11",
         "55",
         "Champion"
        ],
        [
         "12348.0",
         "75",
         "31",
         "1797.24",
         "2",
         "3",
         "2",
         "232",
         "7",
         "23",
         "Need Attention"
        ],
        [
         "12349.0",
         "19",
         "73",
         "1757.55",
         "4",
         "4",
         "2",
         "442",
         "10",
         "44",
         "Loyal"
        ],
        [
         "12350.0",
         "310",
         "17",
         "334.4",
         "1",
         "2",
         "4",
         "124",
         "7",
         "12",
         "Lost"
        ]
       ],
       "shape": {
        "columns": 10,
        "rows": 5
       }
      },
      "text/html": [
       "<div>\n",
       "<style scoped>\n",
       "    .dataframe tbody tr th:only-of-type {\n",
       "        vertical-align: middle;\n",
       "    }\n",
       "\n",
       "    .dataframe tbody tr th {\n",
       "        vertical-align: top;\n",
       "    }\n",
       "\n",
       "    .dataframe thead th {\n",
       "        text-align: right;\n",
       "    }\n",
       "</style>\n",
       "<table border=\"1\" class=\"dataframe\">\n",
       "  <thead>\n",
       "    <tr style=\"text-align: right;\">\n",
       "      <th></th>\n",
       "      <th>Recency</th>\n",
       "      <th>Frequency</th>\n",
       "      <th>Monetary</th>\n",
       "      <th>R</th>\n",
       "      <th>F</th>\n",
       "      <th>M</th>\n",
       "      <th>RFM_Segment</th>\n",
       "      <th>RFM_Score</th>\n",
       "      <th>rfmSegment</th>\n",
       "      <th>Segment</th>\n",
       "    </tr>\n",
       "    <tr>\n",
       "      <th>CustomerID</th>\n",
       "      <th></th>\n",
       "      <th></th>\n",
       "      <th></th>\n",
       "      <th></th>\n",
       "      <th></th>\n",
       "      <th></th>\n",
       "      <th></th>\n",
       "      <th></th>\n",
       "      <th></th>\n",
       "      <th></th>\n",
       "    </tr>\n",
       "  </thead>\n",
       "  <tbody>\n",
       "    <tr>\n",
       "      <th>12346.0</th>\n",
       "      <td>326</td>\n",
       "      <td>1</td>\n",
       "      <td>77183.6</td>\n",
       "      <td>1</td>\n",
       "      <td>1</td>\n",
       "      <td>1</td>\n",
       "      <td>111</td>\n",
       "      <td>3</td>\n",
       "      <td>11</td>\n",
       "      <td>Lost</td>\n",
       "    </tr>\n",
       "    <tr>\n",
       "      <th>12347.0</th>\n",
       "      <td>2</td>\n",
       "      <td>182</td>\n",
       "      <td>4310.0</td>\n",
       "      <td>5</td>\n",
       "      <td>5</td>\n",
       "      <td>1</td>\n",
       "      <td>551</td>\n",
       "      <td>11</td>\n",
       "      <td>55</td>\n",
       "      <td>Champion</td>\n",
       "    </tr>\n",
       "    <tr>\n",
       "      <th>12348.0</th>\n",
       "      <td>75</td>\n",
       "      <td>31</td>\n",
       "      <td>1797.24</td>\n",
       "      <td>2</td>\n",
       "      <td>3</td>\n",
       "      <td>2</td>\n",
       "      <td>232</td>\n",
       "      <td>7</td>\n",
       "      <td>23</td>\n",
       "      <td>Need Attention</td>\n",
       "    </tr>\n",
       "    <tr>\n",
       "      <th>12349.0</th>\n",
       "      <td>19</td>\n",
       "      <td>73</td>\n",
       "      <td>1757.55</td>\n",
       "      <td>4</td>\n",
       "      <td>4</td>\n",
       "      <td>2</td>\n",
       "      <td>442</td>\n",
       "      <td>10</td>\n",
       "      <td>44</td>\n",
       "      <td>Loyal</td>\n",
       "    </tr>\n",
       "    <tr>\n",
       "      <th>12350.0</th>\n",
       "      <td>310</td>\n",
       "      <td>17</td>\n",
       "      <td>334.4</td>\n",
       "      <td>1</td>\n",
       "      <td>2</td>\n",
       "      <td>4</td>\n",
       "      <td>124</td>\n",
       "      <td>7</td>\n",
       "      <td>12</td>\n",
       "      <td>Lost</td>\n",
       "    </tr>\n",
       "  </tbody>\n",
       "</table>\n",
       "</div>"
      ],
      "text/plain": [
       "            Recency  Frequency  Monetary  R  F  M RFM_Segment  RFM_Score  \\\n",
       "CustomerID                                                                 \n",
       "12346.0         326          1   77183.6  1  1  1         111          3   \n",
       "12347.0           2        182    4310.0  5  5  1         551         11   \n",
       "12348.0          75         31   1797.24  2  3  2         232          7   \n",
       "12349.0          19         73   1757.55  4  4  2         442         10   \n",
       "12350.0         310         17     334.4  1  2  4         124          7   \n",
       "\n",
       "           rfmSegment         Segment  \n",
       "CustomerID                             \n",
       "12346.0            11            Lost  \n",
       "12347.0            55        Champion  \n",
       "12348.0            23  Need Attention  \n",
       "12349.0            44           Loyal  \n",
       "12350.0            12            Lost  "
      ]
     },
     "execution_count": 39,
     "metadata": {},
     "output_type": "execute_result"
    }
   ],
   "source": [
    "rfm.head()"
   ]
  },
  {
   "cell_type": "code",
   "execution_count": 42,
   "metadata": {},
   "outputs": [
    {
     "data": {
      "image/png": "[encoded data removed]",
      "text/plain": [
       "<Figure size 1800x1100 with 1 Axes>"
      ]
     },
     "metadata": {},
     "output_type": "display_data"
    }
   ],
   "source": [
    "# RFM Result\n",
    "result = rfm.groupby(['Segment'])['Segment'].count()\n",
    "values = list(result)\n",
    "labels = result.index\n",
    "\n",
    "# Plot\n",
    "colors = [list(np.random.uniform(size = 4)) for i in range(len(values))]\n",
    "\n",
    "plt.figure(figsize = (18, 11))\n",
    "with plt.style.context('ggplot'):\n",
    "  squarify.plot(sizes = values, color = colors, label = labels)\n",
    "  plt.axis('off')\n",
    "  plt.title('Customer segmentation')\n",
    "  plt.show()"
   ]
  },
  {
   "cell_type": "code",
   "execution_count": null,
   "metadata": {},
   "outputs": [
    {
     "data": {
      "application/vnd.microsoft.datawrangler.viewer.v0+json": {
       "columns": [
        {
         "name": "CustomerID",
         "rawType": "float64",
         "type": "float"
        },
        {
         "name": "Recency",
         "rawType": "int64",
         "type": "integer"
        },
        {
         "name": "Frequency",
         "rawType": "int64",
         "type": "integer"
        },
        {
         "name": "Monetary",
         "rawType": "Float64",
         "type": "float"
        },
        {
         "name": "R",
         "rawType": "int64",
         "type": "integer"
        },
        {
         "name": "F",
         "rawType": "int64",
         "type": "integer"
        },
        {
         "name": "M",
         "rawType": "int64",
         "type": "integer"
        },
        {
         "name": "RFM_Segment",
         "rawType": "object",
         "type": "string"
        },
        {
         "name": "RFM_Score",
         "rawType": "int64",
         "type": "integer"
        },
        {
         "name": "RFM_Segment_Labels",
         "rawType": "object",
         "type": "string"
        }
       ],
       "conversionMethod": "pd.DataFrame",
       "ref": "6be8d6b8-838c-4aeb-ad59-0bb57bb35247",
       "rows": [
        [
         "12346.0",
         "326",
         "2",
         "0.0",
         "1",
         "1",
         "1",
         "111",
         "3",
         "Low-Value"
        ],
        [
         "12347.0",
         "2",
         "182",
         "4310.0",
         "4",
         "4",
         "4",
         "444",
         "12",
         "High-Value"
        ],
        [
         "12348.0",
         "75",
         "31",
         "1797.24",
         "2",
         "2",
         "4",
         "224",
         "8",
         "Mid-Value"
        ],
        [
         "12349.0",
         "19",
         "73",
         "1757.55",
         "3",
         "3",
         "4",
         "334",
         "10",
         "High-Value"
        ],
        [
         "12350.0",
         "310",
         "17",
         "334.4",
         "1",
         "1",
         "2",
         "112",
         "4",
         "Low-Value"
        ]
       ],
       "shape": {
        "columns": 9,
        "rows": 5
       }
      },
      "text/html": [
       "<div>\n",
       "<style scoped>\n",
       "    .dataframe tbody tr th:only-of-type {\n",
       "        vertical-align: middle;\n",
       "    }\n",
       "\n",
       "    .dataframe tbody tr th {\n",
       "        vertical-align: top;\n",
       "    }\n",
       "\n",
       "    .dataframe thead th {\n",
       "        text-align: right;\n",
       "    }\n",
       "</style>\n",
       "<table border=\"1\" class=\"dataframe\">\n",
       "  <thead>\n",
       "    <tr style=\"text-align: right;\">\n",
       "      <th></th>\n",
       "      <th>Recency</th>\n",
       "      <th>Frequency</th>\n",
       "      <th>Monetary</th>\n",
       "      <th>R</th>\n",
       "      <th>F</th>\n",
       "      <th>M</th>\n",
       "      <th>RFM_Segment</th>\n",
       "      <th>RFM_Score</th>\n",
       "      <th>RFM_Segment_Labels</th>\n",
       "    </tr>\n",
       "    <tr>\n",
       "      <th>CustomerID</th>\n",
       "      <th></th>\n",
       "      <th></th>\n",
       "      <th></th>\n",
       "      <th></th>\n",
       "      <th></th>\n",
       "      <th></th>\n",
       "      <th></th>\n",
       "      <th></th>\n",
       "      <th></th>\n",
       "    </tr>\n",
       "  </thead>\n",
       "  <tbody>\n",
       "    <tr>\n",
       "      <th>12346.0</th>\n",
       "      <td>326</td>\n",
       "      <td>2</td>\n",
       "      <td>0.0</td>\n",
       "      <td>1</td>\n",
       "      <td>1</td>\n",
       "      <td>1</td>\n",
       "      <td>111</td>\n",
       "      <td>3</td>\n",
       "      <td>Low-Value</td>\n",
       "    </tr>\n",
       "    <tr>\n",
       "      <th>12347.0</th>\n",
       "      <td>2</td>\n",
       "      <td>182</td>\n",
       "      <td>4310.0</td>\n",
       "      <td>4</td>\n",
       "      <td>4</td>\n",
       "      <td>4</td>\n",
       "      <td>444</td>\n",
       "      <td>12</td>\n",
       "      <td>High-Value</td>\n",
       "    </tr>\n",
       "    <tr>\n",
       "      <th>12348.0</th>\n",
       "      <td>75</td>\n",
       "      <td>31</td>\n",
       "      <td>1797.24</td>\n",
       "      <td>2</td>\n",
       "      <td>2</td>\n",
       "      <td>4</td>\n",
       "      <td>224</td>\n",
       "      <td>8</td>\n",
       "      <td>Mid-Value</td>\n",
       "    </tr>\n",
       "    <tr>\n",
       "      <th>12349.0</th>\n",
       "      <td>19</td>\n",
       "      <td>73</td>\n",
       "      <td>1757.55</td>\n",
       "      <td>3</td>\n",
       "      <td>3</td>\n",
       "      <td>4</td>\n",
       "      <td>334</td>\n",
       "      <td>10</td>\n",
       "      <td>High-Value</td>\n",
       "    </tr>\n",
       "    <tr>\n",
       "      <th>12350.0</th>\n",
       "      <td>310</td>\n",
       "      <td>17</td>\n",
       "      <td>334.4</td>\n",
       "      <td>1</td>\n",
       "      <td>1</td>\n",
       "      <td>2</td>\n",
       "      <td>112</td>\n",
       "      <td>4</td>\n",
       "      <td>Low-Value</td>\n",
       "    </tr>\n",
       "  </tbody>\n",
       "</table>\n",
       "</div>"
      ],
      "text/plain": [
       "            Recency  Frequency  Monetary  R  F  M RFM_Segment  RFM_Score  \\\n",
       "CustomerID                                                                 \n",
       "12346.0         326          2       0.0  1  1  1         111          3   \n",
       "12347.0           2        182    4310.0  4  4  4         444         12   \n",
       "12348.0          75         31   1797.24  2  2  4         224          8   \n",
       "12349.0          19         73   1757.55  3  3  4         334         10   \n",
       "12350.0         310         17     334.4  1  1  2         112          4   \n",
       "\n",
       "           RFM_Segment_Labels  \n",
       "CustomerID                     \n",
       "12346.0             Low-Value  \n",
       "12347.0            High-Value  \n",
       "12348.0             Mid-Value  \n",
       "12349.0            High-Value  \n",
       "12350.0             Low-Value  "
      ]
     },
     "execution_count": 21,
     "metadata": {},
     "output_type": "execute_result"
    }
   ],
   "source": [
    "rfm.head()"
   ]
  },
  {
   "cell_type": "code",
   "execution_count": 50,
   "metadata": {},
   "outputs": [],
   "source": [
    "vip_segment = rfm[rfm['Segment'] == \"Loyal\"]"
   ]
  },
  {
   "cell_type": "code",
   "execution_count": 58,
   "metadata": {},
   "outputs": [
    {
     "data": {
      "application/vnd.plotly.v1+json": {
       "config": {
        "plotlyServerURL": "https://plot.ly"
       },
       "data": [
        {
         "name": "Recency",
         "type": "box",
         "y": {
          "bdata": "EyQXITo0CDMtFgUQFkgTJC4WMiEYGgkkKw4VFixCEzUgHREQFxwXESEQFxocEwEJPCsWFC8yBRcJJCMVBCYTHR08FzQ5AhAPFwo7QyIWEQonKg8IHBoHDx4PHQQgBBwYNAIXEDQIESYFAgkDAzsiQhYaGjo/RBgJEgwoFyMWGBEPNxAfCQYIAQMEFgkLNRALNCAODw0BIR8MFhQ4FhAdDiExCRMkEC4aCA8oCwQ7HhQ5PBI+NRIlFwgEBxwWAiVCJCctRBIiPRogHyhACgsFDhcRGxoSCyYuETQXATw7ISIiKAxCKREZEAstKBgfOxcFGSFEJTQQChEuKwoTHxogDzIlGREMMkdAIg0fBigWBjoQOzQJARIfAhc2FQMHARxIOQITHyceFAwrDysKLxIWHSkbERgKHQMMEAU0FxQEFDwpHws1HwwDAiodGisWKwcCQAkPGAsIAxJHCC8tEREQES0gGiYhQQMiCxg2ExM8C0IdEhIbBysaFC8RERgLPRIgFDwaGTwKOx0YEwcTDyMWFBABIBg0GEMSHRQ9AxAZGh8gDw4ZEAQMHQU6MwMwPSgpBBI1LEAWOiQ8CwkDChcLFQIkRx4iHhc8DEAjOUgnMBAzNiEEEEg7E0EZFwUMGSkIJi4SEhIdCh4PBxk8Mg8DNAQRRQkSHQIaAjRCAi1DIAk5OysdGjMzQEdCHxo5KSgPBQoQIhpBEyEbNxoeFAIQHiEVCBA1FyFAKBMXFhkTNgQWIBgQJD0cOSstEBkTExgJASEjKSEYDCQRQg8TEBMNKD0gIS4aLC4XFhExLDg6RiESExApIQ9AAREKFBAUBBUIICIPGBEXJxEZFiUeMBYjJi8uDCdBFighLRBCChE4FwxHLTkdEjQDKzILCDMQFyAtAx83LR4lOS0YGDVDES0RFR8WChpADhwZCyAEAQcKICUCEiFCBDwdOT0TEyQbLREdLiJAHBUUIhg0QAMJMhkWNBYTQw8bPQQSDyEfHhEgFzsQEhYYEQI3Ij0vAUUlExMYDxEaLiY0HRItFB86ITwEHRcXDgMfJSsXFkMfDwFBGhEdHR0YMj0VBDc0FgQnBBELCB0bAyAcHB4VOxwcEhIZISMHHAQyFxIhHRAXIBYfHSEFLDgICxwYJBsoPBgHEA0FKQIqPBogBB0VDwsZCA8RHg8PCBEXESkYCwkUFgUBEAMeECUBKxcQEC0EAQE6HR8PEQIeKwEUDjI8DBchKTUXOQYSHyQ9GQsRGkIrMgQKER4mER4DFyYQDxMBExEzCBkVSBsZKBYWJRAOFzIDKhs7DR8eBAwgFUg7BC1AHQUBSBUgJiYZDyQlDAQgJBYgGRoXLRoCCEQaHg8SDw8fCQUPRwMWLAlIAwpIMycaKw==",
          "dtype": "i1"
         }
        },
        {
         "name": "Frequency",
         "type": "box",
         "y": {
          "bdata": "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",
          "dtype": "i2"
         }
        },
        {
         "name": "Monetary",
         "type": "box",
         "y": {
          "bdata": "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",
          "dtype": "f8"
         }
        }
       ],
       "layout": {
        "template": {
         "data": {
          "bar": [
           {
            "error_x": {
             "color": "#2a3f5f"
            },
            "error_y": {
             "color": "#2a3f5f"
            },
            "marker": {
             "line": {
              "color": "#E5ECF6",
              "width": 0.5
             },
             "pattern": {
              "fillmode": "overlay",
              "size": 10,
              "solidity": 0.2
             }
            },
            "type": "bar"
           }
          ],
          "barpolar": [
           {
            "marker": {
             "line": {
              "color": "#E5ECF6",
              "width": 0.5
             },
             "pattern": {
              "fillmode": "overlay",
              "size": 10,
              "solidity": 0.2
             }
            },
            "type": "barpolar"
           }
          ],
          "carpet": [
           {
            "aaxis": {
             "endlinecolor": "#2a3f5f",
             "gridcolor": "white",
             "linecolor": "white",
             "minorgridcolor": "white",
             "startlinecolor": "#2a3f5f"
            },
            "baxis": {
             "endlinecolor": "#2a3f5f",
             "gridcolor": "white",
             "linecolor": "white",
             "minorgridcolor": "white",
             "startlinecolor": "#2a3f5f"
            },
            "type": "carpet"
           }
          ],
          "choropleth": [
           {
            "colorbar": {
             "outlinewidth": 0,
             "ticks": ""
            },
            "type": "choropleth"
           }
          ],
          "contour": [
           {
            "colorbar": {
             "outlinewidth": 0,
             "ticks": ""
            },
            "colorscale": [
             [
              0,
              "#0d0887"
             ],
             [
              0.1111111111111111,
              "#46039f"
             ],
             [
              0.2222222222222222,
              "#7201a8"
             ],
             [
              0.3333333333333333,
              "#9c179e"
             ],
             [
              0.4444444444444444,
              "#bd3786"
             ],
             [
              0.5555555555555556,
              "#d8576b"
             ],
             [
              0.6666666666666666,
              "#ed7953"
             ],
             [
              0.7777777777777778,
              "#fb9f3a"
             ],
             [
              0.8888888888888888,
              "#fdca26"
             ],
             [
              1,
              "#f0f921"
             ]
            ],
            "type": "contour"
           }
          ],
          "contourcarpet": [
           {
            "colorbar": {
             "outlinewidth": 0,
             "ticks": ""
            },
            "type": "contourcarpet"
           }
          ],
          "heatmap": [
           {
            "colorbar": {
             "outlinewidth": 0,
             "ticks": ""
            },
            "colorscale": [
             [
              0,
              "#0d0887"
             ],
             [
              0.1111111111111111,
              "#46039f"
             ],
             [
              0.2222222222222222,
              "#7201a8"
             ],
             [
              0.3333333333333333,
              "#9c179e"
             ],
             [
              0.4444444444444444,
              "#bd3786"
             ],
             [
              0.5555555555555556,
              "#d8576b"
             ],
             [
              0.6666666666666666,
              "#ed7953"
             ],
             [
              0.7777777777777778,
              "#fb9f3a"
             ],
             [
              0.8888888888888888,
              "#fdca26"
             ],
             [
              1,
              "#f0f921"
             ]
            ],
            "type": "heatmap"
           }
          ],
          "histogram": [
           {
            "marker": {
             "pattern": {
              "fillmode": "overlay",
              "size": 10,
              "solidity": 0.2
             }
            },
            "type": "histogram"
           }
          ],
          "histogram2d": [
           {
            "colorbar": {
             "outlinewidth": 0,
             "ticks": ""
            },
            "colorscale": [
             [
              0,
              "#0d0887"
             ],
             [
              0.1111111111111111,
              "#46039f"
             ],
             [
              0.2222222222222222,
              "#7201a8"
             ],
             [
              0.3333333333333333,
              "#9c179e"
             ],
             [
              0.4444444444444444,
              "#bd3786"
             ],
             [
              0.5555555555555556,
              "#d8576b"
             ],
             [
              0.6666666666666666,
              "#ed7953"
             ],
             [
              0.7777777777777778,
              "#fb9f3a"
             ],
             [
              0.8888888888888888,
              "#fdca26"
             ],
             [
              1,
              "#f0f921"
             ]
            ],
            "type": "histogram2d"
           }
          ],
          "histogram2dcontour": [
           {
            "colorbar": {
             "outlinewidth": 0,
             "ticks": ""
            },
            "colorscale": [
             [
              0,
              "#0d0887"
             ],
             [
              0.1111111111111111,
              "#46039f"
             ],
             [
              0.2222222222222222,
              "#7201a8"
             ],
             [
              0.3333333333333333,
              "#9c179e"
             ],
             [
              0.4444444444444444,
              "#bd3786"
             ],
             [
              0.5555555555555556,
              "#d8576b"
             ],
             [
              0.6666666666666666,
              "#ed7953"
             ],
             [
              0.7777777777777778,
              "#fb9f3a"
             ],
             [
              0.8888888888888888,
              "#fdca26"
             ],
             [
              1,
              "#f0f921"
             ]
            ],
            "type": "histogram2dcontour"
           }
          ],
          "mesh3d": [
           {
            "colorbar": {
             "outlinewidth": 0,
             "ticks": ""
            },
            "type": "mesh3d"
           }
          ],
          "parcoords": [
           {
            "line": {
             "colorbar": {
              "outlinewidth": 0,
              "ticks": ""
             }
            },
            "type": "parcoords"
           }
          ],
          "pie": [
           {
            "automargin": true,
            "type": "pie"
           }
          ],
          "scatter": [
           {
            "fillpattern": {
             "fillmode": "overlay",
             "size": 10,
             "solidity": 0.2
            },
            "type": "scatter"
           }
          ],
          "scatter3d": [
           {
            "line": {
             "colorbar": {
              "outlinewidth": 0,
              "ticks": ""
             }
            },
            "marker": {
             "colorbar": {
              "outlinewidth": 0,
              "ticks": ""
             }
            },
            "type": "scatter3d"
           }
          ],
          "scattercarpet": [
           {
            "marker": {
             "colorbar": {
              "outlinewidth": 0,
              "ticks": ""
             }
            },
            "type": "scattercarpet"
           }
          ],
          "scattergeo": [
           {
            "marker": {
             "colorbar": {
              "outlinewidth": 0,
              "ticks": ""
             }
            },
            "type": "scattergeo"
           }
          ],
          "scattergl": [
           {
            "marker": {
             "colorbar": {
              "outlinewidth": 0,
              "ticks": ""
             }
            },
            "type": "scattergl"
           }
          ],
          "scattermap": [
           {
            "marker": {
             "colorbar": {
              "outlinewidth": 0,
              "ticks": ""
             }
            },
            "type": "scattermap"
           }
          ],
          "scattermapbox": [
           {
            "marker": {
             "colorbar": {
              "outlinewidth": 0,
              "ticks": ""
             }
            },
            "type": "scattermapbox"
           }
          ],
          "scatterpolar": [
           {
            "marker": {
             "colorbar": {
              "outlinewidth": 0,
              "ticks": ""
             }
            },
            "type": "scatterpolar"
           }
          ],
          "scatterpolargl": [
           {
            "marker": {
             "colorbar": {
              "outlinewidth": 0,
              "ticks": ""
             }
            },
            "type": "scatterpolargl"
           }
          ],
          "scatterternary": [
           {
            "marker": {
             "colorbar": {
              "outlinewidth": 0,
              "ticks": ""
             }
            },
            "type": "scatterternary"
           }
          ],
          "surface": [
           {
            "colorbar": {
             "outlinewidth": 0,
             "ticks": ""
            },
            "colorscale": [
             [
              0,
              "#0d0887"
             ],
             [
              0.1111111111111111,
              "#46039f"
             ],
             [
              0.2222222222222222,
              "#7201a8"
             ],
             [
              0.3333333333333333,
              "#9c179e"
             ],
             [
              0.4444444444444444,
              "#bd3786"
             ],
             [
              0.5555555555555556,
              "#d8576b"
             ],
             [
              0.6666666666666666,
              "#ed7953"
             ],
             [
              0.7777777777777778,
              "#fb9f3a"
             ],
             [
              0.8888888888888888,
              "#fdca26"
             ],
             [
              1,
              "#f0f921"
             ]
            ],
            "type": "surface"
           }
          ],
          "table": [
           {
            "cells": {
             "fill": {
              "color": "#EBF0F8"
             },
             "line": {
              "color": "white"
             }
            },
            "header": {
             "fill": {
              "color": "#C8D4E3"
             },
             "line": {
              "color": "white"
             }
            },
            "type": "table"
           }
          ]
         },
         "layout": {
          "annotationdefaults": {
           "arrowcolor": "#2a3f5f",
           "arrowhead": 0,
           "arrowwidth": 1
          },
          "autotypenumbers": "strict",
          "coloraxis": {
           "colorbar": {
            "outlinewidth": 0,
            "ticks": ""
           }
          },
          "colorscale": {
           "diverging": [
            [
             0,
             "#8e0152"
            ],
            [
             0.1,
             "#c51b7d"
            ],
            [
             0.2,
             "#de77ae"
            ],
            [
             0.3,
             "#f1b6da"
            ],
            [
             0.4,
             "#fde0ef"
            ],
            [
             0.5,
             "#f7f7f7"
            ],
            [
             0.6,
             "#e6f5d0"
            ],
            [
             0.7,
             "#b8e186"
            ],
            [
             0.8,
             "#7fbc41"
            ],
            [
             0.9,
             "#4d9221"
            ],
            [
             1,
             "#276419"
            ]
           ],
           "sequential": [
            [
             0,
             "#0d0887"
            ],
            [
             0.1111111111111111,
             "#46039f"
            ],
            [
             0.2222222222222222,
             "#7201a8"
            ],
            [
             0.3333333333333333,
             "#9c179e"
            ],
            [
             0.4444444444444444,
             "#bd3786"
            ],
            [
             0.5555555555555556,
             "#d8576b"
            ],
            [
             0.6666666666666666,
             "#ed7953"
            ],
            [
             0.7777777777777778,
             "#fb9f3a"
            ],
            [
             0.8888888888888888,
             "#fdca26"
            ],
            [
             1,
             "#f0f921"
            ]
           ],
           "sequentialminus": [
            [
             0,
             "#0d0887"
            ],
            [
             0.1111111111111111,
             "#46039f"
            ],
            [
             0.2222222222222222,
             "#7201a8"
            ],
            [
             0.3333333333333333,
             "#9c179e"
            ],
            [
             0.4444444444444444,
             "#bd3786"
            ],
            [
             0.5555555555555556,
             "#d8576b"
            ],
            [
             0.6666666666666666,
             "#ed7953"
            ],
            [
             0.7777777777777778,
             "#fb9f3a"
            ],
            [
             0.8888888888888888,
             "#fdca26"
            ],
            [
             1,
             "#f0f921"
            ]
           ]
          },
          "colorway": [
           "#636efa",
           "#EF553B",
           "#00cc96",
           "#ab63fa",
           "#FFA15A",
           "#19d3f3",
           "#FF6692",
           "#B6E880",
           "#FF97FF",
           "#FECB52"
          ],
          "font": {
           "color": "#2a3f5f"
          },
          "geo": {
           "bgcolor": "white",
           "lakecolor": "white",
           "landcolor": "#E5ECF6",
           "showlakes": true,
           "showland": true,
           "subunitcolor": "white"
          },
          "hoverlabel": {
           "align": "left"
          },
          "hovermode": "closest",
          "mapbox": {
           "style": "light"
          },
          "paper_bgcolor": "white",
          "plot_bgcolor": "#E5ECF6",
          "polar": {
           "angularaxis": {
            "gridcolor": "white",
            "linecolor": "white",
            "ticks": ""
           },
           "bgcolor": "#E5ECF6",
           "radialaxis": {
            "gridcolor": "white",
            "linecolor": "white",
            "ticks": ""
           }
          },
          "scene": {
           "xaxis": {
            "backgroundcolor": "#E5ECF6",
            "gridcolor": "white",
            "gridwidth": 2,
            "linecolor": "white",
            "showbackground": true,
            "ticks": "",
            "zerolinecolor": "white"
           },
           "yaxis": {
            "backgroundcolor": "#E5ECF6",
            "gridcolor": "white",
            "gridwidth": 2,
            "linecolor": "white",
            "showbackground": true,
            "ticks": "",
            "zerolinecolor": "white"
           },
           "zaxis": {
            "backgroundcolor": "#E5ECF6",
            "gridcolor": "white",
            "gridwidth": 2,
            "linecolor": "white",
            "showbackground": true,
            "ticks": "",
            "zerolinecolor": "white"
           }
          },
          "shapedefaults": {
           "line": {
            "color": "#2a3f5f"
           }
          },
          "ternary": {
           "aaxis": {
            "gridcolor": "white",
            "linecolor": "white",
            "ticks": ""
           },
           "baxis": {
            "gridcolor": "white",
            "linecolor": "white",
            "ticks": ""
           },
           "bgcolor": "#E5ECF6",
           "caxis": {
            "gridcolor": "white",
            "linecolor": "white",
            "ticks": ""
           }
          },
          "title": {
           "x": 0.05
          },
          "xaxis": {
           "automargin": true,
           "gridcolor": "white",
           "linecolor": "white",
           "ticks": "",
           "title": {
            "standoff": 15
           },
           "zerolinecolor": "white",
           "zerolinewidth": 2
          },
          "yaxis": {
           "automargin": true,
           "gridcolor": "white",
           "linecolor": "white",
           "ticks": "",
           "title": {
            "standoff": 15
           },
           "zerolinecolor": "white",
           "zerolinewidth": 2
          }
         }
        }
       }
      }
     },
     "metadata": {},
     "output_type": "display_data"
    }
   ],
   "source": [
    "fig = go.Figure()\n",
    "fig.add_trace(go.Box(y = vip_segment['Recency'], name = \"Recency\"))\n",
    "fig.add_trace(go.Box(y = vip_segment['Frequency'], name = \"Frequency\"))\n",
    "fig.add_trace(go.Box(y = vip_segment['Monetary'], name = \"Monetary\"))\n"
   ]
  },
  {
   "cell_type": "code",
   "execution_count": 59,
   "metadata": {},
   "outputs": [],
   "source": [
    "correlation_matrix = vip_segment[['R', 'F', 'M']].corr()"
   ]
  },
  {
   "cell_type": "code",
   "execution_count": 60,
   "metadata": {},
   "outputs": [
    {
     "data": {
      "application/vnd.plotly.v1+json": {
       "config": {
        "plotlyServerURL": "https://plot.ly"
       },
       "data": [
        {
         "colorbar": {
          "title": {
           "text": "Correlation"
          }
         },
         "colorscale": [
          [
           0,
           "rgb(103,0,31)"
          ],
          [
           0.1,
           "rgb(178,24,43)"
          ],
          [
           0.2,
           "rgb(214,96,77)"
          ],
          [
           0.3,
           "rgb(244,165,130)"
          ],
          [
           0.4,
           "rgb(253,219,199)"
          ],
          [
           0.5,
           "rgb(247,247,247)"
          ],
          [
           0.6,
           "rgb(209,229,240)"
          ],
          [
           0.7,
           "rgb(146,197,222)"
          ],
          [
           0.8,
           "rgb(67,147,195)"
          ],
          [
           0.9,
           "rgb(33,102,172)"
          ],
          [
           1,
           "rgb(5,48,97)"
          ]
         ],
         "type": "heatmap",
         "x": [
          "R",
          "F",
          "M"
         ],
         "y": [
          "R",
          "F",
          "M"
         ],
         "z": {
          "bdata": "AAAAAAAA8D/axYITgcDQvx/4X523y3q/2sWCE4HA0L8AAAAAAADwP0I9RUZeGNa/H/hfnbfLer9CPUVGXhjWvwAAAAAAAPA/",
          "dtype": "f8",
          "shape": "3, 3"
         }
        }
       ],
       "layout": {
        "template": {
         "data": {
          "bar": [
           {
            "error_x": {
             "color": "#2a3f5f"
            },
            "error_y": {
             "color": "#2a3f5f"
            },
            "marker": {
             "line": {
              "color": "#E5ECF6",
              "width": 0.5
             },
             "pattern": {
              "fillmode": "overlay",
              "size": 10,
              "solidity": 0.2
             }
            },
            "type": "bar"
           }
          ],
          "barpolar": [
           {
            "marker": {
             "line": {
              "color": "#E5ECF6",
              "width": 0.5
             },
             "pattern": {
              "fillmode": "overlay",
              "size": 10,
              "solidity": 0.2
             }
            },
            "type": "barpolar"
           }
          ],
          "carpet": [
           {
            "aaxis": {
             "endlinecolor": "#2a3f5f",
             "gridcolor": "white",
             "linecolor": "white",
             "minorgridcolor": "white",
             "startlinecolor": "#2a3f5f"
            },
            "baxis": {
             "endlinecolor": "#2a3f5f",
             "gridcolor": "white",
             "linecolor": "white",
             "minorgridcolor": "white",
             "startlinecolor": "#2a3f5f"
            },
            "type": "carpet"
           }
          ],
          "choropleth": [
           {
            "colorbar": {
             "outlinewidth": 0,
             "ticks": ""
            },
            "type": "choropleth"
           }
          ],
          "contour": [
           {
            "colorbar": {
             "outlinewidth": 0,
             "ticks": ""
            },
            "colorscale": [
             [
              0,
              "#0d0887"
             ],
             [
              0.1111111111111111,
              "#46039f"
             ],
             [
              0.2222222222222222,
              "#7201a8"
             ],
             [
              0.3333333333333333,
              "#9c179e"
             ],
             [
              0.4444444444444444,
              "#bd3786"
             ],
             [
              0.5555555555555556,
              "#d8576b"
             ],
             [
              0.6666666666666666,
              "#ed7953"
             ],
             [
              0.7777777777777778,
              "#fb9f3a"
             ],
             [
              0.8888888888888888,
              "#fdca26"
             ],
             [
              1,
              "#f0f921"
             ]
            ],
            "type": "contour"
           }
          ],
          "contourcarpet": [
           {
            "colorbar": {
             "outlinewidth": 0,
             "ticks": ""
            },
            "type": "contourcarpet"
           }
          ],
          "heatmap": [
           {
            "colorbar": {
             "outlinewidth": 0,
             "ticks": ""
            },
            "colorscale": [
             [
              0,
              "#0d0887"
             ],
             [
              0.1111111111111111,
              "#46039f"
             ],
             [
              0.2222222222222222,
              "#7201a8"
             ],
             [
              0.3333333333333333,
              "#9c179e"
             ],
             [
              0.4444444444444444,
              "#bd3786"
             ],
             [
              0.5555555555555556,
              "#d8576b"
             ],
             [
              0.6666666666666666,
              "#ed7953"
             ],
             [
              0.7777777777777778,
              "#fb9f3a"
             ],
             [
              0.8888888888888888,
              "#fdca26"
             ],
             [
              1,
              "#f0f921"
             ]
            ],
            "type": "heatmap"
           }
          ],
          "histogram": [
           {
            "marker": {
             "pattern": {
              "fillmode": "overlay",
              "size": 10,
              "solidity": 0.2
             }
            },
            "type": "histogram"
           }
          ],
          "histogram2d": [
           {
            "colorbar": {
             "outlinewidth": 0,
             "ticks": ""
            },
            "colorscale": [
             [
              0,
              "#0d0887"
             ],
             [
              0.1111111111111111,
              "#46039f"
             ],
             [
              0.2222222222222222,
              "#7201a8"
             ],
             [
              0.3333333333333333,
              "#9c179e"
             ],
             [
              0.4444444444444444,
              "#bd3786"
             ],
             [
              0.5555555555555556,
              "#d8576b"
             ],
             [
              0.6666666666666666,
              "#ed7953"
             ],
             [
              0.7777777777777778,
              "#fb9f3a"
             ],
             [
              0.8888888888888888,
              "#fdca26"
             ],
             [
              1,
              "#f0f921"
             ]
            ],
            "type": "histogram2d"
           }
          ],
          "histogram2dcontour": [
           {
            "colorbar": {
             "outlinewidth": 0,
             "ticks": ""
            },
            "colorscale": [
             [
              0,
              "#0d0887"
             ],
             [
              0.1111111111111111,
              "#46039f"
             ],
             [
              0.2222222222222222,
              "#7201a8"
             ],
             [
              0.3333333333333333,
              "#9c179e"
             ],
             [
              0.4444444444444444,
              "#bd3786"
             ],
             [
              0.5555555555555556,
              "#d8576b"
             ],
             [
              0.6666666666666666,
              "#ed7953"
             ],
             [
              0.7777777777777778,
              "#fb9f3a"
             ],
             [
              0.8888888888888888,
              "#fdca26"
             ],
             [
              1,
              "#f0f921"
             ]
            ],
            "type": "histogram2dcontour"
           }
          ],
          "mesh3d": [
           {
            "colorbar": {
             "outlinewidth": 0,
             "ticks": ""
            },
            "type": "mesh3d"
           }
          ],
          "parcoords": [
           {
            "line": {
             "colorbar": {
              "outlinewidth": 0,
              "ticks": ""
             }
            },
            "type": "parcoords"
           }
          ],
          "pie": [
           {
            "automargin": true,
            "type": "pie"
           }
          ],
          "scatter": [
           {
            "fillpattern": {
             "fillmode": "overlay",
             "size": 10,
             "solidity": 0.2
            },
            "type": "scatter"
           }
          ],
          "scatter3d": [
           {
            "line": {
             "colorbar": {
              "outlinewidth": 0,
              "ticks": ""
             }
            },
            "marker": {
             "colorbar": {
              "outlinewidth": 0,
              "ticks": ""
             }
            },
            "type": "scatter3d"
           }
          ],
          "scattercarpet": [
           {
            "marker": {
             "colorbar": {
              "outlinewidth": 0,
              "ticks": ""
             }
            },
            "type": "scattercarpet"
           }
          ],
          "scattergeo": [
           {
            "marker": {
             "colorbar": {
              "outlinewidth": 0,
              "ticks": ""
             }
            },
            "type": "scattergeo"
           }
          ],
          "scattergl": [
           {
            "marker": {
             "colorbar": {
              "outlinewidth": 0,
              "ticks": ""
             }
            },
            "type": "scattergl"
           }
          ],
          "scattermap": [
           {
            "marker": {
             "colorbar": {
              "outlinewidth": 0,
              "ticks": ""
             }
            },
            "type": "scattermap"
           }
          ],
          "scattermapbox": [
           {
            "marker": {
             "colorbar": {
              "outlinewidth": 0,
              "ticks": ""
             }
            },
            "type": "scattermapbox"
           }
          ],
          "scatterpolar": [
           {
            "marker": {
             "colorbar": {
              "outlinewidth": 0,
              "ticks": ""
             }
            },
            "type": "scatterpolar"
           }
          ],
          "scatterpolargl": [
           {
            "marker": {
             "colorbar": {
              "outlinewidth": 0,
              "ticks": ""
             }
            },
            "type": "scatterpolargl"
           }
          ],
          "scatterternary": [
           {
            "marker": {
             "colorbar": {
              "outlinewidth": 0,
              "ticks": ""
             }
            },
            "type": "scatterternary"
           }
          ],
          "surface": [
           {
            "colorbar": {
             "outlinewidth": 0,
             "ticks": ""
            },
            "colorscale": [
             [
              0,
              "#0d0887"
             ],
             [
              0.1111111111111111,
              "#46039f"
             ],
             [
              0.2222222222222222,
              "#7201a8"
             ],
             [
              0.3333333333333333,
              "#9c179e"
             ],
             [
              0.4444444444444444,
              "#bd3786"
             ],
             [
              0.5555555555555556,
              "#d8576b"
             ],
             [
              0.6666666666666666,
              "#ed7953"
             ],
             [
              0.7777777777777778,
              "#fb9f3a"
             ],
             [
              0.8888888888888888,
              "#fdca26"
             ],
             [
              1,
              "#f0f921"
             ]
            ],
            "type": "surface"
           }
          ],
          "table": [
           {
            "cells": {
             "fill": {
              "color": "#EBF0F8"
             },
             "line": {
              "color": "white"
             }
            },
            "header": {
             "fill": {
              "color": "#C8D4E3"
             },
             "line": {
              "color": "white"
             }
            },
            "type": "table"
           }
          ]
         },
         "layout": {
          "annotationdefaults": {
           "arrowcolor": "#2a3f5f",
           "arrowhead": 0,
           "arrowwidth": 1
          },
          "autotypenumbers": "strict",
          "coloraxis": {
           "colorbar": {
            "outlinewidth": 0,
            "ticks": ""
           }
          },
          "colorscale": {
           "diverging": [
            [
             0,
             "#8e0152"
            ],
            [
             0.1,
             "#c51b7d"
            ],
            [
             0.2,
             "#de77ae"
            ],
            [
             0.3,
             "#f1b6da"
            ],
            [
             0.4,
             "#fde0ef"
            ],
            [
             0.5,
             "#f7f7f7"
            ],
            [
             0.6,
             "#e6f5d0"
            ],
            [
             0.7,
             "#b8e186"
            ],
            [
             0.8,
             "#7fbc41"
            ],
            [
             0.9,
             "#4d9221"
            ],
            [
             1,
             "#276419"
            ]
           ],
           "sequential": [
            [
             0,
             "#0d0887"
            ],
            [
             0.1111111111111111,
             "#46039f"
            ],
            [
             0.2222222222222222,
             "#7201a8"
            ],
            [
             0.3333333333333333,
             "#9c179e"
            ],
            [
             0.4444444444444444,
             "#bd3786"
            ],
            [
             0.5555555555555556,
             "#d8576b"
            ],
            [
             0.6666666666666666,
             "#ed7953"
            ],
            [
             0.7777777777777778,
             "#fb9f3a"
            ],
            [
             0.8888888888888888,
             "#fdca26"
            ],
            [
             1,
             "#f0f921"
            ]
           ],
           "sequentialminus": [
            [
             0,
             "#0d0887"
            ],
            [
             0.1111111111111111,
             "#46039f"
            ],
            [
             0.2222222222222222,
             "#7201a8"
            ],
            [
             0.3333333333333333,
             "#9c179e"
            ],
            [
             0.4444444444444444,
             "#bd3786"
            ],
            [
             0.5555555555555556,
             "#d8576b"
            ],
            [
             0.6666666666666666,
             "#ed7953"
            ],
            [
             0.7777777777777778,
             "#fb9f3a"
            ],
            [
             0.8888888888888888,
             "#fdca26"
            ],
            [
             1,
             "#f0f921"
            ]
           ]
          },
          "colorway": [
           "#636efa",
           "#EF553B",
           "#00cc96",
           "#ab63fa",
           "#FFA15A",
           "#19d3f3",
           "#FF6692",
           "#B6E880",
           "#FF97FF",
           "#FECB52"
          ],
          "font": {
           "color": "#2a3f5f"
          },
          "geo": {
           "bgcolor": "white",
           "lakecolor": "white",
           "landcolor": "#E5ECF6",
           "showlakes": true,
           "showland": true,
           "subunitcolor": "white"
          },
          "hoverlabel": {
           "align": "left"
          },
          "hovermode": "closest",
          "mapbox": {
           "style": "light"
          },
          "paper_bgcolor": "white",
          "plot_bgcolor": "#E5ECF6",
          "polar": {
           "angularaxis": {
            "gridcolor": "white",
            "linecolor": "white",
            "ticks": ""
           },
           "bgcolor": "#E5ECF6",
           "radialaxis": {
            "gridcolor": "white",
            "linecolor": "white",
            "ticks": ""
           }
          },
          "scene": {
           "xaxis": {
            "backgroundcolor": "#E5ECF6",
            "gridcolor": "white",
            "gridwidth": 2,
            "linecolor": "white",
            "showbackground": true,
            "ticks": "",
            "zerolinecolor": "white"
           },
           "yaxis": {
            "backgroundcolor": "#E5ECF6",
            "gridcolor": "white",
            "gridwidth": 2,
            "linecolor": "white",
            "showbackground": true,
            "ticks": "",
            "zerolinecolor": "white"
           },
           "zaxis": {
            "backgroundcolor": "#E5ECF6",
            "gridcolor": "white",
            "gridwidth": 2,
            "linecolor": "white",
            "showbackground": true,
            "ticks": "",
            "zerolinecolor": "white"
           }
          },
          "shapedefaults": {
           "line": {
            "color": "#2a3f5f"
           }
          },
          "ternary": {
           "aaxis": {
            "gridcolor": "white",
            "linecolor": "white",
            "ticks": ""
           },
           "baxis": {
            "gridcolor": "white",
            "linecolor": "white",
            "ticks": ""
           },
           "bgcolor": "#E5ECF6",
           "caxis": {
            "gridcolor": "white",
            "linecolor": "white",
            "ticks": ""
           }
          },
          "title": {
           "x": 0.05
          },
          "xaxis": {
           "automargin": true,
           "gridcolor": "white",
           "linecolor": "white",
           "ticks": "",
           "title": {
            "standoff": 15
           },
           "zerolinecolor": "white",
           "zerolinewidth": 2
          },
          "yaxis": {
           "automargin": true,
           "gridcolor": "white",
           "linecolor": "white",
           "ticks": "",
           "title": {
            "standoff": 15
           },
           "zerolinecolor": "white",
           "zerolinewidth": 2
          }
         }
        },
        "title": {
         "text": "Correlation Matrix of RFM Monetary within Loyal Segment"
        }
       }
      }
     },
     "metadata": {},
     "output_type": "display_data"
    }
   ],
   "source": [
    "#Create Heatmap\n",
    "\n",
    "fig_heatmap = go.Figure(data = go.Heatmap(\n",
    "                    z = correlation_matrix.values,\n",
    "                    x = correlation_matrix.columns,\n",
    "                    y = correlation_matrix.columns,\n",
    "                    colorscale = 'RdBu',\n",
    "                    colorbar = dict(title = 'Correlation')))\n",
    "\n",
    "fig_heatmap.update_layout(title = \"Correlation Matrix of RFM Monetary within Loyal Segment\")\n",
    "\n",
    "\n",
    "#Show Heatmap\n",
    "\n",
    "fig_heatmap.show()"
   ]
  },
  {
   "cell_type": "code",
   "execution_count": 43,
   "metadata": {},
   "outputs": [],
   "source": [
    "data.to_csv(\"Cleaned_Data.csv\", index = False)"
   ]
  }
 ],
 "metadata": {
  "kernelspec": {
   "display_name": "Python 3",
   "language": "python",
   "name": "python3"
  },
  "language_info": {
   "codemirror_mode": {
    "name": "ipython",
    "version": 3
   },
   "file_extension": ".py",
   "mimetype": "text/x-python",
   "name": "python",
   "nbconvert_exporter": "python",
   "pygments_lexer": "ipython3",
   "version": "3.11.4"
  }
 },
 "nbformat": 4,
 "nbformat_minor": 2
}
