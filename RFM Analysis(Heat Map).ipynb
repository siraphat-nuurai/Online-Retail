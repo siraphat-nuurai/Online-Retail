{
 "cells": [
  {
   "cell_type": "code",
   "execution_count": null,
   "metadata": {},
   "outputs": [],
   "source": [
    "%pip install plotly\n",
    "%pip install pandas\n",
    "%pip install nbformat --upgrade\n",
    "%pip install numpy\n",
    "%pip install lifetimes\n",
    "%pip install --upgrade matplotlib\n",
    "%pip install seaborn\n",
    "# Install squarify for treemap plot\n",
    "%pip install squarify\n",
    "'''pip install numpy\n",
    "pip install lifetimes\n",
    "pip install --upgrade matplotlib\n",
    "pip install seaborn\n",
    "pip install scikit-learn'''"
   ]
  },
  {
   "cell_type": "code",
   "execution_count": null,
   "metadata": {},
   "outputs": [],
   "source": [
    "\n",
    "import pandas as pd\n",
    "from datetime import datetime as dt\n",
    "from datetime import timedelta\n",
    "import plotly.express as px\n",
    "import plotly.graph_objects as go\n",
    "import plotly.colors\n",
    "import numpy as np\n",
    "import matplotlib.pyplot as plt\n",
    "import seaborn as sns\n",
    "import datetime\n",
    "import squarify\n"
   ]
  },
  {
   "cell_type": "markdown",
   "metadata": {},
   "source": [
    "# Data Wrangling"
   ]
  },
  {
   "cell_type": "code",
   "execution_count": null,
   "metadata": {},
   "outputs": [],
   "source": [
    "data = pd.read_csv('C:\\\\Users\\\\Admin\\\\OneDrive\\\\Desktop\\\\Jupyter\\\\Online Retail\\\\online_retail.csv')\n",
    "data.head()"
   ]
  },
  {
   "cell_type": "code",
   "execution_count": null,
   "metadata": {},
   "outputs": [],
   "source": [
    "data.tail()"
   ]
  },
  {
   "cell_type": "code",
   "execution_count": null,
   "metadata": {},
   "outputs": [],
   "source": [
    "data.dropna(subset = ['CustomerID'], inplace = True)"
   ]
  },
  {
   "cell_type": "code",
   "execution_count": null,
   "metadata": {},
   "outputs": [],
   "source": [
    "data['InvoiceDate'] = pd.to_datetime(data['InvoiceDate'])\n",
    "data['TotalAmount'] = (data['Quantity'] * data['UnitPrice']).astype('Float64').round(2)"
   ]
  },
  {
   "cell_type": "code",
   "execution_count": null,
   "metadata": {},
   "outputs": [],
   "source": [
    "data.head()"
   ]
  },
  {
   "cell_type": "code",
   "execution_count": null,
   "metadata": {},
   "outputs": [],
   "source": [
    "reference_date = pd.Timestamp(dt.now().date())\n",
    "#reference_date"
   ]
  },
  {
   "cell_type": "code",
   "execution_count": null,
   "metadata": {},
   "outputs": [],
   "source": [
    "reference_date = data['InvoiceDate'].max() + timedelta(days = 1)\n",
    "reference_date"
   ]
  },
  {
   "cell_type": "code",
   "execution_count": null,
   "metadata": {},
   "outputs": [],
   "source": [
    "data.info()"
   ]
  },
  {
   "cell_type": "code",
   "execution_count": null,
   "metadata": {},
   "outputs": [],
   "source": [
    "data.isnull().sum()"
   ]
  },
  {
   "cell_type": "code",
   "execution_count": null,
   "metadata": {},
   "outputs": [],
   "source": [
    "data.describe()"
   ]
  },
  {
   "cell_type": "code",
   "execution_count": null,
   "metadata": {},
   "outputs": [],
   "source": [
    "data.shape"
   ]
  },
  {
   "cell_type": "code",
   "execution_count": null,
   "metadata": {},
   "outputs": [],
   "source": [
    "#number of unique products\n",
    "print(data['Description'].nunique())"
   ]
  },
  {
   "cell_type": "code",
   "execution_count": null,
   "metadata": {},
   "outputs": [],
   "source": [
    "#number of each products\n",
    "data['Description'].value_counts().head()"
   ]
  },
  {
   "cell_type": "code",
   "execution_count": null,
   "metadata": {},
   "outputs": [],
   "source": [
    "#The most ordered product\n",
    "data.groupby(\"Description\").agg({\"Quantity\" : \"sum\"}).head()\n"
   ]
  },
  {
   "cell_type": "code",
   "execution_count": null,
   "metadata": {},
   "outputs": [],
   "source": [
    "#Number of invoices were issued in total\n",
    "data['InvoiceNo'].nunique()"
   ]
  },
  {
   "cell_type": "code",
   "execution_count": null,
   "metadata": {},
   "outputs": [],
   "source": [
    "# Total Price that was paid per invoice\n",
    "## return Price to float\n",
    "data['TotalAmount']"
   ]
  },
  {
   "cell_type": "code",
   "execution_count": null,
   "metadata": {},
   "outputs": [],
   "source": [
    "data.describe()"
   ]
  },
  {
   "cell_type": "code",
   "execution_count": null,
   "metadata": {},
   "outputs": [],
   "source": [
    "# คอลัมน์ Price , Quantity มีข้อมูลที่เป็นลบ\n",
    "print(f\"Total 'Quantity' column less than 0: {np.sum(data['Quantity'] <= 0)} row\")\n",
    "print(f\"Total 'TotalAmount' column less than 0: {np.sum(data['TotalAmount'] <= 0)} row\")"
   ]
  },
  {
   "cell_type": "code",
   "execution_count": null,
   "metadata": {},
   "outputs": [],
   "source": [
    "#data[data['Quantity'] <= 0]\n",
    "data[data['TotalAmount'] <= 0]"
   ]
  },
  {
   "cell_type": "code",
   "execution_count": null,
   "metadata": {},
   "outputs": [],
   "source": [
    "data = data[data['Quantity'] >= 0]"
   ]
  },
  {
   "cell_type": "code",
   "execution_count": null,
   "metadata": {},
   "outputs": [],
   "source": [
    "data.describe()"
   ]
  },
  {
   "cell_type": "code",
   "execution_count": null,
   "metadata": {},
   "outputs": [],
   "source": [
    "# The maximum and minimum of 'Quantity' and 'UnitPrice' are too far\n",
    "# Replace with quartile method\n",
    "for col in ['Quantity', 'UnitPrice']:\n",
    "    data_quartile = sorted(data[col])\n",
    "    Q1, Q3 = np.percentile(data_quartile, [0.01, 0.99])\n",
    "    IQR = Q3 - Q1\n",
    "    lower_limit = Q1 - (1.5 * IQR)\n",
    "    upper_limit = Q3 + (1.5 * IQR)\n",
    "    data[data_quartile] = np.where(data[col] > upper_limit, upper_limit, data[col])\n",
    "    data[data_quartile] = np.where(data[col] < lower_limit, lower_limit, data[col])\n"
   ]
  },
  {
   "cell_type": "code",
   "execution_count": null,
   "metadata": {},
   "outputs": [],
   "source": [
    "data.describe()"
   ]
  },
  {
   "cell_type": "markdown",
   "metadata": {},
   "source": [
    "# RFM Model \n",
    "'''\n",
    "Recency : ลูกค้าที่สั่งซื้อสินค้าล่าสุดวันนี้ จะได้ R Score > ลูกค้าที่สั่งซื้อสินค้าล่าสุดเมื่อ 3 ปีที่แล้ว\n",
    "Frequency : ลูกค้าที่สั่งซื้อสินค้าบ่อยที่สุดในร้าน จะได้ F Score > ลูกค้าmujสั่งซื้อสินค้าน้อยครั้งที่สุดในร้าน\n",
    "Monetary : ลูกค้าที่ช้จ่ายเยอะที่สุดในร้าน จะได้ M Score > ลูกค้าที่ใช้จ่ายน้อยที่สุดในร้าน\n",
    "'''"
   ]
  },
  {
   "cell_type": "code",
   "execution_count": null,
   "metadata": {},
   "outputs": [],
   "source": [
    "#ทำRFM Analysis โดย group by Customer ID\n",
    "rfm = data.groupby('CustomerID').agg({\n",
    "    'InvoiceDate' : lambda x: (reference_date - x.max()).days,\n",
    "    'InvoiceNo' : 'count',\n",
    "    'TotalAmount' : 'sum'\n",
    "})"
   ]
  },
  {
   "cell_type": "code",
   "execution_count": null,
   "metadata": {},
   "outputs": [],
   "source": [
    "#ทำตารางRFM\n",
    "rfm.rename(columns = {'InvoiceDate': 'Recency', 'InvoiceNo' : 'Frequency',\n",
    "                      'TotalAmount' : 'Monetary'}, inplace = True)\n",
    "rfm.head()"
   ]
  },
  {
   "cell_type": "code",
   "execution_count": null,
   "metadata": {},
   "outputs": [],
   "source": [
    "# Create binning for 5 bins\n",
    "rfm['R'] = pd.qcut(rfm['Recency'], 5, labels = [5, 4, 3, 2, 1])\n",
    "rfm['F'] = pd.qcut(rfm['Frequency'].rank(method = 'first'),\n",
    "                                  5, labels = [1, 2, 3, 4, 5])\n",
    "rfm['M'] = pd.qcut(rfm['Monetary'], 5, labels = [5, 4, 3, 2, 1])\n",
    "rfm.head(5)"
   ]
  },
  {
   "cell_type": "code",
   "execution_count": null,
   "metadata": {},
   "outputs": [],
   "source": [
    "#ระบุ Quantiles\n",
    "'''\n",
    "quantiles = rfm.quantile(q = [0.25, 0.50, 0.75])\n",
    "\n",
    "#จัดคะแนนตามRFM\n",
    "# x คือ ค่าที่จะกลายเป็นscore ในRFM\n",
    "# p คือ column name ในRFM\n",
    "# d คือ data frame ที่เก็บquantiles\n",
    "def RScore(x, p, d):\n",
    "    #Recency\n",
    "    if (p == 'Recency'):\n",
    "        if (x <= d[p][0.25]):\n",
    "            return 4\n",
    "        elif (x <= d[p][0.50]):\n",
    "            return 3\n",
    "        elif (x <= d[p][0.75]):\n",
    "            return 2\n",
    "        else:\n",
    "            return 1\n",
    "    # Frequency, Monetery\n",
    "    else:\n",
    "        if (x <= d[p][0.25]):\n",
    "            return 1\n",
    "        elif (x <= d[p][0.50]):\n",
    "            return 2\n",
    "        elif (x <= d[p][0.75]):\n",
    "            return 3\n",
    "        else:\n",
    "            return 4\n",
    "\n",
    "\n",
    "rfm['R'] = rfm['Recency'].apply(RScore, args = ('Recency', quantiles, ))\n",
    "rfm['F'] = rfm['Frequency'].apply(RScore, args = ('Frequency', quantiles, ))\n",
    "rfm['M'] = rfm['Monetary'].apply(RScore, args = ('Monetary', quantiles, ))\n",
    "'''"
   ]
  },
  {
   "cell_type": "code",
   "execution_count": null,
   "metadata": {},
   "outputs": [],
   "source": [
    "rfm.head()"
   ]
  },
  {
   "cell_type": "code",
   "execution_count": null,
   "metadata": {},
   "outputs": [],
   "source": [
    "rfm['RFM_Segment'] = rfm['R'].astype(str) + rfm['F'].astype(str) + rfm['M'].astype(str)\n",
    "rfm['RFM_Score'] = rfm[['R', 'F', 'M']].sum(axis = 1)"
   ]
  },
  {
   "cell_type": "code",
   "execution_count": null,
   "metadata": {},
   "outputs": [],
   "source": [
    "\n",
    "# RFM Score\n",
    "rfm['rfmSegment'] = rfm['R'].astype(str) + rfm['F'].astype(str)\n",
    "#rfm.drop(columns=['RFMScore'], inplace=True)\n",
    "rfm.head(5)"
   ]
  },
  {
   "cell_type": "code",
   "execution_count": null,
   "metadata": {},
   "outputs": [],
   "source": [
    "# Convert RFM Score to segment label\n",
    "rfmLabel = {\n",
    "    r'55': \"Champion\",\n",
    "    r'[3-5][4-5]': \"Loyal\",\n",
    "    r'[4-5][2-3]': \"Promising\",\n",
    "    r'51': \"New Customers\",\n",
    "    r'41': \"Warm Leads\",\n",
    "    r'31': \"Cold Leads\",\n",
    "    r'[2-3][2-3]': \"Need Attention\",\n",
    "    r'[1-2][5]': \"Shouldn't Lost\",\n",
    "    r'[1-2][3-4]': 'Sleepers',\n",
    "    r'[1-2][1-2]': \"Lost\"\n",
    "}\n",
    "\n",
    "rfm['Segment'] = rfm['rfmSegment'].replace(rfmLabel, regex = True)"
   ]
  },
  {
   "cell_type": "code",
   "execution_count": null,
   "metadata": {},
   "outputs": [],
   "source": [
    "rfm.head()"
   ]
  },
  {
   "cell_type": "code",
   "execution_count": null,
   "metadata": {},
   "outputs": [],
   "source": [
    "# RFM Result\n",
    "result = rfm.groupby(['Segment'])['Segment'].count()\n",
    "values = list(result)\n",
    "labels = result.index\n",
    "\n",
    "# Plot\n",
    "colors = [list(np.random.uniform(size = 4)) for i in range(len(values))]\n",
    "\n",
    "plt.figure(figsize = (18, 11))\n",
    "with plt.style.context('ggplot'):\n",
    "  squarify.plot(sizes = values, color = colors, label = labels)\n",
    "  plt.axis('off')\n",
    "  plt.title('Customer segmentation')\n",
    "  plt.show()"
   ]
  },
  {
   "cell_type": "code",
   "execution_count": null,
   "metadata": {},
   "outputs": [],
   "source": [
    "rfm.head()"
   ]
  },
  {
   "cell_type": "code",
   "execution_count": null,
   "metadata": {},
   "outputs": [],
   "source": [
    "vip_segment = rfm[rfm['Segment'] == \"Loyal\"]"
   ]
  },
  {
   "cell_type": "code",
   "execution_count": null,
   "metadata": {},
   "outputs": [],
   "source": [
    "fig = go.Figure()\n",
    "fig.add_trace(go.Box(y = vip_segment['Recency'], name = \"Recency\"))\n",
    "fig.add_trace(go.Box(y = vip_segment['Frequency'], name = \"Frequency\"))\n",
    "fig.add_trace(go.Box(y = vip_segment['Monetary'], name = \"Monetary\"))\n"
   ]
  },
  {
   "cell_type": "code",
   "execution_count": null,
   "metadata": {},
   "outputs": [],
   "source": [
    "correlation_matrix = vip_segment[['R', 'F', 'M']].corr()"
   ]
  },
  {
   "cell_type": "code",
   "execution_count": null,
   "metadata": {},
   "outputs": [],
   "source": [
    "#Create Heatmap\n",
    "\n",
    "fig_heatmap = go.Figure(data = go.Heatmap(\n",
    "                    z = correlation_matrix.values,\n",
    "                    x = correlation_matrix.columns,\n",
    "                    y = correlation_matrix.columns,\n",
    "                    colorscale = 'RdBu',\n",
    "                    colorbar = dict(title = 'Correlation')))\n",
    "\n",
    "fig_heatmap.update_layout(title = \"Correlation Matrix of RFM Monetary within Loyal Segment\")\n",
    "\n",
    "\n",
    "#Show Heatmap\n",
    "\n",
    "fig_heatmap.show()"
   ]
  },
  {
   "cell_type": "code",
   "execution_count": null,
   "metadata": {},
   "outputs": [],
   "source": [
    "data.to_csv(\"Cleaned_Data.csv\", index = False)"
   ]
  }
 ],
 "metadata": {
  "kernelspec": {
   "display_name": "Python 3",
   "language": "python",
   "name": "python3"
  },
  "language_info": {
   "codemirror_mode": {
    "name": "ipython",
    "version": 3
   },
   "file_extension": ".py",
   "mimetype": "text/x-python",
   "name": "python",
   "nbconvert_exporter": "python",
   "pygments_lexer": "ipython3",
   "version": "3.11.4"
  }
 },
 "nbformat": 4,
 "nbformat_minor": 2
}
