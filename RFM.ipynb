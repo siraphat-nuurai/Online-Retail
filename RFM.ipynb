{
 "cells": [
  {
   "cell_type": "code",
   "execution_count": 1,
   "metadata": {},
   "outputs": [
    {
     "name": "stdout",
     "output_type": "stream",
     "text": [
      "Requirement already satisfied: plotly in c:\\users\\admin\\appdata\\local\\programs\\python\\python311\\lib\\site-packages (6.0.0)\n",
      "Requirement already satisfied: narwhals>=1.15.1 in c:\\users\\admin\\appdata\\local\\programs\\python\\python311\\lib\\site-packages (from plotly) (1.28.0)\n",
      "Requirement already satisfied: packaging in c:\\users\\admin\\appdata\\local\\programs\\python\\python311\\lib\\site-packages (from plotly) (24.2)\n",
      "Note: you may need to restart the kernel to use updated packages.\n",
      "Requirement already satisfied: pandas in c:\\users\\admin\\appdata\\local\\programs\\python\\python311\\lib\\site-packages (2.2.3)\n",
      "Requirement already satisfied: numpy>=1.23.2 in c:\\users\\admin\\appdata\\local\\programs\\python\\python311\\lib\\site-packages (from pandas) (2.0.2)\n",
      "Requirement already satisfied: python-dateutil>=2.8.2 in c:\\users\\admin\\appdata\\roaming\\python\\python311\\site-packages (from pandas) (2.9.0.post0)\n",
      "Requirement already satisfied: pytz>=2020.1 in c:\\users\\admin\\appdata\\local\\programs\\python\\python311\\lib\\site-packages (from pandas) (2025.1)\n",
      "Requirement already satisfied: tzdata>=2022.7 in c:\\users\\admin\\appdata\\local\\programs\\python\\python311\\lib\\site-packages (from pandas) (2025.1)\n",
      "Requirement already satisfied: six>=1.5 in c:\\users\\admin\\appdata\\local\\programs\\python\\python311\\lib\\site-packages (from python-dateutil>=2.8.2->pandas) (1.17.0)\n",
      "Note: you may need to restart the kernel to use updated packages.\n",
      "Requirement already satisfied: nbformat in c:\\users\\admin\\appdata\\local\\programs\\python\\python311\\lib\\site-packages (5.10.4)\n",
      "Requirement already satisfied: fastjsonschema>=2.15 in c:\\users\\admin\\appdata\\local\\programs\\python\\python311\\lib\\site-packages (from nbformat) (2.21.1)\n",
      "Requirement already satisfied: jsonschema>=2.6 in c:\\users\\admin\\appdata\\local\\programs\\python\\python311\\lib\\site-packages (from nbformat) (4.23.0)\n",
      "Requirement already satisfied: jupyter-core!=5.0.*,>=4.12 in c:\\users\\admin\\appdata\\roaming\\python\\python311\\site-packages (from nbformat) (5.7.2)\n",
      "Requirement already satisfied: traitlets>=5.1 in c:\\users\\admin\\appdata\\roaming\\python\\python311\\site-packages (from nbformat) (5.14.3)\n",
      "Requirement already satisfied: attrs>=22.2.0 in c:\\users\\admin\\appdata\\local\\programs\\python\\python311\\lib\\site-packages (from jsonschema>=2.6->nbformat) (25.1.0)\n",
      "Requirement already satisfied: jsonschema-specifications>=2023.03.6 in c:\\users\\admin\\appdata\\local\\programs\\python\\python311\\lib\\site-packages (from jsonschema>=2.6->nbformat) (2024.10.1)\n",
      "Requirement already satisfied: referencing>=0.28.4 in c:\\users\\admin\\appdata\\local\\programs\\python\\python311\\lib\\site-packages (from jsonschema>=2.6->nbformat) (0.36.2)\n",
      "Requirement already satisfied: rpds-py>=0.7.1 in c:\\users\\admin\\appdata\\local\\programs\\python\\python311\\lib\\site-packages (from jsonschema>=2.6->nbformat) (0.23.1)\n",
      "Requirement already satisfied: platformdirs>=2.5 in c:\\users\\admin\\appdata\\roaming\\python\\python311\\site-packages (from jupyter-core!=5.0.*,>=4.12->nbformat) (4.3.6)\n",
      "Requirement already satisfied: pywin32>=300 in c:\\users\\admin\\appdata\\roaming\\python\\python311\\site-packages (from jupyter-core!=5.0.*,>=4.12->nbformat) (308)\n",
      "Requirement already satisfied: typing-extensions>=4.4.0 in c:\\users\\admin\\appdata\\local\\programs\\python\\python311\\lib\\site-packages (from referencing>=0.28.4->jsonschema>=2.6->nbformat) (4.12.2)\n",
      "Note: you may need to restart the kernel to use updated packages.\n"
     ]
    },
    {
     "data": {
      "text/plain": [
       "'pip install numpy\\npip install lifetimes\\npip install --upgrade matplotlib\\npip install seaborn\\npip install scikit-learn'"
      ]
     },
     "execution_count": 1,
     "metadata": {},
     "output_type": "execute_result"
    }
   ],
   "source": [
    "%pip install plotly\n",
    "%pip install pandas\n",
    "%pip install nbformat --upgrade\n",
    "'''pip install numpy\n",
    "pip install lifetimes\n",
    "pip install --upgrade matplotlib\n",
    "pip install seaborn\n",
    "pip install scikit-learn'''"
   ]
  },
  {
   "cell_type": "code",
   "execution_count": 2,
   "metadata": {},
   "outputs": [],
   "source": [
    "\n",
    "import pandas as pd\n",
    "from datetime import datetime as dt\n",
    "from datetime import timedelta\n",
    "import plotly.express as px\n",
    "import plotly.graph_objects as go\n",
    "import plotly.colors\n"
   ]
  },
  {
   "cell_type": "code",
   "execution_count": 6,
   "metadata": {},
   "outputs": [
    {
     "data": {
      "application/vnd.microsoft.datawrangler.viewer.v0+json": {
       "columns": [
        {
         "name": "index",
         "rawType": "int64",
         "type": "integer"
        },
        {
         "name": "InvoiceNo",
         "rawType": "object",
         "type": "string"
        },
        {
         "name": "StockCode",
         "rawType": "object",
         "type": "string"
        },
        {
         "name": "Description",
         "rawType": "object",
         "type": "string"
        },
        {
         "name": "Quantity",
         "rawType": "int64",
         "type": "integer"
        },
        {
         "name": "InvoiceDate",
         "rawType": "object",
         "type": "string"
        },
        {
         "name": "UnitPrice",
         "rawType": "float64",
         "type": "float"
        },
        {
         "name": "CustomerID",
         "rawType": "float64",
         "type": "float"
        },
        {
         "name": "Country",
         "rawType": "object",
         "type": "string"
        }
       ],
       "conversionMethod": "pd.DataFrame",
       "ref": "f7a6d607-7722-4b0a-ad52-917eeeca649b",
       "rows": [
        [
         "0",
         "536365",
         "85123A",
         "WHITE HANGING HEART T-LIGHT HOLDER",
         "6",
         "2010-12-01 08:26:00",
         "2.55",
         "17850.0",
         "United Kingdom"
        ],
        [
         "1",
         "536365",
         "71053",
         "WHITE METAL LANTERN",
         "6",
         "2010-12-01 08:26:00",
         "3.39",
         "17850.0",
         "United Kingdom"
        ],
        [
         "2",
         "536365",
         "84406B",
         "CREAM CUPID HEARTS COAT HANGER",
         "8",
         "2010-12-01 08:26:00",
         "2.75",
         "17850.0",
         "United Kingdom"
        ],
        [
         "3",
         "536365",
         "84029G",
         "KNITTED UNION FLAG HOT WATER BOTTLE",
         "6",
         "2010-12-01 08:26:00",
         "3.39",
         "17850.0",
         "United Kingdom"
        ],
        [
         "4",
         "536365",
         "84029E",
         "RED WOOLLY HOTTIE WHITE HEART.",
         "6",
         "2010-12-01 08:26:00",
         "3.39",
         "17850.0",
         "United Kingdom"
        ]
       ],
       "shape": {
        "columns": 8,
        "rows": 5
       }
      },
      "text/html": [
       "<div>\n",
       "<style scoped>\n",
       "    .dataframe tbody tr th:only-of-type {\n",
       "        vertical-align: middle;\n",
       "    }\n",
       "\n",
       "    .dataframe tbody tr th {\n",
       "        vertical-align: top;\n",
       "    }\n",
       "\n",
       "    .dataframe thead th {\n",
       "        text-align: right;\n",
       "    }\n",
       "</style>\n",
       "<table border=\"1\" class=\"dataframe\">\n",
       "  <thead>\n",
       "    <tr style=\"text-align: right;\">\n",
       "      <th></th>\n",
       "      <th>InvoiceNo</th>\n",
       "      <th>StockCode</th>\n",
       "      <th>Description</th>\n",
       "      <th>Quantity</th>\n",
       "      <th>InvoiceDate</th>\n",
       "      <th>UnitPrice</th>\n",
       "      <th>CustomerID</th>\n",
       "      <th>Country</th>\n",
       "    </tr>\n",
       "  </thead>\n",
       "  <tbody>\n",
       "    <tr>\n",
       "      <th>0</th>\n",
       "      <td>536365</td>\n",
       "      <td>85123A</td>\n",
       "      <td>WHITE HANGING HEART T-LIGHT HOLDER</td>\n",
       "      <td>6</td>\n",
       "      <td>2010-12-01 08:26:00</td>\n",
       "      <td>2.55</td>\n",
       "      <td>17850.0</td>\n",
       "      <td>United Kingdom</td>\n",
       "    </tr>\n",
       "    <tr>\n",
       "      <th>1</th>\n",
       "      <td>536365</td>\n",
       "      <td>71053</td>\n",
       "      <td>WHITE METAL LANTERN</td>\n",
       "      <td>6</td>\n",
       "      <td>2010-12-01 08:26:00</td>\n",
       "      <td>3.39</td>\n",
       "      <td>17850.0</td>\n",
       "      <td>United Kingdom</td>\n",
       "    </tr>\n",
       "    <tr>\n",
       "      <th>2</th>\n",
       "      <td>536365</td>\n",
       "      <td>84406B</td>\n",
       "      <td>CREAM CUPID HEARTS COAT HANGER</td>\n",
       "      <td>8</td>\n",
       "      <td>2010-12-01 08:26:00</td>\n",
       "      <td>2.75</td>\n",
       "      <td>17850.0</td>\n",
       "      <td>United Kingdom</td>\n",
       "    </tr>\n",
       "    <tr>\n",
       "      <th>3</th>\n",
       "      <td>536365</td>\n",
       "      <td>84029G</td>\n",
       "      <td>KNITTED UNION FLAG HOT WATER BOTTLE</td>\n",
       "      <td>6</td>\n",
       "      <td>2010-12-01 08:26:00</td>\n",
       "      <td>3.39</td>\n",
       "      <td>17850.0</td>\n",
       "      <td>United Kingdom</td>\n",
       "    </tr>\n",
       "    <tr>\n",
       "      <th>4</th>\n",
       "      <td>536365</td>\n",
       "      <td>84029E</td>\n",
       "      <td>RED WOOLLY HOTTIE WHITE HEART.</td>\n",
       "      <td>6</td>\n",
       "      <td>2010-12-01 08:26:00</td>\n",
       "      <td>3.39</td>\n",
       "      <td>17850.0</td>\n",
       "      <td>United Kingdom</td>\n",
       "    </tr>\n",
       "  </tbody>\n",
       "</table>\n",
       "</div>"
      ],
      "text/plain": [
       "  InvoiceNo StockCode                          Description  Quantity  \\\n",
       "0    536365    85123A   WHITE HANGING HEART T-LIGHT HOLDER         6   \n",
       "1    536365     71053                  WHITE METAL LANTERN         6   \n",
       "2    536365    84406B       CREAM CUPID HEARTS COAT HANGER         8   \n",
       "3    536365    84029G  KNITTED UNION FLAG HOT WATER BOTTLE         6   \n",
       "4    536365    84029E       RED WOOLLY HOTTIE WHITE HEART.         6   \n",
       "\n",
       "           InvoiceDate  UnitPrice  CustomerID         Country  \n",
       "0  2010-12-01 08:26:00       2.55     17850.0  United Kingdom  \n",
       "1  2010-12-01 08:26:00       3.39     17850.0  United Kingdom  \n",
       "2  2010-12-01 08:26:00       2.75     17850.0  United Kingdom  \n",
       "3  2010-12-01 08:26:00       3.39     17850.0  United Kingdom  \n",
       "4  2010-12-01 08:26:00       3.39     17850.0  United Kingdom  "
      ]
     },
     "execution_count": 6,
     "metadata": {},
     "output_type": "execute_result"
    }
   ],
   "source": [
    "data = pd.read_csv('C:\\\\Users\\\\Admin\\\\OneDrive\\\\Desktop\\\\Jupyter\\\\Online Retail\\\\online_retail.csv')\n",
    "data.head()"
   ]
  },
  {
   "cell_type": "code",
   "execution_count": 7,
   "metadata": {},
   "outputs": [
    {
     "data": {
      "application/vnd.microsoft.datawrangler.viewer.v0+json": {
       "columns": [
        {
         "name": "index",
         "rawType": "int64",
         "type": "integer"
        },
        {
         "name": "InvoiceNo",
         "rawType": "object",
         "type": "string"
        },
        {
         "name": "StockCode",
         "rawType": "object",
         "type": "string"
        },
        {
         "name": "Description",
         "rawType": "object",
         "type": "string"
        },
        {
         "name": "Quantity",
         "rawType": "int64",
         "type": "integer"
        },
        {
         "name": "InvoiceDate",
         "rawType": "object",
         "type": "string"
        },
        {
         "name": "UnitPrice",
         "rawType": "float64",
         "type": "float"
        },
        {
         "name": "CustomerID",
         "rawType": "float64",
         "type": "float"
        },
        {
         "name": "Country",
         "rawType": "object",
         "type": "string"
        }
       ],
       "conversionMethod": "pd.DataFrame",
       "ref": "1b57c0d0-e6b7-4f07-9b7a-cc3550acd062",
       "rows": [
        [
         "541904",
         "581587",
         "22613",
         "PACK OF 20 SPACEBOY NAPKINS",
         "12",
         "2011-12-09 12:50:00",
         "0.85",
         "12680.0",
         "France"
        ],
        [
         "541905",
         "581587",
         "22899",
         "CHILDREN'S APRON DOLLY GIRL ",
         "6",
         "2011-12-09 12:50:00",
         "2.1",
         "12680.0",
         "France"
        ],
        [
         "541906",
         "581587",
         "23254",
         "CHILDRENS CUTLERY DOLLY GIRL ",
         "4",
         "2011-12-09 12:50:00",
         "4.15",
         "12680.0",
         "France"
        ],
        [
         "541907",
         "581587",
         "23255",
         "CHILDRENS CUTLERY CIRCUS PARADE",
         "4",
         "2011-12-09 12:50:00",
         "4.15",
         "12680.0",
         "France"
        ],
        [
         "541908",
         "581587",
         "22138",
         "BAKING SET 9 PIECE RETROSPOT ",
         "3",
         "2011-12-09 12:50:00",
         "4.95",
         "12680.0",
         "France"
        ]
       ],
       "shape": {
        "columns": 8,
        "rows": 5
       }
      },
      "text/html": [
       "<div>\n",
       "<style scoped>\n",
       "    .dataframe tbody tr th:only-of-type {\n",
       "        vertical-align: middle;\n",
       "    }\n",
       "\n",
       "    .dataframe tbody tr th {\n",
       "        vertical-align: top;\n",
       "    }\n",
       "\n",
       "    .dataframe thead th {\n",
       "        text-align: right;\n",
       "    }\n",
       "</style>\n",
       "<table border=\"1\" class=\"dataframe\">\n",
       "  <thead>\n",
       "    <tr style=\"text-align: right;\">\n",
       "      <th></th>\n",
       "      <th>InvoiceNo</th>\n",
       "      <th>StockCode</th>\n",
       "      <th>Description</th>\n",
       "      <th>Quantity</th>\n",
       "      <th>InvoiceDate</th>\n",
       "      <th>UnitPrice</th>\n",
       "      <th>CustomerID</th>\n",
       "      <th>Country</th>\n",
       "    </tr>\n",
       "  </thead>\n",
       "  <tbody>\n",
       "    <tr>\n",
       "      <th>541904</th>\n",
       "      <td>581587</td>\n",
       "      <td>22613</td>\n",
       "      <td>PACK OF 20 SPACEBOY NAPKINS</td>\n",
       "      <td>12</td>\n",
       "      <td>2011-12-09 12:50:00</td>\n",
       "      <td>0.85</td>\n",
       "      <td>12680.0</td>\n",
       "      <td>France</td>\n",
       "    </tr>\n",
       "    <tr>\n",
       "      <th>541905</th>\n",
       "      <td>581587</td>\n",
       "      <td>22899</td>\n",
       "      <td>CHILDREN'S APRON DOLLY GIRL</td>\n",
       "      <td>6</td>\n",
       "      <td>2011-12-09 12:50:00</td>\n",
       "      <td>2.10</td>\n",
       "      <td>12680.0</td>\n",
       "      <td>France</td>\n",
       "    </tr>\n",
       "    <tr>\n",
       "      <th>541906</th>\n",
       "      <td>581587</td>\n",
       "      <td>23254</td>\n",
       "      <td>CHILDRENS CUTLERY DOLLY GIRL</td>\n",
       "      <td>4</td>\n",
       "      <td>2011-12-09 12:50:00</td>\n",
       "      <td>4.15</td>\n",
       "      <td>12680.0</td>\n",
       "      <td>France</td>\n",
       "    </tr>\n",
       "    <tr>\n",
       "      <th>541907</th>\n",
       "      <td>581587</td>\n",
       "      <td>23255</td>\n",
       "      <td>CHILDRENS CUTLERY CIRCUS PARADE</td>\n",
       "      <td>4</td>\n",
       "      <td>2011-12-09 12:50:00</td>\n",
       "      <td>4.15</td>\n",
       "      <td>12680.0</td>\n",
       "      <td>France</td>\n",
       "    </tr>\n",
       "    <tr>\n",
       "      <th>541908</th>\n",
       "      <td>581587</td>\n",
       "      <td>22138</td>\n",
       "      <td>BAKING SET 9 PIECE RETROSPOT</td>\n",
       "      <td>3</td>\n",
       "      <td>2011-12-09 12:50:00</td>\n",
       "      <td>4.95</td>\n",
       "      <td>12680.0</td>\n",
       "      <td>France</td>\n",
       "    </tr>\n",
       "  </tbody>\n",
       "</table>\n",
       "</div>"
      ],
      "text/plain": [
       "       InvoiceNo StockCode                      Description  Quantity  \\\n",
       "541904    581587     22613      PACK OF 20 SPACEBOY NAPKINS        12   \n",
       "541905    581587     22899     CHILDREN'S APRON DOLLY GIRL          6   \n",
       "541906    581587     23254    CHILDRENS CUTLERY DOLLY GIRL          4   \n",
       "541907    581587     23255  CHILDRENS CUTLERY CIRCUS PARADE         4   \n",
       "541908    581587     22138    BAKING SET 9 PIECE RETROSPOT          3   \n",
       "\n",
       "                InvoiceDate  UnitPrice  CustomerID Country  \n",
       "541904  2011-12-09 12:50:00       0.85     12680.0  France  \n",
       "541905  2011-12-09 12:50:00       2.10     12680.0  France  \n",
       "541906  2011-12-09 12:50:00       4.15     12680.0  France  \n",
       "541907  2011-12-09 12:50:00       4.15     12680.0  France  \n",
       "541908  2011-12-09 12:50:00       4.95     12680.0  France  "
      ]
     },
     "execution_count": 7,
     "metadata": {},
     "output_type": "execute_result"
    }
   ],
   "source": [
    "data.tail()"
   ]
  },
  {
   "cell_type": "code",
   "execution_count": 8,
   "metadata": {},
   "outputs": [],
   "source": [
    "data.dropna(subset = ['CustomerID'], inplace = True)"
   ]
  },
  {
   "cell_type": "code",
   "execution_count": 9,
   "metadata": {},
   "outputs": [],
   "source": [
    "data['InvoiceDate'] = pd.to_datetime(data['InvoiceDate'])\n",
    "data['TotalAmount'] = (data['Quantity'] * data['UnitPrice']).astype('Float64').round(2)"
   ]
  },
  {
   "cell_type": "code",
   "execution_count": 10,
   "metadata": {},
   "outputs": [
    {
     "data": {
      "application/vnd.microsoft.datawrangler.viewer.v0+json": {
       "columns": [
        {
         "name": "index",
         "rawType": "int64",
         "type": "integer"
        },
        {
         "name": "InvoiceNo",
         "rawType": "object",
         "type": "string"
        },
        {
         "name": "StockCode",
         "rawType": "object",
         "type": "string"
        },
        {
         "name": "Description",
         "rawType": "object",
         "type": "string"
        },
        {
         "name": "Quantity",
         "rawType": "int64",
         "type": "integer"
        },
        {
         "name": "InvoiceDate",
         "rawType": "datetime64[ns]",
         "type": "datetime"
        },
        {
         "name": "UnitPrice",
         "rawType": "float64",
         "type": "float"
        },
        {
         "name": "CustomerID",
         "rawType": "float64",
         "type": "float"
        },
        {
         "name": "Country",
         "rawType": "object",
         "type": "string"
        },
        {
         "name": "TotalAmount",
         "rawType": "Float64",
         "type": "float"
        }
       ],
       "conversionMethod": "pd.DataFrame",
       "ref": "eea1e4c1-a3a9-4a3c-ab23-a8885961fa4e",
       "rows": [
        [
         "0",
         "536365",
         "85123A",
         "WHITE HANGING HEART T-LIGHT HOLDER",
         "6",
         "2010-12-01 08:26:00",
         "2.55",
         "17850.0",
         "United Kingdom",
         "15.3"
        ],
        [
         "1",
         "536365",
         "71053",
         "WHITE METAL LANTERN",
         "6",
         "2010-12-01 08:26:00",
         "3.39",
         "17850.0",
         "United Kingdom",
         "20.34"
        ],
        [
         "2",
         "536365",
         "84406B",
         "CREAM CUPID HEARTS COAT HANGER",
         "8",
         "2010-12-01 08:26:00",
         "2.75",
         "17850.0",
         "United Kingdom",
         "22.0"
        ],
        [
         "3",
         "536365",
         "84029G",
         "KNITTED UNION FLAG HOT WATER BOTTLE",
         "6",
         "2010-12-01 08:26:00",
         "3.39",
         "17850.0",
         "United Kingdom",
         "20.34"
        ],
        [
         "4",
         "536365",
         "84029E",
         "RED WOOLLY HOTTIE WHITE HEART.",
         "6",
         "2010-12-01 08:26:00",
         "3.39",
         "17850.0",
         "United Kingdom",
         "20.34"
        ]
       ],
       "shape": {
        "columns": 9,
        "rows": 5
       }
      },
      "text/html": [
       "<div>\n",
       "<style scoped>\n",
       "    .dataframe tbody tr th:only-of-type {\n",
       "        vertical-align: middle;\n",
       "    }\n",
       "\n",
       "    .dataframe tbody tr th {\n",
       "        vertical-align: top;\n",
       "    }\n",
       "\n",
       "    .dataframe thead th {\n",
       "        text-align: right;\n",
       "    }\n",
       "</style>\n",
       "<table border=\"1\" class=\"dataframe\">\n",
       "  <thead>\n",
       "    <tr style=\"text-align: right;\">\n",
       "      <th></th>\n",
       "      <th>InvoiceNo</th>\n",
       "      <th>StockCode</th>\n",
       "      <th>Description</th>\n",
       "      <th>Quantity</th>\n",
       "      <th>InvoiceDate</th>\n",
       "      <th>UnitPrice</th>\n",
       "      <th>CustomerID</th>\n",
       "      <th>Country</th>\n",
       "      <th>TotalAmount</th>\n",
       "    </tr>\n",
       "  </thead>\n",
       "  <tbody>\n",
       "    <tr>\n",
       "      <th>0</th>\n",
       "      <td>536365</td>\n",
       "      <td>85123A</td>\n",
       "      <td>WHITE HANGING HEART T-LIGHT HOLDER</td>\n",
       "      <td>6</td>\n",
       "      <td>2010-12-01 08:26:00</td>\n",
       "      <td>2.55</td>\n",
       "      <td>17850.0</td>\n",
       "      <td>United Kingdom</td>\n",
       "      <td>15.3</td>\n",
       "    </tr>\n",
       "    <tr>\n",
       "      <th>1</th>\n",
       "      <td>536365</td>\n",
       "      <td>71053</td>\n",
       "      <td>WHITE METAL LANTERN</td>\n",
       "      <td>6</td>\n",
       "      <td>2010-12-01 08:26:00</td>\n",
       "      <td>3.39</td>\n",
       "      <td>17850.0</td>\n",
       "      <td>United Kingdom</td>\n",
       "      <td>20.34</td>\n",
       "    </tr>\n",
       "    <tr>\n",
       "      <th>2</th>\n",
       "      <td>536365</td>\n",
       "      <td>84406B</td>\n",
       "      <td>CREAM CUPID HEARTS COAT HANGER</td>\n",
       "      <td>8</td>\n",
       "      <td>2010-12-01 08:26:00</td>\n",
       "      <td>2.75</td>\n",
       "      <td>17850.0</td>\n",
       "      <td>United Kingdom</td>\n",
       "      <td>22.0</td>\n",
       "    </tr>\n",
       "    <tr>\n",
       "      <th>3</th>\n",
       "      <td>536365</td>\n",
       "      <td>84029G</td>\n",
       "      <td>KNITTED UNION FLAG HOT WATER BOTTLE</td>\n",
       "      <td>6</td>\n",
       "      <td>2010-12-01 08:26:00</td>\n",
       "      <td>3.39</td>\n",
       "      <td>17850.0</td>\n",
       "      <td>United Kingdom</td>\n",
       "      <td>20.34</td>\n",
       "    </tr>\n",
       "    <tr>\n",
       "      <th>4</th>\n",
       "      <td>536365</td>\n",
       "      <td>84029E</td>\n",
       "      <td>RED WOOLLY HOTTIE WHITE HEART.</td>\n",
       "      <td>6</td>\n",
       "      <td>2010-12-01 08:26:00</td>\n",
       "      <td>3.39</td>\n",
       "      <td>17850.0</td>\n",
       "      <td>United Kingdom</td>\n",
       "      <td>20.34</td>\n",
       "    </tr>\n",
       "  </tbody>\n",
       "</table>\n",
       "</div>"
      ],
      "text/plain": [
       "  InvoiceNo StockCode                          Description  Quantity  \\\n",
       "0    536365    85123A   WHITE HANGING HEART T-LIGHT HOLDER         6   \n",
       "1    536365     71053                  WHITE METAL LANTERN         6   \n",
       "2    536365    84406B       CREAM CUPID HEARTS COAT HANGER         8   \n",
       "3    536365    84029G  KNITTED UNION FLAG HOT WATER BOTTLE         6   \n",
       "4    536365    84029E       RED WOOLLY HOTTIE WHITE HEART.         6   \n",
       "\n",
       "          InvoiceDate  UnitPrice  CustomerID         Country  TotalAmount  \n",
       "0 2010-12-01 08:26:00       2.55     17850.0  United Kingdom         15.3  \n",
       "1 2010-12-01 08:26:00       3.39     17850.0  United Kingdom        20.34  \n",
       "2 2010-12-01 08:26:00       2.75     17850.0  United Kingdom         22.0  \n",
       "3 2010-12-01 08:26:00       3.39     17850.0  United Kingdom        20.34  \n",
       "4 2010-12-01 08:26:00       3.39     17850.0  United Kingdom        20.34  "
      ]
     },
     "execution_count": 10,
     "metadata": {},
     "output_type": "execute_result"
    }
   ],
   "source": [
    "data.head()"
   ]
  },
  {
   "cell_type": "code",
   "execution_count": 11,
   "metadata": {},
   "outputs": [],
   "source": [
    "reference_date = pd.Timestamp(dt.now().date())\n",
    "#reference_date"
   ]
  },
  {
   "cell_type": "code",
   "execution_count": 12,
   "metadata": {},
   "outputs": [
    {
     "data": {
      "text/plain": [
       "Timestamp('2011-12-10 12:50:00')"
      ]
     },
     "execution_count": 12,
     "metadata": {},
     "output_type": "execute_result"
    }
   ],
   "source": [
    "reference_date = data['InvoiceDate'].max() + timedelta(days = 1)\n",
    "reference_date"
   ]
  },
  {
   "cell_type": "code",
   "execution_count": 14,
   "metadata": {},
   "outputs": [],
   "source": [
    "'''\n",
    "Recency : ลูกค้าที่สั่งซื้อสินค้าล่าสุดวันนี้ จะได้ R Score > ลูกค้าที่สั่งซื้อสินค้าล่าสุดเมื่อ 3 ปีที่แล้ว\n",
    "Frequency : ลูกค้าที่สั่งซื้อสินค้าบ่อยที่สุดในร้าน จะได้ F Score > ลูกค้าmujสั่งซื้อสินค้าน้อยครั้งที่สุดในร้าน\n",
    "Monetary : ลูกค้าที่ช้จ่ายเยอะที่สุดในร้าน จะได้ M Score > ลูกค้าที่ใช้จ่ายน้อยที่สุดในร้าน\n",
    "'''\n",
    "#ทำRFM Analysis โดย group by Customer ID\n",
    "rfm = data.groupby('CustomerID').agg({\n",
    "    'InvoiceDate' : lambda x: (reference_date - x.max()).days,\n",
    "    'InvoiceNo' : 'count',\n",
    "    'TotalAmount' : 'sum'\n",
    "})"
   ]
  },
  {
   "cell_type": "code",
   "execution_count": 15,
   "metadata": {},
   "outputs": [
    {
     "data": {
      "application/vnd.microsoft.datawrangler.viewer.v0+json": {
       "columns": [
        {
         "name": "CustomerID",
         "rawType": "float64",
         "type": "float"
        },
        {
         "name": "Recency",
         "rawType": "int64",
         "type": "integer"
        },
        {
         "name": "Frequency",
         "rawType": "int64",
         "type": "integer"
        },
        {
         "name": "Monetary",
         "rawType": "Float64",
         "type": "float"
        }
       ],
       "conversionMethod": "pd.DataFrame",
       "ref": "0e245d6e-9ef9-4af5-9071-fccc17c396d0",
       "rows": [
        [
         "12346.0",
         "326",
         "2",
         "0.0"
        ],
        [
         "12347.0",
         "2",
         "182",
         "4310.0"
        ],
        [
         "12348.0",
         "75",
         "31",
         "1797.24"
        ],
        [
         "12349.0",
         "19",
         "73",
         "1757.55"
        ],
        [
         "12350.0",
         "310",
         "17",
         "334.4"
        ]
       ],
       "shape": {
        "columns": 3,
        "rows": 5
       }
      },
      "text/html": [
       "<div>\n",
       "<style scoped>\n",
       "    .dataframe tbody tr th:only-of-type {\n",
       "        vertical-align: middle;\n",
       "    }\n",
       "\n",
       "    .dataframe tbody tr th {\n",
       "        vertical-align: top;\n",
       "    }\n",
       "\n",
       "    .dataframe thead th {\n",
       "        text-align: right;\n",
       "    }\n",
       "</style>\n",
       "<table border=\"1\" class=\"dataframe\">\n",
       "  <thead>\n",
       "    <tr style=\"text-align: right;\">\n",
       "      <th></th>\n",
       "      <th>Recency</th>\n",
       "      <th>Frequency</th>\n",
       "      <th>Monetary</th>\n",
       "    </tr>\n",
       "    <tr>\n",
       "      <th>CustomerID</th>\n",
       "      <th></th>\n",
       "      <th></th>\n",
       "      <th></th>\n",
       "    </tr>\n",
       "  </thead>\n",
       "  <tbody>\n",
       "    <tr>\n",
       "      <th>12346.0</th>\n",
       "      <td>326</td>\n",
       "      <td>2</td>\n",
       "      <td>0.0</td>\n",
       "    </tr>\n",
       "    <tr>\n",
       "      <th>12347.0</th>\n",
       "      <td>2</td>\n",
       "      <td>182</td>\n",
       "      <td>4310.0</td>\n",
       "    </tr>\n",
       "    <tr>\n",
       "      <th>12348.0</th>\n",
       "      <td>75</td>\n",
       "      <td>31</td>\n",
       "      <td>1797.24</td>\n",
       "    </tr>\n",
       "    <tr>\n",
       "      <th>12349.0</th>\n",
       "      <td>19</td>\n",
       "      <td>73</td>\n",
       "      <td>1757.55</td>\n",
       "    </tr>\n",
       "    <tr>\n",
       "      <th>12350.0</th>\n",
       "      <td>310</td>\n",
       "      <td>17</td>\n",
       "      <td>334.4</td>\n",
       "    </tr>\n",
       "  </tbody>\n",
       "</table>\n",
       "</div>"
      ],
      "text/plain": [
       "            Recency  Frequency  Monetary\n",
       "CustomerID                              \n",
       "12346.0         326          2       0.0\n",
       "12347.0           2        182    4310.0\n",
       "12348.0          75         31   1797.24\n",
       "12349.0          19         73   1757.55\n",
       "12350.0         310         17     334.4"
      ]
     },
     "execution_count": 15,
     "metadata": {},
     "output_type": "execute_result"
    }
   ],
   "source": [
    "#ทำตารางRFM\n",
    "rfm.rename(columns = {'InvoiceDate': 'Recency', 'InvoiceNo' : 'Frequency', \n",
    "                      'TotalAmount' : 'Monetary'}, inplace = True)\n",
    "rfm.head()"
   ]
  },
  {
   "cell_type": "code",
   "execution_count": 16,
   "metadata": {},
   "outputs": [],
   "source": [
    "#ระบุ Quantiles\n",
    "quantiles = rfm.quantile(q = [0.25, 0.50, 0.75])\n",
    "\n",
    "#จัดคะแนนตามRFM\n",
    "# x คือ ค่าที่จะกลายเป็นscore ในRFM\n",
    "# p คือ column name ในRFM\n",
    "# d คือ data frame ที่เก็บquantiles\n",
    "def RScore(x, p, d):\n",
    "    #Recency\n",
    "    if (p == 'Recency'):\n",
    "        if (x <= d[p][0.25]):\n",
    "            return 4\n",
    "        elif (x <= d[p][0.50]):\n",
    "            return 3\n",
    "        elif (x <= d[p][0.75]):\n",
    "            return 2\n",
    "        else:\n",
    "            return 1\n",
    "    # Frequency, Monetery\n",
    "    else:\n",
    "        if (x <= d[p][0.25]):\n",
    "            return 1\n",
    "        elif (x <= d[p][0.50]):\n",
    "            return 2\n",
    "        elif (x <= d[p][0.75]):\n",
    "            return 3\n",
    "        else:\n",
    "            return 4\n",
    "        \n",
    "        \n",
    "rfm['R'] = rfm['Recency'].apply(RScore, args = ('Recency', quantiles, ))\n",
    "rfm['F'] = rfm['Frequency'].apply(RScore, args = ('Frequency', quantiles, ))\n",
    "rfm['M'] = rfm['Monetary'].apply(RScore, args = ('Monetary', quantiles, ))"
   ]
  },
  {
   "cell_type": "code",
   "execution_count": 17,
   "metadata": {},
   "outputs": [
    {
     "data": {
      "application/vnd.microsoft.datawrangler.viewer.v0+json": {
       "columns": [
        {
         "name": "CustomerID",
         "rawType": "float64",
         "type": "float"
        },
        {
         "name": "Recency",
         "rawType": "int64",
         "type": "integer"
        },
        {
         "name": "Frequency",
         "rawType": "int64",
         "type": "integer"
        },
        {
         "name": "Monetary",
         "rawType": "Float64",
         "type": "float"
        },
        {
         "name": "R",
         "rawType": "int64",
         "type": "integer"
        },
        {
         "name": "F",
         "rawType": "int64",
         "type": "integer"
        },
        {
         "name": "M",
         "rawType": "int64",
         "type": "integer"
        }
       ],
       "conversionMethod": "pd.DataFrame",
       "ref": "aeb5d8b2-62bc-45f7-a557-eb024e85ab44",
       "rows": [
        [
         "12346.0",
         "326",
         "2",
         "0.0",
         "1",
         "1",
         "1"
        ],
        [
         "12347.0",
         "2",
         "182",
         "4310.0",
         "4",
         "4",
         "4"
        ],
        [
         "12348.0",
         "75",
         "31",
         "1797.24",
         "2",
         "2",
         "4"
        ],
        [
         "12349.0",
         "19",
         "73",
         "1757.55",
         "3",
         "3",
         "4"
        ],
        [
         "12350.0",
         "310",
         "17",
         "334.4",
         "1",
         "1",
         "2"
        ]
       ],
       "shape": {
        "columns": 6,
        "rows": 5
       }
      },
      "text/html": [
       "<div>\n",
       "<style scoped>\n",
       "    .dataframe tbody tr th:only-of-type {\n",
       "        vertical-align: middle;\n",
       "    }\n",
       "\n",
       "    .dataframe tbody tr th {\n",
       "        vertical-align: top;\n",
       "    }\n",
       "\n",
       "    .dataframe thead th {\n",
       "        text-align: right;\n",
       "    }\n",
       "</style>\n",
       "<table border=\"1\" class=\"dataframe\">\n",
       "  <thead>\n",
       "    <tr style=\"text-align: right;\">\n",
       "      <th></th>\n",
       "      <th>Recency</th>\n",
       "      <th>Frequency</th>\n",
       "      <th>Monetary</th>\n",
       "      <th>R</th>\n",
       "      <th>F</th>\n",
       "      <th>M</th>\n",
       "    </tr>\n",
       "    <tr>\n",
       "      <th>CustomerID</th>\n",
       "      <th></th>\n",
       "      <th></th>\n",
       "      <th></th>\n",
       "      <th></th>\n",
       "      <th></th>\n",
       "      <th></th>\n",
       "    </tr>\n",
       "  </thead>\n",
       "  <tbody>\n",
       "    <tr>\n",
       "      <th>12346.0</th>\n",
       "      <td>326</td>\n",
       "      <td>2</td>\n",
       "      <td>0.0</td>\n",
       "      <td>1</td>\n",
       "      <td>1</td>\n",
       "      <td>1</td>\n",
       "    </tr>\n",
       "    <tr>\n",
       "      <th>12347.0</th>\n",
       "      <td>2</td>\n",
       "      <td>182</td>\n",
       "      <td>4310.0</td>\n",
       "      <td>4</td>\n",
       "      <td>4</td>\n",
       "      <td>4</td>\n",
       "    </tr>\n",
       "    <tr>\n",
       "      <th>12348.0</th>\n",
       "      <td>75</td>\n",
       "      <td>31</td>\n",
       "      <td>1797.24</td>\n",
       "      <td>2</td>\n",
       "      <td>2</td>\n",
       "      <td>4</td>\n",
       "    </tr>\n",
       "    <tr>\n",
       "      <th>12349.0</th>\n",
       "      <td>19</td>\n",
       "      <td>73</td>\n",
       "      <td>1757.55</td>\n",
       "      <td>3</td>\n",
       "      <td>3</td>\n",
       "      <td>4</td>\n",
       "    </tr>\n",
       "    <tr>\n",
       "      <th>12350.0</th>\n",
       "      <td>310</td>\n",
       "      <td>17</td>\n",
       "      <td>334.4</td>\n",
       "      <td>1</td>\n",
       "      <td>1</td>\n",
       "      <td>2</td>\n",
       "    </tr>\n",
       "  </tbody>\n",
       "</table>\n",
       "</div>"
      ],
      "text/plain": [
       "            Recency  Frequency  Monetary  R  F  M\n",
       "CustomerID                                       \n",
       "12346.0         326          2       0.0  1  1  1\n",
       "12347.0           2        182    4310.0  4  4  4\n",
       "12348.0          75         31   1797.24  2  2  4\n",
       "12349.0          19         73   1757.55  3  3  4\n",
       "12350.0         310         17     334.4  1  1  2"
      ]
     },
     "execution_count": 17,
     "metadata": {},
     "output_type": "execute_result"
    }
   ],
   "source": [
    "rfm.head()"
   ]
  },
  {
   "cell_type": "code",
   "execution_count": 18,
   "metadata": {},
   "outputs": [],
   "source": [
    "rfm['RFM_Segment'] = rfm['R'].astype(str) + rfm['F'].astype(str) + rfm['M'].astype(str)\n",
    "rfm['RFM_Score'] = rfm[['R', 'F', 'M']].sum(axis = 1)"
   ]
  },
  {
   "cell_type": "code",
   "execution_count": 19,
   "metadata": {},
   "outputs": [
    {
     "data": {
      "application/vnd.microsoft.datawrangler.viewer.v0+json": {
       "columns": [
        {
         "name": "CustomerID",
         "rawType": "float64",
         "type": "float"
        },
        {
         "name": "Recency",
         "rawType": "int64",
         "type": "integer"
        },
        {
         "name": "Frequency",
         "rawType": "int64",
         "type": "integer"
        },
        {
         "name": "Monetary",
         "rawType": "Float64",
         "type": "float"
        },
        {
         "name": "R",
         "rawType": "int64",
         "type": "integer"
        },
        {
         "name": "F",
         "rawType": "int64",
         "type": "integer"
        },
        {
         "name": "M",
         "rawType": "int64",
         "type": "integer"
        },
        {
         "name": "RFM_Segment",
         "rawType": "object",
         "type": "string"
        },
        {
         "name": "RFM_Score",
         "rawType": "int64",
         "type": "integer"
        }
       ],
       "conversionMethod": "pd.DataFrame",
       "ref": "2599cb31-84ac-4cf3-8150-fb68261e9bdd",
       "rows": [
        [
         "12346.0",
         "326",
         "2",
         "0.0",
         "1",
         "1",
         "1",
         "111",
         "3"
        ],
        [
         "12347.0",
         "2",
         "182",
         "4310.0",
         "4",
         "4",
         "4",
         "444",
         "12"
        ],
        [
         "12348.0",
         "75",
         "31",
         "1797.24",
         "2",
         "2",
         "4",
         "224",
         "8"
        ],
        [
         "12349.0",
         "19",
         "73",
         "1757.55",
         "3",
         "3",
         "4",
         "334",
         "10"
        ],
        [
         "12350.0",
         "310",
         "17",
         "334.4",
         "1",
         "1",
         "2",
         "112",
         "4"
        ]
       ],
       "shape": {
        "columns": 8,
        "rows": 5
       }
      },
      "text/html": [
       "<div>\n",
       "<style scoped>\n",
       "    .dataframe tbody tr th:only-of-type {\n",
       "        vertical-align: middle;\n",
       "    }\n",
       "\n",
       "    .dataframe tbody tr th {\n",
       "        vertical-align: top;\n",
       "    }\n",
       "\n",
       "    .dataframe thead th {\n",
       "        text-align: right;\n",
       "    }\n",
       "</style>\n",
       "<table border=\"1\" class=\"dataframe\">\n",
       "  <thead>\n",
       "    <tr style=\"text-align: right;\">\n",
       "      <th></th>\n",
       "      <th>Recency</th>\n",
       "      <th>Frequency</th>\n",
       "      <th>Monetary</th>\n",
       "      <th>R</th>\n",
       "      <th>F</th>\n",
       "      <th>M</th>\n",
       "      <th>RFM_Segment</th>\n",
       "      <th>RFM_Score</th>\n",
       "    </tr>\n",
       "    <tr>\n",
       "      <th>CustomerID</th>\n",
       "      <th></th>\n",
       "      <th></th>\n",
       "      <th></th>\n",
       "      <th></th>\n",
       "      <th></th>\n",
       "      <th></th>\n",
       "      <th></th>\n",
       "      <th></th>\n",
       "    </tr>\n",
       "  </thead>\n",
       "  <tbody>\n",
       "    <tr>\n",
       "      <th>12346.0</th>\n",
       "      <td>326</td>\n",
       "      <td>2</td>\n",
       "      <td>0.0</td>\n",
       "      <td>1</td>\n",
       "      <td>1</td>\n",
       "      <td>1</td>\n",
       "      <td>111</td>\n",
       "      <td>3</td>\n",
       "    </tr>\n",
       "    <tr>\n",
       "      <th>12347.0</th>\n",
       "      <td>2</td>\n",
       "      <td>182</td>\n",
       "      <td>4310.0</td>\n",
       "      <td>4</td>\n",
       "      <td>4</td>\n",
       "      <td>4</td>\n",
       "      <td>444</td>\n",
       "      <td>12</td>\n",
       "    </tr>\n",
       "    <tr>\n",
       "      <th>12348.0</th>\n",
       "      <td>75</td>\n",
       "      <td>31</td>\n",
       "      <td>1797.24</td>\n",
       "      <td>2</td>\n",
       "      <td>2</td>\n",
       "      <td>4</td>\n",
       "      <td>224</td>\n",
       "      <td>8</td>\n",
       "    </tr>\n",
       "    <tr>\n",
       "      <th>12349.0</th>\n",
       "      <td>19</td>\n",
       "      <td>73</td>\n",
       "      <td>1757.55</td>\n",
       "      <td>3</td>\n",
       "      <td>3</td>\n",
       "      <td>4</td>\n",
       "      <td>334</td>\n",
       "      <td>10</td>\n",
       "    </tr>\n",
       "    <tr>\n",
       "      <th>12350.0</th>\n",
       "      <td>310</td>\n",
       "      <td>17</td>\n",
       "      <td>334.4</td>\n",
       "      <td>1</td>\n",
       "      <td>1</td>\n",
       "      <td>2</td>\n",
       "      <td>112</td>\n",
       "      <td>4</td>\n",
       "    </tr>\n",
       "  </tbody>\n",
       "</table>\n",
       "</div>"
      ],
      "text/plain": [
       "            Recency  Frequency  Monetary  R  F  M RFM_Segment  RFM_Score\n",
       "CustomerID                                                              \n",
       "12346.0         326          2       0.0  1  1  1         111          3\n",
       "12347.0           2        182    4310.0  4  4  4         444         12\n",
       "12348.0          75         31   1797.24  2  2  4         224          8\n",
       "12349.0          19         73   1757.55  3  3  4         334         10\n",
       "12350.0         310         17     334.4  1  1  2         112          4"
      ]
     },
     "execution_count": 19,
     "metadata": {},
     "output_type": "execute_result"
    }
   ],
   "source": [
    "rfm.head()"
   ]
  },
  {
   "cell_type": "code",
   "execution_count": 20,
   "metadata": {},
   "outputs": [],
   "source": [
    "#ระบุSegment\n",
    "\n",
    "segment_labels = ['Low-Value', 'Mid-Value', 'High-Value']\n",
    "\n",
    "def assign_segment(score):\n",
    "    if (score < 5):\n",
    "        return 'Low-Value'\n",
    "    elif (score < 9):\n",
    "        return 'Mid-Value'\n",
    "    else:\n",
    "        return 'High-Value'\n",
    "        \n",
    "        \n",
    "rfm['RFM_Segment_Labels'] = rfm['RFM_Score'].apply(assign_segment)"
   ]
  },
  {
   "cell_type": "code",
   "execution_count": 21,
   "metadata": {},
   "outputs": [
    {
     "data": {
      "application/vnd.microsoft.datawrangler.viewer.v0+json": {
       "columns": [
        {
         "name": "CustomerID",
         "rawType": "float64",
         "type": "float"
        },
        {
         "name": "Recency",
         "rawType": "int64",
         "type": "integer"
        },
        {
         "name": "Frequency",
         "rawType": "int64",
         "type": "integer"
        },
        {
         "name": "Monetary",
         "rawType": "Float64",
         "type": "float"
        },
        {
         "name": "R",
         "rawType": "int64",
         "type": "integer"
        },
        {
         "name": "F",
         "rawType": "int64",
         "type": "integer"
        },
        {
         "name": "M",
         "rawType": "int64",
         "type": "integer"
        },
        {
         "name": "RFM_Segment",
         "rawType": "object",
         "type": "string"
        },
        {
         "name": "RFM_Score",
         "rawType": "int64",
         "type": "integer"
        },
        {
         "name": "RFM_Segment_Labels",
         "rawType": "object",
         "type": "string"
        }
       ],
       "conversionMethod": "pd.DataFrame",
       "ref": "6be8d6b8-838c-4aeb-ad59-0bb57bb35247",
       "rows": [
        [
         "12346.0",
         "326",
         "2",
         "0.0",
         "1",
         "1",
         "1",
         "111",
         "3",
         "Low-Value"
        ],
        [
         "12347.0",
         "2",
         "182",
         "4310.0",
         "4",
         "4",
         "4",
         "444",
         "12",
         "High-Value"
        ],
        [
         "12348.0",
         "75",
         "31",
         "1797.24",
         "2",
         "2",
         "4",
         "224",
         "8",
         "Mid-Value"
        ],
        [
         "12349.0",
         "19",
         "73",
         "1757.55",
         "3",
         "3",
         "4",
         "334",
         "10",
         "High-Value"
        ],
        [
         "12350.0",
         "310",
         "17",
         "334.4",
         "1",
         "1",
         "2",
         "112",
         "4",
         "Low-Value"
        ]
       ],
       "shape": {
        "columns": 9,
        "rows": 5
       }
      },
      "text/html": [
       "<div>\n",
       "<style scoped>\n",
       "    .dataframe tbody tr th:only-of-type {\n",
       "        vertical-align: middle;\n",
       "    }\n",
       "\n",
       "    .dataframe tbody tr th {\n",
       "        vertical-align: top;\n",
       "    }\n",
       "\n",
       "    .dataframe thead th {\n",
       "        text-align: right;\n",
       "    }\n",
       "</style>\n",
       "<table border=\"1\" class=\"dataframe\">\n",
       "  <thead>\n",
       "    <tr style=\"text-align: right;\">\n",
       "      <th></th>\n",
       "      <th>Recency</th>\n",
       "      <th>Frequency</th>\n",
       "      <th>Monetary</th>\n",
       "      <th>R</th>\n",
       "      <th>F</th>\n",
       "      <th>M</th>\n",
       "      <th>RFM_Segment</th>\n",
       "      <th>RFM_Score</th>\n",
       "      <th>RFM_Segment_Labels</th>\n",
       "    </tr>\n",
       "    <tr>\n",
       "      <th>CustomerID</th>\n",
       "      <th></th>\n",
       "      <th></th>\n",
       "      <th></th>\n",
       "      <th></th>\n",
       "      <th></th>\n",
       "      <th></th>\n",
       "      <th></th>\n",
       "      <th></th>\n",
       "      <th></th>\n",
       "    </tr>\n",
       "  </thead>\n",
       "  <tbody>\n",
       "    <tr>\n",
       "      <th>12346.0</th>\n",
       "      <td>326</td>\n",
       "      <td>2</td>\n",
       "      <td>0.0</td>\n",
       "      <td>1</td>\n",
       "      <td>1</td>\n",
       "      <td>1</td>\n",
       "      <td>111</td>\n",
       "      <td>3</td>\n",
       "      <td>Low-Value</td>\n",
       "    </tr>\n",
       "    <tr>\n",
       "      <th>12347.0</th>\n",
       "      <td>2</td>\n",
       "      <td>182</td>\n",
       "      <td>4310.0</td>\n",
       "      <td>4</td>\n",
       "      <td>4</td>\n",
       "      <td>4</td>\n",
       "      <td>444</td>\n",
       "      <td>12</td>\n",
       "      <td>High-Value</td>\n",
       "    </tr>\n",
       "    <tr>\n",
       "      <th>12348.0</th>\n",
       "      <td>75</td>\n",
       "      <td>31</td>\n",
       "      <td>1797.24</td>\n",
       "      <td>2</td>\n",
       "      <td>2</td>\n",
       "      <td>4</td>\n",
       "      <td>224</td>\n",
       "      <td>8</td>\n",
       "      <td>Mid-Value</td>\n",
       "    </tr>\n",
       "    <tr>\n",
       "      <th>12349.0</th>\n",
       "      <td>19</td>\n",
       "      <td>73</td>\n",
       "      <td>1757.55</td>\n",
       "      <td>3</td>\n",
       "      <td>3</td>\n",
       "      <td>4</td>\n",
       "      <td>334</td>\n",
       "      <td>10</td>\n",
       "      <td>High-Value</td>\n",
       "    </tr>\n",
       "    <tr>\n",
       "      <th>12350.0</th>\n",
       "      <td>310</td>\n",
       "      <td>17</td>\n",
       "      <td>334.4</td>\n",
       "      <td>1</td>\n",
       "      <td>1</td>\n",
       "      <td>2</td>\n",
       "      <td>112</td>\n",
       "      <td>4</td>\n",
       "      <td>Low-Value</td>\n",
       "    </tr>\n",
       "  </tbody>\n",
       "</table>\n",
       "</div>"
      ],
      "text/plain": [
       "            Recency  Frequency  Monetary  R  F  M RFM_Segment  RFM_Score  \\\n",
       "CustomerID                                                                 \n",
       "12346.0         326          2       0.0  1  1  1         111          3   \n",
       "12347.0           2        182    4310.0  4  4  4         444         12   \n",
       "12348.0          75         31   1797.24  2  2  4         224          8   \n",
       "12349.0          19         73   1757.55  3  3  4         334         10   \n",
       "12350.0         310         17     334.4  1  1  2         112          4   \n",
       "\n",
       "           RFM_Segment_Labels  \n",
       "CustomerID                     \n",
       "12346.0             Low-Value  \n",
       "12347.0            High-Value  \n",
       "12348.0             Mid-Value  \n",
       "12349.0            High-Value  \n",
       "12350.0             Low-Value  "
      ]
     },
     "execution_count": 21,
     "metadata": {},
     "output_type": "execute_result"
    }
   ],
   "source": [
    "rfm.head()"
   ]
  },
  {
   "cell_type": "code",
   "execution_count": 22,
   "metadata": {},
   "outputs": [],
   "source": [
    "segment_counts = rfm['RFM_Segment_Labels'].value_counts().reset_index()\n",
    "segment_counts.columns = ['RFM_Segment', 'Count']\n",
    "segment_counts = segment_counts.sort_values('RFM_Segment')"
   ]
  },
  {
   "cell_type": "code",
   "execution_count": 23,
   "metadata": {},
   "outputs": [
    {
     "data": {
      "application/vnd.plotly.v1+json": {
       "config": {
        "plotlyServerURL": "https://plot.ly"
       },
       "data": [
        {
         "hovertemplate": "RFM_Segment=%{x}<br>Number of Customers=%{y}<extra></extra>",
         "legendgroup": "High-Value",
         "marker": {
          "color": "rgb(102, 197, 204)",
          "pattern": {
           "shape": ""
          }
         },
         "name": "High-Value",
         "orientation": "v",
         "showlegend": true,
         "textposition": "auto",
         "type": "bar",
         "x": [
          "High-Value"
         ],
         "xaxis": "x",
         "y": {
          "bdata": "mgY=",
          "dtype": "i2"
         },
         "yaxis": "y"
        },
        {
         "hovertemplate": "RFM_Segment=%{x}<br>Number of Customers=%{y}<extra></extra>",
         "legendgroup": "Low-Value",
         "marker": {
          "color": "rgb(246, 207, 113)",
          "pattern": {
           "shape": ""
          }
         },
         "name": "Low-Value",
         "orientation": "v",
         "showlegend": true,
         "textposition": "auto",
         "type": "bar",
         "x": [
          "Low-Value"
         ],
         "xaxis": "x",
         "y": {
          "bdata": "DwM=",
          "dtype": "i2"
         },
         "yaxis": "y"
        },
        {
         "hovertemplate": "RFM_Segment=%{x}<br>Number of Customers=%{y}<extra></extra>",
         "legendgroup": "Mid-Value",
         "marker": {
          "color": "rgb(248, 156, 116)",
          "pattern": {
           "shape": ""
          }
         },
         "name": "Mid-Value",
         "orientation": "v",
         "showlegend": true,
         "textposition": "auto",
         "type": "bar",
         "x": [
          "Mid-Value"
         ],
         "xaxis": "x",
         "y": {
          "bdata": "awc=",
          "dtype": "i2"
         },
         "yaxis": "y"
        }
       ],
       "layout": {
        "barmode": "relative",
        "legend": {
         "title": {
          "text": "RFM_Segment"
         },
         "tracegroupgap": 0
        },
        "template": {
         "data": {
          "bar": [
           {
            "error_x": {
             "color": "#2a3f5f"
            },
            "error_y": {
             "color": "#2a3f5f"
            },
            "marker": {
             "line": {
              "color": "#E5ECF6",
              "width": 0.5
             },
             "pattern": {
              "fillmode": "overlay",
              "size": 10,
              "solidity": 0.2
             }
            },
            "type": "bar"
           }
          ],
          "barpolar": [
           {
            "marker": {
             "line": {
              "color": "#E5ECF6",
              "width": 0.5
             },
             "pattern": {
              "fillmode": "overlay",
              "size": 10,
              "solidity": 0.2
             }
            },
            "type": "barpolar"
           }
          ],
          "carpet": [
           {
            "aaxis": {
             "endlinecolor": "#2a3f5f",
             "gridcolor": "white",
             "linecolor": "white",
             "minorgridcolor": "white",
             "startlinecolor": "#2a3f5f"
            },
            "baxis": {
             "endlinecolor": "#2a3f5f",
             "gridcolor": "white",
             "linecolor": "white",
             "minorgridcolor": "white",
             "startlinecolor": "#2a3f5f"
            },
            "type": "carpet"
           }
          ],
          "choropleth": [
           {
            "colorbar": {
             "outlinewidth": 0,
             "ticks": ""
            },
            "type": "choropleth"
           }
          ],
          "contour": [
           {
            "colorbar": {
             "outlinewidth": 0,
             "ticks": ""
            },
            "colorscale": [
             [
              0,
              "#0d0887"
             ],
             [
              0.1111111111111111,
              "#46039f"
             ],
             [
              0.2222222222222222,
              "#7201a8"
             ],
             [
              0.3333333333333333,
              "#9c179e"
             ],
             [
              0.4444444444444444,
              "#bd3786"
             ],
             [
              0.5555555555555556,
              "#d8576b"
             ],
             [
              0.6666666666666666,
              "#ed7953"
             ],
             [
              0.7777777777777778,
              "#fb9f3a"
             ],
             [
              0.8888888888888888,
              "#fdca26"
             ],
             [
              1,
              "#f0f921"
             ]
            ],
            "type": "contour"
           }
          ],
          "contourcarpet": [
           {
            "colorbar": {
             "outlinewidth": 0,
             "ticks": ""
            },
            "type": "contourcarpet"
           }
          ],
          "heatmap": [
           {
            "colorbar": {
             "outlinewidth": 0,
             "ticks": ""
            },
            "colorscale": [
             [
              0,
              "#0d0887"
             ],
             [
              0.1111111111111111,
              "#46039f"
             ],
             [
              0.2222222222222222,
              "#7201a8"
             ],
             [
              0.3333333333333333,
              "#9c179e"
             ],
             [
              0.4444444444444444,
              "#bd3786"
             ],
             [
              0.5555555555555556,
              "#d8576b"
             ],
             [
              0.6666666666666666,
              "#ed7953"
             ],
             [
              0.7777777777777778,
              "#fb9f3a"
             ],
             [
              0.8888888888888888,
              "#fdca26"
             ],
             [
              1,
              "#f0f921"
             ]
            ],
            "type": "heatmap"
           }
          ],
          "histogram": [
           {
            "marker": {
             "pattern": {
              "fillmode": "overlay",
              "size": 10,
              "solidity": 0.2
             }
            },
            "type": "histogram"
           }
          ],
          "histogram2d": [
           {
            "colorbar": {
             "outlinewidth": 0,
             "ticks": ""
            },
            "colorscale": [
             [
              0,
              "#0d0887"
             ],
             [
              0.1111111111111111,
              "#46039f"
             ],
             [
              0.2222222222222222,
              "#7201a8"
             ],
             [
              0.3333333333333333,
              "#9c179e"
             ],
             [
              0.4444444444444444,
              "#bd3786"
             ],
             [
              0.5555555555555556,
              "#d8576b"
             ],
             [
              0.6666666666666666,
              "#ed7953"
             ],
             [
              0.7777777777777778,
              "#fb9f3a"
             ],
             [
              0.8888888888888888,
              "#fdca26"
             ],
             [
              1,
              "#f0f921"
             ]
            ],
            "type": "histogram2d"
           }
          ],
          "histogram2dcontour": [
           {
            "colorbar": {
             "outlinewidth": 0,
             "ticks": ""
            },
            "colorscale": [
             [
              0,
              "#0d0887"
             ],
             [
              0.1111111111111111,
              "#46039f"
             ],
             [
              0.2222222222222222,
              "#7201a8"
             ],
             [
              0.3333333333333333,
              "#9c179e"
             ],
             [
              0.4444444444444444,
              "#bd3786"
             ],
             [
              0.5555555555555556,
              "#d8576b"
             ],
             [
              0.6666666666666666,
              "#ed7953"
             ],
             [
              0.7777777777777778,
              "#fb9f3a"
             ],
             [
              0.8888888888888888,
              "#fdca26"
             ],
             [
              1,
              "#f0f921"
             ]
            ],
            "type": "histogram2dcontour"
           }
          ],
          "mesh3d": [
           {
            "colorbar": {
             "outlinewidth": 0,
             "ticks": ""
            },
            "type": "mesh3d"
           }
          ],
          "parcoords": [
           {
            "line": {
             "colorbar": {
              "outlinewidth": 0,
              "ticks": ""
             }
            },
            "type": "parcoords"
           }
          ],
          "pie": [
           {
            "automargin": true,
            "type": "pie"
           }
          ],
          "scatter": [
           {
            "fillpattern": {
             "fillmode": "overlay",
             "size": 10,
             "solidity": 0.2
            },
            "type": "scatter"
           }
          ],
          "scatter3d": [
           {
            "line": {
             "colorbar": {
              "outlinewidth": 0,
              "ticks": ""
             }
            },
            "marker": {
             "colorbar": {
              "outlinewidth": 0,
              "ticks": ""
             }
            },
            "type": "scatter3d"
           }
          ],
          "scattercarpet": [
           {
            "marker": {
             "colorbar": {
              "outlinewidth": 0,
              "ticks": ""
             }
            },
            "type": "scattercarpet"
           }
          ],
          "scattergeo": [
           {
            "marker": {
             "colorbar": {
              "outlinewidth": 0,
              "ticks": ""
             }
            },
            "type": "scattergeo"
           }
          ],
          "scattergl": [
           {
            "marker": {
             "colorbar": {
              "outlinewidth": 0,
              "ticks": ""
             }
            },
            "type": "scattergl"
           }
          ],
          "scattermap": [
           {
            "marker": {
             "colorbar": {
              "outlinewidth": 0,
              "ticks": ""
             }
            },
            "type": "scattermap"
           }
          ],
          "scattermapbox": [
           {
            "marker": {
             "colorbar": {
              "outlinewidth": 0,
              "ticks": ""
             }
            },
            "type": "scattermapbox"
           }
          ],
          "scatterpolar": [
           {
            "marker": {
             "colorbar": {
              "outlinewidth": 0,
              "ticks": ""
             }
            },
            "type": "scatterpolar"
           }
          ],
          "scatterpolargl": [
           {
            "marker": {
             "colorbar": {
              "outlinewidth": 0,
              "ticks": ""
             }
            },
            "type": "scatterpolargl"
           }
          ],
          "scatterternary": [
           {
            "marker": {
             "colorbar": {
              "outlinewidth": 0,
              "ticks": ""
             }
            },
            "type": "scatterternary"
           }
          ],
          "surface": [
           {
            "colorbar": {
             "outlinewidth": 0,
             "ticks": ""
            },
            "colorscale": [
             [
              0,
              "#0d0887"
             ],
             [
              0.1111111111111111,
              "#46039f"
             ],
             [
              0.2222222222222222,
              "#7201a8"
             ],
             [
              0.3333333333333333,
              "#9c179e"
             ],
             [
              0.4444444444444444,
              "#bd3786"
             ],
             [
              0.5555555555555556,
              "#d8576b"
             ],
             [
              0.6666666666666666,
              "#ed7953"
             ],
             [
              0.7777777777777778,
              "#fb9f3a"
             ],
             [
              0.8888888888888888,
              "#fdca26"
             ],
             [
              1,
              "#f0f921"
             ]
            ],
            "type": "surface"
           }
          ],
          "table": [
           {
            "cells": {
             "fill": {
              "color": "#EBF0F8"
             },
             "line": {
              "color": "white"
             }
            },
            "header": {
             "fill": {
              "color": "#C8D4E3"
             },
             "line": {
              "color": "white"
             }
            },
            "type": "table"
           }
          ]
         },
         "layout": {
          "annotationdefaults": {
           "arrowcolor": "#2a3f5f",
           "arrowhead": 0,
           "arrowwidth": 1
          },
          "autotypenumbers": "strict",
          "coloraxis": {
           "colorbar": {
            "outlinewidth": 0,
            "ticks": ""
           }
          },
          "colorscale": {
           "diverging": [
            [
             0,
             "#8e0152"
            ],
            [
             0.1,
             "#c51b7d"
            ],
            [
             0.2,
             "#de77ae"
            ],
            [
             0.3,
             "#f1b6da"
            ],
            [
             0.4,
             "#fde0ef"
            ],
            [
             0.5,
             "#f7f7f7"
            ],
            [
             0.6,
             "#e6f5d0"
            ],
            [
             0.7,
             "#b8e186"
            ],
            [
             0.8,
             "#7fbc41"
            ],
            [
             0.9,
             "#4d9221"
            ],
            [
             1,
             "#276419"
            ]
           ],
           "sequential": [
            [
             0,
             "#0d0887"
            ],
            [
             0.1111111111111111,
             "#46039f"
            ],
            [
             0.2222222222222222,
             "#7201a8"
            ],
            [
             0.3333333333333333,
             "#9c179e"
            ],
            [
             0.4444444444444444,
             "#bd3786"
            ],
            [
             0.5555555555555556,
             "#d8576b"
            ],
            [
             0.6666666666666666,
             "#ed7953"
            ],
            [
             0.7777777777777778,
             "#fb9f3a"
            ],
            [
             0.8888888888888888,
             "#fdca26"
            ],
            [
             1,
             "#f0f921"
            ]
           ],
           "sequentialminus": [
            [
             0,
             "#0d0887"
            ],
            [
             0.1111111111111111,
             "#46039f"
            ],
            [
             0.2222222222222222,
             "#7201a8"
            ],
            [
             0.3333333333333333,
             "#9c179e"
            ],
            [
             0.4444444444444444,
             "#bd3786"
            ],
            [
             0.5555555555555556,
             "#d8576b"
            ],
            [
             0.6666666666666666,
             "#ed7953"
            ],
            [
             0.7777777777777778,
             "#fb9f3a"
            ],
            [
             0.8888888888888888,
             "#fdca26"
            ],
            [
             1,
             "#f0f921"
            ]
           ]
          },
          "colorway": [
           "#636efa",
           "#EF553B",
           "#00cc96",
           "#ab63fa",
           "#FFA15A",
           "#19d3f3",
           "#FF6692",
           "#B6E880",
           "#FF97FF",
           "#FECB52"
          ],
          "font": {
           "color": "#2a3f5f"
          },
          "geo": {
           "bgcolor": "white",
           "lakecolor": "white",
           "landcolor": "#E5ECF6",
           "showlakes": true,
           "showland": true,
           "subunitcolor": "white"
          },
          "hoverlabel": {
           "align": "left"
          },
          "hovermode": "closest",
          "mapbox": {
           "style": "light"
          },
          "paper_bgcolor": "white",
          "plot_bgcolor": "#E5ECF6",
          "polar": {
           "angularaxis": {
            "gridcolor": "white",
            "linecolor": "white",
            "ticks": ""
           },
           "bgcolor": "#E5ECF6",
           "radialaxis": {
            "gridcolor": "white",
            "linecolor": "white",
            "ticks": ""
           }
          },
          "scene": {
           "xaxis": {
            "backgroundcolor": "#E5ECF6",
            "gridcolor": "white",
            "gridwidth": 2,
            "linecolor": "white",
            "showbackground": true,
            "ticks": "",
            "zerolinecolor": "white"
           },
           "yaxis": {
            "backgroundcolor": "#E5ECF6",
            "gridcolor": "white",
            "gridwidth": 2,
            "linecolor": "white",
            "showbackground": true,
            "ticks": "",
            "zerolinecolor": "white"
           },
           "zaxis": {
            "backgroundcolor": "#E5ECF6",
            "gridcolor": "white",
            "gridwidth": 2,
            "linecolor": "white",
            "showbackground": true,
            "ticks": "",
            "zerolinecolor": "white"
           }
          },
          "shapedefaults": {
           "line": {
            "color": "#2a3f5f"
           }
          },
          "ternary": {
           "aaxis": {
            "gridcolor": "white",
            "linecolor": "white",
            "ticks": ""
           },
           "baxis": {
            "gridcolor": "white",
            "linecolor": "white",
            "ticks": ""
           },
           "bgcolor": "#E5ECF6",
           "caxis": {
            "gridcolor": "white",
            "linecolor": "white",
            "ticks": ""
           }
          },
          "title": {
           "x": 0.05
          },
          "xaxis": {
           "automargin": true,
           "gridcolor": "white",
           "linecolor": "white",
           "ticks": "",
           "title": {
            "standoff": 15
           },
           "zerolinecolor": "white",
           "zerolinewidth": 2
          },
          "yaxis": {
           "automargin": true,
           "gridcolor": "white",
           "linecolor": "white",
           "ticks": "",
           "title": {
            "standoff": 15
           },
           "zerolinecolor": "white",
           "zerolinewidth": 2
          }
         }
        },
        "title": {
         "text": "Customer Distribution by RFM Segment"
        },
        "xaxis": {
         "anchor": "y",
         "categoryarray": [
          "High-Value",
          "Low-Value",
          "Mid-Value"
         ],
         "categoryorder": "array",
         "domain": [
          0,
          1
         ],
         "title": {
          "text": "RFM_Segment"
         }
        },
        "yaxis": {
         "anchor": "x",
         "domain": [
          0,
          1
         ],
         "title": {
          "text": "Number of Customers"
         }
        }
       }
      }
     },
     "metadata": {},
     "output_type": "display_data"
    }
   ],
   "source": [
    "#Create Bar chart using plotly\n",
    "\n",
    "fig = px.bar(segment_counts,\n",
    "             x = 'RFM_Segment', \n",
    "             y = 'Count', \n",
    "             title = \"Customer Distribution by RFM Segment\",\n",
    "             labels = {'RFM_Segment' : 'RFM_Segment', 'Count' : 'Number of Customers'},\n",
    "             color = 'RFM_Segment', \n",
    "             color_discrete_sequence = px.colors.qualitative.Pastel)\n",
    "\n",
    "\n",
    "fig.show()"
   ]
  },
  {
   "cell_type": "code",
   "execution_count": 55,
   "metadata": {},
   "outputs": [],
   "source": [
    "#Create RFM chart\n",
    "rfm['RFM_Customer_Segments'] = ''\n",
    "\n",
    "rfm.loc[(rfm['RFM_Score'] >= 9), 'RFM_Customer_Segments'] = \"VIP/Loyal\"\n",
    "rfm.loc[(rfm['RFM_Score'] >= 6) & (rfm['RFM_Score'] < 9), 'RFM_Customer_Segments'] = \"Potential Loyalist\"\n",
    "rfm.loc[(rfm['RFM_Score'] >= 5) & (rfm['RFM_Score'] < 6), 'RFM_Customer_Segments'] = \"At Risk\"\n",
    "rfm.loc[(rfm['RFM_Score'] >= 4) & (rfm['RFM_Score'] < 5), 'RFM_Customer_Segments'] = \"Can't Lose\"\n",
    "rfm.loc[(rfm['RFM_Score'] >= 3) & (rfm['RFM_Score'] < 4), 'RFM_Customer_Segments'] = \"Lost\"\n",
    "\n",
    "segment_counts = rfm['RFM_Customer_Segments'].value_counts().sort_index()"
   ]
  },
  {
   "cell_type": "code",
   "execution_count": 56,
   "metadata": {},
   "outputs": [],
   "source": [
    "segment_product_counts = rfm.groupby(['RFM_Segment_Labels', \n",
    "                                      'RFM_Customer_Segments']).size().reset_index(name = 'Count')\n",
    "\n",
    "segment_product_counts = segment_product_counts.sort_values('Count', ascending = False)"
   ]
  },
  {
   "cell_type": "code",
   "execution_count": 57,
   "metadata": {},
   "outputs": [
    {
     "data": {
      "application/vnd.plotly.v1+json": {
       "config": {
        "plotlyServerURL": "https://plot.ly"
       },
       "data": [
        {
         "branchvalues": "total",
         "customdata": [
          [
           "High-Value"
          ],
          [
           "High-Value"
          ],
          [
           "Low-Value"
          ],
          [
           "Low-Value"
          ],
          [
           "Low-Value"
          ],
          [
           "Mid-Value"
          ],
          [
           "Mid-Value"
          ],
          [
           "Mid-Value"
          ]
         ],
         "domain": {
          "x": [
           0,
           1
          ],
          "y": [
           0,
           1
          ]
         },
         "hovertemplate": "labels=%{label}<br>Count=%{value}<br>parent=%{parent}<br>id=%{id}<br>RFM_Segment_Labels=%{customdata[0]}<extra></extra>",
         "ids": [
          "High-Value/VIP/Loyal",
          "High-Value",
          "Low-Value/Lost",
          "Low-Value/Can't Lose",
          "Low-Value",
          "Mid-Value/Potential Loyalist",
          "Mid-Value/At Risk",
          "Mid-Value"
         ],
         "labels": [
          "VIP/Loyal",
          "High-Value",
          "Lost",
          "Can't Lose",
          "Low-Value",
          "Potential Loyalist",
          "At Risk",
          "Mid-Value"
         ],
         "marker": {
          "colors": [
           "rgb(102, 197, 204)",
           "rgb(102, 197, 204)",
           "rgb(246, 207, 113)",
           "rgb(246, 207, 113)",
           "rgb(246, 207, 113)",
           "rgb(248, 156, 116)",
           "rgb(248, 156, 116)",
           "rgb(248, 156, 116)"
          ]
         },
         "name": "",
         "parents": [
          "High-Value",
          "",
          "Low-Value",
          "Low-Value",
          "",
          "Mid-Value",
          "Mid-Value",
          ""
         ],
         "type": "treemap",
         "values": {
          "bdata": "AAAAAABomkAAAAAAAGiaQAAAAAAAgHhAAAAAAABweEAAAAAAAHiIQAAAAAAAmJVAAAAAAAAogEAAAAAAAKydQA==",
          "dtype": "f8"
         }
        }
       ],
       "layout": {
        "legend": {
         "tracegroupgap": 0
        },
        "template": {
         "data": {
          "bar": [
           {
            "error_x": {
             "color": "#2a3f5f"
            },
            "error_y": {
             "color": "#2a3f5f"
            },
            "marker": {
             "line": {
              "color": "#E5ECF6",
              "width": 0.5
             },
             "pattern": {
              "fillmode": "overlay",
              "size": 10,
              "solidity": 0.2
             }
            },
            "type": "bar"
           }
          ],
          "barpolar": [
           {
            "marker": {
             "line": {
              "color": "#E5ECF6",
              "width": 0.5
             },
             "pattern": {
              "fillmode": "overlay",
              "size": 10,
              "solidity": 0.2
             }
            },
            "type": "barpolar"
           }
          ],
          "carpet": [
           {
            "aaxis": {
             "endlinecolor": "#2a3f5f",
             "gridcolor": "white",
             "linecolor": "white",
             "minorgridcolor": "white",
             "startlinecolor": "#2a3f5f"
            },
            "baxis": {
             "endlinecolor": "#2a3f5f",
             "gridcolor": "white",
             "linecolor": "white",
             "minorgridcolor": "white",
             "startlinecolor": "#2a3f5f"
            },
            "type": "carpet"
           }
          ],
          "choropleth": [
           {
            "colorbar": {
             "outlinewidth": 0,
             "ticks": ""
            },
            "type": "choropleth"
           }
          ],
          "contour": [
           {
            "colorbar": {
             "outlinewidth": 0,
             "ticks": ""
            },
            "colorscale": [
             [
              0,
              "#0d0887"
             ],
             [
              0.1111111111111111,
              "#46039f"
             ],
             [
              0.2222222222222222,
              "#7201a8"
             ],
             [
              0.3333333333333333,
              "#9c179e"
             ],
             [
              0.4444444444444444,
              "#bd3786"
             ],
             [
              0.5555555555555556,
              "#d8576b"
             ],
             [
              0.6666666666666666,
              "#ed7953"
             ],
             [
              0.7777777777777778,
              "#fb9f3a"
             ],
             [
              0.8888888888888888,
              "#fdca26"
             ],
             [
              1,
              "#f0f921"
             ]
            ],
            "type": "contour"
           }
          ],
          "contourcarpet": [
           {
            "colorbar": {
             "outlinewidth": 0,
             "ticks": ""
            },
            "type": "contourcarpet"
           }
          ],
          "heatmap": [
           {
            "colorbar": {
             "outlinewidth": 0,
             "ticks": ""
            },
            "colorscale": [
             [
              0,
              "#0d0887"
             ],
             [
              0.1111111111111111,
              "#46039f"
             ],
             [
              0.2222222222222222,
              "#7201a8"
             ],
             [
              0.3333333333333333,
              "#9c179e"
             ],
             [
              0.4444444444444444,
              "#bd3786"
             ],
             [
              0.5555555555555556,
              "#d8576b"
             ],
             [
              0.6666666666666666,
              "#ed7953"
             ],
             [
              0.7777777777777778,
              "#fb9f3a"
             ],
             [
              0.8888888888888888,
              "#fdca26"
             ],
             [
              1,
              "#f0f921"
             ]
            ],
            "type": "heatmap"
           }
          ],
          "histogram": [
           {
            "marker": {
             "pattern": {
              "fillmode": "overlay",
              "size": 10,
              "solidity": 0.2
             }
            },
            "type": "histogram"
           }
          ],
          "histogram2d": [
           {
            "colorbar": {
             "outlinewidth": 0,
             "ticks": ""
            },
            "colorscale": [
             [
              0,
              "#0d0887"
             ],
             [
              0.1111111111111111,
              "#46039f"
             ],
             [
              0.2222222222222222,
              "#7201a8"
             ],
             [
              0.3333333333333333,
              "#9c179e"
             ],
             [
              0.4444444444444444,
              "#bd3786"
             ],
             [
              0.5555555555555556,
              "#d8576b"
             ],
             [
              0.6666666666666666,
              "#ed7953"
             ],
             [
              0.7777777777777778,
              "#fb9f3a"
             ],
             [
              0.8888888888888888,
              "#fdca26"
             ],
             [
              1,
              "#f0f921"
             ]
            ],
            "type": "histogram2d"
           }
          ],
          "histogram2dcontour": [
           {
            "colorbar": {
             "outlinewidth": 0,
             "ticks": ""
            },
            "colorscale": [
             [
              0,
              "#0d0887"
             ],
             [
              0.1111111111111111,
              "#46039f"
             ],
             [
              0.2222222222222222,
              "#7201a8"
             ],
             [
              0.3333333333333333,
              "#9c179e"
             ],
             [
              0.4444444444444444,
              "#bd3786"
             ],
             [
              0.5555555555555556,
              "#d8576b"
             ],
             [
              0.6666666666666666,
              "#ed7953"
             ],
             [
              0.7777777777777778,
              "#fb9f3a"
             ],
             [
              0.8888888888888888,
              "#fdca26"
             ],
             [
              1,
              "#f0f921"
             ]
            ],
            "type": "histogram2dcontour"
           }
          ],
          "mesh3d": [
           {
            "colorbar": {
             "outlinewidth": 0,
             "ticks": ""
            },
            "type": "mesh3d"
           }
          ],
          "parcoords": [
           {
            "line": {
             "colorbar": {
              "outlinewidth": 0,
              "ticks": ""
             }
            },
            "type": "parcoords"
           }
          ],
          "pie": [
           {
            "automargin": true,
            "type": "pie"
           }
          ],
          "scatter": [
           {
            "fillpattern": {
             "fillmode": "overlay",
             "size": 10,
             "solidity": 0.2
            },
            "type": "scatter"
           }
          ],
          "scatter3d": [
           {
            "line": {
             "colorbar": {
              "outlinewidth": 0,
              "ticks": ""
             }
            },
            "marker": {
             "colorbar": {
              "outlinewidth": 0,
              "ticks": ""
             }
            },
            "type": "scatter3d"
           }
          ],
          "scattercarpet": [
           {
            "marker": {
             "colorbar": {
              "outlinewidth": 0,
              "ticks": ""
             }
            },
            "type": "scattercarpet"
           }
          ],
          "scattergeo": [
           {
            "marker": {
             "colorbar": {
              "outlinewidth": 0,
              "ticks": ""
             }
            },
            "type": "scattergeo"
           }
          ],
          "scattergl": [
           {
            "marker": {
             "colorbar": {
              "outlinewidth": 0,
              "ticks": ""
             }
            },
            "type": "scattergl"
           }
          ],
          "scattermap": [
           {
            "marker": {
             "colorbar": {
              "outlinewidth": 0,
              "ticks": ""
             }
            },
            "type": "scattermap"
           }
          ],
          "scattermapbox": [
           {
            "marker": {
             "colorbar": {
              "outlinewidth": 0,
              "ticks": ""
             }
            },
            "type": "scattermapbox"
           }
          ],
          "scatterpolar": [
           {
            "marker": {
             "colorbar": {
              "outlinewidth": 0,
              "ticks": ""
             }
            },
            "type": "scatterpolar"
           }
          ],
          "scatterpolargl": [
           {
            "marker": {
             "colorbar": {
              "outlinewidth": 0,
              "ticks": ""
             }
            },
            "type": "scatterpolargl"
           }
          ],
          "scatterternary": [
           {
            "marker": {
             "colorbar": {
              "outlinewidth": 0,
              "ticks": ""
             }
            },
            "type": "scatterternary"
           }
          ],
          "surface": [
           {
            "colorbar": {
             "outlinewidth": 0,
             "ticks": ""
            },
            "colorscale": [
             [
              0,
              "#0d0887"
             ],
             [
              0.1111111111111111,
              "#46039f"
             ],
             [
              0.2222222222222222,
              "#7201a8"
             ],
             [
              0.3333333333333333,
              "#9c179e"
             ],
             [
              0.4444444444444444,
              "#bd3786"
             ],
             [
              0.5555555555555556,
              "#d8576b"
             ],
             [
              0.6666666666666666,
              "#ed7953"
             ],
             [
              0.7777777777777778,
              "#fb9f3a"
             ],
             [
              0.8888888888888888,
              "#fdca26"
             ],
             [
              1,
              "#f0f921"
             ]
            ],
            "type": "surface"
           }
          ],
          "table": [
           {
            "cells": {
             "fill": {
              "color": "#EBF0F8"
             },
             "line": {
              "color": "white"
             }
            },
            "header": {
             "fill": {
              "color": "#C8D4E3"
             },
             "line": {
              "color": "white"
             }
            },
            "type": "table"
           }
          ]
         },
         "layout": {
          "annotationdefaults": {
           "arrowcolor": "#2a3f5f",
           "arrowhead": 0,
           "arrowwidth": 1
          },
          "autotypenumbers": "strict",
          "coloraxis": {
           "colorbar": {
            "outlinewidth": 0,
            "ticks": ""
           }
          },
          "colorscale": {
           "diverging": [
            [
             0,
             "#8e0152"
            ],
            [
             0.1,
             "#c51b7d"
            ],
            [
             0.2,
             "#de77ae"
            ],
            [
             0.3,
             "#f1b6da"
            ],
            [
             0.4,
             "#fde0ef"
            ],
            [
             0.5,
             "#f7f7f7"
            ],
            [
             0.6,
             "#e6f5d0"
            ],
            [
             0.7,
             "#b8e186"
            ],
            [
             0.8,
             "#7fbc41"
            ],
            [
             0.9,
             "#4d9221"
            ],
            [
             1,
             "#276419"
            ]
           ],
           "sequential": [
            [
             0,
             "#0d0887"
            ],
            [
             0.1111111111111111,
             "#46039f"
            ],
            [
             0.2222222222222222,
             "#7201a8"
            ],
            [
             0.3333333333333333,
             "#9c179e"
            ],
            [
             0.4444444444444444,
             "#bd3786"
            ],
            [
             0.5555555555555556,
             "#d8576b"
            ],
            [
             0.6666666666666666,
             "#ed7953"
            ],
            [
             0.7777777777777778,
             "#fb9f3a"
            ],
            [
             0.8888888888888888,
             "#fdca26"
            ],
            [
             1,
             "#f0f921"
            ]
           ],
           "sequentialminus": [
            [
             0,
             "#0d0887"
            ],
            [
             0.1111111111111111,
             "#46039f"
            ],
            [
             0.2222222222222222,
             "#7201a8"
            ],
            [
             0.3333333333333333,
             "#9c179e"
            ],
            [
             0.4444444444444444,
             "#bd3786"
            ],
            [
             0.5555555555555556,
             "#d8576b"
            ],
            [
             0.6666666666666666,
             "#ed7953"
            ],
            [
             0.7777777777777778,
             "#fb9f3a"
            ],
            [
             0.8888888888888888,
             "#fdca26"
            ],
            [
             1,
             "#f0f921"
            ]
           ]
          },
          "colorway": [
           "#636efa",
           "#EF553B",
           "#00cc96",
           "#ab63fa",
           "#FFA15A",
           "#19d3f3",
           "#FF6692",
           "#B6E880",
           "#FF97FF",
           "#FECB52"
          ],
          "font": {
           "color": "#2a3f5f"
          },
          "geo": {
           "bgcolor": "white",
           "lakecolor": "white",
           "landcolor": "#E5ECF6",
           "showlakes": true,
           "showland": true,
           "subunitcolor": "white"
          },
          "hoverlabel": {
           "align": "left"
          },
          "hovermode": "closest",
          "mapbox": {
           "style": "light"
          },
          "paper_bgcolor": "white",
          "plot_bgcolor": "#E5ECF6",
          "polar": {
           "angularaxis": {
            "gridcolor": "white",
            "linecolor": "white",
            "ticks": ""
           },
           "bgcolor": "#E5ECF6",
           "radialaxis": {
            "gridcolor": "white",
            "linecolor": "white",
            "ticks": ""
           }
          },
          "scene": {
           "xaxis": {
            "backgroundcolor": "#E5ECF6",
            "gridcolor": "white",
            "gridwidth": 2,
            "linecolor": "white",
            "showbackground": true,
            "ticks": "",
            "zerolinecolor": "white"
           },
           "yaxis": {
            "backgroundcolor": "#E5ECF6",
            "gridcolor": "white",
            "gridwidth": 2,
            "linecolor": "white",
            "showbackground": true,
            "ticks": "",
            "zerolinecolor": "white"
           },
           "zaxis": {
            "backgroundcolor": "#E5ECF6",
            "gridcolor": "white",
            "gridwidth": 2,
            "linecolor": "white",
            "showbackground": true,
            "ticks": "",
            "zerolinecolor": "white"
           }
          },
          "shapedefaults": {
           "line": {
            "color": "#2a3f5f"
           }
          },
          "ternary": {
           "aaxis": {
            "gridcolor": "white",
            "linecolor": "white",
            "ticks": ""
           },
           "baxis": {
            "gridcolor": "white",
            "linecolor": "white",
            "ticks": ""
           },
           "bgcolor": "#E5ECF6",
           "caxis": {
            "gridcolor": "white",
            "linecolor": "white",
            "ticks": ""
           }
          },
          "title": {
           "x": 0.05
          },
          "xaxis": {
           "automargin": true,
           "gridcolor": "white",
           "linecolor": "white",
           "ticks": "",
           "title": {
            "standoff": 15
           },
           "zerolinecolor": "white",
           "zerolinewidth": 2
          },
          "yaxis": {
           "automargin": true,
           "gridcolor": "white",
           "linecolor": "white",
           "ticks": "",
           "title": {
            "standoff": 15
           },
           "zerolinecolor": "white",
           "zerolinewidth": 2
          }
         }
        },
        "title": {
         "text": "RFM Customer Segment by Monetary"
        },
        "treemapcolorway": [
         "rgb(102, 197, 204)",
         "rgb(246, 207, 113)",
         "rgb(248, 156, 116)",
         "rgb(220, 176, 242)",
         "rgb(135, 197, 95)",
         "rgb(158, 185, 243)",
         "rgb(254, 136, 177)",
         "rgb(201, 219, 116)",
         "rgb(139, 224, 164)",
         "rgb(180, 151, 231)",
         "rgb(179, 179, 179)"
        ]
       }
      }
     },
     "metadata": {},
     "output_type": "display_data"
    }
   ],
   "source": [
    "#Create Treemap\n",
    "\n",
    "fig_treemap_segment_product = px.treemap(segment_product_counts, \n",
    "                                         path = ['RFM_Segment_Labels', 'RFM_Customer_Segments'], \n",
    "                                         values= 'Count', color = 'RFM_Segment_Labels',\n",
    "                                         color_discrete_sequence = px.colors.qualitative.Pastel,\n",
    "                                         title = \"RFM Customer Segment by Monetary\")\n",
    "\n",
    "#Show Treemap\n",
    "fig_treemap_segment_product.show()"
   ]
  },
  {
   "cell_type": "code",
   "execution_count": 58,
   "metadata": {},
   "outputs": [],
   "source": [
    "vip_segment = rfm[rfm['RFM_Customer_Segments'] == \"VIP/Loyal\"]"
   ]
  },
  {
   "cell_type": "code",
   "execution_count": 59,
   "metadata": {},
   "outputs": [
    {
     "data": {
      "application/vnd.plotly.v1+json": {
       "config": {
        "plotlyServerURL": "https://plot.ly"
       },
       "data": [
        {
         "name": "Recency",
         "type": "box",
         "y": {
          "bdata": "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",
          "dtype": "i2"
         }
        },
        {
         "name": "Frequency",
         "type": "box",
         "y": {
          "bdata": "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",
          "dtype": "i2"
         }
        },
        {
         "name": "Monetary",
         "type": "box",
         "y": {
          "bdata": "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",
          "dtype": "f8"
         }
        }
       ],
       "layout": {
        "template": {
         "data": {
          "bar": [
           {
            "error_x": {
             "color": "#2a3f5f"
            },
            "error_y": {
             "color": "#2a3f5f"
            },
            "marker": {
             "line": {
              "color": "#E5ECF6",
              "width": 0.5
             },
             "pattern": {
              "fillmode": "overlay",
              "size": 10,
              "solidity": 0.2
             }
            },
            "type": "bar"
           }
          ],
          "barpolar": [
           {
            "marker": {
             "line": {
              "color": "#E5ECF6",
              "width": 0.5
             },
             "pattern": {
              "fillmode": "overlay",
              "size": 10,
              "solidity": 0.2
             }
            },
            "type": "barpolar"
           }
          ],
          "carpet": [
           {
            "aaxis": {
             "endlinecolor": "#2a3f5f",
             "gridcolor": "white",
             "linecolor": "white",
             "minorgridcolor": "white",
             "startlinecolor": "#2a3f5f"
            },
            "baxis": {
             "endlinecolor": "#2a3f5f",
             "gridcolor": "white",
             "linecolor": "white",
             "minorgridcolor": "white",
             "startlinecolor": "#2a3f5f"
            },
            "type": "carpet"
           }
          ],
          "choropleth": [
           {
            "colorbar": {
             "outlinewidth": 0,
             "ticks": ""
            },
            "type": "choropleth"
           }
          ],
          "contour": [
           {
            "colorbar": {
             "outlinewidth": 0,
             "ticks": ""
            },
            "colorscale": [
             [
              0,
              "#0d0887"
             ],
             [
              0.1111111111111111,
              "#46039f"
             ],
             [
              0.2222222222222222,
              "#7201a8"
             ],
             [
              0.3333333333333333,
              "#9c179e"
             ],
             [
              0.4444444444444444,
              "#bd3786"
             ],
             [
              0.5555555555555556,
              "#d8576b"
             ],
             [
              0.6666666666666666,
              "#ed7953"
             ],
             [
              0.7777777777777778,
              "#fb9f3a"
             ],
             [
              0.8888888888888888,
              "#fdca26"
             ],
             [
              1,
              "#f0f921"
             ]
            ],
            "type": "contour"
           }
          ],
          "contourcarpet": [
           {
            "colorbar": {
             "outlinewidth": 0,
             "ticks": ""
            },
            "type": "contourcarpet"
           }
          ],
          "heatmap": [
           {
            "colorbar": {
             "outlinewidth": 0,
             "ticks": ""
            },
            "colorscale": [
             [
              0,
              "#0d0887"
             ],
             [
              0.1111111111111111,
              "#46039f"
             ],
             [
              0.2222222222222222,
              "#7201a8"
             ],
             [
              0.3333333333333333,
              "#9c179e"
             ],
             [
              0.4444444444444444,
              "#bd3786"
             ],
             [
              0.5555555555555556,
              "#d8576b"
             ],
             [
              0.6666666666666666,
              "#ed7953"
             ],
             [
              0.7777777777777778,
              "#fb9f3a"
             ],
             [
              0.8888888888888888,
              "#fdca26"
             ],
             [
              1,
              "#f0f921"
             ]
            ],
            "type": "heatmap"
           }
          ],
          "histogram": [
           {
            "marker": {
             "pattern": {
              "fillmode": "overlay",
              "size": 10,
              "solidity": 0.2
             }
            },
            "type": "histogram"
           }
          ],
          "histogram2d": [
           {
            "colorbar": {
             "outlinewidth": 0,
             "ticks": ""
            },
            "colorscale": [
             [
              0,
              "#0d0887"
             ],
             [
              0.1111111111111111,
              "#46039f"
             ],
             [
              0.2222222222222222,
              "#7201a8"
             ],
             [
              0.3333333333333333,
              "#9c179e"
             ],
             [
              0.4444444444444444,
              "#bd3786"
             ],
             [
              0.5555555555555556,
              "#d8576b"
             ],
             [
              0.6666666666666666,
              "#ed7953"
             ],
             [
              0.7777777777777778,
              "#fb9f3a"
             ],
             [
              0.8888888888888888,
              "#fdca26"
             ],
             [
              1,
              "#f0f921"
             ]
            ],
            "type": "histogram2d"
           }
          ],
          "histogram2dcontour": [
           {
            "colorbar": {
             "outlinewidth": 0,
             "ticks": ""
            },
            "colorscale": [
             [
              0,
              "#0d0887"
             ],
             [
              0.1111111111111111,
              "#46039f"
             ],
             [
              0.2222222222222222,
              "#7201a8"
             ],
             [
              0.3333333333333333,
              "#9c179e"
             ],
             [
              0.4444444444444444,
              "#bd3786"
             ],
             [
              0.5555555555555556,
              "#d8576b"
             ],
             [
              0.6666666666666666,
              "#ed7953"
             ],
             [
              0.7777777777777778,
              "#fb9f3a"
             ],
             [
              0.8888888888888888,
              "#fdca26"
             ],
             [
              1,
              "#f0f921"
             ]
            ],
            "type": "histogram2dcontour"
           }
          ],
          "mesh3d": [
           {
            "colorbar": {
             "outlinewidth": 0,
             "ticks": ""
            },
            "type": "mesh3d"
           }
          ],
          "parcoords": [
           {
            "line": {
             "colorbar": {
              "outlinewidth": 0,
              "ticks": ""
             }
            },
            "type": "parcoords"
           }
          ],
          "pie": [
           {
            "automargin": true,
            "type": "pie"
           }
          ],
          "scatter": [
           {
            "fillpattern": {
             "fillmode": "overlay",
             "size": 10,
             "solidity": 0.2
            },
            "type": "scatter"
           }
          ],
          "scatter3d": [
           {
            "line": {
             "colorbar": {
              "outlinewidth": 0,
              "ticks": ""
             }
            },
            "marker": {
             "colorbar": {
              "outlinewidth": 0,
              "ticks": ""
             }
            },
            "type": "scatter3d"
           }
          ],
          "scattercarpet": [
           {
            "marker": {
             "colorbar": {
              "outlinewidth": 0,
              "ticks": ""
             }
            },
            "type": "scattercarpet"
           }
          ],
          "scattergeo": [
           {
            "marker": {
             "colorbar": {
              "outlinewidth": 0,
              "ticks": ""
             }
            },
            "type": "scattergeo"
           }
          ],
          "scattergl": [
           {
            "marker": {
             "colorbar": {
              "outlinewidth": 0,
              "ticks": ""
             }
            },
            "type": "scattergl"
           }
          ],
          "scattermap": [
           {
            "marker": {
             "colorbar": {
              "outlinewidth": 0,
              "ticks": ""
             }
            },
            "type": "scattermap"
           }
          ],
          "scattermapbox": [
           {
            "marker": {
             "colorbar": {
              "outlinewidth": 0,
              "ticks": ""
             }
            },
            "type": "scattermapbox"
           }
          ],
          "scatterpolar": [
           {
            "marker": {
             "colorbar": {
              "outlinewidth": 0,
              "ticks": ""
             }
            },
            "type": "scatterpolar"
           }
          ],
          "scatterpolargl": [
           {
            "marker": {
             "colorbar": {
              "outlinewidth": 0,
              "ticks": ""
             }
            },
            "type": "scatterpolargl"
           }
          ],
          "scatterternary": [
           {
            "marker": {
             "colorbar": {
              "outlinewidth": 0,
              "ticks": ""
             }
            },
            "type": "scatterternary"
           }
          ],
          "surface": [
           {
            "colorbar": {
             "outlinewidth": 0,
             "ticks": ""
            },
            "colorscale": [
             [
              0,
              "#0d0887"
             ],
             [
              0.1111111111111111,
              "#46039f"
             ],
             [
              0.2222222222222222,
              "#7201a8"
             ],
             [
              0.3333333333333333,
              "#9c179e"
             ],
             [
              0.4444444444444444,
              "#bd3786"
             ],
             [
              0.5555555555555556,
              "#d8576b"
             ],
             [
              0.6666666666666666,
              "#ed7953"
             ],
             [
              0.7777777777777778,
              "#fb9f3a"
             ],
             [
              0.8888888888888888,
              "#fdca26"
             ],
             [
              1,
              "#f0f921"
             ]
            ],
            "type": "surface"
           }
          ],
          "table": [
           {
            "cells": {
             "fill": {
              "color": "#EBF0F8"
             },
             "line": {
              "color": "white"
             }
            },
            "header": {
             "fill": {
              "color": "#C8D4E3"
             },
             "line": {
              "color": "white"
             }
            },
            "type": "table"
           }
          ]
         },
         "layout": {
          "annotationdefaults": {
           "arrowcolor": "#2a3f5f",
           "arrowhead": 0,
           "arrowwidth": 1
          },
          "autotypenumbers": "strict",
          "coloraxis": {
           "colorbar": {
            "outlinewidth": 0,
            "ticks": ""
           }
          },
          "colorscale": {
           "diverging": [
            [
             0,
             "#8e0152"
            ],
            [
             0.1,
             "#c51b7d"
            ],
            [
             0.2,
             "#de77ae"
            ],
            [
             0.3,
             "#f1b6da"
            ],
            [
             0.4,
             "#fde0ef"
            ],
            [
             0.5,
             "#f7f7f7"
            ],
            [
             0.6,
             "#e6f5d0"
            ],
            [
             0.7,
             "#b8e186"
            ],
            [
             0.8,
             "#7fbc41"
            ],
            [
             0.9,
             "#4d9221"
            ],
            [
             1,
             "#276419"
            ]
           ],
           "sequential": [
            [
             0,
             "#0d0887"
            ],
            [
             0.1111111111111111,
             "#46039f"
            ],
            [
             0.2222222222222222,
             "#7201a8"
            ],
            [
             0.3333333333333333,
             "#9c179e"
            ],
            [
             0.4444444444444444,
             "#bd3786"
            ],
            [
             0.5555555555555556,
             "#d8576b"
            ],
            [
             0.6666666666666666,
             "#ed7953"
            ],
            [
             0.7777777777777778,
             "#fb9f3a"
            ],
            [
             0.8888888888888888,
             "#fdca26"
            ],
            [
             1,
             "#f0f921"
            ]
           ],
           "sequentialminus": [
            [
             0,
             "#0d0887"
            ],
            [
             0.1111111111111111,
             "#46039f"
            ],
            [
             0.2222222222222222,
             "#7201a8"
            ],
            [
             0.3333333333333333,
             "#9c179e"
            ],
            [
             0.4444444444444444,
             "#bd3786"
            ],
            [
             0.5555555555555556,
             "#d8576b"
            ],
            [
             0.6666666666666666,
             "#ed7953"
            ],
            [
             0.7777777777777778,
             "#fb9f3a"
            ],
            [
             0.8888888888888888,
             "#fdca26"
            ],
            [
             1,
             "#f0f921"
            ]
           ]
          },
          "colorway": [
           "#636efa",
           "#EF553B",
           "#00cc96",
           "#ab63fa",
           "#FFA15A",
           "#19d3f3",
           "#FF6692",
           "#B6E880",
           "#FF97FF",
           "#FECB52"
          ],
          "font": {
           "color": "#2a3f5f"
          },
          "geo": {
           "bgcolor": "white",
           "lakecolor": "white",
           "landcolor": "#E5ECF6",
           "showlakes": true,
           "showland": true,
           "subunitcolor": "white"
          },
          "hoverlabel": {
           "align": "left"
          },
          "hovermode": "closest",
          "mapbox": {
           "style": "light"
          },
          "paper_bgcolor": "white",
          "plot_bgcolor": "#E5ECF6",
          "polar": {
           "angularaxis": {
            "gridcolor": "white",
            "linecolor": "white",
            "ticks": ""
           },
           "bgcolor": "#E5ECF6",
           "radialaxis": {
            "gridcolor": "white",
            "linecolor": "white",
            "ticks": ""
           }
          },
          "scene": {
           "xaxis": {
            "backgroundcolor": "#E5ECF6",
            "gridcolor": "white",
            "gridwidth": 2,
            "linecolor": "white",
            "showbackground": true,
            "ticks": "",
            "zerolinecolor": "white"
           },
           "yaxis": {
            "backgroundcolor": "#E5ECF6",
            "gridcolor": "white",
            "gridwidth": 2,
            "linecolor": "white",
            "showbackground": true,
            "ticks": "",
            "zerolinecolor": "white"
           },
           "zaxis": {
            "backgroundcolor": "#E5ECF6",
            "gridcolor": "white",
            "gridwidth": 2,
            "linecolor": "white",
            "showbackground": true,
            "ticks": "",
            "zerolinecolor": "white"
           }
          },
          "shapedefaults": {
           "line": {
            "color": "#2a3f5f"
           }
          },
          "ternary": {
           "aaxis": {
            "gridcolor": "white",
            "linecolor": "white",
            "ticks": ""
           },
           "baxis": {
            "gridcolor": "white",
            "linecolor": "white",
            "ticks": ""
           },
           "bgcolor": "#E5ECF6",
           "caxis": {
            "gridcolor": "white",
            "linecolor": "white",
            "ticks": ""
           }
          },
          "title": {
           "x": 0.05
          },
          "xaxis": {
           "automargin": true,
           "gridcolor": "white",
           "linecolor": "white",
           "ticks": "",
           "title": {
            "standoff": 15
           },
           "zerolinecolor": "white",
           "zerolinewidth": 2
          },
          "yaxis": {
           "automargin": true,
           "gridcolor": "white",
           "linecolor": "white",
           "ticks": "",
           "title": {
            "standoff": 15
           },
           "zerolinecolor": "white",
           "zerolinewidth": 2
          }
         }
        }
       }
      }
     },
     "metadata": {},
     "output_type": "display_data"
    }
   ],
   "source": [
    "fig = go.Figure()\n",
    "fig.add_trace(go.Box(y = vip_segment['Recency'], name = \"Recency\"))\n",
    "fig.add_trace(go.Box(y = vip_segment['Frequency'], name = \"Frequency\"))\n",
    "fig.add_trace(go.Box(y = vip_segment['Monetary'], name = \"Monetary\")) \n"
   ]
  },
  {
   "cell_type": "code",
   "execution_count": 60,
   "metadata": {},
   "outputs": [],
   "source": [
    "correlation_matrix = vip_segment[['R', 'F', 'M']].corr()"
   ]
  },
  {
   "cell_type": "code",
   "execution_count": 62,
   "metadata": {},
   "outputs": [
    {
     "data": {
      "application/vnd.plotly.v1+json": {
       "config": {
        "plotlyServerURL": "https://plot.ly"
       },
       "data": [
        {
         "colorbar": {
          "title": {
           "text": "Correlation"
          }
         },
         "colorscale": [
          [
           0,
           "rgb(103,0,31)"
          ],
          [
           0.1,
           "rgb(178,24,43)"
          ],
          [
           0.2,
           "rgb(214,96,77)"
          ],
          [
           0.3,
           "rgb(244,165,130)"
          ],
          [
           0.4,
           "rgb(253,219,199)"
          ],
          [
           0.5,
           "rgb(247,247,247)"
          ],
          [
           0.6,
           "rgb(209,229,240)"
          ],
          [
           0.7,
           "rgb(146,197,222)"
          ],
          [
           0.8,
           "rgb(67,147,195)"
          ],
          [
           0.9,
           "rgb(33,102,172)"
          ],
          [
           1,
           "rgb(5,48,97)"
          ]
         ],
         "type": "heatmap",
         "x": [
          "R",
          "F",
          "M"
         ],
         "y": [
          "R",
          "F",
          "M"
         ],
         "z": {
          "bdata": "AAAAAAAA8D+hXgAnUAC3v5x9PH4drri/oV4AJ1AAt78AAAAAAADwP0DSVrVqPNU/nH08fh2uuL9A0la1ajzVPwAAAAAAAPA/",
          "dtype": "f8",
          "shape": "3, 3"
         }
        }
       ],
       "layout": {
        "template": {
         "data": {
          "bar": [
           {
            "error_x": {
             "color": "#2a3f5f"
            },
            "error_y": {
             "color": "#2a3f5f"
            },
            "marker": {
             "line": {
              "color": "#E5ECF6",
              "width": 0.5
             },
             "pattern": {
              "fillmode": "overlay",
              "size": 10,
              "solidity": 0.2
             }
            },
            "type": "bar"
           }
          ],
          "barpolar": [
           {
            "marker": {
             "line": {
              "color": "#E5ECF6",
              "width": 0.5
             },
             "pattern": {
              "fillmode": "overlay",
              "size": 10,
              "solidity": 0.2
             }
            },
            "type": "barpolar"
           }
          ],
          "carpet": [
           {
            "aaxis": {
             "endlinecolor": "#2a3f5f",
             "gridcolor": "white",
             "linecolor": "white",
             "minorgridcolor": "white",
             "startlinecolor": "#2a3f5f"
            },
            "baxis": {
             "endlinecolor": "#2a3f5f",
             "gridcolor": "white",
             "linecolor": "white",
             "minorgridcolor": "white",
             "startlinecolor": "#2a3f5f"
            },
            "type": "carpet"
           }
          ],
          "choropleth": [
           {
            "colorbar": {
             "outlinewidth": 0,
             "ticks": ""
            },
            "type": "choropleth"
           }
          ],
          "contour": [
           {
            "colorbar": {
             "outlinewidth": 0,
             "ticks": ""
            },
            "colorscale": [
             [
              0,
              "#0d0887"
             ],
             [
              0.1111111111111111,
              "#46039f"
             ],
             [
              0.2222222222222222,
              "#7201a8"
             ],
             [
              0.3333333333333333,
              "#9c179e"
             ],
             [
              0.4444444444444444,
              "#bd3786"
             ],
             [
              0.5555555555555556,
              "#d8576b"
             ],
             [
              0.6666666666666666,
              "#ed7953"
             ],
             [
              0.7777777777777778,
              "#fb9f3a"
             ],
             [
              0.8888888888888888,
              "#fdca26"
             ],
             [
              1,
              "#f0f921"
             ]
            ],
            "type": "contour"
           }
          ],
          "contourcarpet": [
           {
            "colorbar": {
             "outlinewidth": 0,
             "ticks": ""
            },
            "type": "contourcarpet"
           }
          ],
          "heatmap": [
           {
            "colorbar": {
             "outlinewidth": 0,
             "ticks": ""
            },
            "colorscale": [
             [
              0,
              "#0d0887"
             ],
             [
              0.1111111111111111,
              "#46039f"
             ],
             [
              0.2222222222222222,
              "#7201a8"
             ],
             [
              0.3333333333333333,
              "#9c179e"
             ],
             [
              0.4444444444444444,
              "#bd3786"
             ],
             [
              0.5555555555555556,
              "#d8576b"
             ],
             [
              0.6666666666666666,
              "#ed7953"
             ],
             [
              0.7777777777777778,
              "#fb9f3a"
             ],
             [
              0.8888888888888888,
              "#fdca26"
             ],
             [
              1,
              "#f0f921"
             ]
            ],
            "type": "heatmap"
           }
          ],
          "histogram": [
           {
            "marker": {
             "pattern": {
              "fillmode": "overlay",
              "size": 10,
              "solidity": 0.2
             }
            },
            "type": "histogram"
           }
          ],
          "histogram2d": [
           {
            "colorbar": {
             "outlinewidth": 0,
             "ticks": ""
            },
            "colorscale": [
             [
              0,
              "#0d0887"
             ],
             [
              0.1111111111111111,
              "#46039f"
             ],
             [
              0.2222222222222222,
              "#7201a8"
             ],
             [
              0.3333333333333333,
              "#9c179e"
             ],
             [
              0.4444444444444444,
              "#bd3786"
             ],
             [
              0.5555555555555556,
              "#d8576b"
             ],
             [
              0.6666666666666666,
              "#ed7953"
             ],
             [
              0.7777777777777778,
              "#fb9f3a"
             ],
             [
              0.8888888888888888,
              "#fdca26"
             ],
             [
              1,
              "#f0f921"
             ]
            ],
            "type": "histogram2d"
           }
          ],
          "histogram2dcontour": [
           {
            "colorbar": {
             "outlinewidth": 0,
             "ticks": ""
            },
            "colorscale": [
             [
              0,
              "#0d0887"
             ],
             [
              0.1111111111111111,
              "#46039f"
             ],
             [
              0.2222222222222222,
              "#7201a8"
             ],
             [
              0.3333333333333333,
              "#9c179e"
             ],
             [
              0.4444444444444444,
              "#bd3786"
             ],
             [
              0.5555555555555556,
              "#d8576b"
             ],
             [
              0.6666666666666666,
              "#ed7953"
             ],
             [
              0.7777777777777778,
              "#fb9f3a"
             ],
             [
              0.8888888888888888,
              "#fdca26"
             ],
             [
              1,
              "#f0f921"
             ]
            ],
            "type": "histogram2dcontour"
           }
          ],
          "mesh3d": [
           {
            "colorbar": {
             "outlinewidth": 0,
             "ticks": ""
            },
            "type": "mesh3d"
           }
          ],
          "parcoords": [
           {
            "line": {
             "colorbar": {
              "outlinewidth": 0,
              "ticks": ""
             }
            },
            "type": "parcoords"
           }
          ],
          "pie": [
           {
            "automargin": true,
            "type": "pie"
           }
          ],
          "scatter": [
           {
            "fillpattern": {
             "fillmode": "overlay",
             "size": 10,
             "solidity": 0.2
            },
            "type": "scatter"
           }
          ],
          "scatter3d": [
           {
            "line": {
             "colorbar": {
              "outlinewidth": 0,
              "ticks": ""
             }
            },
            "marker": {
             "colorbar": {
              "outlinewidth": 0,
              "ticks": ""
             }
            },
            "type": "scatter3d"
           }
          ],
          "scattercarpet": [
           {
            "marker": {
             "colorbar": {
              "outlinewidth": 0,
              "ticks": ""
             }
            },
            "type": "scattercarpet"
           }
          ],
          "scattergeo": [
           {
            "marker": {
             "colorbar": {
              "outlinewidth": 0,
              "ticks": ""
             }
            },
            "type": "scattergeo"
           }
          ],
          "scattergl": [
           {
            "marker": {
             "colorbar": {
              "outlinewidth": 0,
              "ticks": ""
             }
            },
            "type": "scattergl"
           }
          ],
          "scattermap": [
           {
            "marker": {
             "colorbar": {
              "outlinewidth": 0,
              "ticks": ""
             }
            },
            "type": "scattermap"
           }
          ],
          "scattermapbox": [
           {
            "marker": {
             "colorbar": {
              "outlinewidth": 0,
              "ticks": ""
             }
            },
            "type": "scattermapbox"
           }
          ],
          "scatterpolar": [
           {
            "marker": {
             "colorbar": {
              "outlinewidth": 0,
              "ticks": ""
             }
            },
            "type": "scatterpolar"
           }
          ],
          "scatterpolargl": [
           {
            "marker": {
             "colorbar": {
              "outlinewidth": 0,
              "ticks": ""
             }
            },
            "type": "scatterpolargl"
           }
          ],
          "scatterternary": [
           {
            "marker": {
             "colorbar": {
              "outlinewidth": 0,
              "ticks": ""
             }
            },
            "type": "scatterternary"
           }
          ],
          "surface": [
           {
            "colorbar": {
             "outlinewidth": 0,
             "ticks": ""
            },
            "colorscale": [
             [
              0,
              "#0d0887"
             ],
             [
              0.1111111111111111,
              "#46039f"
             ],
             [
              0.2222222222222222,
              "#7201a8"
             ],
             [
              0.3333333333333333,
              "#9c179e"
             ],
             [
              0.4444444444444444,
              "#bd3786"
             ],
             [
              0.5555555555555556,
              "#d8576b"
             ],
             [
              0.6666666666666666,
              "#ed7953"
             ],
             [
              0.7777777777777778,
              "#fb9f3a"
             ],
             [
              0.8888888888888888,
              "#fdca26"
             ],
             [
              1,
              "#f0f921"
             ]
            ],
            "type": "surface"
           }
          ],
          "table": [
           {
            "cells": {
             "fill": {
              "color": "#EBF0F8"
             },
             "line": {
              "color": "white"
             }
            },
            "header": {
             "fill": {
              "color": "#C8D4E3"
             },
             "line": {
              "color": "white"
             }
            },
            "type": "table"
           }
          ]
         },
         "layout": {
          "annotationdefaults": {
           "arrowcolor": "#2a3f5f",
           "arrowhead": 0,
           "arrowwidth": 1
          },
          "autotypenumbers": "strict",
          "coloraxis": {
           "colorbar": {
            "outlinewidth": 0,
            "ticks": ""
           }
          },
          "colorscale": {
           "diverging": [
            [
             0,
             "#8e0152"
            ],
            [
             0.1,
             "#c51b7d"
            ],
            [
             0.2,
             "#de77ae"
            ],
            [
             0.3,
             "#f1b6da"
            ],
            [
             0.4,
             "#fde0ef"
            ],
            [
             0.5,
             "#f7f7f7"
            ],
            [
             0.6,
             "#e6f5d0"
            ],
            [
             0.7,
             "#b8e186"
            ],
            [
             0.8,
             "#7fbc41"
            ],
            [
             0.9,
             "#4d9221"
            ],
            [
             1,
             "#276419"
            ]
           ],
           "sequential": [
            [
             0,
             "#0d0887"
            ],
            [
             0.1111111111111111,
             "#46039f"
            ],
            [
             0.2222222222222222,
             "#7201a8"
            ],
            [
             0.3333333333333333,
             "#9c179e"
            ],
            [
             0.4444444444444444,
             "#bd3786"
            ],
            [
             0.5555555555555556,
             "#d8576b"
            ],
            [
             0.6666666666666666,
             "#ed7953"
            ],
            [
             0.7777777777777778,
             "#fb9f3a"
            ],
            [
             0.8888888888888888,
             "#fdca26"
            ],
            [
             1,
             "#f0f921"
            ]
           ],
           "sequentialminus": [
            [
             0,
             "#0d0887"
            ],
            [
             0.1111111111111111,
             "#46039f"
            ],
            [
             0.2222222222222222,
             "#7201a8"
            ],
            [
             0.3333333333333333,
             "#9c179e"
            ],
            [
             0.4444444444444444,
             "#bd3786"
            ],
            [
             0.5555555555555556,
             "#d8576b"
            ],
            [
             0.6666666666666666,
             "#ed7953"
            ],
            [
             0.7777777777777778,
             "#fb9f3a"
            ],
            [
             0.8888888888888888,
             "#fdca26"
            ],
            [
             1,
             "#f0f921"
            ]
           ]
          },
          "colorway": [
           "#636efa",
           "#EF553B",
           "#00cc96",
           "#ab63fa",
           "#FFA15A",
           "#19d3f3",
           "#FF6692",
           "#B6E880",
           "#FF97FF",
           "#FECB52"
          ],
          "font": {
           "color": "#2a3f5f"
          },
          "geo": {
           "bgcolor": "white",
           "lakecolor": "white",
           "landcolor": "#E5ECF6",
           "showlakes": true,
           "showland": true,
           "subunitcolor": "white"
          },
          "hoverlabel": {
           "align": "left"
          },
          "hovermode": "closest",
          "mapbox": {
           "style": "light"
          },
          "paper_bgcolor": "white",
          "plot_bgcolor": "#E5ECF6",
          "polar": {
           "angularaxis": {
            "gridcolor": "white",
            "linecolor": "white",
            "ticks": ""
           },
           "bgcolor": "#E5ECF6",
           "radialaxis": {
            "gridcolor": "white",
            "linecolor": "white",
            "ticks": ""
           }
          },
          "scene": {
           "xaxis": {
            "backgroundcolor": "#E5ECF6",
            "gridcolor": "white",
            "gridwidth": 2,
            "linecolor": "white",
            "showbackground": true,
            "ticks": "",
            "zerolinecolor": "white"
           },
           "yaxis": {
            "backgroundcolor": "#E5ECF6",
            "gridcolor": "white",
            "gridwidth": 2,
            "linecolor": "white",
            "showbackground": true,
            "ticks": "",
            "zerolinecolor": "white"
           },
           "zaxis": {
            "backgroundcolor": "#E5ECF6",
            "gridcolor": "white",
            "gridwidth": 2,
            "linecolor": "white",
            "showbackground": true,
            "ticks": "",
            "zerolinecolor": "white"
           }
          },
          "shapedefaults": {
           "line": {
            "color": "#2a3f5f"
           }
          },
          "ternary": {
           "aaxis": {
            "gridcolor": "white",
            "linecolor": "white",
            "ticks": ""
           },
           "baxis": {
            "gridcolor": "white",
            "linecolor": "white",
            "ticks": ""
           },
           "bgcolor": "#E5ECF6",
           "caxis": {
            "gridcolor": "white",
            "linecolor": "white",
            "ticks": ""
           }
          },
          "title": {
           "x": 0.05
          },
          "xaxis": {
           "automargin": true,
           "gridcolor": "white",
           "linecolor": "white",
           "ticks": "",
           "title": {
            "standoff": 15
           },
           "zerolinecolor": "white",
           "zerolinewidth": 2
          },
          "yaxis": {
           "automargin": true,
           "gridcolor": "white",
           "linecolor": "white",
           "ticks": "",
           "title": {
            "standoff": 15
           },
           "zerolinecolor": "white",
           "zerolinewidth": 2
          }
         }
        },
        "title": {
         "text": "Correlation Matrix of RFM Monetary within Champion Segment"
        }
       }
      }
     },
     "metadata": {},
     "output_type": "display_data"
    }
   ],
   "source": [
    "#Create Heatmap\n",
    "\n",
    "fig_heatmap = go.Figure(data = go.Heatmap(\n",
    "                    z = correlation_matrix.values, \n",
    "                    x = correlation_matrix.columns, \n",
    "                    y = correlation_matrix.columns,\n",
    "                    colorscale = 'RdBu',\n",
    "                    colorbar = dict(title = 'Correlation')))\n",
    "\n",
    "fig_heatmap.update_layout(title = \"Correlation Matrix of RFM Monetary within Champion Segment\")\n",
    "\n",
    "\n",
    "#Show Heatmap\n",
    "\n",
    "fig_heatmap.show()"
   ]
  },
  {
   "cell_type": "code",
   "execution_count": 64,
   "metadata": {},
   "outputs": [
    {
     "data": {
      "application/vnd.plotly.v1+json": {
       "config": {
        "plotlyServerURL": "https://plot.ly"
       },
       "data": [
        {
         "marker": {
          "color": [
           "rgb(102, 197, 204)",
           "rgb(246, 207, 113)",
           "rgb(248, 156, 116)",
           "rgb(220, 176, 242)",
           "rgb(135, 197, 95)"
          ],
          "line": {
           "color": "rgb(8, 48, 107)",
           "width": 1.5
          }
         },
         "opacity": 0.6,
         "type": "bar",
         "x": [
          "At Risk",
          "Can't Lose",
          "Lost",
          "Potential Loyalist",
          "VIP/Loyal"
         ],
         "y": {
          "bdata": "BQKHAYgBZgWaBg==",
          "dtype": "i2"
         }
        }
       ],
       "layout": {
        "showlegend": false,
        "template": {
         "data": {
          "bar": [
           {
            "error_x": {
             "color": "#2a3f5f"
            },
            "error_y": {
             "color": "#2a3f5f"
            },
            "marker": {
             "line": {
              "color": "#E5ECF6",
              "width": 0.5
             },
             "pattern": {
              "fillmode": "overlay",
              "size": 10,
              "solidity": 0.2
             }
            },
            "type": "bar"
           }
          ],
          "barpolar": [
           {
            "marker": {
             "line": {
              "color": "#E5ECF6",
              "width": 0.5
             },
             "pattern": {
              "fillmode": "overlay",
              "size": 10,
              "solidity": 0.2
             }
            },
            "type": "barpolar"
           }
          ],
          "carpet": [
           {
            "aaxis": {
             "endlinecolor": "#2a3f5f",
             "gridcolor": "white",
             "linecolor": "white",
             "minorgridcolor": "white",
             "startlinecolor": "#2a3f5f"
            },
            "baxis": {
             "endlinecolor": "#2a3f5f",
             "gridcolor": "white",
             "linecolor": "white",
             "minorgridcolor": "white",
             "startlinecolor": "#2a3f5f"
            },
            "type": "carpet"
           }
          ],
          "choropleth": [
           {
            "colorbar": {
             "outlinewidth": 0,
             "ticks": ""
            },
            "type": "choropleth"
           }
          ],
          "contour": [
           {
            "colorbar": {
             "outlinewidth": 0,
             "ticks": ""
            },
            "colorscale": [
             [
              0,
              "#0d0887"
             ],
             [
              0.1111111111111111,
              "#46039f"
             ],
             [
              0.2222222222222222,
              "#7201a8"
             ],
             [
              0.3333333333333333,
              "#9c179e"
             ],
             [
              0.4444444444444444,
              "#bd3786"
             ],
             [
              0.5555555555555556,
              "#d8576b"
             ],
             [
              0.6666666666666666,
              "#ed7953"
             ],
             [
              0.7777777777777778,
              "#fb9f3a"
             ],
             [
              0.8888888888888888,
              "#fdca26"
             ],
             [
              1,
              "#f0f921"
             ]
            ],
            "type": "contour"
           }
          ],
          "contourcarpet": [
           {
            "colorbar": {
             "outlinewidth": 0,
             "ticks": ""
            },
            "type": "contourcarpet"
           }
          ],
          "heatmap": [
           {
            "colorbar": {
             "outlinewidth": 0,
             "ticks": ""
            },
            "colorscale": [
             [
              0,
              "#0d0887"
             ],
             [
              0.1111111111111111,
              "#46039f"
             ],
             [
              0.2222222222222222,
              "#7201a8"
             ],
             [
              0.3333333333333333,
              "#9c179e"
             ],
             [
              0.4444444444444444,
              "#bd3786"
             ],
             [
              0.5555555555555556,
              "#d8576b"
             ],
             [
              0.6666666666666666,
              "#ed7953"
             ],
             [
              0.7777777777777778,
              "#fb9f3a"
             ],
             [
              0.8888888888888888,
              "#fdca26"
             ],
             [
              1,
              "#f0f921"
             ]
            ],
            "type": "heatmap"
           }
          ],
          "histogram": [
           {
            "marker": {
             "pattern": {
              "fillmode": "overlay",
              "size": 10,
              "solidity": 0.2
             }
            },
            "type": "histogram"
           }
          ],
          "histogram2d": [
           {
            "colorbar": {
             "outlinewidth": 0,
             "ticks": ""
            },
            "colorscale": [
             [
              0,
              "#0d0887"
             ],
             [
              0.1111111111111111,
              "#46039f"
             ],
             [
              0.2222222222222222,
              "#7201a8"
             ],
             [
              0.3333333333333333,
              "#9c179e"
             ],
             [
              0.4444444444444444,
              "#bd3786"
             ],
             [
              0.5555555555555556,
              "#d8576b"
             ],
             [
              0.6666666666666666,
              "#ed7953"
             ],
             [
              0.7777777777777778,
              "#fb9f3a"
             ],
             [
              0.8888888888888888,
              "#fdca26"
             ],
             [
              1,
              "#f0f921"
             ]
            ],
            "type": "histogram2d"
           }
          ],
          "histogram2dcontour": [
           {
            "colorbar": {
             "outlinewidth": 0,
             "ticks": ""
            },
            "colorscale": [
             [
              0,
              "#0d0887"
             ],
             [
              0.1111111111111111,
              "#46039f"
             ],
             [
              0.2222222222222222,
              "#7201a8"
             ],
             [
              0.3333333333333333,
              "#9c179e"
             ],
             [
              0.4444444444444444,
              "#bd3786"
             ],
             [
              0.5555555555555556,
              "#d8576b"
             ],
             [
              0.6666666666666666,
              "#ed7953"
             ],
             [
              0.7777777777777778,
              "#fb9f3a"
             ],
             [
              0.8888888888888888,
              "#fdca26"
             ],
             [
              1,
              "#f0f921"
             ]
            ],
            "type": "histogram2dcontour"
           }
          ],
          "mesh3d": [
           {
            "colorbar": {
             "outlinewidth": 0,
             "ticks": ""
            },
            "type": "mesh3d"
           }
          ],
          "parcoords": [
           {
            "line": {
             "colorbar": {
              "outlinewidth": 0,
              "ticks": ""
             }
            },
            "type": "parcoords"
           }
          ],
          "pie": [
           {
            "automargin": true,
            "type": "pie"
           }
          ],
          "scatter": [
           {
            "fillpattern": {
             "fillmode": "overlay",
             "size": 10,
             "solidity": 0.2
            },
            "type": "scatter"
           }
          ],
          "scatter3d": [
           {
            "line": {
             "colorbar": {
              "outlinewidth": 0,
              "ticks": ""
             }
            },
            "marker": {
             "colorbar": {
              "outlinewidth": 0,
              "ticks": ""
             }
            },
            "type": "scatter3d"
           }
          ],
          "scattercarpet": [
           {
            "marker": {
             "colorbar": {
              "outlinewidth": 0,
              "ticks": ""
             }
            },
            "type": "scattercarpet"
           }
          ],
          "scattergeo": [
           {
            "marker": {
             "colorbar": {
              "outlinewidth": 0,
              "ticks": ""
             }
            },
            "type": "scattergeo"
           }
          ],
          "scattergl": [
           {
            "marker": {
             "colorbar": {
              "outlinewidth": 0,
              "ticks": ""
             }
            },
            "type": "scattergl"
           }
          ],
          "scattermap": [
           {
            "marker": {
             "colorbar": {
              "outlinewidth": 0,
              "ticks": ""
             }
            },
            "type": "scattermap"
           }
          ],
          "scattermapbox": [
           {
            "marker": {
             "colorbar": {
              "outlinewidth": 0,
              "ticks": ""
             }
            },
            "type": "scattermapbox"
           }
          ],
          "scatterpolar": [
           {
            "marker": {
             "colorbar": {
              "outlinewidth": 0,
              "ticks": ""
             }
            },
            "type": "scatterpolar"
           }
          ],
          "scatterpolargl": [
           {
            "marker": {
             "colorbar": {
              "outlinewidth": 0,
              "ticks": ""
             }
            },
            "type": "scatterpolargl"
           }
          ],
          "scatterternary": [
           {
            "marker": {
             "colorbar": {
              "outlinewidth": 0,
              "ticks": ""
             }
            },
            "type": "scatterternary"
           }
          ],
          "surface": [
           {
            "colorbar": {
             "outlinewidth": 0,
             "ticks": ""
            },
            "colorscale": [
             [
              0,
              "#0d0887"
             ],
             [
              0.1111111111111111,
              "#46039f"
             ],
             [
              0.2222222222222222,
              "#7201a8"
             ],
             [
              0.3333333333333333,
              "#9c179e"
             ],
             [
              0.4444444444444444,
              "#bd3786"
             ],
             [
              0.5555555555555556,
              "#d8576b"
             ],
             [
              0.6666666666666666,
              "#ed7953"
             ],
             [
              0.7777777777777778,
              "#fb9f3a"
             ],
             [
              0.8888888888888888,
              "#fdca26"
             ],
             [
              1,
              "#f0f921"
             ]
            ],
            "type": "surface"
           }
          ],
          "table": [
           {
            "cells": {
             "fill": {
              "color": "#EBF0F8"
             },
             "line": {
              "color": "white"
             }
            },
            "header": {
             "fill": {
              "color": "#C8D4E3"
             },
             "line": {
              "color": "white"
             }
            },
            "type": "table"
           }
          ]
         },
         "layout": {
          "annotationdefaults": {
           "arrowcolor": "#2a3f5f",
           "arrowhead": 0,
           "arrowwidth": 1
          },
          "autotypenumbers": "strict",
          "coloraxis": {
           "colorbar": {
            "outlinewidth": 0,
            "ticks": ""
           }
          },
          "colorscale": {
           "diverging": [
            [
             0,
             "#8e0152"
            ],
            [
             0.1,
             "#c51b7d"
            ],
            [
             0.2,
             "#de77ae"
            ],
            [
             0.3,
             "#f1b6da"
            ],
            [
             0.4,
             "#fde0ef"
            ],
            [
             0.5,
             "#f7f7f7"
            ],
            [
             0.6,
             "#e6f5d0"
            ],
            [
             0.7,
             "#b8e186"
            ],
            [
             0.8,
             "#7fbc41"
            ],
            [
             0.9,
             "#4d9221"
            ],
            [
             1,
             "#276419"
            ]
           ],
           "sequential": [
            [
             0,
             "#0d0887"
            ],
            [
             0.1111111111111111,
             "#46039f"
            ],
            [
             0.2222222222222222,
             "#7201a8"
            ],
            [
             0.3333333333333333,
             "#9c179e"
            ],
            [
             0.4444444444444444,
             "#bd3786"
            ],
            [
             0.5555555555555556,
             "#d8576b"
            ],
            [
             0.6666666666666666,
             "#ed7953"
            ],
            [
             0.7777777777777778,
             "#fb9f3a"
            ],
            [
             0.8888888888888888,
             "#fdca26"
            ],
            [
             1,
             "#f0f921"
            ]
           ],
           "sequentialminus": [
            [
             0,
             "#0d0887"
            ],
            [
             0.1111111111111111,
             "#46039f"
            ],
            [
             0.2222222222222222,
             "#7201a8"
            ],
            [
             0.3333333333333333,
             "#9c179e"
            ],
            [
             0.4444444444444444,
             "#bd3786"
            ],
            [
             0.5555555555555556,
             "#d8576b"
            ],
            [
             0.6666666666666666,
             "#ed7953"
            ],
            [
             0.7777777777777778,
             "#fb9f3a"
            ],
            [
             0.8888888888888888,
             "#fdca26"
            ],
            [
             1,
             "#f0f921"
            ]
           ]
          },
          "colorway": [
           "#636efa",
           "#EF553B",
           "#00cc96",
           "#ab63fa",
           "#FFA15A",
           "#19d3f3",
           "#FF6692",
           "#B6E880",
           "#FF97FF",
           "#FECB52"
          ],
          "font": {
           "color": "#2a3f5f"
          },
          "geo": {
           "bgcolor": "white",
           "lakecolor": "white",
           "landcolor": "#E5ECF6",
           "showlakes": true,
           "showland": true,
           "subunitcolor": "white"
          },
          "hoverlabel": {
           "align": "left"
          },
          "hovermode": "closest",
          "mapbox": {
           "style": "light"
          },
          "paper_bgcolor": "white",
          "plot_bgcolor": "#E5ECF6",
          "polar": {
           "angularaxis": {
            "gridcolor": "white",
            "linecolor": "white",
            "ticks": ""
           },
           "bgcolor": "#E5ECF6",
           "radialaxis": {
            "gridcolor": "white",
            "linecolor": "white",
            "ticks": ""
           }
          },
          "scene": {
           "xaxis": {
            "backgroundcolor": "#E5ECF6",
            "gridcolor": "white",
            "gridwidth": 2,
            "linecolor": "white",
            "showbackground": true,
            "ticks": "",
            "zerolinecolor": "white"
           },
           "yaxis": {
            "backgroundcolor": "#E5ECF6",
            "gridcolor": "white",
            "gridwidth": 2,
            "linecolor": "white",
            "showbackground": true,
            "ticks": "",
            "zerolinecolor": "white"
           },
           "zaxis": {
            "backgroundcolor": "#E5ECF6",
            "gridcolor": "white",
            "gridwidth": 2,
            "linecolor": "white",
            "showbackground": true,
            "ticks": "",
            "zerolinecolor": "white"
           }
          },
          "shapedefaults": {
           "line": {
            "color": "#2a3f5f"
           }
          },
          "ternary": {
           "aaxis": {
            "gridcolor": "white",
            "linecolor": "white",
            "ticks": ""
           },
           "baxis": {
            "gridcolor": "white",
            "linecolor": "white",
            "ticks": ""
           },
           "bgcolor": "#E5ECF6",
           "caxis": {
            "gridcolor": "white",
            "linecolor": "white",
            "ticks": ""
           }
          },
          "title": {
           "x": 0.05
          },
          "xaxis": {
           "automargin": true,
           "gridcolor": "white",
           "linecolor": "white",
           "ticks": "",
           "title": {
            "standoff": 15
           },
           "zerolinecolor": "white",
           "zerolinewidth": 2
          },
          "yaxis": {
           "automargin": true,
           "gridcolor": "white",
           "linecolor": "white",
           "ticks": "",
           "title": {
            "standoff": 15
           },
           "zerolinecolor": "white",
           "zerolinewidth": 2
          }
         }
        },
        "title": {
         "text": "Comparison of RFM Segments"
        },
        "xaxis": {
         "title": {
          "text": "RFM Segments"
         }
        },
        "yaxis": {
         "title": {
          "text": "Number of Customers"
         }
        }
       }
      }
     },
     "metadata": {},
     "output_type": "display_data"
    }
   ],
   "source": [
    "# ดูall of rank\n",
    "pastel_colors = plotly.colors.qualitative.Pastel\n",
    "\n",
    "fig = go.Figure(data = [go.Bar(x = segment_counts.index, y = segment_counts.values,\n",
    "                               marker = dict(color = pastel_colors))])\n",
    "\n",
    "\n",
    "vip_color = 'rgb(158, 202, 225)'\n",
    "\n",
    "fig.update_traces(marker_color=[vip_color if segment == \"Champions\" else pastel_colors[i]\n",
    "                                for i, segment in enumerate(segment_counts.index)],\n",
    "                  marker_line_color = 'rgb(8, 48, 107)',\n",
    "                  marker_line_width = 1.5, opacity = 0.6)\n",
    "\n",
    "\n",
    "# update the layout\n",
    "fig.update_layout(title = \"Comparison of RFM Segments\",\n",
    "                  xaxis_title = \"RFM Segments\",\n",
    "                  yaxis_title = \"Number of Customers\",\n",
    "                  showlegend = False)\n",
    "\n",
    "# Display the figure\n",
    "\n",
    "fig.show()"
   ]
  },
  {
   "cell_type": "code",
   "execution_count": 69,
   "metadata": {},
   "outputs": [
    {
     "data": {
      "application/vnd.plotly.v1+json": {
       "config": {
        "plotlyServerURL": "https://plot.ly"
       },
       "data": [
        {
         "marker": {
          "color": "rgb(158, 202, 225)"
         },
         "name": "Recency Score",
         "type": "bar",
         "x": [
          "At Risk",
          "Can't Lose",
          "Lost",
          "Potential Loyalist",
          "VIP/Loyal"
         ],
         "y": {
          "bdata": "jGE/gJnC+z+VO3MwGmj3PwAAAAAAAPA/pkWsleSNA0D2JJ7OrjsLQA==",
          "dtype": "f8"
         }
        },
        {
         "marker": {
          "color": "rgb(94, 158, 217)"
         },
         "name": "Frequency Score",
         "type": "bar",
         "x": [
          "At Risk",
          "Can't Lose",
          "Lost",
          "Potential Loyalist",
          "VIP/Loyal"
         ],
         "y": {
          "bdata": "UXnPeQL/+T+CPyl35mD0PwAAAAAAAPA/mH0fKasGAkBTpsehkowMQA==",
          "dtype": "f8"
         }
        },
        {
         "marker": {
          "color": "rgb(32, 102, 148)"
         },
         "name": "Monetary Score",
         "type": "bar",
         "x": [
          "At Risk",
          "Can't Lose",
          "Lost",
          "Potential Loyalist",
          "VIP/Loyal"
         ],
         "y": {
          "bdata": "IyXxBWQ++j/phGNY/zb0PwAAAAAAAPA/L3a74vRpAkC6fWX1LnkMQA==",
          "dtype": "f8"
         }
        }
       ],
       "layout": {
        "barmode": "group",
        "showlegend": true,
        "template": {
         "data": {
          "bar": [
           {
            "error_x": {
             "color": "#2a3f5f"
            },
            "error_y": {
             "color": "#2a3f5f"
            },
            "marker": {
             "line": {
              "color": "#E5ECF6",
              "width": 0.5
             },
             "pattern": {
              "fillmode": "overlay",
              "size": 10,
              "solidity": 0.2
             }
            },
            "type": "bar"
           }
          ],
          "barpolar": [
           {
            "marker": {
             "line": {
              "color": "#E5ECF6",
              "width": 0.5
             },
             "pattern": {
              "fillmode": "overlay",
              "size": 10,
              "solidity": 0.2
             }
            },
            "type": "barpolar"
           }
          ],
          "carpet": [
           {
            "aaxis": {
             "endlinecolor": "#2a3f5f",
             "gridcolor": "white",
             "linecolor": "white",
             "minorgridcolor": "white",
             "startlinecolor": "#2a3f5f"
            },
            "baxis": {
             "endlinecolor": "#2a3f5f",
             "gridcolor": "white",
             "linecolor": "white",
             "minorgridcolor": "white",
             "startlinecolor": "#2a3f5f"
            },
            "type": "carpet"
           }
          ],
          "choropleth": [
           {
            "colorbar": {
             "outlinewidth": 0,
             "ticks": ""
            },
            "type": "choropleth"
           }
          ],
          "contour": [
           {
            "colorbar": {
             "outlinewidth": 0,
             "ticks": ""
            },
            "colorscale": [
             [
              0,
              "#0d0887"
             ],
             [
              0.1111111111111111,
              "#46039f"
             ],
             [
              0.2222222222222222,
              "#7201a8"
             ],
             [
              0.3333333333333333,
              "#9c179e"
             ],
             [
              0.4444444444444444,
              "#bd3786"
             ],
             [
              0.5555555555555556,
              "#d8576b"
             ],
             [
              0.6666666666666666,
              "#ed7953"
             ],
             [
              0.7777777777777778,
              "#fb9f3a"
             ],
             [
              0.8888888888888888,
              "#fdca26"
             ],
             [
              1,
              "#f0f921"
             ]
            ],
            "type": "contour"
           }
          ],
          "contourcarpet": [
           {
            "colorbar": {
             "outlinewidth": 0,
             "ticks": ""
            },
            "type": "contourcarpet"
           }
          ],
          "heatmap": [
           {
            "colorbar": {
             "outlinewidth": 0,
             "ticks": ""
            },
            "colorscale": [
             [
              0,
              "#0d0887"
             ],
             [
              0.1111111111111111,
              "#46039f"
             ],
             [
              0.2222222222222222,
              "#7201a8"
             ],
             [
              0.3333333333333333,
              "#9c179e"
             ],
             [
              0.4444444444444444,
              "#bd3786"
             ],
             [
              0.5555555555555556,
              "#d8576b"
             ],
             [
              0.6666666666666666,
              "#ed7953"
             ],
             [
              0.7777777777777778,
              "#fb9f3a"
             ],
             [
              0.8888888888888888,
              "#fdca26"
             ],
             [
              1,
              "#f0f921"
             ]
            ],
            "type": "heatmap"
           }
          ],
          "histogram": [
           {
            "marker": {
             "pattern": {
              "fillmode": "overlay",
              "size": 10,
              "solidity": 0.2
             }
            },
            "type": "histogram"
           }
          ],
          "histogram2d": [
           {
            "colorbar": {
             "outlinewidth": 0,
             "ticks": ""
            },
            "colorscale": [
             [
              0,
              "#0d0887"
             ],
             [
              0.1111111111111111,
              "#46039f"
             ],
             [
              0.2222222222222222,
              "#7201a8"
             ],
             [
              0.3333333333333333,
              "#9c179e"
             ],
             [
              0.4444444444444444,
              "#bd3786"
             ],
             [
              0.5555555555555556,
              "#d8576b"
             ],
             [
              0.6666666666666666,
              "#ed7953"
             ],
             [
              0.7777777777777778,
              "#fb9f3a"
             ],
             [
              0.8888888888888888,
              "#fdca26"
             ],
             [
              1,
              "#f0f921"
             ]
            ],
            "type": "histogram2d"
           }
          ],
          "histogram2dcontour": [
           {
            "colorbar": {
             "outlinewidth": 0,
             "ticks": ""
            },
            "colorscale": [
             [
              0,
              "#0d0887"
             ],
             [
              0.1111111111111111,
              "#46039f"
             ],
             [
              0.2222222222222222,
              "#7201a8"
             ],
             [
              0.3333333333333333,
              "#9c179e"
             ],
             [
              0.4444444444444444,
              "#bd3786"
             ],
             [
              0.5555555555555556,
              "#d8576b"
             ],
             [
              0.6666666666666666,
              "#ed7953"
             ],
             [
              0.7777777777777778,
              "#fb9f3a"
             ],
             [
              0.8888888888888888,
              "#fdca26"
             ],
             [
              1,
              "#f0f921"
             ]
            ],
            "type": "histogram2dcontour"
           }
          ],
          "mesh3d": [
           {
            "colorbar": {
             "outlinewidth": 0,
             "ticks": ""
            },
            "type": "mesh3d"
           }
          ],
          "parcoords": [
           {
            "line": {
             "colorbar": {
              "outlinewidth": 0,
              "ticks": ""
             }
            },
            "type": "parcoords"
           }
          ],
          "pie": [
           {
            "automargin": true,
            "type": "pie"
           }
          ],
          "scatter": [
           {
            "fillpattern": {
             "fillmode": "overlay",
             "size": 10,
             "solidity": 0.2
            },
            "type": "scatter"
           }
          ],
          "scatter3d": [
           {
            "line": {
             "colorbar": {
              "outlinewidth": 0,
              "ticks": ""
             }
            },
            "marker": {
             "colorbar": {
              "outlinewidth": 0,
              "ticks": ""
             }
            },
            "type": "scatter3d"
           }
          ],
          "scattercarpet": [
           {
            "marker": {
             "colorbar": {
              "outlinewidth": 0,
              "ticks": ""
             }
            },
            "type": "scattercarpet"
           }
          ],
          "scattergeo": [
           {
            "marker": {
             "colorbar": {
              "outlinewidth": 0,
              "ticks": ""
             }
            },
            "type": "scattergeo"
           }
          ],
          "scattergl": [
           {
            "marker": {
             "colorbar": {
              "outlinewidth": 0,
              "ticks": ""
             }
            },
            "type": "scattergl"
           }
          ],
          "scattermap": [
           {
            "marker": {
             "colorbar": {
              "outlinewidth": 0,
              "ticks": ""
             }
            },
            "type": "scattermap"
           }
          ],
          "scattermapbox": [
           {
            "marker": {
             "colorbar": {
              "outlinewidth": 0,
              "ticks": ""
             }
            },
            "type": "scattermapbox"
           }
          ],
          "scatterpolar": [
           {
            "marker": {
             "colorbar": {
              "outlinewidth": 0,
              "ticks": ""
             }
            },
            "type": "scatterpolar"
           }
          ],
          "scatterpolargl": [
           {
            "marker": {
             "colorbar": {
              "outlinewidth": 0,
              "ticks": ""
             }
            },
            "type": "scatterpolargl"
           }
          ],
          "scatterternary": [
           {
            "marker": {
             "colorbar": {
              "outlinewidth": 0,
              "ticks": ""
             }
            },
            "type": "scatterternary"
           }
          ],
          "surface": [
           {
            "colorbar": {
             "outlinewidth": 0,
             "ticks": ""
            },
            "colorscale": [
             [
              0,
              "#0d0887"
             ],
             [
              0.1111111111111111,
              "#46039f"
             ],
             [
              0.2222222222222222,
              "#7201a8"
             ],
             [
              0.3333333333333333,
              "#9c179e"
             ],
             [
              0.4444444444444444,
              "#bd3786"
             ],
             [
              0.5555555555555556,
              "#d8576b"
             ],
             [
              0.6666666666666666,
              "#ed7953"
             ],
             [
              0.7777777777777778,
              "#fb9f3a"
             ],
             [
              0.8888888888888888,
              "#fdca26"
             ],
             [
              1,
              "#f0f921"
             ]
            ],
            "type": "surface"
           }
          ],
          "table": [
           {
            "cells": {
             "fill": {
              "color": "#EBF0F8"
             },
             "line": {
              "color": "white"
             }
            },
            "header": {
             "fill": {
              "color": "#C8D4E3"
             },
             "line": {
              "color": "white"
             }
            },
            "type": "table"
           }
          ]
         },
         "layout": {
          "annotationdefaults": {
           "arrowcolor": "#2a3f5f",
           "arrowhead": 0,
           "arrowwidth": 1
          },
          "autotypenumbers": "strict",
          "coloraxis": {
           "colorbar": {
            "outlinewidth": 0,
            "ticks": ""
           }
          },
          "colorscale": {
           "diverging": [
            [
             0,
             "#8e0152"
            ],
            [
             0.1,
             "#c51b7d"
            ],
            [
             0.2,
             "#de77ae"
            ],
            [
             0.3,
             "#f1b6da"
            ],
            [
             0.4,
             "#fde0ef"
            ],
            [
             0.5,
             "#f7f7f7"
            ],
            [
             0.6,
             "#e6f5d0"
            ],
            [
             0.7,
             "#b8e186"
            ],
            [
             0.8,
             "#7fbc41"
            ],
            [
             0.9,
             "#4d9221"
            ],
            [
             1,
             "#276419"
            ]
           ],
           "sequential": [
            [
             0,
             "#0d0887"
            ],
            [
             0.1111111111111111,
             "#46039f"
            ],
            [
             0.2222222222222222,
             "#7201a8"
            ],
            [
             0.3333333333333333,
             "#9c179e"
            ],
            [
             0.4444444444444444,
             "#bd3786"
            ],
            [
             0.5555555555555556,
             "#d8576b"
            ],
            [
             0.6666666666666666,
             "#ed7953"
            ],
            [
             0.7777777777777778,
             "#fb9f3a"
            ],
            [
             0.8888888888888888,
             "#fdca26"
            ],
            [
             1,
             "#f0f921"
            ]
           ],
           "sequentialminus": [
            [
             0,
             "#0d0887"
            ],
            [
             0.1111111111111111,
             "#46039f"
            ],
            [
             0.2222222222222222,
             "#7201a8"
            ],
            [
             0.3333333333333333,
             "#9c179e"
            ],
            [
             0.4444444444444444,
             "#bd3786"
            ],
            [
             0.5555555555555556,
             "#d8576b"
            ],
            [
             0.6666666666666666,
             "#ed7953"
            ],
            [
             0.7777777777777778,
             "#fb9f3a"
            ],
            [
             0.8888888888888888,
             "#fdca26"
            ],
            [
             1,
             "#f0f921"
            ]
           ]
          },
          "colorway": [
           "#636efa",
           "#EF553B",
           "#00cc96",
           "#ab63fa",
           "#FFA15A",
           "#19d3f3",
           "#FF6692",
           "#B6E880",
           "#FF97FF",
           "#FECB52"
          ],
          "font": {
           "color": "#2a3f5f"
          },
          "geo": {
           "bgcolor": "white",
           "lakecolor": "white",
           "landcolor": "#E5ECF6",
           "showlakes": true,
           "showland": true,
           "subunitcolor": "white"
          },
          "hoverlabel": {
           "align": "left"
          },
          "hovermode": "closest",
          "mapbox": {
           "style": "light"
          },
          "paper_bgcolor": "white",
          "plot_bgcolor": "#E5ECF6",
          "polar": {
           "angularaxis": {
            "gridcolor": "white",
            "linecolor": "white",
            "ticks": ""
           },
           "bgcolor": "#E5ECF6",
           "radialaxis": {
            "gridcolor": "white",
            "linecolor": "white",
            "ticks": ""
           }
          },
          "scene": {
           "xaxis": {
            "backgroundcolor": "#E5ECF6",
            "gridcolor": "white",
            "gridwidth": 2,
            "linecolor": "white",
            "showbackground": true,
            "ticks": "",
            "zerolinecolor": "white"
           },
           "yaxis": {
            "backgroundcolor": "#E5ECF6",
            "gridcolor": "white",
            "gridwidth": 2,
            "linecolor": "white",
            "showbackground": true,
            "ticks": "",
            "zerolinecolor": "white"
           },
           "zaxis": {
            "backgroundcolor": "#E5ECF6",
            "gridcolor": "white",
            "gridwidth": 2,
            "linecolor": "white",
            "showbackground": true,
            "ticks": "",
            "zerolinecolor": "white"
           }
          },
          "shapedefaults": {
           "line": {
            "color": "#2a3f5f"
           }
          },
          "ternary": {
           "aaxis": {
            "gridcolor": "white",
            "linecolor": "white",
            "ticks": ""
           },
           "baxis": {
            "gridcolor": "white",
            "linecolor": "white",
            "ticks": ""
           },
           "bgcolor": "#E5ECF6",
           "caxis": {
            "gridcolor": "white",
            "linecolor": "white",
            "ticks": ""
           }
          },
          "title": {
           "x": 0.05
          },
          "xaxis": {
           "automargin": true,
           "gridcolor": "white",
           "linecolor": "white",
           "ticks": "",
           "title": {
            "standoff": 15
           },
           "zerolinecolor": "white",
           "zerolinewidth": 2
          },
          "yaxis": {
           "automargin": true,
           "gridcolor": "white",
           "linecolor": "white",
           "ticks": "",
           "title": {
            "standoff": 15
           },
           "zerolinecolor": "white",
           "zerolinewidth": 2
          }
         }
        },
        "title": {
         "text": "Comparison of RFM Segments based on Recency, Frequency, Monetery Scores"
        },
        "xaxis": {
         "title": {
          "text": "RFM Segments"
         }
        },
        "yaxis": {
         "title": {
          "text": "Score"
         }
        }
       }
      }
     },
     "metadata": {},
     "output_type": "display_data"
    }
   ],
   "source": [
    "segment_scores = rfm.groupby('RFM_Customer_Segments')[['R', 'F', 'M']].mean().reset_index()\n",
    "fig = go.Figure()\n",
    "\n",
    "\n",
    "#Add bar for Recency Score\n",
    "fig.add_trace(go.Bar(\n",
    "    x = segment_scores['RFM_Customer_Segments'],\n",
    "    y = segment_scores['R'],\n",
    "    name = 'Recency Score',\n",
    "    marker_color = 'rgb(158, 202, 225)'\n",
    "))\n",
    "\n",
    "#Add bar for Frequency Score\n",
    "fig.add_trace(go.Bar(\n",
    "    x = segment_scores['RFM_Customer_Segments'],\n",
    "    y = segment_scores['F'],\n",
    "    name = 'Frequency Score',\n",
    "    marker_color = 'rgb(94, 158, 217)'\n",
    "))\n",
    "\n",
    "#Add bar for Monetary Score\n",
    "fig.add_trace(go.Bar(\n",
    "    x = segment_scores['RFM_Customer_Segments'],\n",
    "    y = segment_scores['M'],\n",
    "    name = 'Monetary Score',\n",
    "    marker_color = 'rgb(32, 102, 148)'\n",
    "))\n",
    "\n",
    "\n",
    "# update the layout\n",
    "fig.update_layout(title = \"Comparison of RFM Segments based on Recency, Frequency, Monetery Scores\",\n",
    "                  xaxis_title = \"RFM Segments\",\n",
    "                  yaxis_title = \"Score\",\n",
    "                  barmode = \"group\",\n",
    "                  showlegend = True)\n",
    "\n",
    "# Display the figure\n",
    "\n",
    "fig.show()"
   ]
  },
  {
   "cell_type": "code",
   "execution_count": 71,
   "metadata": {},
   "outputs": [],
   "source": [
    "data.to_csv(\"Cleaned_Data.csv\", index = False)"
   ]
  }
 ],
 "metadata": {
  "kernelspec": {
   "display_name": "Python 3",
   "language": "python",
   "name": "python3"
  },
  "language_info": {
   "codemirror_mode": {
    "name": "ipython",
    "version": 3
   },
   "file_extension": ".py",
   "mimetype": "text/x-python",
   "name": "python",
   "nbconvert_exporter": "python",
   "pygments_lexer": "ipython3",
   "version": "3.11.4"
  }
 },
 "nbformat": 4,
 "nbformat_minor": 2
}
